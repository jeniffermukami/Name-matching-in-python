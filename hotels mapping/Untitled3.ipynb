{
 "cells": [
  {
   "cell_type": "code",
   "execution_count": 1,
   "id": "34a40905",
   "metadata": {},
   "outputs": [],
   "source": [
    "import pandas as pd\n",
    "import re\n",
    "import string"
   ]
  },
  {
   "cell_type": "code",
   "execution_count": 69,
   "id": "f62dfa56",
   "metadata": {},
   "outputs": [],
   "source": [
    "scraped= pd.read_csv('Hotel Location Table Mapping.csv',encoding='latin1')\n",
    "hotels=pd.read_csv('Hotel Location.csv',encoding='latin1')\n",
    "scraped_ngrams=pd.read_csv('submission.csv',encoding='latin1')\n",
    "\n",
    "old=pd.read_csv('old.csv',encoding='latin1')\n",
    "pivot=pd.read_csv('pivot.csv',encoding='latin1')"
   ]
  },
  {
   "cell_type": "code",
   "execution_count": 5,
   "id": "e6aa3b4f",
   "metadata": {},
   "outputs": [
    {
     "name": "stderr",
     "output_type": "stream",
     "text": [
      "C:\\Users\\user\\AppData\\Local\\Temp\\ipykernel_14376\\104932386.py:1: FutureWarning: Passing a negative integer is deprecated in version 1.0 and will not be supported in future version. Instead, use None to not limit the column width.\n",
      "  pd.set_option('display.max_colwidth', -1)      # set to display full text in df\n"
     ]
    }
   ],
   "source": [
    "pd.set_option('display.max_colwidth', -1)      # set to display full text in df\n",
    "\n",
    "#scraped.sample(20)"
   ]
  },
  {
   "cell_type": "code",
   "execution_count": 6,
   "id": "d9d20f01",
   "metadata": {},
   "outputs": [],
   "source": [
    "selected_rows = scraped[scraped['hotel_name'].isnull()]"
   ]
  },
  {
   "cell_type": "code",
   "execution_count": 9,
   "id": "22300471",
   "metadata": {},
   "outputs": [
    {
     "name": "stdout",
     "output_type": "stream",
     "text": [
      "<class 'pandas.core.frame.DataFrame'>\n",
      "RangeIndex: 8381 entries, 0 to 8380\n",
      "Data columns (total 8 columns):\n",
      " #   Column        Non-Null Count  Dtype  \n",
      "---  ------        --------------  -----  \n",
      " 0   scraped_url   8379 non-null   object \n",
      " 1   agency_slug   8379 non-null   object \n",
      " 2   country       7992 non-null   object \n",
      " 3   title         8379 non-null   object \n",
      " 4   description   5270 non-null   object \n",
      " 5   inclusions    6884 non-null   object \n",
      " 6   hotel_name    4524 non-null   object \n",
      " 7   hotel_mapped  0 non-null      float64\n",
      "dtypes: float64(1), object(7)\n",
      "memory usage: 523.9+ KB\n"
     ]
    },
    {
     "data": {
      "text/plain": [
       "None"
      ]
     },
     "metadata": {},
     "output_type": "display_data"
    }
   ],
   "source": [
    "display(scraped.info())"
   ]
  },
  {
   "cell_type": "code",
   "execution_count": 72,
   "id": "ef7cfac3",
   "metadata": {
    "scrolled": true
   },
   "outputs": [
    {
     "name": "stdout",
     "output_type": "stream",
     "text": [
      "<class 'pandas.core.frame.DataFrame'>\n",
      "Int64Index: 3857 entries, 0 to 8380\n",
      "Data columns (total 9 columns):\n",
      " #   Column        Non-Null Count  Dtype  \n",
      "---  ------        --------------  -----  \n",
      " 0   scraped_url   3855 non-null   object \n",
      " 1   agency_slug   3855 non-null   object \n",
      " 2   country       3557 non-null   object \n",
      " 3   title         3855 non-null   object \n",
      " 4   description   2193 non-null   object \n",
      " 5   inclusions    2486 non-null   object \n",
      " 6   hotel_name    0 non-null      object \n",
      " 7   hotel_mapped  0 non-null      float64\n",
      " 8   domain        3857 non-null   object \n",
      "dtypes: float64(1), object(8)\n",
      "memory usage: 301.3+ KB\n"
     ]
    },
    {
     "data": {
      "text/plain": [
       "None"
      ]
     },
     "metadata": {},
     "output_type": "display_data"
    }
   ],
   "source": [
    "display(selected_rows.info())"
   ]
  },
  {
   "cell_type": "code",
   "execution_count": 10,
   "id": "4f28e0e7",
   "metadata": {},
   "outputs": [
    {
     "data": {
      "text/html": [
       "<div>\n",
       "<style scoped>\n",
       "    .dataframe tbody tr th:only-of-type {\n",
       "        vertical-align: middle;\n",
       "    }\n",
       "\n",
       "    .dataframe tbody tr th {\n",
       "        vertical-align: top;\n",
       "    }\n",
       "\n",
       "    .dataframe thead th {\n",
       "        text-align: right;\n",
       "    }\n",
       "</style>\n",
       "<table border=\"1\" class=\"dataframe\">\n",
       "  <thead>\n",
       "    <tr style=\"text-align: right;\">\n",
       "      <th></th>\n",
       "      <th>scraped_url</th>\n",
       "      <th>agency_slug</th>\n",
       "      <th>country</th>\n",
       "      <th>title</th>\n",
       "      <th>description</th>\n",
       "      <th>inclusions</th>\n",
       "      <th>hotel_name</th>\n",
       "      <th>hotel_mapped</th>\n",
       "    </tr>\n",
       "  </thead>\n",
       "  <tbody>\n",
       "    <tr>\n",
       "      <th>6534</th>\n",
       "      <td>https://computravel.co.za/packages/11092/mauritius-c-mauritius-all-inclusive-50-off-7-nights-valid-27-feb-30-apr-22</td>\n",
       "      <td>computravel</td>\n",
       "      <td>mauritius</td>\n",
       "      <td>Mauritius - C Mauritius - All Inclusive - 50% Off - 7 Nights - Valid: 27 Feb - 30 Apr.22</td>\n",
       "      <td>&lt;div class=\"item-description-text\"&gt;\\n\\n&lt;h6&gt;Quick Holiday Overview&lt;/h6&gt;\\n&lt;p&gt;&lt;strong&gt;Exceptional Deal! &lt;/strong&gt;&lt;/p&gt;\\n\\n&lt;p&gt;&lt;strong&gt;Great spot, close to the village of Palmar on the East Coast, C Mauritius forms part of the Constance Hotels, Resorts &amp;amp; Golf stable.&lt;/strong&gt;&lt;br&gt;\\n&lt;strong&gt;Offering a boutique style experience in a relaxed and causal style, C Mauritius offers an All Inclusive package including a great selection of food and drinks as part of the package.&lt;/strong&gt;&lt;/p&gt;\\n&lt;/div&gt;,&lt;div class=\"item-description-text\"&gt;\\n\\n&lt;h6&gt;About the Holiday&lt;/h6&gt;\\n&lt;p&gt;&lt;strong&gt;Settled along a beautiful beach on the east coast of Mauritius, C Mauritius is ideally located for the guests to enjoy island living by the sea. At the same time elegant but yet casual and relaxed, this all-inclusive hotel offers a warm ambiance created by raw materials, local furniture and crafts ideal to let the senses take over and live unforgettable moments. C Mauritius is a nature-inspired vibrant place with a fine selection of foods and refreshments, welcoming outlets where you can relax and enjoy. Relish the present and seek the future in a social and vivid atmospheres. As an added bonus there is a complimentary shuttle and free green fees to both golf courses at Belle Mare Plage.&lt;/strong&gt;&lt;/p&gt;\\n&lt;/div&gt;</td>\n",
       "      <td>NaN</td>\n",
       "      <td>NaN</td>\n",
       "      <td>NaN</td>\n",
       "    </tr>\n",
       "    <tr>\n",
       "      <th>6809</th>\n",
       "      <td>https://www.pentravel.co.za/packages/cruise-italy-croatia-and-greece-with-holland-america</td>\n",
       "      <td>pentravel</td>\n",
       "      <td>greece</td>\n",
       "      <td>Cruise Italy, Croatia &amp; Greece with Holland America</td>\n",
       "      <td>NaN</td>\n",
       "      <td>&lt;ul class=\"checklist\"&gt; &lt;li&gt;All meals and entertainment onboard&lt;/li&gt; &lt;li&gt;7 Nights accommodation onboard the Oosterdam in a inside stateroom&lt;/li&gt; &lt;li&gt;Port taxes and charges&lt;/li&gt; &lt;li&gt;&lt;br&gt;&lt;strong&gt;?Country and Covid-19 travel restrictions may apply, please ask us&lt;/strong&gt;&lt;/li&gt; &lt;li&gt;&lt;strong&gt;Bonus: &lt;/strong&gt;&lt;br&gt;Includes four high-value amenities and a savings of 50%: &lt;br&gt;- 1 x Shore Excursion to the value of $100&lt;br&gt;- Signature Beverage Package&lt;br&gt;-1 Night Speciality Dining&lt;br&gt;- Wifi surf package&lt;br&gt;&lt;br&gt;&lt;em&gt;Savings already included.&lt;br&gt;Terms and Conditions Apply.&lt;/em&gt;&lt;/li&gt; &lt;/ul&gt;</td>\n",
       "      <td>NaN</td>\n",
       "      <td>NaN</td>\n",
       "    </tr>\n",
       "    <tr>\n",
       "      <th>3747</th>\n",
       "      <td>https://www.pentravel.co.za/packages/norway-cruise-with-hurtigruten</td>\n",
       "      <td>pentravel</td>\n",
       "      <td>norway</td>\n",
       "      <td>Norway Cruise with Hurtigruten</td>\n",
       "      <td>NaN</td>\n",
       "      <td>&lt;ul class=\"checklist\"&gt; &lt;li&gt;6 nights Hurtigruten cruise onboard the MS Richard in a unspecified outside cabin&lt;/li&gt; &lt;li&gt;All meals on a full board basis and entertainment onboard&lt;/li&gt; &lt;li&gt;Return flights from Johannesburg including approximate airport taxes&lt;/li&gt; &lt;li&gt;1 night pre cruise accommodation at the 3-star Comfort Hotel Holberg or similar&lt;/li&gt; &lt;li&gt;1 night post cruise accommodation at the 3-star Scandic Kirkenes Hotel or similar &lt;/li&gt; &lt;li&gt;&lt;strong&gt;Covid-19 country and travel restrictions may apply.&lt;/strong&gt;&lt;/li&gt; &lt;li&gt;&lt;strong&gt;Exclusive Offer: &lt;/strong&gt;&lt;br&gt;Receive 15% off Helly Hansen gear - from www.hellyhansen.co.za when booking your next Northern Voyage Cruise. &lt;br&gt;&lt;/li&gt; &lt;li&gt;Port Charges&lt;/li&gt; &lt;/ul&gt;</td>\n",
       "      <td>NaN</td>\n",
       "      <td>NaN</td>\n",
       "    </tr>\n",
       "    <tr>\n",
       "      <th>6583</th>\n",
       "      <td>https://www.pentravel.co.za/packages/5star-the-victoria-falls-hotel</td>\n",
       "      <td>pentravel</td>\n",
       "      <td>zimbabwe</td>\n",
       "      <td>5-star The Victoria Falls Hotel</td>\n",
       "      <td>NaN</td>\n",
       "      <td>&lt;ul class=\"checklist\"&gt; &lt;li&gt; Return flights from Johannesburg to Victoria Falls on Fastjet including airline levies&lt;/li&gt; &lt;li&gt;Return airport to hotel transfers\\n&lt;/li&gt; &lt;li&gt;3 Nights accommodation at the 5-star The Victoria Falls Hotel in a deluxe room&lt;/li&gt; &lt;li&gt;Breakfast and dinner daily\\n&lt;/li&gt; &lt;li&gt;&lt;strong&gt;Bonus&lt;/strong&gt;:&lt;br&gt;Free Wi -Fi access throughout the hotel&lt;/li&gt; &lt;li&gt;&lt;strong&gt;Covid -19 requirement&lt;/strong&gt; to enter Zimbabwe is a 48 hours PCR Negative certificate and&lt;br&gt;&lt;strong&gt;Covid-19 testing&lt;/strong&gt; is done at Victoria Falls Hospital at a cost of USD60 per test excl. transfers.&lt;/li&gt; &lt;/ul&gt;</td>\n",
       "      <td>NaN</td>\n",
       "      <td>NaN</td>\n",
       "    </tr>\n",
       "    <tr>\n",
       "      <th>172</th>\n",
       "      <td>https://www.igotravel.co.za/holidays/hondaafushi-maldives/</td>\n",
       "      <td>igotravel</td>\n",
       "      <td>maldives</td>\n",
       "      <td>Hondaafushi Maldives</td>\n",
       "      <td>&lt;div class=\"woocommerce-product-details__short-description\"&gt;\\n&lt;p style=\"text-align: center;\"&gt;The island of Hondaafushi is located in the Republic of the Maldives, at the heart of the Indian Ocean. A tropical paradise amidst turquoise seas, our Maldives beach resort lies in the Haa Dhaalu Atoll  a beautiful seascape like nowhere else on Earth, yet within a 50 minutes by domestic flight, followed by a 10-minutes speedboat ride from the Maldives international airport.&lt;/p&gt;\\n&lt;p&gt; &lt;/p&gt;\\n&lt;/div&gt;</td>\n",
       "      <td>&lt;div class=\"blck col-sm-6\"&gt;\\n&lt;h3 class=\"blck-ttl\"&gt;Includes&lt;/h3&gt;&lt;p class=\"blck-txt pb-0\"&gt; &lt;/p&gt;&lt;li&gt;Return flights to the Maldives (Valid on specific set departures to the Maldives between May and Jul 2022. Enquire for other dates)&lt;/li&gt;&lt;br&gt;\\n&lt;li&gt;Return resort transfers (domestic flight &amp;amp; speedboat)&lt;/li&gt;&lt;br&gt;\\n&lt;li&gt;7 nights accommodation at Hondaafushi in a superior beach bungalow&lt;/li&gt;&lt;br&gt;\\n&lt;li&gt;All taxes, levies &amp;amp; surcharges (estimate)&lt;/li&gt;&lt;br&gt;\\n&lt;li&gt;All Inclusive Board Basis: &lt;br&gt;\\no   Breakfast, Lunch and dinner daily&lt;br&gt;\\no   Selected drinks (soft drinks, cocktails, mocktails, spirits, mini bar, beer and wine by the glass)&lt;/li&gt;&lt;br&gt;\\n&lt;li&gt;20% discount on a la cart restaurant if bill exceeds US$50&lt;/li&gt;&lt;br&gt;\\n&lt;li&gt;10% discount on spa discount treatments&lt;/li&gt;&lt;br&gt;\\n&lt;li&gt;20% discount on special dinners&lt;/li&gt; &lt;/div&gt;</td>\n",
       "      <td>NaN</td>\n",
       "      <td>NaN</td>\n",
       "    </tr>\n",
       "    <tr>\n",
       "      <th>5272</th>\n",
       "      <td>https://www.pentravel.co.za/packages/africamps-at-oakhurst-wilderness</td>\n",
       "      <td>pentravel</td>\n",
       "      <td>south africa</td>\n",
       "      <td>AfriCamps at Oakhurst - Wilderness</td>\n",
       "      <td>NaN</td>\n",
       "      <td>&lt;ul class=\"checklist\"&gt; &lt;li&gt;2 Nights' accommodation at AfriCamps at Oakhurst in a Tent on a room basis only based on 5 people sharing&lt;/li&gt; &lt;/ul&gt;</td>\n",
       "      <td>NaN</td>\n",
       "      <td>NaN</td>\n",
       "    </tr>\n",
       "    <tr>\n",
       "      <th>6361</th>\n",
       "      <td>https://www.pentravel.co.za/packages/2-nights-onboard-msc-from-cape-town</td>\n",
       "      <td>pentravel</td>\n",
       "      <td>south africa</td>\n",
       "      <td>2 Nights onboard MSC from Cape Town</td>\n",
       "      <td>NaN</td>\n",
       "      <td>&lt;ul class=\"checklist\"&gt; &lt;li&gt;2 nights aboard MSC Sinfonia in an inside cabin&lt;/li&gt; &lt;li&gt;All meals and entertainment onboard&lt;/li&gt; &lt;li&gt;Mandatory cruise insurance&lt;/li&gt; &lt;li&gt;Port charges and taxes&lt;/li&gt; &lt;/ul&gt;</td>\n",
       "      <td>NaN</td>\n",
       "      <td>NaN</td>\n",
       "    </tr>\n",
       "    <tr>\n",
       "      <th>158</th>\n",
       "      <td>https://www.igotravel.co.za/holidays/robinson-club-khaolak-thailand/</td>\n",
       "      <td>igotravel</td>\n",
       "      <td>thailand</td>\n",
       "      <td>Robinson Club Khaolak</td>\n",
       "      <td>&lt;div class=\"woocommerce-product-details__short-description\"&gt;\\n&lt;p style=\"text-align: center;\"&gt;Spend 7 nights at the Robinson Club in Khaolak, Thailand  Located in Khao Lak, The pearl of the south, with sandy beaches, tall cliffs, forests, waterfalls as well as temples! Robinson Club Khao Lak, is directly situated on an unspoiled beach in the midst of the lush tropical landscape, Khao Lak awaits with all its beauty.  Active holidaymakers can look forward to a wide variety of sports or take time to unwind in the secluded gardens. This beachfront property is family-friendly with great kids entertainment.  Khao Lak in Thailand awaits you on one of the most beautiful beaches in the south of the country. In the spacious club area surrounded by nature, you can really relax. For the active traveller, theres a variety of sports, as well as exciting trips to the nearby National Park. Try the fantastic Thai cuisine, with its delicious curries. The sunset in the evening is unique and when the beach enjoys the most beautiful light. Take a souvenir photo on the swing, with a view of the sea. As pretty as a painted picture!&lt;/p&gt;\\n&lt;/div&gt;</td>\n",
       "      <td>&lt;div class=\"blck col-sm-6\"&gt;\\n&lt;h3 class=\"blck-ttl\"&gt;Inclusions&lt;/h3&gt;&lt;p class=\"blck-txt pb-0\"&gt;&lt;/p&gt;&lt;li&gt;Return economy class flights from Johannesburg to Phuket&lt;/li&gt;&lt;br&gt;\\n&lt;li&gt;Airport taxes&lt;/li&gt;&lt;br&gt;\\n&lt;li&gt;Return airport transfers&lt;/li&gt;&lt;br&gt;\\n&lt;li&gt;7 Nights' in a double Room at Robinson Club Khao Lak&lt;/li&gt;&lt;br&gt;\\n&lt;li&gt;Breakfast daily&lt;/li&gt;&lt;br&gt;\\n&lt;li&gt;&lt;strong&gt;Fully vaccinated travelers are allowed unrestricted entry subject to a negative PCR test 72 hours prior to boarding&lt;/strong&gt;&lt;/li&gt;&lt;br&gt;\\n&lt;li&gt;Up to 55% discount included!&lt;/li&gt;&lt;br&gt;\\n&lt;li&gt;Transit Lounge in Doha one way &amp;amp; Desert safari&lt;/li&gt; &lt;/div&gt;</td>\n",
       "      <td>NaN</td>\n",
       "      <td>NaN</td>\n",
       "    </tr>\n",
       "    <tr>\n",
       "      <th>5659</th>\n",
       "      <td>https://www.pentravel.co.za/packages/cruise-greece-turkey-and-israel-with-norwegian-cruise-line</td>\n",
       "      <td>pentravel</td>\n",
       "      <td>greece</td>\n",
       "      <td>Cruise Greece, Turkey and Israel with Norwegian Cruise Line</td>\n",
       "      <td>NaN</td>\n",
       "      <td>&lt;ul class=\"checklist\"&gt; &lt;li&gt;&lt;br&gt;PLEASE NOTE:&lt;br&gt;All guests age twelve and over, as well as all crew, must be fully vaccinated at least 2 weeks prior to departure in order to board. &lt;br&gt;&lt;/li&gt; &lt;li&gt;&lt;br&gt;WHAT'S NOT INCLUDED:&lt;br&gt;Compulsory daily gratuities of USD16 per person per day, can be pre paid&lt;/li&gt; &lt;li&gt;7 nights accommodation onboard Norwegian Jade in a balcony cabin&lt;/li&gt; &lt;li&gt;NCLs Freestyle Dining in many restaurants and Freestyle entertainment in various bars and lounges&lt;/li&gt; &lt;li&gt;Port charges and government fees&lt;/li&gt; &lt;li&gt;&lt;strong&gt;Take all Free at Sea offers!&lt;/strong&gt;&lt;br&gt;?Beverage package &lt;br&gt;Speciality Dining package (2 meals worth USD89)&lt;br&gt;150 min Wi-Fi package  per person&lt;br&gt;USD50 shore excursions credit per tour per stateroom&lt;br&gt;&lt;em&gt;Dining and Wifi package only applicable to guest 1 and 2 in stateroom&lt;br&gt;T&amp;amp;Cs apply&lt;/em&gt;&lt;/li&gt; &lt;li&gt;Beverage &amp;amp; speciality dining surcharges&lt;/li&gt; &lt;li&gt;&lt;strong&gt;Pentravel Exclusive Bonus:&lt;/strong&gt;&lt;br&gt;R4,000 flight credit per guest 1 and 2 in cabin&lt;br&gt;&lt;span br=\"\" credit=\"\" flight=\"\" per=\"\"&gt; &lt;/span&gt;&lt;/li&gt; &lt;/ul&gt;</td>\n",
       "      <td>NaN</td>\n",
       "      <td>NaN</td>\n",
       "    </tr>\n",
       "    <tr>\n",
       "      <th>5033</th>\n",
       "      <td>https://computravel.co.za/packages/11247/mauritius-3-veranda-tamarin-20-off-valid-oct-22</td>\n",
       "      <td>computravel</td>\n",
       "      <td>mauritius</td>\n",
       "      <td>Mauritius - 3* Veranda Tamarin - 20% Off - Valid: Oct.22</td>\n",
       "      <td>&lt;div class=\"item-description-text\"&gt;\\n\\n&lt;h6&gt;Quick Holiday Overview&lt;/h6&gt;\\n&lt;p&gt;&lt;strong&gt;Arrive as a visitor, leave as an islander. The very essence of what a holiday in Mauritius is all about. To let go, to disconnect from everyday life, to reconnect to yourself and to what is essential...family, friends, life...&lt;/strong&gt;&lt;/p&gt;\\n\\n&lt;p&gt;&lt;strong&gt;When you stay at the 3* Veranda Tamarin in Mauritius you'll get explorer credit to redeem against a selection of activities from the resort's exclusive Explorer program. &lt;br&gt;\\nChoose from street food tours, kayaking, hiking, Catamaran cruises, electric bike tours, cultural tours and more...&lt;/strong&gt;&lt;/p&gt;\\n\\n&lt;p&gt;&lt;strong&gt;How does it work?&lt;/strong&gt;&lt;/p&gt;\\n\\n&lt;p&gt;Each guest at Veranda Tamarin is given a credit redeemable for a list of experiences.&lt;br&gt;\\nIt is simple. For your seven night stay in Mauritius you'll get a credit of MUR5600 to be redeemed against activities of your choice.&lt;br&gt;\\n&lt;br&gt;\\nSo what can you do? Here are some of our favourite options:&lt;br&gt;\\n- Street food tour: MUR 2500 &lt;br&gt;\\n- Trekking experiences at Black River Gorges or Le Morne: MUR 1600&lt;br&gt;\\n- Kayaking on Tamarin River and dolphin watching in the bay: MUR 1800&lt;br&gt;\\n- Sunset hikes: MUR 1675&lt;br&gt;\\n- Paddle yoga : MUR 1450&lt;br&gt;\\n- Discovery tour by electric bike: MUR 2250&lt;br&gt;\\n- Full day catamaran cruise: MUR 1750&lt;br&gt;\\n- Full day electric scooter rental: MUR 900&lt;br&gt;\\nThat means that during your trip you have enough credit to do two, three, or even four amazing activities discovering the island!&lt;/p&gt;\\n\\n&lt;ul&gt;\\n&lt;/ul&gt;\\n&lt;/div&gt;,&lt;div class=\"item-description-text\"&gt;\\n\\n&lt;h6&gt;About the Holiday&lt;/h6&gt;\\n&lt;p&gt;&lt;strong&gt;The Veranda Tamarin is a peaceful haven with its offbeat style and vintage decoration, the ideal place to relax and enjoy the surrounding nature. Sip a cocktail at sunset and relax on one of the hammocks in the &lt;/strong&gt;&lt;strong&gt;roof top&lt;/strong&gt;&lt;strong&gt; bar with a wonderful view of the bay. Enjoy Mauritian snacks whenever you want during the day or surf on the best waves of Mauritius.&lt;/strong&gt;&lt;/p&gt;\\n\\n&lt;p&gt;&lt;strong&gt;ACCOMMODATION&lt;/strong&gt;&lt;/p&gt;\\n\\n&lt;p&gt;Comfort Rooms (Size: 25  27 m2)&lt;br&gt;\\nThese ground floor rooms have a garden or a mountain view. 12 comfort rooms have the ability to interlead for families.&lt;/p&gt;\\n\\n&lt;p&gt;Comfort Family Rooms (Size: 31 m2)&lt;br&gt;\\nThese garden or mountain view rooms are great for families with a mezzanine level.&lt;/p&gt;\\n\\n&lt;p&gt;Superior Rooms (Size: 30  33 m2)&lt;br&gt;\\nThese ground and first floor rooms have a pool view.&lt;/p&gt;\\n\\n&lt;p&gt;Privilege Rooms (Size: 27  30 m2)&lt;br&gt;\\nThese Seaview rooms have the added value of Free access to the rooftop bar (10h00 to 20h00).&lt;/p&gt;\\n\\n&lt;p&gt;&lt;strong&gt;ROOM AMENITIES&lt;/strong&gt;&lt;/p&gt;\\n\\n&lt;ul&gt;\\n&lt;li&gt;Furnished terrace&lt;/li&gt;\\n&lt;li&gt;Air conditioning&lt;/li&gt;\\n&lt;li&gt;Safe&lt;/li&gt;\\n&lt;li&gt;Tea/coffee making facilities&lt;/li&gt;\\n&lt;li&gt;Direct telephone&lt;/li&gt;\\n&lt;li&gt;Minibar&lt;/li&gt;\\n&lt;li&gt;Satellite television&lt;/li&gt;\\n&lt;li&gt;Wi-Fi&lt;/li&gt;\\n&lt;li&gt;Beach kit (for the clients use while staying at the hotel): Beach Basket, cooler, mat &amp;amp; beach towel&lt;/li&gt;\\n&lt;/ul&gt;\\n&lt;/div&gt;</td>\n",
       "      <td>NaN</td>\n",
       "      <td>NaN</td>\n",
       "      <td>NaN</td>\n",
       "    </tr>\n",
       "  </tbody>\n",
       "</table>\n",
       "</div>"
      ],
      "text/plain": [
       "                                                                                                              scraped_url  \\\n",
       "6534  https://computravel.co.za/packages/11092/mauritius-c-mauritius-all-inclusive-50-off-7-nights-valid-27-feb-30-apr-22   \n",
       "6809  https://www.pentravel.co.za/packages/cruise-italy-croatia-and-greece-with-holland-america                             \n",
       "3747  https://www.pentravel.co.za/packages/norway-cruise-with-hurtigruten                                                   \n",
       "6583  https://www.pentravel.co.za/packages/5star-the-victoria-falls-hotel                                                   \n",
       "172   https://www.igotravel.co.za/holidays/hondaafushi-maldives/                                                            \n",
       "5272  https://www.pentravel.co.za/packages/africamps-at-oakhurst-wilderness                                                 \n",
       "6361  https://www.pentravel.co.za/packages/2-nights-onboard-msc-from-cape-town                                              \n",
       "158   https://www.igotravel.co.za/holidays/robinson-club-khaolak-thailand/                                                  \n",
       "5659  https://www.pentravel.co.za/packages/cruise-greece-turkey-and-israel-with-norwegian-cruise-line                       \n",
       "5033  https://computravel.co.za/packages/11247/mauritius-3-veranda-tamarin-20-off-valid-oct-22                              \n",
       "\n",
       "      agency_slug       country  \\\n",
       "6534  computravel  mauritius      \n",
       "6809  pentravel    greece         \n",
       "3747  pentravel    norway         \n",
       "6583  pentravel    zimbabwe       \n",
       "172   igotravel    maldives       \n",
       "5272  pentravel    south africa   \n",
       "6361  pentravel    south africa   \n",
       "158   igotravel    thailand       \n",
       "5659  pentravel    greece         \n",
       "5033  computravel  mauritius      \n",
       "\n",
       "                                                                                         title  \\\n",
       "6534  Mauritius - C Mauritius - All Inclusive - 50% Off - 7 Nights - Valid: 27 Feb - 30 Apr.22   \n",
       "6809  Cruise Italy, Croatia & Greece with Holland America                                        \n",
       "3747  Norway Cruise with Hurtigruten                                                             \n",
       "6583  5-star The Victoria Falls Hotel                                                            \n",
       "172   Hondaafushi Maldives                                                                       \n",
       "5272  AfriCamps at Oakhurst - Wilderness                                                         \n",
       "6361  2 Nights onboard MSC from Cape Town                                                        \n",
       "158   Robinson Club Khaolak                                                                      \n",
       "5659  Cruise Greece, Turkey and Israel with Norwegian Cruise Line                                \n",
       "5033  Mauritius - 3* Veranda Tamarin - 20% Off - Valid: Oct.22                                   \n",
       "\n",
       "                                                                                                                                                                                                                                                                                                                                                                                                                                                                                                                                                                                                                                                                                                                                                                                                                                                                                                                                                                                                                                                                                                                                                                                                                                                                                                                                                                                                                                                                                                                                                                                                                                                                                                                                                                                                                                                                                                                                                                                                                                                                                                                                                                                                                                                                                                                                                                                                                                                                                                                                                                                                                                                                                                                                                                                                                                                                                                                                                                                                                                                                                              description  \\\n",
       "6534  <div class=\"item-description-text\">\\n\\n<h6>Quick Holiday Overview</h6>\\n<p><strong>Exceptional Deal! </strong></p>\\n\\n<p><strong>Great spot, close to the village of Palmar on the East Coast, C Mauritius forms part of the Constance Hotels, Resorts &amp; Golf stable.</strong><br>\\n<strong>Offering a boutique style experience in a relaxed and causal style, C Mauritius offers an All Inclusive package including a great selection of food and drinks as part of the package.</strong></p>\\n</div>,<div class=\"item-description-text\">\\n\\n<h6>About the Holiday</h6>\\n<p><strong>Settled along a beautiful beach on the east coast of Mauritius, C Mauritius is ideally located for the guests to enjoy island living by the sea. At the same time elegant but yet casual and relaxed, this all-inclusive hotel offers a warm ambiance created by raw materials, local furniture and crafts ideal to let the senses take over and live unforgettable moments. C Mauritius is a nature-inspired vibrant place with a fine selection of foods and refreshments, welcoming outlets where you can relax and enjoy. Relish the present and seek the future in a social and vivid atmospheres. As an added bonus there is a complimentary shuttle and free green fees to both golf courses at Belle Mare Plage.</strong></p>\\n</div>                                                                                                                                                                                                                                                                                                                                                                                                                                                                                                                                                                                                                                                                                                                                                                                                                                                                                                                                                                                                                                                                                                                                                                                                                                                                                                                                                                                                                                                                                                                                                                                                                                                                                                                                                               \n",
       "6809  NaN                                                                                                                                                                                                                                                                                                                                                                                                                                                                                                                                                                                                                                                                                                                                                                                                                                                                                                                                                                                                                                                                                                                                                                                                                                                                                                                                                                                                                                                                                                                                                                                                                                                                                                                                                                                                                                                                                                                                                                                                                                                                                                                                                                                                                                                                                                                                                                                                                                                                                                                                                                                                                                                                                                                                                                                                                                                                                                                                                                                                                                                                                                   \n",
       "3747  NaN                                                                                                                                                                                                                                                                                                                                                                                                                                                                                                                                                                                                                                                                                                                                                                                                                                                                                                                                                                                                                                                                                                                                                                                                                                                                                                                                                                                                                                                                                                                                                                                                                                                                                                                                                                                                                                                                                                                                                                                                                                                                                                                                                                                                                                                                                                                                                                                                                                                                                                                                                                                                                                                                                                                                                                                                                                                                                                                                                                                                                                                                                                   \n",
       "6583  NaN                                                                                                                                                                                                                                                                                                                                                                                                                                                                                                                                                                                                                                                                                                                                                                                                                                                                                                                                                                                                                                                                                                                                                                                                                                                                                                                                                                                                                                                                                                                                                                                                                                                                                                                                                                                                                                                                                                                                                                                                                                                                                                                                                                                                                                                                                                                                                                                                                                                                                                                                                                                                                                                                                                                                                                                                                                                                                                                                                                                                                                                                                                   \n",
       "172   <div class=\"woocommerce-product-details__short-description\">\\n<p style=\"text-align: center;\">The island of Hondaafushi is located in the Republic of the Maldives, at the heart of the Indian Ocean. A tropical paradise amidst turquoise seas, our Maldives beach resort lies in the Haa Dhaalu Atoll  a beautiful seascape like nowhere else on Earth, yet within a 50 minutes by domestic flight, followed by a 10-minutes speedboat ride from the Maldives international airport.</p>\\n<p> </p>\\n</div>                                                                                                                                                                                                                                                                                                                                                                                                                                                                                                                                                                                                                                                                                                                                                                                                                                                                                                                                                                                                                                                                                                                                                                                                                                                                                                                                                                                                                                                                                                                                                                                                                                                                                                                                                                                                                                                                                                                                                                                                                                                                                                                                                                                                                                                                                                                                                                                                                                                                                                                                                                                         \n",
       "5272  NaN                                                                                                                                                                                                                                                                                                                                                                                                                                                                                                                                                                                                                                                                                                                                                                                                                                                                                                                                                                                                                                                                                                                                                                                                                                                                                                                                                                                                                                                                                                                                                                                                                                                                                                                                                                                                                                                                                                                                                                                                                                                                                                                                                                                                                                                                                                                                                                                                                                                                                                                                                                                                                                                                                                                                                                                                                                                                                                                                                                                                                                                                                                   \n",
       "6361  NaN                                                                                                                                                                                                                                                                                                                                                                                                                                                                                                                                                                                                                                                                                                                                                                                                                                                                                                                                                                                                                                                                                                                                                                                                                                                                                                                                                                                                                                                                                                                                                                                                                                                                                                                                                                                                                                                                                                                                                                                                                                                                                                                                                                                                                                                                                                                                                                                                                                                                                                                                                                                                                                                                                                                                                                                                                                                                                                                                                                                                                                                                                                   \n",
       "158   <div class=\"woocommerce-product-details__short-description\">\\n<p style=\"text-align: center;\">Spend 7 nights at the Robinson Club in Khaolak, Thailand  Located in Khao Lak, The pearl of the south, with sandy beaches, tall cliffs, forests, waterfalls as well as temples! Robinson Club Khao Lak, is directly situated on an unspoiled beach in the midst of the lush tropical landscape, Khao Lak awaits with all its beauty.  Active holidaymakers can look forward to a wide variety of sports or take time to unwind in the secluded gardens. This beachfront property is family-friendly with great kids entertainment.  Khao Lak in Thailand awaits you on one of the most beautiful beaches in the south of the country. In the spacious club area surrounded by nature, you can really relax. For the active traveller, theres a variety of sports, as well as exciting trips to the nearby National Park. Try the fantastic Thai cuisine, with its delicious curries. The sunset in the evening is unique and when the beach enjoys the most beautiful light. Take a souvenir photo on the swing, with a view of the sea. As pretty as a painted picture!</p>\\n</div>                                                                                                                                                                                                                                                                                                                                                                                                                                                                                                                                                                                                                                                                                                                                                                                                                                                                                                                                                                                                                                                                                                                                                                                                                                                                                                                                                                                                                                                                                                                                                                                                                                                                                                                                                                                                                                                                                                                  \n",
       "5659  NaN                                                                                                                                                                                                                                                                                                                                                                                                                                                                                                                                                                                                                                                                                                                                                                                                                                                                                                                                                                                                                                                                                                                                                                                                                                                                                                                                                                                                                                                                                                                                                                                                                                                                                                                                                                                                                                                                                                                                                                                                                                                                                                                                                                                                                                                                                                                                                                                                                                                                                                                                                                                                                                                                                                                                                                                                                                                                                                                                                                                                                                                                                                   \n",
       "5033  <div class=\"item-description-text\">\\n\\n<h6>Quick Holiday Overview</h6>\\n<p><strong>Arrive as a visitor, leave as an islander. The very essence of what a holiday in Mauritius is all about. To let go, to disconnect from everyday life, to reconnect to yourself and to what is essential...family, friends, life...</strong></p>\\n\\n<p><strong>When you stay at the 3* Veranda Tamarin in Mauritius you'll get explorer credit to redeem against a selection of activities from the resort's exclusive Explorer program. <br>\\nChoose from street food tours, kayaking, hiking, Catamaran cruises, electric bike tours, cultural tours and more...</strong></p>\\n\\n<p><strong>How does it work?</strong></p>\\n\\n<p>Each guest at Veranda Tamarin is given a credit redeemable for a list of experiences.<br>\\nIt is simple. For your seven night stay in Mauritius you'll get a credit of MUR5600 to be redeemed against activities of your choice.<br>\\n<br>\\nSo what can you do? Here are some of our favourite options:<br>\\n- Street food tour: MUR 2500 <br>\\n- Trekking experiences at Black River Gorges or Le Morne: MUR 1600<br>\\n- Kayaking on Tamarin River and dolphin watching in the bay: MUR 1800<br>\\n- Sunset hikes: MUR 1675<br>\\n- Paddle yoga : MUR 1450<br>\\n- Discovery tour by electric bike: MUR 2250<br>\\n- Full day catamaran cruise: MUR 1750<br>\\n- Full day electric scooter rental: MUR 900<br>\\nThat means that during your trip you have enough credit to do two, three, or even four amazing activities discovering the island!</p>\\n\\n<ul>\\n</ul>\\n</div>,<div class=\"item-description-text\">\\n\\n<h6>About the Holiday</h6>\\n<p><strong>The Veranda Tamarin is a peaceful haven with its offbeat style and vintage decoration, the ideal place to relax and enjoy the surrounding nature. Sip a cocktail at sunset and relax on one of the hammocks in the </strong><strong>roof top</strong><strong> bar with a wonderful view of the bay. Enjoy Mauritian snacks whenever you want during the day or surf on the best waves of Mauritius.</strong></p>\\n\\n<p><strong>ACCOMMODATION</strong></p>\\n\\n<p>Comfort Rooms (Size: 25  27 m2)<br>\\nThese ground floor rooms have a garden or a mountain view. 12 comfort rooms have the ability to interlead for families.</p>\\n\\n<p>Comfort Family Rooms (Size: 31 m2)<br>\\nThese garden or mountain view rooms are great for families with a mezzanine level.</p>\\n\\n<p>Superior Rooms (Size: 30  33 m2)<br>\\nThese ground and first floor rooms have a pool view.</p>\\n\\n<p>Privilege Rooms (Size: 27  30 m2)<br>\\nThese Seaview rooms have the added value of Free access to the rooftop bar (10h00 to 20h00).</p>\\n\\n<p><strong>ROOM AMENITIES</strong></p>\\n\\n<ul>\\n<li>Furnished terrace</li>\\n<li>Air conditioning</li>\\n<li>Safe</li>\\n<li>Tea/coffee making facilities</li>\\n<li>Direct telephone</li>\\n<li>Minibar</li>\\n<li>Satellite television</li>\\n<li>Wi-Fi</li>\\n<li>Beach kit (for the clients use while staying at the hotel): Beach Basket, cooler, mat &amp; beach towel</li>\\n</ul>\\n</div>   \n",
       "\n",
       "                                                                                                                                                                                                                                                                                                                                                                                                                                                                                                                                                                                                                                                                                                                                                                                                                                                                                                                                                                                                                                                                                              inclusions  \\\n",
       "6534  NaN                                                                                                                                                                                                                                                                                                                                                                                                                                                                                                                                                                                                                                                                                                                                                                                                                                                                                                                                                                                                                                                                                                  \n",
       "6809  <ul class=\"checklist\"> <li>All meals and entertainment onboard</li> <li>7 Nights accommodation onboard the Oosterdam in a inside stateroom</li> <li>Port taxes and charges</li> <li><br><strong>?Country and Covid-19 travel restrictions may apply, please ask us</strong></li> <li><strong>Bonus: </strong><br>Includes four high-value amenities and a savings of 50%: <br>- 1 x Shore Excursion to the value of $100<br>- Signature Beverage Package<br>-1 Night Speciality Dining<br>- Wifi surf package<br><br><em>Savings already included.<br>Terms and Conditions Apply.</em></li> </ul>                                                                                                                                                                                                                                                                                                                                                                                                                                                                                                    \n",
       "3747  <ul class=\"checklist\"> <li>6 nights Hurtigruten cruise onboard the MS Richard in a unspecified outside cabin</li> <li>All meals on a full board basis and entertainment onboard</li> <li>Return flights from Johannesburg including approximate airport taxes</li> <li>1 night pre cruise accommodation at the 3-star Comfort Hotel Holberg or similar</li> <li>1 night post cruise accommodation at the 3-star Scandic Kirkenes Hotel or similar </li> <li><strong>Covid-19 country and travel restrictions may apply.</strong></li> <li><strong>Exclusive Offer: </strong><br>Receive 15% off Helly Hansen gear - from www.hellyhansen.co.za when booking your next Northern Voyage Cruise. <br></li> <li>Port Charges</li> </ul>                                                                                                                                                                                                                                                                                                                                                                  \n",
       "6583  <ul class=\"checklist\"> <li> Return flights from Johannesburg to Victoria Falls on Fastjet including airline levies</li> <li>Return airport to hotel transfers\\n</li> <li>3 Nights accommodation at the 5-star The Victoria Falls Hotel in a deluxe room</li> <li>Breakfast and dinner daily\\n</li> <li><strong>Bonus</strong>:<br>Free Wi -Fi access throughout the hotel</li> <li><strong>Covid -19 requirement</strong> to enter Zimbabwe is a 48 hours PCR Negative certificate and<br><strong>Covid-19 testing</strong> is done at Victoria Falls Hospital at a cost of USD60 per test excl. transfers.</li> </ul>                                                                                                                                                                                                                                                                                                                                                                                                                                                                               \n",
       "172   <div class=\"blck col-sm-6\">\\n<h3 class=\"blck-ttl\">Includes</h3><p class=\"blck-txt pb-0\"> </p><li>Return flights to the Maldives (Valid on specific set departures to the Maldives between May and Jul 2022. Enquire for other dates)</li><br>\\n<li>Return resort transfers (domestic flight &amp; speedboat)</li><br>\\n<li>7 nights accommodation at Hondaafushi in a superior beach bungalow</li><br>\\n<li>All taxes, levies &amp; surcharges (estimate)</li><br>\\n<li>All Inclusive Board Basis: <br>\\no   Breakfast, Lunch and dinner daily<br>\\no   Selected drinks (soft drinks, cocktails, mocktails, spirits, mini bar, beer and wine by the glass)</li><br>\\n<li>20% discount on a la cart restaurant if bill exceeds US$50</li><br>\\n<li>10% discount on spa discount treatments</li><br>\\n<li>20% discount on special dinners</li> </div>                                                                                                                                                                                                                                                  \n",
       "5272  <ul class=\"checklist\"> <li>2 Nights' accommodation at AfriCamps at Oakhurst in a Tent on a room basis only based on 5 people sharing</li> </ul>                                                                                                                                                                                                                                                                                                                                                                                                                                                                                                                                                                                                                                                                                                                                                                                                                                                                                                                                                      \n",
       "6361  <ul class=\"checklist\"> <li>2 nights aboard MSC Sinfonia in an inside cabin</li> <li>All meals and entertainment onboard</li> <li>Mandatory cruise insurance</li> <li>Port charges and taxes</li> </ul>                                                                                                                                                                                                                                                                                                                                                                                                                                                                                                                                                                                                                                                                                                                                                                                                                                                                                               \n",
       "158   <div class=\"blck col-sm-6\">\\n<h3 class=\"blck-ttl\">Inclusions</h3><p class=\"blck-txt pb-0\"></p><li>Return economy class flights from Johannesburg to Phuket</li><br>\\n<li>Airport taxes</li><br>\\n<li>Return airport transfers</li><br>\\n<li>7 Nights' in a double Room at Robinson Club Khao Lak</li><br>\\n<li>Breakfast daily</li><br>\\n<li><strong>Fully vaccinated travelers are allowed unrestricted entry subject to a negative PCR test 72 hours prior to boarding</strong></li><br>\\n<li>Up to 55% discount included!</li><br>\\n<li>Transit Lounge in Doha one way &amp; Desert safari</li> </div>                                                                                                                                                                                                                                                                                                                                                                                                                                                                                            \n",
       "5659  <ul class=\"checklist\"> <li><br>PLEASE NOTE:<br>All guests age twelve and over, as well as all crew, must be fully vaccinated at least 2 weeks prior to departure in order to board. <br></li> <li><br>WHAT'S NOT INCLUDED:<br>Compulsory daily gratuities of USD16 per person per day, can be pre paid</li> <li>7 nights accommodation onboard Norwegian Jade in a balcony cabin</li> <li>NCLs Freestyle Dining in many restaurants and Freestyle entertainment in various bars and lounges</li> <li>Port charges and government fees</li> <li><strong>Take all Free at Sea offers!</strong><br>?Beverage package <br>Speciality Dining package (2 meals worth USD89)<br>150 min Wi-Fi package  per person<br>USD50 shore excursions credit per tour per stateroom<br><em>Dining and Wifi package only applicable to guest 1 and 2 in stateroom<br>T&amp;Cs apply</em></li> <li>Beverage &amp; speciality dining surcharges</li> <li><strong>Pentravel Exclusive Bonus:</strong><br>R4,000 flight credit per guest 1 and 2 in cabin<br><span br=\"\" credit=\"\" flight=\"\" per=\"\"> </span></li> </ul>   \n",
       "5033  NaN                                                                                                                                                                                                                                                                                                                                                                                                                                                                                                                                                                                                                                                                                                                                                                                                                                                                                                                                                                                                                                                                                                  \n",
       "\n",
       "     hotel_name  hotel_mapped  \n",
       "6534  NaN       NaN            \n",
       "6809  NaN       NaN            \n",
       "3747  NaN       NaN            \n",
       "6583  NaN       NaN            \n",
       "172   NaN       NaN            \n",
       "5272  NaN       NaN            \n",
       "6361  NaN       NaN            \n",
       "158   NaN       NaN            \n",
       "5659  NaN       NaN            \n",
       "5033  NaN       NaN            "
      ]
     },
     "execution_count": 10,
     "metadata": {},
     "output_type": "execute_result"
    }
   ],
   "source": [
    "selected_rows.sample(10)"
   ]
  },
  {
   "cell_type": "code",
   "execution_count": 11,
   "id": "f0e5d6cb",
   "metadata": {},
   "outputs": [],
   "source": [
    "import re\n",
    "\n",
    "def domain_name(url):\n",
    "    return url.split(\"www.\")[-1].split(\"//\")[-1].split(\".\")[0]"
   ]
  },
  {
   "cell_type": "code",
   "execution_count": 68,
   "id": "58fe4809",
   "metadata": {},
   "outputs": [],
   "source": [
    "def findAfter (text, after):\n",
    "        start = text.find (after) #Sets start to the start of keyword\n",
    "        end = start + len (after) #Sets end to the end of the keyword\n",
    "        return text [end : ] #Returns everything from the of the keyword \n"
   ]
  },
  {
   "cell_type": "code",
   "execution_count": null,
   "id": "e563ae14",
   "metadata": {},
   "outputs": [],
   "source": [
    "txt=''\n"
   ]
  },
  {
   "cell_type": "code",
   "execution_count": 12,
   "id": "bb1211d9",
   "metadata": {
    "scrolled": true
   },
   "outputs": [
    {
     "data": {
      "text/plain": [
       "'pentravel'"
      ]
     },
     "execution_count": 12,
     "metadata": {},
     "output_type": "execute_result"
    }
   ],
   "source": [
    "domain_name('https://www.pentravel.co.za/packages/cruise-greece-turkey-and-israel-with-norwegian-cruise-line')"
   ]
  },
  {
   "cell_type": "code",
   "execution_count": 16,
   "id": "1987ee9e",
   "metadata": {
    "scrolled": true
   },
   "outputs": [
    {
     "name": "stderr",
     "output_type": "stream",
     "text": [
      "C:\\Users\\user\\AppData\\Local\\Temp\\ipykernel_14376\\1877360329.py:1: SettingWithCopyWarning: \n",
      "A value is trying to be set on a copy of a slice from a DataFrame.\n",
      "Try using .loc[row_indexer,col_indexer] = value instead\n",
      "\n",
      "See the caveats in the documentation: https://pandas.pydata.org/pandas-docs/stable/user_guide/indexing.html#returning-a-view-versus-a-copy\n",
      "  selected_rows['domain'] =selected_rows['scraped_url'].astype(str).apply(domain_name)\n"
     ]
    }
   ],
   "source": [
    "selected_rows['domain'] =selected_rows['scraped_url'].astype(str).apply(domain_name)\n",
    "\n"
   ]
  },
  {
   "cell_type": "code",
   "execution_count": 19,
   "id": "4eb17d7e",
   "metadata": {},
   "outputs": [],
   "source": [
    "unique_domains=list(selected_rows.domain.unique())\n"
   ]
  },
  {
   "cell_type": "code",
   "execution_count": 20,
   "id": "26cb4d99",
   "metadata": {
    "scrolled": true
   },
   "outputs": [
    {
     "data": {
      "text/plain": [
       "['flightcentre',\n",
       " 'igotravel',\n",
       " 'casterbridge-hollow',\n",
       " 'elephant-plains-lodge',\n",
       " 'idube-game-reserve',\n",
       " 'marataba-trails-lodge',\n",
       " 'hans-merensky-hotel-and-golf-estate',\n",
       " 'bayethe-lodge',\n",
       " '4-day-fly-in-safari',\n",
       " 'madikwe-hills-private-game-lodge',\n",
       " 'phinda-homestead',\n",
       " 'long-lee-manor',\n",
       " 'camp-shawu',\n",
       " 'thula-thula-private-game-reserve',\n",
       " 'simbavati-river-lodge',\n",
       " 'inn-on-the-square',\n",
       " 'madikwe-safari-lodge',\n",
       " 'country-boutique-hotel',\n",
       " 'rhino-ridge-safari-lodge',\n",
       " 'entabeni-lakeside-lodge',\n",
       " 'kirkmans-kamp',\n",
       " 'exeter-river-lodge',\n",
       " 'ekuthuleni-lodge',\n",
       " 'nedile-lodge',\n",
       " 'leopard-hills-private-game-reserve',\n",
       " 'thonga-beach-lodge',\n",
       " 'nottens-bush-camp',\n",
       " 'isibindi-zulu-lodge',\n",
       " 'hillsnek-safari-camp',\n",
       " 'camp-shonga',\n",
       " 'leadwood-lodge',\n",
       " 'nungubane-game-lodge',\n",
       " 'impodimo-game-lodge',\n",
       " 'alpine-heath-resort',\n",
       " 'entabeni-kingfisher-lodge',\n",
       " 'mandela-rhodes-place',\n",
       " 'marataba-safari-lodge',\n",
       " 'greenway-woods-resort-2980',\n",
       " 'legend-golf-and-safari-resort',\n",
       " '2-day-fly-in-safari',\n",
       " 'umkumbe-safari-lodge',\n",
       " 'hollow-on-the-square-cape-town-city-hotel',\n",
       " 'arathusa-safari-lodge',\n",
       " 'perry-039-s-bridge-hollow-boutique-hotel',\n",
       " 'sabi-sabi-bush-lodge',\n",
       " 'hippo-hollow-country-estate',\n",
       " 'oceana-beach-and-wildlife-resort',\n",
       " '4-day-camping-trip-to-kruger-national-park',\n",
       " 'ecolux-boutique-hotel-and-spa',\n",
       " 'bush-lodge',\n",
       " 'londolozi-private-game-reserve',\n",
       " 'nkomazi-game-reserve',\n",
       " '3-day-fly-in-safari',\n",
       " 'little-bush-camp',\n",
       " 'rhino-walking-safari',\n",
       " 'kosi-forest-lodge',\n",
       " 'white-elephant-safari-lodge',\n",
       " 'jock-explorer-camp',\n",
       " 'baradinckals-bush-lodge',\n",
       " 'thandeka-game-lodge',\n",
       " 'dulini-lodge',\n",
       " 'leolapa',\n",
       " 'mkuze-falls-private-game-reserve',\n",
       " 'phinda-forest-lodge',\n",
       " 'entabeni-wildside-safari-lodge',\n",
       " 'entabeni-ravineside-lodge',\n",
       " 'hanglip-mountain-lodge',\n",
       " 'bushbreaks',\n",
       " 'pentravel',\n",
       " 'packages',\n",
       " 'computravel',\n",
       " 'nan']"
      ]
     },
     "execution_count": 20,
     "metadata": {},
     "output_type": "execute_result"
    }
   ],
   "source": [
    "unique_domains"
   ]
  },
  {
   "cell_type": "markdown",
   "id": "9cf36066",
   "metadata": {},
   "source": [
    "flightcentre-tagname is star(descriptions and inclusions)"
   ]
  },
  {
   "cell_type": "code",
   "execution_count": 22,
   "id": "9313cd69",
   "metadata": {},
   "outputs": [
    {
     "data": {
      "text/html": [
       "<div>\n",
       "<style scoped>\n",
       "    .dataframe tbody tr th:only-of-type {\n",
       "        vertical-align: middle;\n",
       "    }\n",
       "\n",
       "    .dataframe tbody tr th {\n",
       "        vertical-align: top;\n",
       "    }\n",
       "\n",
       "    .dataframe thead th {\n",
       "        text-align: right;\n",
       "    }\n",
       "</style>\n",
       "<table border=\"1\" class=\"dataframe\">\n",
       "  <thead>\n",
       "    <tr style=\"text-align: right;\">\n",
       "      <th></th>\n",
       "      <th>scraped_url</th>\n",
       "      <th>agency_slug</th>\n",
       "      <th>country</th>\n",
       "      <th>title</th>\n",
       "      <th>description</th>\n",
       "      <th>inclusions</th>\n",
       "      <th>hotel_name</th>\n",
       "      <th>hotel_mapped</th>\n",
       "      <th>domain</th>\n",
       "    </tr>\n",
       "  </thead>\n",
       "  <tbody>\n",
       "    <tr>\n",
       "      <th>0</th>\n",
       "      <td>https://www.flightcentre.co.za/product/14197346</td>\n",
       "      <td>flightcentre</td>\n",
       "      <td>maldives</td>\n",
       "      <td>Adaaran Select Meedhupparu</td>\n",
       "      <td>\\nYour Maldives Holiday Package includes:\\nReturn flights from Johannesburg\\nApproximate taxes\\nReturn domestic flight &amp; speedboat transfers\\n7 nights' accommodation at the 4-star Adaaran Select Meedhupparu in a Beachfront Villa\\nAll meals &amp; selected alcoholic and non-alcoholic drinks daily\\nExclusions\\nItems of a personal nature, items not mentioned, gratuities and porterage, meals &amp; drinks not mentioned, tours/sightseeing not mentioned, car hire\\nWith the promise of an incomparable holiday in the tropics, Adaaran Select Meedhupparu one of the best Maldives luxury resorts offers blissful accommodation for the discerning traveller to the Maldives. Bask under the healing sunshine and soak up the alluring sights and sounds of a truly enchanting island in the tropics. Adaaran Select Meedhupparu offers tranquil settings brimming with luxury. Settle into a holiday full of breathtaking experiences that will leave you with memories to last a lifetime.\\n</td>\n",
       "      <td>\\nYour Maldives Holiday Package includes:\\n\\nReturn flights from Johannesburg\\nApproximate taxes\\nReturn domestic flight &amp; speedboat transfers\\n7 nights' accommodation at the 4-star Adaaran Select Meedhupparu in a Beachfront Villa\\nAll meals &amp; selected alcoholic and non-alcoholic drinks daily\\n\\n</td>\n",
       "      <td>NaN</td>\n",
       "      <td>NaN</td>\n",
       "      <td>flightcentre</td>\n",
       "    </tr>\n",
       "    <tr>\n",
       "      <th>1</th>\n",
       "      <td>https://www.flightcentre.co.za/product/5415249</td>\n",
       "      <td>flightcentre</td>\n",
       "      <td>south africa</td>\n",
       "      <td>Family Fun on the Wild Coast</td>\n",
       "      <td>\\nYour Eastern Cape Holiday Package includes:\\nReturn flights from Johannesburg to Durban\\nApproximate taxes\\n3 days car hire (Kia Picanto or similar)\\n3 nights' midweek accommodation on the Wild Coast at the 4-star Wild Coast Sun in a Garden Facing Luxury Room\\nBreakfast daily\\nBONUS: Complimentary access to Wild Waves Water Park\\nPLEASE NOTE: 2 Children eat breakfast and stay free when sharing with adults\\nWEEKEND UPGRADE: From R660 per adult\\nExclusions\\nTransfers, items of a personal nature, items not mentioned, gratuities and porterage, meals and drinks not mentioned, tours/sightseeing not mentioned\\nLess than 2 Hours from Durban. You can't beat the location of the Wild Coast Sun Hotel, situated in the coastal hub of Port Edward, less than a two-hour scenic drive along the South Coast from Durban's King Shaka International Airport. This family-friendly accommodation is just the place if you're looking for that relaxing room with a view, with all the modern facilities one could ever need. Moms and dads can soak up the sun watching the kids play at the Wild Waves Water Park, while couples can slip away to the tranquil oasis of the Mangwanani African Day Spa.\\n</td>\n",
       "      <td>\\nYour Eastern Cape Holiday Package includes:\\n\\nReturn flights from Johannesburg to Durban\\nApproximate taxes\\n3 days car hire (Kia Picanto or similar)\\n3 nights' midweek accommodation on the Wild Coast at the 4-star Wild Coast Sun in a Garden Facing Luxury Room\\nBreakfast daily\\nBONUS: Complimentary access to Wild Waves Water Park\\nPLEASE NOTE: 2 Children eat breakfast and stay free when sharing with adults\\nWEEKEND UPGRADE: From R660 per adult\\n\\n</td>\n",
       "      <td>NaN</td>\n",
       "      <td>NaN</td>\n",
       "      <td>flightcentre</td>\n",
       "    </tr>\n",
       "    <tr>\n",
       "      <th>2</th>\n",
       "      <td>https://www.flightcentre.co.za/product/16385011</td>\n",
       "      <td>flightcentre</td>\n",
       "      <td>mauritius</td>\n",
       "      <td>Azuri Residences by Life in Blue</td>\n",
       "      <td>\\nYour Mauritius Holiday Package includes:\\nReturn direct flights from Durban\\nApproximate taxes\\nReturn transfers\\n5 nights' accommodation at the 4-star Azuri Residences by Life in Blue in a Deluxe Apartment on a Room Only basis\\nPLEASE NOTE: Price is based on 4 people travelling together\\nExclusions\\nItems of a personal nature, items not mentioned, gratuities and porterage, meals and drinks not mentioned, tours/sightseeing not mentioned, car hire\\nThis coastal village on the north-eastern coast of the island in Roches Noires, lined by an infinite turquoise sea and the blue sky, will tinge your holidays with picturesque shades of blue. Opt for our high-end seafront accommodation and enjoy your intimacy within an elegant setting. Kindle your senses and experience La Dolce Vita through a memorable escape to Mauritius where you will benefit from services available at your fingertips within Azuri village.\\n</td>\n",
       "      <td>\\nYour Mauritius Holiday Package includes:\\n\\nReturn direct flights from Durban\\nApproximate taxes\\nReturn transfers\\n5 nights' accommodation at the 4-star Azuri Residences by Life in Blue in a Deluxe Apartment on a Room Only basis\\nPLEASE NOTE: Price is based on 4 people travelling together\\n\\n</td>\n",
       "      <td>NaN</td>\n",
       "      <td>NaN</td>\n",
       "      <td>flightcentre</td>\n",
       "    </tr>\n",
       "    <tr>\n",
       "      <th>3</th>\n",
       "      <td>https://www.flightcentre.co.za/product/16323810</td>\n",
       "      <td>flightcentre</td>\n",
       "      <td>mauritius</td>\n",
       "      <td>Seas the Day in Mauritius</td>\n",
       "      <td>\\nYour Mauritius Holiday Package includes:\\nReturn direct flights from Cape Town\\nApproximate taxes\\nReturn transfers\\n5 nights' accommodation at the 4,5-star Radisson Blu Azuri Resort &amp; Spa in a Garden Premium Room\\nAll meals &amp; selected drinks daily\\nBONUS: FREE upgrade to All Inclusive included\\n2 Children under 12 years stay FREE\\nExclusions\\nItems of a personal nature, items not mentioned, gratuities and porterage, meals and drinks not mentioned, tours/sightseeing not mentioned, car hire\\nSet on the tranquil beach that frames the brand new Azuri marine complex on the north east coast of the island, with a sparkling lagoon and lush green surroundings, the resort delivers a distinctive Mauritius holiday experience. A perfect retreat for couples and a fun place for families, the resort has all the necessary facilities for a most enjoyable holiday.\\n</td>\n",
       "      <td>\\nYour Mauritius Holiday Package includes:\\n\\nReturn direct flights from Cape Town\\nApproximate taxes\\nReturn transfers\\n5 nights' accommodation at the 4,5-star Radisson Blu Azuri Resort &amp; Spa in a Garden Premium Room\\nAll meals &amp; selected drinks daily\\nBONUS: FREE upgrade to All Inclusive included\\n2 Children under 12 years stay FREE\\n\\n</td>\n",
       "      <td>NaN</td>\n",
       "      <td>NaN</td>\n",
       "      <td>flightcentre</td>\n",
       "    </tr>\n",
       "    <tr>\n",
       "      <th>4</th>\n",
       "      <td>https://www.flightcentre.co.za/product/13250621</td>\n",
       "      <td>flightcentre</td>\n",
       "      <td>south africa</td>\n",
       "      <td>Kruger Park Splendour</td>\n",
       "      <td>\\nYour Kruger National Park Holiday Package includes:\\nReturn flights from Johannesburg to Nelspruit\\nApproximate taxes\\n2 days car hire (Kia Picanto or similar)\\n2 nights' midweek accommodation just outside the Kruger National Park at the 4-star Protea Hotel by Marriott Kruger Gate in a Standard Room\\nBreakfast daily\\nExclusions\\nTransfers, items of a personal nature, items not mentioned, gratuities and porterage, meals and drinks not mentioned, tours/sightseeing not mentioned\\nExperience the wonder of the African Bushveld here in Mpumalanga with a visit to the Protea Hotel Kruger Gate. Located along the Sabie River, our rustic and elegant lodge provides all the comforts of home, yet is just 100 meters from the Paul Kruger Gate of Kruger National Park - offering unparalleled access to the area's legendary natural beauty. Step under the indigenous portico and be transported to a different world - one reminiscent of a tree house, with elevated walkways nestled among native bird habitats. Relax in your air-conditioned room which features marble bathrooms, free Wi-Fi and modern technology. Our two hotel restaurants, Lapa and Kudyela, offer delectable dining in an convivial atmosphere. Be sure to spend time at our year-round outdoor pool or squeeze in a workout at the fitness center. And with the incredible wildlife of Kruger National Park at your doorstep, you have plenty to explore during your stay. We look forward to welcoming you here to Mpumalanga at the Protea Hotel Kruger Gate!\\n</td>\n",
       "      <td>\\nYour Kruger National Park Holiday Package includes:\\n\\nReturn flights from Johannesburg to Nelspruit\\nApproximate taxes\\n2 days car hire (Kia Picanto or similar)\\n2 nights' midweek accommodation just outside the Kruger National Park at the 4-star Protea Hotel by Marriott Kruger Gate in a Standard Room\\nBreakfast daily\\n\\n</td>\n",
       "      <td>NaN</td>\n",
       "      <td>NaN</td>\n",
       "      <td>flightcentre</td>\n",
       "    </tr>\n",
       "    <tr>\n",
       "      <th>...</th>\n",
       "      <td>...</td>\n",
       "      <td>...</td>\n",
       "      <td>...</td>\n",
       "      <td>...</td>\n",
       "      <td>...</td>\n",
       "      <td>...</td>\n",
       "      <td>...</td>\n",
       "      <td>...</td>\n",
       "      <td>...</td>\n",
       "    </tr>\n",
       "    <tr>\n",
       "      <th>97</th>\n",
       "      <td>https://www.flightcentre.co.za/product/15650046</td>\n",
       "      <td>flightcentre</td>\n",
       "      <td>spain</td>\n",
       "      <td>Catalunya MotoGP 2022</td>\n",
       "      <td>\\nYour Spain Holiday Package includes:\\nReturn airport transfers - ex Barcelona\\n3 nights' accommodation at a top Boutique Hotel in Barcelona\\nWeekend with full paddock access, hospitality, pit tour, rider meeting, service road tour, welcome pack with merchandise, guide &amp; Moto3 GRID pass\\nBryte travel insurance (6 days cover)\\nFriday opening reception, Sat/Sun VIP shuttle to track, VIP guide &amp; special merchandise\\nUPGRADE: to Moto3 Plantinum package from R64 590 per person sharing\\nExclusions\\nFlight, taxes, transport, passport &amp; visas. Admission fees into sights of interest not included in the tour cost/itinerary. Personal expenses such as tips for meals, gratuities, telephone calls, beverages, all meals not mentioned under inclusions and anything else of a personal nature. Any other services not mentioned.\\nThe Barcelona-Catalunya circuit has hosted a Grand Prix every year since it was first included on the MotoGP calendar in 1992 and the annual visit to this venue is enjoyed by riders and fans alike, with a superb track producing great racing just 25km to the north of Barcelona, one of Europe's most vibrant cities. This is the home venue for many of the sport's biggest stars including Marc Marquez, Jorge Lorenzo, Maverick Vinales, Dani Pedrosa and the Espargaro brothers Aleix and Pol. The Catalan GP typically falls in June, a great time of the year to visit this beautiful Mediterranean region.\\n</td>\n",
       "      <td>\\nYour Spain Holiday Package includes:\\n\\nReturn airport transfers - ex Barcelona\\n3 nights' accommodation at a top Boutique Hotel in Barcelona\\nWeekend with full paddock access, hospitality, pit tour, rider meeting, service road tour, welcome pack with merchandise, guide &amp; Moto3 GRID pass\\nBryte travel insurance (6 days cover)\\nFriday opening reception, Sat/Sun VIP shuttle to track, VIP guide &amp; special merchandise\\nUPGRADE: to Moto3 Plantinum package from R64 590 per person sharing\\n\\n</td>\n",
       "      <td>NaN</td>\n",
       "      <td>NaN</td>\n",
       "      <td>flightcentre</td>\n",
       "    </tr>\n",
       "    <tr>\n",
       "      <th>98</th>\n",
       "      <td>https://www.flightcentre.co.za/product/12616094</td>\n",
       "      <td>flightcentre</td>\n",
       "      <td>mauritius</td>\n",
       "      <td>Clear Skies &amp; Turquoise Sea *JUNE/JULY SCHOOL HOLIDAYS*</td>\n",
       "      <td>\\nYour Mauritius Holiday Package includes:\\nReturn direct flights from Johannesburg\\nApproximate taxes\\nReturn transfers\\n7 nights' accommodation at the 3-star Azuri Residences by Life in Blue in a Deluxe Apartment on a room only basis\\nPLEASE NOTE: Price is based on 4 people travelling together\\nExclusions\\nItems of a personal nature, items not mentioned, gratuities and porterage, meals and drinks not mentioned, tours/sightseeing not mentioned, car hire\\nThis coastal village on the north-eastern coast of the island in Roches Noires, lined by an infinite turquoise sea and the blue sky, will tinge your holidays with picturesque shades of blue. Opt for our high-end seafront accommodation and enjoy your intimacy within an elegant setting. Kindle your senses and experience La Dolce Vita through a memorable escape to Mauritius where you will benefit from services available at your fingertips within Azuri village.\\n</td>\n",
       "      <td>\\nYour Mauritius Holiday Package includes:\\n\\nReturn direct flights from Johannesburg\\nApproximate taxes\\nReturn transfers\\n7 nights' accommodation at the 3-star Azuri Residences by Life in Blue in a Deluxe Apartment on a room only basis\\nPLEASE NOTE: Price is based on 4 people travelling together\\n\\n</td>\n",
       "      <td>NaN</td>\n",
       "      <td>NaN</td>\n",
       "      <td>flightcentre</td>\n",
       "    </tr>\n",
       "    <tr>\n",
       "      <th>99</th>\n",
       "      <td>https://www.flightcentre.co.za/product/12616094</td>\n",
       "      <td>flightcentre</td>\n",
       "      <td>mauritius</td>\n",
       "      <td>Clear Skies &amp; Turquoise Sea</td>\n",
       "      <td>\\nYour Mauritius Holiday Package includes:\\nReturn direct flights from Johannesburg\\nApproximate taxes\\nReturn transfers\\n7 nights' accommodation at the 3-star Azuri Residences by Life in Blue in a Premium Apartment on a room only basis\\nPLEASE NOTE: Price is based on 4 people travelling together\\nExclusions\\nItems of a personal nature, items not mentioned, gratuities and porterage, meals and drinks not mentioned, tours/sightseeing not mentioned, car hire\\nThis coastal village on the north-eastern coast of the island in Roches Noires, lined by an infinite turquoise sea and the blue sky, will tinge your holidays with picturesque shades of blue. Opt for our high-end seafront accommodation and enjoy your intimacy within an elegant setting. Kindle your senses and experience La Dolce Vita through a memorable escape to Mauritius where you will benefit from services available at your fingertips within Azuri village.\\n</td>\n",
       "      <td>\\nYour Mauritius Holiday Package includes:\\n\\nReturn direct flights from Johannesburg\\nApproximate taxes\\nReturn transfers\\n7 nights' accommodation at the 3-star Azuri Residences by Life in Blue in a Premium Apartment on a room only basis\\nPLEASE NOTE: Price is based on 4 people travelling together\\n\\n</td>\n",
       "      <td>NaN</td>\n",
       "      <td>NaN</td>\n",
       "      <td>flightcentre</td>\n",
       "    </tr>\n",
       "    <tr>\n",
       "      <th>100</th>\n",
       "      <td>https://www.flightcentre.co.za/product/15968357</td>\n",
       "      <td>flightcentre</td>\n",
       "      <td>canada</td>\n",
       "      <td>Tropical Palms &amp; Sandy Shores</td>\n",
       "      <td>\\nYour Zanzibar Holiday Package includes:\\nReturn direct flights from Johannesburg\\nApproximate taxes\\nReturn transfers\\n3 nights' accommodation at the 5-star Bluebay Beach Resort in a Garden Room\\nAll meals &amp; selected drinks daily\\nUPGRADE: to 7 Nights from R1400 per person sharing\\nSet Departures 7 Night Stay \\n( 17 May 2022 - 24 May 2022 \\n21 May 2022 - 28 May 2022\\n28 May 2022 - 4 June 2022\\n)\\nExclusions\\nItems of a personal nature, items not mentioned, gratuities and porterage, meals and drinks not mentioned, tours/sightseeing not mentioned, car hire, travel insurance, an infrastructure levy of USD1 per person per day is payable upon check in\\nA luxury beachfront resort with traditional Swahili charm, Bluebay Beach Resort &amp; Spa is situated on the finest white, sandy beach on the east coast of the island of Zanzibar. Set in 30-acres of tropical gardens with over 1,000 palm trees, the resort is one of Zanzibar's most prestigious properties offering the ultimate in beach comfort: excellent accommodation; fine wining and dining; a host of sports and leisure facilities; the famous Oasis Spa; and our award-winning service. Free WiFi is also available throughout the Resort.\\n</td>\n",
       "      <td>\\nYour Zanzibar Holiday Package includes:\\n\\nReturn direct flights from Johannesburg\\nApproximate taxes\\nReturn transfers\\n3 nights' accommodation at the 5-star Bluebay Beach Resort in a Garden Room\\nAll meals &amp; selected drinks daily\\nUPGRADE: to 7 Nights from R1400 per person sharing\\nSet Departures 7 Night Stay \\n( 17 May 2022 - 24 May 2022 \\n21 May 2022 - 28 May 2022\\n28 May 2022 - 4 June 2022\\n)\\n\\n</td>\n",
       "      <td>NaN</td>\n",
       "      <td>NaN</td>\n",
       "      <td>flightcentre</td>\n",
       "    </tr>\n",
       "    <tr>\n",
       "      <th>101</th>\n",
       "      <td>https://www.flightcentre.co.za/product/15968357</td>\n",
       "      <td>flightcentre</td>\n",
       "      <td>canada</td>\n",
       "      <td>Tropical Palms &amp; Sandy Shores</td>\n",
       "      <td>\\nYour Zanzibar Holiday Package includes:\\nReturn direct flights from Johannesburg\\nApproximate taxes\\nReturn transfers\\n3 nights' accommodation at the 4-star Bluebay Beach Resort in a Garden Room\\nAll meals &amp; selected drinks daily\\nUPGRADE: to 7 Nights from R1400 per person sharing\\nExclusions\\nItems of a personal nature, items not mentioned, gratuities and porterage, meals and drinks not mentioned, tours/sightseeing not mentioned, car hire, travel insurance, an infrastructure levy of USD1 per person per day is payable upon check in\\nA luxury beachfront resort with traditional Swahili charm, Bluebay Beach Resort &amp; Spa is situated on the finest white, sandy beach on the east coast of the island of Zanzibar. Set in 30-acres of tropical gardens with over 1,000 palm trees, the resort is one of Zanzibar's most prestigious properties offering the ultimate in beach comfort: excellent accommodation; fine wining and dining; a host of sports and leisure facilities; the famous Oasis Spa; and our award-winning service. Free WiFi is also available throughout the Resort.\\n</td>\n",
       "      <td>\\nYour Zanzibar Holiday Package includes:\\n\\nReturn direct flights from Johannesburg\\nApproximate taxes\\nReturn transfers\\n3 nights' accommodation at the 4-star Bluebay Beach Resort in a Garden Room\\nAll meals &amp; selected drinks daily\\nUPGRADE: to 7 Nights from R1400 per person sharing\\n\\n</td>\n",
       "      <td>NaN</td>\n",
       "      <td>NaN</td>\n",
       "      <td>flightcentre</td>\n",
       "    </tr>\n",
       "  </tbody>\n",
       "</table>\n",
       "<p>102 rows × 9 columns</p>\n",
       "</div>"
      ],
      "text/plain": [
       "                                         scraped_url   agency_slug  \\\n",
       "0    https://www.flightcentre.co.za/product/14197346  flightcentre   \n",
       "1    https://www.flightcentre.co.za/product/5415249   flightcentre   \n",
       "2    https://www.flightcentre.co.za/product/16385011  flightcentre   \n",
       "3    https://www.flightcentre.co.za/product/16323810  flightcentre   \n",
       "4    https://www.flightcentre.co.za/product/13250621  flightcentre   \n",
       "..                                               ...           ...   \n",
       "97   https://www.flightcentre.co.za/product/15650046  flightcentre   \n",
       "98   https://www.flightcentre.co.za/product/12616094  flightcentre   \n",
       "99   https://www.flightcentre.co.za/product/12616094  flightcentre   \n",
       "100  https://www.flightcentre.co.za/product/15968357  flightcentre   \n",
       "101  https://www.flightcentre.co.za/product/15968357  flightcentre   \n",
       "\n",
       "          country                                                    title  \\\n",
       "0    maldives      Adaaran Select Meedhupparu                                \n",
       "1    south africa  Family Fun on the Wild Coast                              \n",
       "2    mauritius     Azuri Residences by Life in Blue                          \n",
       "3    mauritius     Seas the Day in Mauritius                                 \n",
       "4    south africa  Kruger Park Splendour                                     \n",
       "..            ...                    ...                                     \n",
       "97   spain         Catalunya MotoGP 2022                                     \n",
       "98   mauritius     Clear Skies & Turquoise Sea *JUNE/JULY SCHOOL HOLIDAYS*   \n",
       "99   mauritius     Clear Skies & Turquoise Sea                               \n",
       "100  canada        Tropical Palms & Sandy Shores                             \n",
       "101  canada        Tropical Palms & Sandy Shores                             \n",
       "\n",
       "                                                                                                                                                                                                                                                                                                                                                                                                                                                                                                                                                                                                                                                                                                                                                                                                                                                                                                                                                                                                                                                                                                                                                                                                                                                                                                                                                                                                                                                                                                                                                             description  \\\n",
       "0    \\nYour Maldives Holiday Package includes:\\nReturn flights from Johannesburg\\nApproximate taxes\\nReturn domestic flight & speedboat transfers\\n7 nights' accommodation at the 4-star Adaaran Select Meedhupparu in a Beachfront Villa\\nAll meals & selected alcoholic and non-alcoholic drinks daily\\nExclusions\\nItems of a personal nature, items not mentioned, gratuities and porterage, meals & drinks not mentioned, tours/sightseeing not mentioned, car hire\\nWith the promise of an incomparable holiday in the tropics, Adaaran Select Meedhupparu one of the best Maldives luxury resorts offers blissful accommodation for the discerning traveller to the Maldives. Bask under the healing sunshine and soak up the alluring sights and sounds of a truly enchanting island in the tropics. Adaaran Select Meedhupparu offers tranquil settings brimming with luxury. Settle into a holiday full of breathtaking experiences that will leave you with memories to last a lifetime.\\n                                                                                                                                                                                                                                                                                                                                                                                                                                                                                                                                                                      \n",
       "1    \\nYour Eastern Cape Holiday Package includes:\\nReturn flights from Johannesburg to Durban\\nApproximate taxes\\n3 days car hire (Kia Picanto or similar)\\n3 nights' midweek accommodation on the Wild Coast at the 4-star Wild Coast Sun in a Garden Facing Luxury Room\\nBreakfast daily\\nBONUS: Complimentary access to Wild Waves Water Park\\nPLEASE NOTE: 2 Children eat breakfast and stay free when sharing with adults\\nWEEKEND UPGRADE: From R660 per adult\\nExclusions\\nTransfers, items of a personal nature, items not mentioned, gratuities and porterage, meals and drinks not mentioned, tours/sightseeing not mentioned\\nLess than 2 Hours from Durban. You can't beat the location of the Wild Coast Sun Hotel, situated in the coastal hub of Port Edward, less than a two-hour scenic drive along the South Coast from Durban's King Shaka International Airport. This family-friendly accommodation is just the place if you're looking for that relaxing room with a view, with all the modern facilities one could ever need. Moms and dads can soak up the sun watching the kids play at the Wild Waves Water Park, while couples can slip away to the tranquil oasis of the Mangwanani African Day Spa.\\n                                                                                                                                                                                                                                                                                                                                         \n",
       "2    \\nYour Mauritius Holiday Package includes:\\nReturn direct flights from Durban\\nApproximate taxes\\nReturn transfers\\n5 nights' accommodation at the 4-star Azuri Residences by Life in Blue in a Deluxe Apartment on a Room Only basis\\nPLEASE NOTE: Price is based on 4 people travelling together\\nExclusions\\nItems of a personal nature, items not mentioned, gratuities and porterage, meals and drinks not mentioned, tours/sightseeing not mentioned, car hire\\nThis coastal village on the north-eastern coast of the island in Roches Noires, lined by an infinite turquoise sea and the blue sky, will tinge your holidays with picturesque shades of blue. Opt for our high-end seafront accommodation and enjoy your intimacy within an elegant setting. Kindle your senses and experience La Dolce Vita through a memorable escape to Mauritius where you will benefit from services available at your fingertips within Azuri village.\\n                                                                                                                                                                                                                                                                                                                                                                                                                                                                                                                                                                                                                 \n",
       "3    \\nYour Mauritius Holiday Package includes:\\nReturn direct flights from Cape Town\\nApproximate taxes\\nReturn transfers\\n5 nights' accommodation at the 4,5-star Radisson Blu Azuri Resort & Spa in a Garden Premium Room\\nAll meals & selected drinks daily\\nBONUS: FREE upgrade to All Inclusive included\\n2 Children under 12 years stay FREE\\nExclusions\\nItems of a personal nature, items not mentioned, gratuities and porterage, meals and drinks not mentioned, tours/sightseeing not mentioned, car hire\\nSet on the tranquil beach that frames the brand new Azuri marine complex on the north east coast of the island, with a sparkling lagoon and lush green surroundings, the resort delivers a distinctive Mauritius holiday experience. A perfect retreat for couples and a fun place for families, the resort has all the necessary facilities for a most enjoyable holiday.\\n                                                                                                                                                                                                                                                                                                                                                                                                                                                                                                                                                                                                                                                                        \n",
       "4    \\nYour Kruger National Park Holiday Package includes:\\nReturn flights from Johannesburg to Nelspruit\\nApproximate taxes\\n2 days car hire (Kia Picanto or similar)\\n2 nights' midweek accommodation just outside the Kruger National Park at the 4-star Protea Hotel by Marriott Kruger Gate in a Standard Room\\nBreakfast daily\\nExclusions\\nTransfers, items of a personal nature, items not mentioned, gratuities and porterage, meals and drinks not mentioned, tours/sightseeing not mentioned\\nExperience the wonder of the African Bushveld here in Mpumalanga with a visit to the Protea Hotel Kruger Gate. Located along the Sabie River, our rustic and elegant lodge provides all the comforts of home, yet is just 100 meters from the Paul Kruger Gate of Kruger National Park - offering unparalleled access to the area's legendary natural beauty. Step under the indigenous portico and be transported to a different world - one reminiscent of a tree house, with elevated walkways nestled among native bird habitats. Relax in your air-conditioned room which features marble bathrooms, free Wi-Fi and modern technology. Our two hotel restaurants, Lapa and Kudyela, offer delectable dining in an convivial atmosphere. Be sure to spend time at our year-round outdoor pool or squeeze in a workout at the fitness center. And with the incredible wildlife of Kruger National Park at your doorstep, you have plenty to explore during your stay. We look forward to welcoming you here to Mpumalanga at the Protea Hotel Kruger Gate!\\n   \n",
       "..                                                                                                                                                                                                                                                                                                                                                                                                                                                                                                                                                                                                                                                                                                                                                                                                                                                                                                                                                                                                                                                                                                                                                                                                                                                                                                                                                                                                                                                                                                                                                                   ...   \n",
       "97   \\nYour Spain Holiday Package includes:\\nReturn airport transfers - ex Barcelona\\n3 nights' accommodation at a top Boutique Hotel in Barcelona\\nWeekend with full paddock access, hospitality, pit tour, rider meeting, service road tour, welcome pack with merchandise, guide & Moto3 GRID pass\\nBryte travel insurance (6 days cover)\\nFriday opening reception, Sat/Sun VIP shuttle to track, VIP guide & special merchandise\\nUPGRADE: to Moto3 Plantinum package from R64 590 per person sharing\\nExclusions\\nFlight, taxes, transport, passport & visas. Admission fees into sights of interest not included in the tour cost/itinerary. Personal expenses such as tips for meals, gratuities, telephone calls, beverages, all meals not mentioned under inclusions and anything else of a personal nature. Any other services not mentioned.\\nThe Barcelona-Catalunya circuit has hosted a Grand Prix every year since it was first included on the MotoGP calendar in 1992 and the annual visit to this venue is enjoyed by riders and fans alike, with a superb track producing great racing just 25km to the north of Barcelona, one of Europe's most vibrant cities. This is the home venue for many of the sport's biggest stars including Marc Marquez, Jorge Lorenzo, Maverick Vinales, Dani Pedrosa and the Espargaro brothers Aleix and Pol. The Catalan GP typically falls in June, a great time of the year to visit this beautiful Mediterranean region.\\n                                                                                         \n",
       "98   \\nYour Mauritius Holiday Package includes:\\nReturn direct flights from Johannesburg\\nApproximate taxes\\nReturn transfers\\n7 nights' accommodation at the 3-star Azuri Residences by Life in Blue in a Deluxe Apartment on a room only basis\\nPLEASE NOTE: Price is based on 4 people travelling together\\nExclusions\\nItems of a personal nature, items not mentioned, gratuities and porterage, meals and drinks not mentioned, tours/sightseeing not mentioned, car hire\\nThis coastal village on the north-eastern coast of the island in Roches Noires, lined by an infinite turquoise sea and the blue sky, will tinge your holidays with picturesque shades of blue. Opt for our high-end seafront accommodation and enjoy your intimacy within an elegant setting. Kindle your senses and experience La Dolce Vita through a memorable escape to Mauritius where you will benefit from services available at your fingertips within Azuri village.\\n                                                                                                                                                                                                                                                                                                                                                                                                                                                                                                                                                                                                           \n",
       "99   \\nYour Mauritius Holiday Package includes:\\nReturn direct flights from Johannesburg\\nApproximate taxes\\nReturn transfers\\n7 nights' accommodation at the 3-star Azuri Residences by Life in Blue in a Premium Apartment on a room only basis\\nPLEASE NOTE: Price is based on 4 people travelling together\\nExclusions\\nItems of a personal nature, items not mentioned, gratuities and porterage, meals and drinks not mentioned, tours/sightseeing not mentioned, car hire\\nThis coastal village on the north-eastern coast of the island in Roches Noires, lined by an infinite turquoise sea and the blue sky, will tinge your holidays with picturesque shades of blue. Opt for our high-end seafront accommodation and enjoy your intimacy within an elegant setting. Kindle your senses and experience La Dolce Vita through a memorable escape to Mauritius where you will benefit from services available at your fingertips within Azuri village.\\n                                                                                                                                                                                                                                                                                                                                                                                                                                                                                                                                                                                                          \n",
       "100  \\nYour Zanzibar Holiday Package includes:\\nReturn direct flights from Johannesburg\\nApproximate taxes\\nReturn transfers\\n3 nights' accommodation at the 5-star Bluebay Beach Resort in a Garden Room\\nAll meals & selected drinks daily\\nUPGRADE: to 7 Nights from R1400 per person sharing\\nSet Departures 7 Night Stay \\n( 17 May 2022 - 24 May 2022 \\n21 May 2022 - 28 May 2022\\n28 May 2022 - 4 June 2022\\n)\\nExclusions\\nItems of a personal nature, items not mentioned, gratuities and porterage, meals and drinks not mentioned, tours/sightseeing not mentioned, car hire, travel insurance, an infrastructure levy of USD1 per person per day is payable upon check in\\nA luxury beachfront resort with traditional Swahili charm, Bluebay Beach Resort & Spa is situated on the finest white, sandy beach on the east coast of the island of Zanzibar. Set in 30-acres of tropical gardens with over 1,000 palm trees, the resort is one of Zanzibar's most prestigious properties offering the ultimate in beach comfort: excellent accommodation; fine wining and dining; a host of sports and leisure facilities; the famous Oasis Spa; and our award-winning service. Free WiFi is also available throughout the Resort.\\n                                                                                                                                                                                                                                                                                                                             \n",
       "101  \\nYour Zanzibar Holiday Package includes:\\nReturn direct flights from Johannesburg\\nApproximate taxes\\nReturn transfers\\n3 nights' accommodation at the 4-star Bluebay Beach Resort in a Garden Room\\nAll meals & selected drinks daily\\nUPGRADE: to 7 Nights from R1400 per person sharing\\nExclusions\\nItems of a personal nature, items not mentioned, gratuities and porterage, meals and drinks not mentioned, tours/sightseeing not mentioned, car hire, travel insurance, an infrastructure levy of USD1 per person per day is payable upon check in\\nA luxury beachfront resort with traditional Swahili charm, Bluebay Beach Resort & Spa is situated on the finest white, sandy beach on the east coast of the island of Zanzibar. Set in 30-acres of tropical gardens with over 1,000 palm trees, the resort is one of Zanzibar's most prestigious properties offering the ultimate in beach comfort: excellent accommodation; fine wining and dining; a host of sports and leisure facilities; the famous Oasis Spa; and our award-winning service. Free WiFi is also available throughout the Resort.\\n                                                                                                                                                                                                                                                                                                                                                                                                                                                  \n",
       "\n",
       "                                                                                                                                                                                                                                                                                                                                                                                                                                                                                                      inclusions  \\\n",
       "0    \\nYour Maldives Holiday Package includes:\\n\\nReturn flights from Johannesburg\\nApproximate taxes\\nReturn domestic flight & speedboat transfers\\n7 nights' accommodation at the 4-star Adaaran Select Meedhupparu in a Beachfront Villa\\nAll meals & selected alcoholic and non-alcoholic drinks daily\\n\\n                                                                                                                                                                                                     \n",
       "1    \\nYour Eastern Cape Holiday Package includes:\\n\\nReturn flights from Johannesburg to Durban\\nApproximate taxes\\n3 days car hire (Kia Picanto or similar)\\n3 nights' midweek accommodation on the Wild Coast at the 4-star Wild Coast Sun in a Garden Facing Luxury Room\\nBreakfast daily\\nBONUS: Complimentary access to Wild Waves Water Park\\nPLEASE NOTE: 2 Children eat breakfast and stay free when sharing with adults\\nWEEKEND UPGRADE: From R660 per adult\\n\\n                                        \n",
       "2    \\nYour Mauritius Holiday Package includes:\\n\\nReturn direct flights from Durban\\nApproximate taxes\\nReturn transfers\\n5 nights' accommodation at the 4-star Azuri Residences by Life in Blue in a Deluxe Apartment on a Room Only basis\\nPLEASE NOTE: Price is based on 4 people travelling together\\n\\n                                                                                                                                                                                                      \n",
       "3    \\nYour Mauritius Holiday Package includes:\\n\\nReturn direct flights from Cape Town\\nApproximate taxes\\nReturn transfers\\n5 nights' accommodation at the 4,5-star Radisson Blu Azuri Resort & Spa in a Garden Premium Room\\nAll meals & selected drinks daily\\nBONUS: FREE upgrade to All Inclusive included\\n2 Children under 12 years stay FREE\\n\\n                                                                                                                                                          \n",
       "4    \\nYour Kruger National Park Holiday Package includes:\\n\\nReturn flights from Johannesburg to Nelspruit\\nApproximate taxes\\n2 days car hire (Kia Picanto or similar)\\n2 nights' midweek accommodation just outside the Kruger National Park at the 4-star Protea Hotel by Marriott Kruger Gate in a Standard Room\\nBreakfast daily\\n\\n                                                                                                                                                                         \n",
       "..                                                                                                                                                                                                                                                                                                                                     ...                                                                                                                                                                         \n",
       "97   \\nYour Spain Holiday Package includes:\\n\\nReturn airport transfers - ex Barcelona\\n3 nights' accommodation at a top Boutique Hotel in Barcelona\\nWeekend with full paddock access, hospitality, pit tour, rider meeting, service road tour, welcome pack with merchandise, guide & Moto3 GRID pass\\nBryte travel insurance (6 days cover)\\nFriday opening reception, Sat/Sun VIP shuttle to track, VIP guide & special merchandise\\nUPGRADE: to Moto3 Plantinum package from R64 590 per person sharing\\n\\n   \n",
       "98   \\nYour Mauritius Holiday Package includes:\\n\\nReturn direct flights from Johannesburg\\nApproximate taxes\\nReturn transfers\\n7 nights' accommodation at the 3-star Azuri Residences by Life in Blue in a Deluxe Apartment on a room only basis\\nPLEASE NOTE: Price is based on 4 people travelling together\\n\\n                                                                                                                                                                                                \n",
       "99   \\nYour Mauritius Holiday Package includes:\\n\\nReturn direct flights from Johannesburg\\nApproximate taxes\\nReturn transfers\\n7 nights' accommodation at the 3-star Azuri Residences by Life in Blue in a Premium Apartment on a room only basis\\nPLEASE NOTE: Price is based on 4 people travelling together\\n\\n                                                                                                                                                                                               \n",
       "100  \\nYour Zanzibar Holiday Package includes:\\n\\nReturn direct flights from Johannesburg\\nApproximate taxes\\nReturn transfers\\n3 nights' accommodation at the 5-star Bluebay Beach Resort in a Garden Room\\nAll meals & selected drinks daily\\nUPGRADE: to 7 Nights from R1400 per person sharing\\nSet Departures 7 Night Stay \\n( 17 May 2022 - 24 May 2022 \\n21 May 2022 - 28 May 2022\\n28 May 2022 - 4 June 2022\\n)\\n\\n                                                                                        \n",
       "101  \\nYour Zanzibar Holiday Package includes:\\n\\nReturn direct flights from Johannesburg\\nApproximate taxes\\nReturn transfers\\n3 nights' accommodation at the 4-star Bluebay Beach Resort in a Garden Room\\nAll meals & selected drinks daily\\nUPGRADE: to 7 Nights from R1400 per person sharing\\n\\n                                                                                                                                                                                                             \n",
       "\n",
       "    hotel_name  hotel_mapped        domain  \n",
       "0    NaN       NaN            flightcentre  \n",
       "1    NaN       NaN            flightcentre  \n",
       "2    NaN       NaN            flightcentre  \n",
       "3    NaN       NaN            flightcentre  \n",
       "4    NaN       NaN            flightcentre  \n",
       "..   ...        ..                     ...  \n",
       "97   NaN       NaN            flightcentre  \n",
       "98   NaN       NaN            flightcentre  \n",
       "99   NaN       NaN            flightcentre  \n",
       "100  NaN       NaN            flightcentre  \n",
       "101  NaN       NaN            flightcentre  \n",
       "\n",
       "[102 rows x 9 columns]"
      ]
     },
     "execution_count": 22,
     "metadata": {},
     "output_type": "execute_result"
    }
   ],
   "source": [
    "selected_rows.loc[selected_rows['domain']=='flightcentre']"
   ]
  },
  {
   "cell_type": "markdown",
   "id": "1b1ceeda",
   "metadata": {},
   "source": [
    "igotravel-tagname=title"
   ]
  },
  {
   "cell_type": "code",
   "execution_count": 25,
   "id": "54145d85",
   "metadata": {},
   "outputs": [],
   "source": [
    "#selected_rows.loc[selected_rows['domain']=='igotravel'].head(10)"
   ]
  },
  {
   "cell_type": "markdown",
   "id": "fb52d09f",
   "metadata": {},
   "source": [
    "casterbridge-hollow = hotelname-title"
   ]
  },
  {
   "cell_type": "code",
   "execution_count": 43,
   "id": "baa5d877",
   "metadata": {
    "scrolled": true
   },
   "outputs": [],
   "source": [
    "#selected_rows.loc[selected_rows['domain']=='casterbridge-hollow']"
   ]
  },
  {
   "cell_type": "markdown",
   "id": "455cbd64",
   "metadata": {},
   "source": [
    "elephant-plains-lodge===hotel name-title"
   ]
  },
  {
   "cell_type": "code",
   "execution_count": 44,
   "id": "6e8dc296",
   "metadata": {
    "scrolled": true
   },
   "outputs": [],
   "source": [
    "#selected_rows.loc[selected_rows['domain']== 'elephant-plains-lodge']"
   ]
  },
  {
   "cell_type": "markdown",
   "id": "90e66019",
   "metadata": {},
   "source": [
    "'idube-game-reserve'==hotel name-title"
   ]
  },
  {
   "cell_type": "code",
   "execution_count": 46,
   "id": "94143b48",
   "metadata": {
    "scrolled": true
   },
   "outputs": [],
   "source": [
    "#selected_rows.loc[selected_rows['domain']== 'idube-game-reserve']"
   ]
  },
  {
   "cell_type": "markdown",
   "id": "ad61e516",
   "metadata": {},
   "source": [
    "Marataba Trails Lodge Amenities=hotel name"
   ]
  },
  {
   "cell_type": "code",
   "execution_count": 47,
   "id": "46c7dcd9",
   "metadata": {
    "scrolled": true
   },
   "outputs": [],
   "source": [
    "#selected_rows.loc[selected_rows['domain']==  'marataba-trails-lodge']"
   ]
  },
  {
   "cell_type": "markdown",
   "id": "b00ef400",
   "metadata": {},
   "source": [
    "3-day-fly-in-safari-hotel name"
   ]
  },
  {
   "cell_type": "code",
   "execution_count": 52,
   "id": "e65bfbd9",
   "metadata": {
    "scrolled": true
   },
   "outputs": [],
   "source": [
    "#selected_rows.loc[selected_rows['domain']==  '3-day-fly-in-safari']"
   ]
  },
  {
   "cell_type": "markdown",
   "id": "0e119c8c",
   "metadata": {},
   "source": [
    "Entabeni Hanglip Mountain Lodge Amenities-title"
   ]
  },
  {
   "cell_type": "code",
   "execution_count": 54,
   "id": "fee34865",
   "metadata": {
    "scrolled": true
   },
   "outputs": [],
   "source": [
    "# selected_rows.loc[selected_rows['domain']==  'hanglip-mountain-lodge']"
   ]
  },
  {
   "cell_type": "code",
   "execution_count": null,
   "id": "23ffd49e",
   "metadata": {},
   "outputs": [],
   "source": [
    "leolapa Amenities-title"
   ]
  },
  {
   "cell_type": "code",
   "execution_count": 56,
   "id": "e24887f1",
   "metadata": {
    "scrolled": false
   },
   "outputs": [],
   "source": [
    "#selected_rows.loc[selected_rows['domain']==  'leolapa']"
   ]
  },
  {
   "cell_type": "markdown",
   "id": "4d0cc8f5",
   "metadata": {},
   "source": [
    "No name -title-'4-day-camping-trip-to-kruger-national-park'"
   ]
  },
  {
   "cell_type": "markdown",
   "id": "61094918",
   "metadata": {},
   "source": [
    "'bush-lodge'-title"
   ]
  },
  {
   "cell_type": "markdown",
   "id": "63996256",
   "metadata": {},
   "source": [
    "titles=hotel names-bushbreaks"
   ]
  },
  {
   "cell_type": "code",
   "execution_count": 60,
   "id": "b8f218d3",
   "metadata": {
    "scrolled": true
   },
   "outputs": [],
   "source": [
    "#selected_rows.loc[selected_rows['domain']==    'bushbreaks']"
   ]
  },
  {
   "cell_type": "markdown",
   "id": "c07bf24b",
   "metadata": {},
   "source": [
    "titles=hotel names-packages"
   ]
  },
  {
   "cell_type": "code",
   "execution_count": 64,
   "id": "c81d60a2",
   "metadata": {},
   "outputs": [],
   "source": [
    "#selected_rows.loc[selected_rows['domain']== 'packages'].head(20)"
   ]
  },
  {
   "cell_type": "markdown",
   "id": "0d4e1e1e",
   "metadata": {},
   "source": [
    "tagname=4* or 5*-title"
   ]
  },
  {
   "cell_type": "code",
   "execution_count": 66,
   "id": "8ffe9590",
   "metadata": {},
   "outputs": [],
   "source": [
    "#selected_rows.loc[selected_rows['domain']== 'computravel'].head(20)"
   ]
  },
  {
   "cell_type": "code",
   "execution_count": 67,
   "id": "493e0b5b",
   "metadata": {},
   "outputs": [
    {
     "data": {
      "text/html": [
       "<div>\n",
       "<style scoped>\n",
       "    .dataframe tbody tr th:only-of-type {\n",
       "        vertical-align: middle;\n",
       "    }\n",
       "\n",
       "    .dataframe tbody tr th {\n",
       "        vertical-align: top;\n",
       "    }\n",
       "\n",
       "    .dataframe thead th {\n",
       "        text-align: right;\n",
       "    }\n",
       "</style>\n",
       "<table border=\"1\" class=\"dataframe\">\n",
       "  <thead>\n",
       "    <tr style=\"text-align: right;\">\n",
       "      <th></th>\n",
       "      <th>scraped_url</th>\n",
       "      <th>agency_slug</th>\n",
       "      <th>country</th>\n",
       "      <th>title</th>\n",
       "      <th>description</th>\n",
       "      <th>inclusions</th>\n",
       "      <th>hotel_name</th>\n",
       "      <th>hotel_mapped</th>\n",
       "      <th>domain</th>\n",
       "    </tr>\n",
       "  </thead>\n",
       "  <tbody>\n",
       "    <tr>\n",
       "      <th>8379</th>\n",
       "      <td>NaN</td>\n",
       "      <td>NaN</td>\n",
       "      <td>NaN</td>\n",
       "      <td>NaN</td>\n",
       "      <td>NaN</td>\n",
       "      <td>NaN</td>\n",
       "      <td>NaN</td>\n",
       "      <td>NaN</td>\n",
       "      <td>nan</td>\n",
       "    </tr>\n",
       "    <tr>\n",
       "      <th>8380</th>\n",
       "      <td>NaN</td>\n",
       "      <td>NaN</td>\n",
       "      <td>NaN</td>\n",
       "      <td>NaN</td>\n",
       "      <td>NaN</td>\n",
       "      <td>NaN</td>\n",
       "      <td>NaN</td>\n",
       "      <td>NaN</td>\n",
       "      <td>nan</td>\n",
       "    </tr>\n",
       "  </tbody>\n",
       "</table>\n",
       "</div>"
      ],
      "text/plain": [
       "     scraped_url agency_slug country title description inclusions hotel_name  \\\n",
       "8379  NaN         NaN         NaN     NaN   NaN         NaN        NaN         \n",
       "8380  NaN         NaN         NaN     NaN   NaN         NaN        NaN         \n",
       "\n",
       "      hotel_mapped domain  \n",
       "8379 NaN            nan    \n",
       "8380 NaN            nan    "
      ]
     },
     "execution_count": 67,
     "metadata": {},
     "output_type": "execute_result"
    }
   ],
   "source": [
    "selected_rows.loc[selected_rows['domain']== 'nan'].head(20)"
   ]
  },
  {
   "cell_type": "code",
   "execution_count": 34,
   "id": "057e3877",
   "metadata": {
    "scrolled": true
   },
   "outputs": [
    {
     "data": {
      "text/html": [
       "<div>\n",
       "<style scoped>\n",
       "    .dataframe tbody tr th:only-of-type {\n",
       "        vertical-align: middle;\n",
       "    }\n",
       "\n",
       "    .dataframe tbody tr th {\n",
       "        vertical-align: top;\n",
       "    }\n",
       "\n",
       "    .dataframe thead th {\n",
       "        text-align: right;\n",
       "    }\n",
       "</style>\n",
       "<table border=\"1\" class=\"dataframe\">\n",
       "  <thead>\n",
       "    <tr style=\"text-align: right;\">\n",
       "      <th></th>\n",
       "      <th>scraped_url</th>\n",
       "      <th>agency_slug</th>\n",
       "      <th>country</th>\n",
       "      <th>title</th>\n",
       "      <th>description</th>\n",
       "      <th>inclusions</th>\n",
       "      <th>hotel_name</th>\n",
       "      <th>hotel_mapped</th>\n",
       "    </tr>\n",
       "  </thead>\n",
       "  <tbody>\n",
       "    <tr>\n",
       "      <th>0</th>\n",
       "      <td>https://www.flightcentre.co.za/product/14197346</td>\n",
       "      <td>flightcentre</td>\n",
       "      <td>maldives</td>\n",
       "      <td>Adaaran Select Meedhupparu</td>\n",
       "      <td>\\nYour Maldives Holiday Package includes:\\nRet...</td>\n",
       "      <td>\\nYour Maldives Holiday Package includes:\\n\\nR...</td>\n",
       "      <td>NaN</td>\n",
       "      <td>NaN</td>\n",
       "    </tr>\n",
       "    <tr>\n",
       "      <th>1</th>\n",
       "      <td>https://www.flightcentre.co.za/product/5415249</td>\n",
       "      <td>flightcentre</td>\n",
       "      <td>south africa</td>\n",
       "      <td>Family Fun on the Wild Coast</td>\n",
       "      <td>\\nYour Eastern Cape Holiday Package includes:\\...</td>\n",
       "      <td>\\nYour Eastern Cape Holiday Package includes:\\...</td>\n",
       "      <td>NaN</td>\n",
       "      <td>NaN</td>\n",
       "    </tr>\n",
       "    <tr>\n",
       "      <th>2</th>\n",
       "      <td>https://www.flightcentre.co.za/product/16385011</td>\n",
       "      <td>flightcentre</td>\n",
       "      <td>mauritius</td>\n",
       "      <td>Azuri Residences by Life in Blue</td>\n",
       "      <td>\\nYour Mauritius Holiday Package includes:\\nRe...</td>\n",
       "      <td>\\nYour Mauritius Holiday Package includes:\\n\\n...</td>\n",
       "      <td>NaN</td>\n",
       "      <td>NaN</td>\n",
       "    </tr>\n",
       "    <tr>\n",
       "      <th>3</th>\n",
       "      <td>https://www.flightcentre.co.za/product/16323810</td>\n",
       "      <td>flightcentre</td>\n",
       "      <td>mauritius</td>\n",
       "      <td>Seas the Day in Mauritius</td>\n",
       "      <td>\\nYour Mauritius Holiday Package includes:\\nRe...</td>\n",
       "      <td>\\nYour Mauritius Holiday Package includes:\\n\\n...</td>\n",
       "      <td>NaN</td>\n",
       "      <td>NaN</td>\n",
       "    </tr>\n",
       "    <tr>\n",
       "      <th>4</th>\n",
       "      <td>https://www.flightcentre.co.za/product/13250621</td>\n",
       "      <td>flightcentre</td>\n",
       "      <td>south africa</td>\n",
       "      <td>Kruger Park Splendour</td>\n",
       "      <td>\\nYour Kruger National Park Holiday Package in...</td>\n",
       "      <td>\\nYour Kruger National Park Holiday Package in...</td>\n",
       "      <td>NaN</td>\n",
       "      <td>NaN</td>\n",
       "    </tr>\n",
       "  </tbody>\n",
       "</table>\n",
       "</div>"
      ],
      "text/plain": [
       "                                       scraped_url   agency_slug  \\\n",
       "0  https://www.flightcentre.co.za/product/14197346  flightcentre   \n",
       "1   https://www.flightcentre.co.za/product/5415249  flightcentre   \n",
       "2  https://www.flightcentre.co.za/product/16385011  flightcentre   \n",
       "3  https://www.flightcentre.co.za/product/16323810  flightcentre   \n",
       "4  https://www.flightcentre.co.za/product/13250621  flightcentre   \n",
       "\n",
       "        country                             title  \\\n",
       "0      maldives        Adaaran Select Meedhupparu   \n",
       "1  south africa      Family Fun on the Wild Coast   \n",
       "2     mauritius  Azuri Residences by Life in Blue   \n",
       "3     mauritius         Seas the Day in Mauritius   \n",
       "4  south africa             Kruger Park Splendour   \n",
       "\n",
       "                                         description  \\\n",
       "0  \\nYour Maldives Holiday Package includes:\\nRet...   \n",
       "1  \\nYour Eastern Cape Holiday Package includes:\\...   \n",
       "2  \\nYour Mauritius Holiday Package includes:\\nRe...   \n",
       "3  \\nYour Mauritius Holiday Package includes:\\nRe...   \n",
       "4  \\nYour Kruger National Park Holiday Package in...   \n",
       "\n",
       "                                          inclusions hotel_name  hotel_mapped  \n",
       "0  \\nYour Maldives Holiday Package includes:\\n\\nR...        NaN           NaN  \n",
       "1  \\nYour Eastern Cape Holiday Package includes:\\...        NaN           NaN  \n",
       "2  \\nYour Mauritius Holiday Package includes:\\n\\n...        NaN           NaN  \n",
       "3  \\nYour Mauritius Holiday Package includes:\\n\\n...        NaN           NaN  \n",
       "4  \\nYour Kruger National Park Holiday Package in...        NaN           NaN  "
      ]
     },
     "execution_count": 34,
     "metadata": {},
     "output_type": "execute_result"
    }
   ],
   "source": [
    "scraped.head()"
   ]
  },
  {
   "cell_type": "code",
   "execution_count": 35,
   "id": "a3ec0538",
   "metadata": {},
   "outputs": [
    {
     "data": {
      "text/html": [
       "<div>\n",
       "<style scoped>\n",
       "    .dataframe tbody tr th:only-of-type {\n",
       "        vertical-align: middle;\n",
       "    }\n",
       "\n",
       "    .dataframe tbody tr th {\n",
       "        vertical-align: top;\n",
       "    }\n",
       "\n",
       "    .dataframe thead th {\n",
       "        text-align: right;\n",
       "    }\n",
       "</style>\n",
       "<table border=\"1\" class=\"dataframe\">\n",
       "  <thead>\n",
       "    <tr style=\"text-align: right;\">\n",
       "      <th></th>\n",
       "      <th>Name</th>\n",
       "      <th>Address1</th>\n",
       "      <th>Address2</th>\n",
       "      <th>City</th>\n",
       "      <th>StateProvince</th>\n",
       "      <th>PostalCode</th>\n",
       "      <th>Country</th>\n",
       "      <th>Latitude</th>\n",
       "      <th>Longitude</th>\n",
       "      <th>AirportCode</th>\n",
       "      <th>PropertyCurrency</th>\n",
       "      <th>StarRating</th>\n",
       "      <th>Location</th>\n",
       "    </tr>\n",
       "  </thead>\n",
       "  <tbody>\n",
       "    <tr>\n",
       "      <th>0</th>\n",
       "      <td>41</td>\n",
       "      <td>41 Buckingham Palace Road</td>\n",
       "      <td>NaN</td>\n",
       "      <td>London</td>\n",
       "      <td>NaN</td>\n",
       "      <td>SW1W 0PS</td>\n",
       "      <td>GB</td>\n",
       "      <td>51.49830</td>\n",
       "      <td>-0.14372</td>\n",
       "      <td>LHR</td>\n",
       "      <td>GBP</td>\n",
       "      <td>5.0</td>\n",
       "      <td>Near Buckingham Palace</td>\n",
       "    </tr>\n",
       "    <tr>\n",
       "      <th>1</th>\n",
       "      <td>#2 Andrews  Port Douglas</td>\n",
       "      <td>#2 Andrews Close</td>\n",
       "      <td>NaN</td>\n",
       "      <td>Port Douglas</td>\n",
       "      <td>QL</td>\n",
       "      <td>4877</td>\n",
       "      <td>AU</td>\n",
       "      <td>-16.51689</td>\n",
       "      <td>145.46770</td>\n",
       "      <td>CNS</td>\n",
       "      <td>AUD</td>\n",
       "      <td>5.0</td>\n",
       "      <td>Near Four Mile Beach Park</td>\n",
       "    </tr>\n",
       "    <tr>\n",
       "      <th>2</th>\n",
       "      <td>#2 Hastings Street</td>\n",
       "      <td>2 Hastings Street</td>\n",
       "      <td>NaN</td>\n",
       "      <td>Noosa Heads</td>\n",
       "      <td>QL</td>\n",
       "      <td>4567</td>\n",
       "      <td>AU</td>\n",
       "      <td>-26.38616</td>\n",
       "      <td>153.08722</td>\n",
       "      <td>MCY</td>\n",
       "      <td>AUD</td>\n",
       "      <td>4.0</td>\n",
       "      <td>In Noosa Heads (Noosa)</td>\n",
       "    </tr>\n",
       "    <tr>\n",
       "      <th>3</th>\n",
       "      <td>.Com</td>\n",
       "      <td>Albena</td>\n",
       "      <td>NaN</td>\n",
       "      <td>Albena</td>\n",
       "      <td>NaN</td>\n",
       "      <td>9620</td>\n",
       "      <td>BG</td>\n",
       "      <td>43.37024</td>\n",
       "      <td>28.07389</td>\n",
       "      <td>VAR</td>\n",
       "      <td>EUR</td>\n",
       "      <td>3.0</td>\n",
       "      <td>In Albena</td>\n",
       "    </tr>\n",
       "    <tr>\n",
       "      <th>4</th>\n",
       "      <td>?The Dunstane</td>\n",
       "      <td>4 West Coates &amp; 5 Hampton Terrace</td>\n",
       "      <td>Haymarket</td>\n",
       "      <td>Edinburgh</td>\n",
       "      <td>NaN</td>\n",
       "      <td>EH12 5JQ</td>\n",
       "      <td>GB</td>\n",
       "      <td>55.94571</td>\n",
       "      <td>-3.22880</td>\n",
       "      <td>EDI</td>\n",
       "      <td>GBP</td>\n",
       "      <td>4.0</td>\n",
       "      <td>Near Murrayfield Stadium</td>\n",
       "    </tr>\n",
       "  </tbody>\n",
       "</table>\n",
       "</div>"
      ],
      "text/plain": [
       "                        Name                           Address1   Address2  \\\n",
       "0                         41          41 Buckingham Palace Road        NaN   \n",
       "1  #2 Andrews  Port Douglas                   #2 Andrews Close        NaN   \n",
       "2         #2 Hastings Street                  2 Hastings Street        NaN   \n",
       "3                       .Com                             Albena        NaN   \n",
       "4              ?The Dunstane  4 West Coates & 5 Hampton Terrace  Haymarket   \n",
       "\n",
       "           City StateProvince PostalCode Country  Latitude  Longitude  \\\n",
       "0        London           NaN   SW1W 0PS      GB  51.49830   -0.14372   \n",
       "1  Port Douglas            QL       4877      AU -16.51689  145.46770   \n",
       "2   Noosa Heads            QL       4567      AU -26.38616  153.08722   \n",
       "3        Albena           NaN       9620      BG  43.37024   28.07389   \n",
       "4     Edinburgh           NaN   EH12 5JQ      GB  55.94571   -3.22880   \n",
       "\n",
       "  AirportCode PropertyCurrency  StarRating                   Location  \n",
       "0         LHR              GBP         5.0     Near Buckingham Palace  \n",
       "1         CNS              AUD         5.0  Near Four Mile Beach Park  \n",
       "2         MCY              AUD         4.0     In Noosa Heads (Noosa)  \n",
       "3         VAR              EUR         3.0                  In Albena  \n",
       "4         EDI              GBP         4.0   Near Murrayfield Stadium  "
      ]
     },
     "execution_count": 35,
     "metadata": {},
     "output_type": "execute_result"
    }
   ],
   "source": [
    "hotels.head()"
   ]
  },
  {
   "cell_type": "code",
   "execution_count": 70,
   "id": "99d88f80",
   "metadata": {},
   "outputs": [],
   "source": [
    "def clean_text(text):\n",
    "    \"\"\"\n",
    "    This function uses regular expressions to \n",
    "        - remove links characters\n",
    "        - remove html characters,\n",
    "        - remove escape sequences,\n",
    "        - remove capitalization,\n",
    "        - any extra white space from each text and then converts them to lowercase.\n",
    "\n",
    "    Input:\n",
    "    text: original text\n",
    "          datatype: string\n",
    "\n",
    "    Output:\n",
    "    texts: modified text\n",
    "           datatype: string\n",
    "    \"\"\"\n",
    "    # replace links with url-web\n",
    "    pattern_url = 'http[s]?://(?:[A-Za-z]|[0-9]|[$-_@.&+]|[!*\\(\\),]|(?:%[0-9A-Fa-f][0-9A-Fa-f]))+'\n",
    "    subs_url = 'url-web'\n",
    "    text = re.sub(pattern_url, subs_url, text)\n",
    "    # replace the html characters with \" \"\n",
    "    text = re.sub('<.*?>#()&', ' ', text)\n",
    "    text = re.sub('&', ' ', text)\n",
    "#     text = re.sub('(', ' ', text)\n",
    "#     text = re.sub(')', ' ', text)\n",
    "    \n",
    "    text=re.sub('Nan', ' ', text)\n",
    "    # replace escape sequence with space\n",
    "    escape_seq = [\"\\r\", \"\\n\",'\\a', '\\b', '\\f', \"\\`\", '\\”', '\\t']\n",
    "    for i in escape_seq:\n",
    "        text = re.sub(i, \" \", text)\n",
    "    # Remove Capitalization\n",
    "    text = text.lower()\n",
    "    # plit and join the words\n",
    "    text=' '.join(text.split())\n",
    "    \n",
    "    return text"
   ]
  },
  {
   "cell_type": "code",
   "execution_count": 5,
   "id": "517e42fc",
   "metadata": {},
   "outputs": [],
   "source": [
    "def clean(text):\n",
    "    \n",
    "    # removing paragraph numbers\n",
    "    text = re.sub('[0-9]+.\\t','',str(text))\n",
    "    # removing new line characters\n",
    "    text = re.sub('\\n ','',str(text))\n",
    "    text = re.sub('\\n',' ',str(text))\n",
    "    # removing apostrophes\n",
    "    text = re.sub(\"'s\",'',str(text))\n",
    "    # removing hyphens\n",
    "    text = re.sub(\"#\",' ',str(text))\n",
    "    text = re.sub(\"@\",'',str(text))\n",
    "    \n",
    "    # removing quotation marks\n",
    "    text = re.sub('\\\"','',str(text))\n",
    "    # removing salutations\n",
    "    text = re.sub(\"Mr\\.\",'Mr',str(text))\n",
    "    text = re.sub(\"Mrs\\.\",'Mrs',str(text))\n",
    "    # removing any reference to outside text\n",
    "    text = re.sub(\"[\\(\\[].*?[\\)\\]]#\", \"\", str(text))\n",
    "    \n",
    "    return text"
   ]
  },
  {
   "cell_type": "code",
   "execution_count": 6,
   "id": "d47ebd02",
   "metadata": {},
   "outputs": [],
   "source": [
    "def remove_punctuation(post):\n",
    "    return ''.join([l for l in post if l not in string.punctuation])\n"
   ]
  },
  {
   "cell_type": "code",
   "execution_count": 7,
   "id": "befd4893",
   "metadata": {},
   "outputs": [],
   "source": [
    "scraped['description'] = scraped['description'].astype(str).apply(clean_text)\n",
    "scraped['inclusions'] = scraped['inclusions'].astype(str).apply(clean_text)\n",
    "scraped['hotel_name'] = scraped['hotel_name'].astype(str).apply(clean_text)\n",
    "scraped['title'] = scraped['title'].astype(str).apply(clean_text)"
   ]
  },
  {
   "cell_type": "code",
   "execution_count": 8,
   "id": "f5687174",
   "metadata": {},
   "outputs": [],
   "source": [
    "scraped['corpus'] = ''\n",
    "corpus = []\n",
    "columns = ['title','hotel_name','description', 'inclusions']\n",
    "for i in range(0, len(scraped['scraped_url'])):\n",
    "    words = ''\n",
    "    for col in columns:\n",
    "        words = words + scraped.iloc[i][col] + \" \"        \n",
    "    corpus.append(words)\n",
    "scraped['corpus'] = corpus\n",
    "#scrapy.set_index('scraped_url', inplace=True)\n",
    "scraped.drop(columns=['title', 'description', 'inclusions', 'hotel_name','agency_slug','country'], inplace=True)\n",
    "\n"
   ]
  },
  {
   "cell_type": "code",
   "execution_count": 9,
   "id": "fb059cd8",
   "metadata": {},
   "outputs": [],
   "source": [
    "hotels['Name'] = hotels['Name'].astype(str).apply(clean_text)"
   ]
  },
  {
   "cell_type": "code",
   "execution_count": 10,
   "id": "6db28eb7",
   "metadata": {},
   "outputs": [],
   "source": [
    "hotels['Name'] = hotels['Name'].astype(str).apply(clean)"
   ]
  },
  {
   "cell_type": "code",
   "execution_count": 11,
   "id": "9776d9b6",
   "metadata": {},
   "outputs": [],
   "source": [
    "hotels['Name'] = hotels['Name'].astype(str).apply(remove_punctuation)"
   ]
  },
  {
   "cell_type": "code",
   "execution_count": 12,
   "id": "d1a3cd78",
   "metadata": {},
   "outputs": [],
   "source": [
    "type_labels = list(hotels.Name.unique())\n"
   ]
  },
  {
   "cell_type": "code",
   "execution_count": 13,
   "id": "2ff2d665",
   "metadata": {},
   "outputs": [],
   "source": [
    "from nltk.util import ngrams\n",
    "import nltk\n",
    "from nltk.tokenize import word_tokenize, TreebankWordTokenizer\n",
    "from nltk.corpus import stopwords"
   ]
  },
  {
   "cell_type": "code",
   "execution_count": 14,
   "id": "d6c6068b",
   "metadata": {},
   "outputs": [],
   "source": [
    "tokenizer = TreebankWordTokenizer()"
   ]
  },
  {
   "cell_type": "code",
   "execution_count": 15,
   "id": "257548bf",
   "metadata": {},
   "outputs": [],
   "source": [
    "def word_grams(words, min_n=2, max_n=4):\n",
    "    s = []\n",
    "    for n in range(min_n, max_n):\n",
    "        for ngram in ngrams(words, n):\n",
    "            s.append(' '.join(str(i) for i in ngram))\n",
    "    return s"
   ]
  },
  {
   "cell_type": "code",
   "execution_count": 16,
   "id": "83392ada",
   "metadata": {},
   "outputs": [],
   "source": [
    "def remove_stop_words(tokens):\n",
    "    return [t for t in tokens if t not in stopwords.words('english')]"
   ]
  },
  {
   "cell_type": "code",
   "execution_count": 17,
   "id": "68cd0c07",
   "metadata": {},
   "outputs": [],
   "source": [
    "scraped['derived'] =scraped['corpus'].apply(remove_punctuation)"
   ]
  },
  {
   "cell_type": "code",
   "execution_count": 18,
   "id": "fe2e6632",
   "metadata": {},
   "outputs": [],
   "source": [
    "scraped['derived'] =scraped['derived'].apply(clean)"
   ]
  },
  {
   "cell_type": "code",
   "execution_count": 19,
   "id": "95499ec0",
   "metadata": {},
   "outputs": [],
   "source": [
    "scraped['derived'] =scraped['derived'].apply(clean_text)"
   ]
  },
  {
   "cell_type": "code",
   "execution_count": 20,
   "id": "8a68a05a",
   "metadata": {},
   "outputs": [],
   "source": [
    "scraped['derived'] =scraped['derived'].apply(tokenizer.tokenize)"
   ]
  },
  {
   "cell_type": "code",
   "execution_count": 21,
   "id": "b2ffa640",
   "metadata": {},
   "outputs": [],
   "source": [
    "scraped['derived'] =scraped['derived'].apply(remove_stop_words)"
   ]
  },
  {
   "cell_type": "code",
   "execution_count": 22,
   "id": "4a48675d",
   "metadata": {},
   "outputs": [],
   "source": [
    "scraped['derived'] =scraped['derived'].apply(word_grams)"
   ]
  },
  {
   "cell_type": "code",
   "execution_count": 23,
   "id": "ec82622b",
   "metadata": {},
   "outputs": [
    {
     "name": "stderr",
     "output_type": "stream",
     "text": [
      "C:\\Users\\user\\AppData\\Local\\Temp\\ipykernel_11852\\170408937.py:2: FutureWarning: Passing a negative integer is deprecated in version 1.0 and will not be supported in future version. Instead, use None to not limit the column width.\n",
      "  pd.set_option('display.max_colwidth', -1)      # set to display full text in df\n"
     ]
    },
    {
     "data": {
      "text/plain": [
       "0     [adaaran select, select meedhupparu, meedhupparu nan, nan maldives, maldives holiday, holiday package, package includes, includes return, return flights, flights johannesburg, johannesburg approximate, approximate taxes, taxes return, return domestic, domestic flight, flight speedboat, speedboat transfers, transfers 7, 7 nights, nights accommodation, accommodation 4star, 4star adaaran, adaaran select, select meedhupparu, meedhupparu beachfront, beachfront villa, villa meals, meals selected, selected alcoholic, alcoholic nonalcoholic, nonalcoholic drinks, drinks daily, daily exclusions, exclusions items, items personal, personal nature, nature items, items mentioned, mentioned gratuities, gratuities porterage, porterage meals, meals drinks, drinks mentioned, mentioned tourssightseeing, tourssightseeing mentioned, mentioned car, car hire, hire promise, promise incomparable, incomparable holiday, holiday tropics, tropics adaaran, adaaran select, select meedhupparu, meedhupparu one, one best, best maldives, maldives luxury, luxury resorts, resorts offers, offers blissful, blissful accommodation, accommodation discerning, discerning traveller, traveller maldives, maldives bask, bask healing, healing sunshine, sunshine soak, soak alluring, alluring sights, sights sounds, sounds truly, truly enchanting, enchanting island, island tropics, tropics adaaran, adaaran select, select meedhupparu, meedhupparu offers, offers tranquil, tranquil settings, settings brimming, brimming luxury, luxury settle, settle holiday, holiday full, full breathtaking, breathtaking experiences, experiences leave, leave memories, memories last, last lifetime, lifetime maldives, maldives holiday, holiday package, package includes, includes return, return flights, flights johannesburg, ...]\n",
       "1     [family fun, fun wild, wild coast, coast nan, nan eastern, eastern cape, cape holiday, holiday package, package includes, includes return, return flights, flights johannesburg, johannesburg durban, durban approximate, approximate taxes, taxes 3, 3 days, days car, car hire, hire kia, kia picanto, picanto similar, similar 3, 3 nights, nights midweek, midweek accommodation, accommodation wild, wild coast, coast 4star, 4star wild, wild coast, coast sun, sun garden, garden facing, facing luxury, luxury room, room breakfast, breakfast daily, daily bonus, bonus complimentary, complimentary access, access wild, wild waves, waves water, water park, park please, please note, note 2, 2 children, children eat, eat breakfast, breakfast stay, stay free, free sharing, sharing adults, adults weekend, weekend upgrade, upgrade r660, r660 per, per adult, adult exclusions, exclusions transfers, transfers items, items personal, personal nature, nature items, items mentioned, mentioned gratuities, gratuities porterage, porterage meals, meals drinks, drinks mentioned, mentioned tourssightseeing, tourssightseeing mentioned, mentioned less, less 2, 2 hours, hours durban, durban cant, cant beat, beat location, location wild, wild coast, coast sun, sun hotel, hotel situated, situated coastal, coastal hub, hub port, port edward, edward less, less twohour, twohour scenic, scenic drive, drive along, along south, south coast, coast durbans, durbans king, king shaka, ...]                                                                                                                                                                                                                                                                                                                                \n",
       "2     [azuri residences, residences life, life blue, blue nan, nan mauritius, mauritius holiday, holiday package, package includes, includes return, return direct, direct flights, flights durban, durban approximate, approximate taxes, taxes return, return transfers, transfers 5, 5 nights, nights accommodation, accommodation 4star, 4star azuri, azuri residences, residences life, life blue, blue deluxe, deluxe apartment, apartment room, room basis, basis please, please note, note price, price based, based 4, 4 people, people travelling, travelling together, together exclusions, exclusions items, items personal, personal nature, nature items, items mentioned, mentioned gratuities, gratuities porterage, porterage meals, meals drinks, drinks mentioned, mentioned tourssightseeing, tourssightseeing mentioned, mentioned car, car hire, hire coastal, coastal village, village northeastern, northeastern coast, coast island, island roches, roches noires, noires lined, lined infinite, infinite turquoise, turquoise sea, sea blue, blue sky, sky tinge, tinge holidays, holidays picturesque, picturesque shades, shades blue, blue opt, opt highend, highend seafront, seafront accommodation, accommodation enjoy, enjoy intimacy, intimacy within, within elegant, elegant setting, setting kindle, kindle senses, senses experience, experience la, la dolce, dolce vita, vita memorable, memorable escape, escape mauritius, mauritius benefit, benefit services, services available, available fingertips, fingertips within, within azuri, azuri village, village mauritius, mauritius holiday, holiday package, package includes, includes return, return direct, ...]                                                                                                                                            \n",
       "3     [seas day, day mauritius, mauritius nan, nan mauritius, mauritius holiday, holiday package, package includes, includes return, return direct, direct flights, flights cape, cape town, town approximate, approximate taxes, taxes return, return transfers, transfers 5, 5 nights, nights accommodation, accommodation 45star, 45star radisson, radisson blu, blu azuri, azuri resort, resort spa, spa garden, garden premium, premium room, room meals, meals selected, selected drinks, drinks daily, daily bonus, bonus free, free upgrade, upgrade inclusive, inclusive included, included 2, 2 children, children 12, 12 years, years stay, stay free, free exclusions, exclusions items, items personal, personal nature, nature items, items mentioned, mentioned gratuities, gratuities porterage, porterage meals, meals drinks, drinks mentioned, mentioned tourssightseeing, tourssightseeing mentioned, mentioned car, car hire, hire set, set tranquil, tranquil beach, beach frames, frames brand, brand new, new azuri, azuri marine, marine complex, complex north, north east, east coast, coast island, island sparkling, sparkling lagoon, lagoon lush, lush green, green surroundings, surroundings resort, resort delivers, delivers distinctive, distinctive mauritius, mauritius holiday, holiday experience, experience perfect, perfect retreat, retreat couples, couples fun, fun place, place families, families resort, resort necessary, necessary facilities, facilities enjoyable, enjoyable holiday, holiday mauritius, mauritius holiday, holiday package, package includes, includes return, return direct, direct flights, ...]                                                                                                                                                                                      \n",
       "4     [kruger park, park splendour, splendour nan, nan kruger, kruger national, national park, park holiday, holiday package, package includes, includes return, return flights, flights johannesburg, johannesburg nelspruit, nelspruit approximate, approximate taxes, taxes 2, 2 days, days car, car hire, hire kia, kia picanto, picanto similar, similar 2, 2 nights, nights midweek, midweek accommodation, accommodation outside, outside kruger, kruger national, national park, park 4star, 4star protea, protea hotel, hotel marriott, marriott kruger, kruger gate, gate standard, standard room, room breakfast, breakfast daily, daily exclusions, exclusions transfers, transfers items, items personal, personal nature, nature items, items mentioned, mentioned gratuities, gratuities porterage, porterage meals, meals drinks, drinks mentioned, mentioned tourssightseeing, tourssightseeing mentioned, mentioned experience, experience wonder, wonder african, african bushveld, bushveld mpumalanga, mpumalanga visit, visit protea, protea hotel, hotel kruger, kruger gate, gate located, located along, along sabie, sabie river, river rustic, rustic elegant, elegant lodge, lodge provides, provides comforts, comforts home, home yet, yet 100, 100 meters, meters paul, paul kruger, kruger gate, gate kruger, kruger national, national park, park offering, offering unparalleled, unparalleled access, access areas, areas legendary, legendary natural, natural beauty, beauty step, step indigenous, indigenous portico, portico transported, transported different, different world, world one, one reminiscent, reminiscent tree, tree house, ...]                                                                                                                                                                      \n",
       "5     [hungarian f1, f1 grand, grand prix, prix 2022, 2022 nan, nan hungary, hungary holiday, holiday package, package includes, includes 3, 3 nights, nights accommodation, accommodation 3star, 3star ibis, ibis budapest, budapest centrum, centrum similar, similar 3day, 3day general, general admission, admission race, race ticket, ticket friday, friday sunday, sunday return, return circuit, circuit transfers, transfers saturday, saturday sunday, sunday 6, 6 days, days travel, travel insurance, insurance tour, tour merchandise, merchandise exclusions, exclusions flight, flight taxes, taxes transport, transport passport, passport visas, visas admission, admission fees, fees sights, sights interest, interest included, included tour, tour costitinerary, costitinerary personal, personal expenses, expenses tips, tips meals, meals gratuities, gratuities telephone, telephone calls, calls beverages, beverages meals, meals mentioned, mentioned inclusions, inclusions anything, anything else, else personal, personal nature, nature services, services mentioned, mentioned hungarian, hungarian grand, grand prix, prix motor, motor race, race held, held annually, annually mogyorod, mogyorod hungary, hungary since, since 1986, 1986 race, race round, round fia, fia formula, formula one, one world, world championship, championship first, first hungarian, hungarian grand, grand prix, prix held, held 21, 21 june, june 1936, 1936 5kilometre, 5kilometre track, track laid, laid nepliget, nepliget park, park budapest, budapest mercedesbenz, mercedesbenz auto, auto union, ...]                                                                                                                                                                                                                       \n",
       "6     [seas day, day mauritius, mauritius nan, nan mauritius, mauritius holiday, holiday package, package includes, includes return, return direct, direct flights, flights johannesburg, johannesburg approximate, approximate taxes, taxes return, return transfers, transfers 7, 7 nights, nights accommodation, accommodation 45star, 45star radisson, radisson blu, blu azuri, azuri resort, resort spa, spa garden, garden premium, premium room, room meals, meals selected, selected drinks, drinks daily, daily bonus, bonus free, free upgrade, upgrade inclusive, inclusive included, included 2, 2 children, children 12, 12 years, years stay, stay free, free exclusions, exclusions items, items personal, personal nature, nature items, items mentioned, mentioned gratuities, gratuities porterage, porterage meals, meals drinks, drinks mentioned, mentioned tourssightseeing, tourssightseeing mentioned, mentioned car, car hire, hire set, set tranquil, tranquil beach, beach frames, frames brand, brand new, new azuri, azuri marine, marine complex, complex north, north east, east coast, coast island, island sparkling, sparkling lagoon, lagoon lush, lush green, green surroundings, surroundings resort, resort delivers, delivers distinctive, distinctive mauritius, mauritius holiday, holiday experience, experience perfect, perfect retreat, retreat couples, couples fun, fun place, place families, families resort, resort necessary, necessary facilities, facilities enjoyable, enjoyable holiday, holiday mauritius, mauritius holiday, holiday package, package includes, includes return, return direct, direct flights, flights johannesburg, ...]                                                                                                                                                           \n",
       "7     [clear skies, skies turquoise, turquoise sea, sea nan, nan mauritius, mauritius holiday, holiday package, package includes, includes return, return direct, direct flights, flights johannesburg, johannesburg approximate, approximate taxes, taxes return, return transfers, transfers 5, 5 nights, nights accommodation, accommodation 3star, 3star azuri, azuri residences, residences life, life blue, blue deluxe, deluxe apartment, apartment room, room basis, basis please, please note, note price, price based, based 4, 4 people, people travelling, travelling together, together exclusions, exclusions items, items personal, personal nature, nature items, items mentioned, mentioned gratuities, gratuities porterage, porterage meals, meals drinks, drinks mentioned, mentioned tourssightseeing, tourssightseeing mentioned, mentioned car, car hire, hire coastal, coastal village, village northeastern, northeastern coast, coast island, island roches, roches noires, noires lined, lined infinite, infinite turquoise, turquoise sea, sea blue, blue sky, sky tinge, tinge holidays, holidays picturesque, picturesque shades, shades blue, blue opt, opt highend, highend seafront, seafront accommodation, accommodation enjoy, enjoy intimacy, intimacy within, within elegant, elegant setting, setting kindle, kindle senses, senses experience, experience la, la dolce, dolce vita, vita memorable, memorable escape, escape mauritius, mauritius benefit, benefit services, services available, available fingertips, fingertips within, within azuri, azuri village, village mauritius, mauritius holiday, holiday package, package includes, includes return, return direct, ...]                                                                                                                                  \n",
       "8     [wimbledon 2022, 2022 nan, nan england, england holiday, holiday package, package includes, includes 3, 3 nights, nights accommodation, accommodation 4star, 4star warren, warren house, house kingstonuponthames, kingstonuponthames surrey, surrey week, week one, one 1, 1 court, court event, event ticket, ticket debenture, debenture tickets, tickets prime, prime locations, locations access, access exclusive, exclusive debenture, debenture holders, holders lounge, lounge includes, includes variety, variety excellent, excellent bars, bars restaurants, restaurants overlooking, overlooking grounds, grounds wimbledon, wimbledon oyster, oyster card, card travel, travel central, central london, london 6, 6 days, days bryte, bryte travel, travel insurance, insurance upgrade, upgrade week, week two, two 1, 1 court, court 0306, 0306 july, july 2022, 2022 r28, r28 960, 960 per, per person, person sharing, sharing upgrade, upgrade ladies, ladies final, final centre, centre court, court 0811, 0811 july, july 2022, 2022 r44, r44 570, 570 per, per person, person sharing, sharing upgrade, upgrade mens, mens final, final centre, centre court, court 0912, 0912 july, july 2022, 2022 r104, r104 490, 490 per, per person, person sharing, sharing exclusions, exclusions flight, flight taxes, taxes transport, transport passport, passport visas, visas admission, admission fees, fees sights, sights interest, interest included, included tour, tour costitinerary, costitinerary personal, ...]                                                                                                                                                                                                                                                                                                            \n",
       "9     [tropical palms, palms sandy, sandy shores, shores nan, nan zanzibar, zanzibar holiday, holiday package, package includes, includes return, return direct, direct flights, flights johannesburg, johannesburg approximate, approximate taxes, taxes return, return transfers, transfers 3, 3 nights, nights accommodation, accommodation 4star, 4star bluebay, bluebay beach, beach resort, resort garden, garden room, room meals, meals selected, selected drinks, drinks daily, daily upgrade, upgrade 7, 7 nights, nights r1400, r1400 per, per person, person sharing, sharing exclusions, exclusions items, items personal, personal nature, nature items, items mentioned, mentioned gratuities, gratuities porterage, porterage meals, meals drinks, drinks mentioned, mentioned tourssightseeing, tourssightseeing mentioned, mentioned car, car hire, hire travel, travel insurance, insurance infrastructure, infrastructure levy, levy usd1, usd1 per, per person, person per, per day, day payable, payable upon, upon check, check luxury, luxury beachfront, beachfront resort, resort traditional, traditional swahili, swahili charm, charm bluebay, bluebay beach, beach resort, resort spa, spa situated, situated finest, finest white, white sandy, sandy beach, beach east, east coast, coast island, island zanzibar, zanzibar set, set 30acres, 30acres tropical, tropical gardens, gardens 1000, 1000 palm, palm trees, trees resort, resort one, one zanzibars, zanzibars prestigious, prestigious properties, properties offering, offering ultimate, ultimate beach, beach comfort, comfort excellent, excellent accommodation, ...]                                                                                                                                                                                        \n",
       "10    [family fun, fun wild, wild coast, coast nan, nan eastern, eastern cape, cape holiday, holiday package, package includes, includes return, return flights, flights cape, cape town, town durban, durban approximate, approximate taxes, taxes 3, 3 days, days car, car hire, hire kia, kia picanto, picanto similar, similar 3, 3 nights, nights midweek, midweek accommodation, accommodation wild, wild coast, coast 4star, 4star wild, wild coast, coast sun, sun garden, garden facing, facing luxury, luxury room, room breakfast, breakfast daily, daily bonus, bonus complimentary, complimentary access, access wild, wild waves, waves water, water park, park please, please note, note 2, 2 children, children eat, eat breakfast, breakfast stay, stay free, free sharing, sharing adults, adults weekend, weekend upgrade, upgrade r570, r570 per, per adult, adult exclusions, exclusions transfers, transfers items, items personal, personal nature, nature items, items mentioned, mentioned gratuities, gratuities porterage, porterage meals, meals drinks, drinks mentioned, mentioned tourssightseeing, tourssightseeing mentioned, mentioned less, less 2, 2 hours, hours durban, durban cant, cant beat, beat location, location wild, wild coast, coast sun, sun hotel, hotel situated, situated coastal, coastal hub, hub port, port edward, edward less, less twohour, twohour scenic, scenic drive, drive along, along south, south coast, coast durbans, durbans king, ...]                                                                                                                                                                                                                                                                                                                                                 \n",
       "11    [kruger park, park splendour, splendour nan, nan kruger, kruger national, national park, park holiday, holiday package, package includes, includes return, return flights, flights cape, cape town, town nelspruit, nelspruit approximate, approximate taxes, taxes 2, 2 days, days car, car hire, hire kia, kia picanto, picanto similar, similar 2, 2 nights, nights midweek, midweek accommodation, accommodation outside, outside kruger, kruger national, national park, park 4star, 4star protea, protea hotel, hotel marriott, marriott kruger, kruger gate, gate standard, standard room, room breakfast, breakfast daily, daily exclusions, exclusions transfers, transfers items, items personal, personal nature, nature items, items mentioned, mentioned gratuities, gratuities porterage, porterage meals, meals drinks, drinks mentioned, mentioned tourssightseeing, tourssightseeing mentioned, mentioned experience, experience wonder, wonder african, african bushveld, bushveld mpumalanga, mpumalanga visit, visit protea, protea hotel, hotel kruger, kruger gate, gate located, located along, along sabie, sabie river, river rustic, rustic elegant, elegant lodge, lodge provides, provides comforts, comforts home, home yet, yet 100, 100 meters, meters paul, paul kruger, kruger gate, gate kruger, kruger national, national park, park offering, offering unparalleled, unparalleled access, access areas, areas legendary, legendary natural, natural beauty, beauty step, step indigenous, indigenous portico, portico transported, transported different, different world, world one, one reminiscent, reminiscent tree, ...]                                                                                                                                                                                       \n",
       "12    [tropical paradise, paradise nan, nan zanzibar, zanzibar holiday, holiday package, package includes, includes return, return direct, direct flights, flights johannesburg, johannesburg approximate, approximate taxes, taxes return, return transfers, transfers 7, 7 nights, nights accommodation, accommodation 5star, 5star tui, tui blue, blue bahari, bahari deluxe, deluxe room, room meals, meals selected, selected drinks, drinks daily, daily exclusions, exclusions items, items personal, personal nature, nature items, items mentioned, mentioned gratuities, gratuities porterage, porterage meals, meals drinks, drinks mentioned, mentioned tourssightseeing, tourssightseeing mentioned, mentioned car, car hire, hire travel, travel insurance, insurance infrastructure, infrastructure levy, levy usd1, usd1 per, per person, person per, per day, day payable, payable upon, upon check, check hotel, hotel tui, tui blue, blue bahari, bahari zanzibar, zanzibar holiday, holiday dream, dream tropical, tropical paradise, paradise come, come true, true directly, directly pictureperfect, pictureperfect sandy, sandy beach, beach embedded, embedded exotic, exotic garden, garden area, area full, full palm, palm trees, trees 5star, 5star hotel, hotel arabian, arabian palace, palace style, style perfect, perfect choice, choice zanzibar, zanzibar customize, customize comfortable, comfortable relaxing, relaxing beach, beach vacation, vacation couple, couple family, family entirely, entirely liking, liking tui, tui blue, blue bahari, bahari zanzibar, zanzibar entices, entices feast, feast several, ...]                                                                                                                                                                                              \n",
       "13    [tropical paradise, paradise december, december travel, travel nan, nan zanzibar, zanzibar holiday, holiday package, package includes, includes return, return flights, flights johannesburg, johannesburg approximate, approximate taxes, taxes return, return transfers, transfers 7, 7 nights, nights accommodation, accommodation 5star, 5star tui, tui blue, blue bahari, bahari deluxe, deluxe room, room meals, meals selected, selected drinks, drinks daily, daily exclusions, exclusions items, items personal, personal nature, nature items, items mentioned, mentioned gratuities, gratuities porterage, porterage meals, meals drinks, drinks mentioned, mentioned tourssightseeing, tourssightseeing mentioned, mentioned car, car hire, hire travel, travel insurance, insurance infrastructure, infrastructure levy, levy usd1, usd1 per, per person, person per, per day, day payable, payable upon, upon check, check hotel, hotel tui, tui blue, blue bahari, bahari zanzibar, zanzibar holiday, holiday dream, dream tropical, tropical paradise, paradise come, come true, true directly, directly pictureperfect, pictureperfect sandy, sandy beach, beach embedded, embedded exotic, exotic garden, garden area, area full, full palm, palm trees, trees 5star, 5star hotel, hotel arabian, arabian palace, palace style, style perfect, perfect choice, choice zanzibar, zanzibar customize, customize comfortable, comfortable relaxing, relaxing beach, beach vacation, vacation couple, couple family, family entirely, entirely liking, liking tui, tui blue, blue bahari, bahari zanzibar, zanzibar entices, entices feast, ...]                                                                                                                                                                                          \n",
       "14    [tropical palms, palms sandy, sandy shores, shores nan, nan zanzibar, zanzibar holiday, holiday package, package includes, includes return, return direct, direct flights, flights johannesburg, johannesburg approximate, approximate taxes, taxes return, return transfers, transfers 3, 3 nights, nights accommodation, accommodation 5star, 5star bluebay, bluebay beach, beach resort, resort garden, garden room, room meals, meals selected, selected drinks, drinks daily, daily upgrade, upgrade 7, 7 nights, nights r1400, r1400 per, per person, person sharing, sharing set, set departures, departures 7, 7 night, night stay, stay 17, 17 may, may 2022, 2022 24, 24 may, may 2022, 2022 21, 21 may, may 2022, 2022 28, 28 may, may 2022, 2022 exclusions, exclusions items, items personal, personal nature, nature items, items mentioned, mentioned gratuities, gratuities porterage, porterage meals, meals drinks, drinks mentioned, mentioned tourssightseeing, tourssightseeing mentioned, mentioned car, car hire, hire travel, travel insurance, insurance infrastructure, infrastructure levy, levy usd1, usd1 per, per person, person per, per day, day payable, payable upon, upon check, check luxury, luxury beachfront, beachfront resort, resort traditional, traditional swahili, swahili charm, charm bluebay, bluebay beach, beach resort, resort spa, spa situated, situated finest, finest white, white sandy, sandy beach, beach east, east coast, coast island, island zanzibar, zanzibar set, ...]                                                                                                                                                                                                                                                                                                                \n",
       "Name: derived, dtype: object"
      ]
     },
     "execution_count": 23,
     "metadata": {},
     "output_type": "execute_result"
    }
   ],
   "source": [
    "# Verify Actions\n",
    "pd.set_option('display.max_colwidth', -1)      # set to display full text in df\n",
    "scraped['derived'].head(15)"
   ]
  },
  {
   "cell_type": "code",
   "execution_count": null,
   "id": "8ba948cb",
   "metadata": {},
   "outputs": [],
   "source": [
    "scraped.head()"
   ]
  },
  {
   "cell_type": "code",
   "execution_count": 24,
   "id": "61b2506e",
   "metadata": {},
   "outputs": [],
   "source": [
    "def fin(text):\n",
    "  res = [ele1 for ele1 in test_list1 if any(ele2 in ele1 for ele2 in text)]\n",
    "  return res\n"
   ]
  },
  {
   "cell_type": "code",
   "execution_count": 26,
   "id": "01acb4c2",
   "metadata": {},
   "outputs": [],
   "source": [
    "test_list1=type_labels"
   ]
  },
  {
   "cell_type": "code",
   "execution_count": null,
   "id": "0df3261a",
   "metadata": {},
   "outputs": [],
   "source": [
    "scraped['derived'] =scraped['derived'].apply(fin)"
   ]
  },
  {
   "cell_type": "code",
   "execution_count": 30,
   "id": "858c50dc",
   "metadata": {},
   "outputs": [],
   "source": [
    "def main(text):\n",
    "    result = remove_punctuation(text)\n",
    "    result2=clean(result)\n",
    "    test_list1=type_labels\n",
    "    tokens =tokenizer.tokenize(result2)\n",
    "    no_stop =remove_stop_words(tokens)\n",
    "    stop_gram=word_grams(no_stop)\n",
    "    tel=stop_gram\n",
    "    res = [ele1 for ele1 in test_list1 if any(ele2 in ele1 for ele2 in tel)]\n",
    "    return res"
   ]
  },
  {
   "cell_type": "code",
   "execution_count": 31,
   "id": "471da2e2",
   "metadata": {},
   "outputs": [
    {
     "ename": "KeyboardInterrupt",
     "evalue": "",
     "output_type": "error",
     "traceback": [
      "\u001b[1;31m---------------------------------------------------------------------------\u001b[0m",
      "\u001b[1;31mKeyboardInterrupt\u001b[0m                         Traceback (most recent call last)",
      "Input \u001b[1;32mIn [31]\u001b[0m, in \u001b[0;36m<cell line: 1>\u001b[1;34m()\u001b[0m\n\u001b[1;32m----> 1\u001b[0m scraped[\u001b[38;5;124m'\u001b[39m\u001b[38;5;124mderived\u001b[39m\u001b[38;5;124m'\u001b[39m] \u001b[38;5;241m=\u001b[39m\u001b[43mscraped\u001b[49m\u001b[43m[\u001b[49m\u001b[38;5;124;43m'\u001b[39;49m\u001b[38;5;124;43mcorpus\u001b[39;49m\u001b[38;5;124;43m'\u001b[39;49m\u001b[43m]\u001b[49m\u001b[38;5;241;43m.\u001b[39;49m\u001b[43mapply\u001b[49m\u001b[43m(\u001b[49m\u001b[43mmain\u001b[49m\u001b[43m)\u001b[49m\n",
      "File \u001b[1;32m~\\anaconda3\\lib\\site-packages\\pandas\\core\\series.py:4433\u001b[0m, in \u001b[0;36mSeries.apply\u001b[1;34m(self, func, convert_dtype, args, **kwargs)\u001b[0m\n\u001b[0;32m   4323\u001b[0m \u001b[38;5;28;01mdef\u001b[39;00m \u001b[38;5;21mapply\u001b[39m(\n\u001b[0;32m   4324\u001b[0m     \u001b[38;5;28mself\u001b[39m,\n\u001b[0;32m   4325\u001b[0m     func: AggFuncType,\n\u001b[1;32m   (...)\u001b[0m\n\u001b[0;32m   4328\u001b[0m     \u001b[38;5;241m*\u001b[39m\u001b[38;5;241m*\u001b[39mkwargs,\n\u001b[0;32m   4329\u001b[0m ) \u001b[38;5;241m-\u001b[39m\u001b[38;5;241m>\u001b[39m DataFrame \u001b[38;5;241m|\u001b[39m Series:\n\u001b[0;32m   4330\u001b[0m     \u001b[38;5;124;03m\"\"\"\u001b[39;00m\n\u001b[0;32m   4331\u001b[0m \u001b[38;5;124;03m    Invoke function on values of Series.\u001b[39;00m\n\u001b[0;32m   4332\u001b[0m \n\u001b[1;32m   (...)\u001b[0m\n\u001b[0;32m   4431\u001b[0m \u001b[38;5;124;03m    dtype: float64\u001b[39;00m\n\u001b[0;32m   4432\u001b[0m \u001b[38;5;124;03m    \"\"\"\u001b[39;00m\n\u001b[1;32m-> 4433\u001b[0m     \u001b[38;5;28;01mreturn\u001b[39;00m \u001b[43mSeriesApply\u001b[49m\u001b[43m(\u001b[49m\u001b[38;5;28;43mself\u001b[39;49m\u001b[43m,\u001b[49m\u001b[43m \u001b[49m\u001b[43mfunc\u001b[49m\u001b[43m,\u001b[49m\u001b[43m \u001b[49m\u001b[43mconvert_dtype\u001b[49m\u001b[43m,\u001b[49m\u001b[43m \u001b[49m\u001b[43margs\u001b[49m\u001b[43m,\u001b[49m\u001b[43m \u001b[49m\u001b[43mkwargs\u001b[49m\u001b[43m)\u001b[49m\u001b[38;5;241;43m.\u001b[39;49m\u001b[43mapply\u001b[49m\u001b[43m(\u001b[49m\u001b[43m)\u001b[49m\n",
      "File \u001b[1;32m~\\anaconda3\\lib\\site-packages\\pandas\\core\\apply.py:1082\u001b[0m, in \u001b[0;36mSeriesApply.apply\u001b[1;34m(self)\u001b[0m\n\u001b[0;32m   1078\u001b[0m \u001b[38;5;28;01mif\u001b[39;00m \u001b[38;5;28misinstance\u001b[39m(\u001b[38;5;28mself\u001b[39m\u001b[38;5;241m.\u001b[39mf, \u001b[38;5;28mstr\u001b[39m):\n\u001b[0;32m   1079\u001b[0m     \u001b[38;5;66;03m# if we are a string, try to dispatch\u001b[39;00m\n\u001b[0;32m   1080\u001b[0m     \u001b[38;5;28;01mreturn\u001b[39;00m \u001b[38;5;28mself\u001b[39m\u001b[38;5;241m.\u001b[39mapply_str()\n\u001b[1;32m-> 1082\u001b[0m \u001b[38;5;28;01mreturn\u001b[39;00m \u001b[38;5;28;43mself\u001b[39;49m\u001b[38;5;241;43m.\u001b[39;49m\u001b[43mapply_standard\u001b[49m\u001b[43m(\u001b[49m\u001b[43m)\u001b[49m\n",
      "File \u001b[1;32m~\\anaconda3\\lib\\site-packages\\pandas\\core\\apply.py:1137\u001b[0m, in \u001b[0;36mSeriesApply.apply_standard\u001b[1;34m(self)\u001b[0m\n\u001b[0;32m   1131\u001b[0m         values \u001b[38;5;241m=\u001b[39m obj\u001b[38;5;241m.\u001b[39mastype(\u001b[38;5;28mobject\u001b[39m)\u001b[38;5;241m.\u001b[39m_values\n\u001b[0;32m   1132\u001b[0m         \u001b[38;5;66;03m# error: Argument 2 to \"map_infer\" has incompatible type\u001b[39;00m\n\u001b[0;32m   1133\u001b[0m         \u001b[38;5;66;03m# \"Union[Callable[..., Any], str, List[Union[Callable[..., Any], str]],\u001b[39;00m\n\u001b[0;32m   1134\u001b[0m         \u001b[38;5;66;03m# Dict[Hashable, Union[Union[Callable[..., Any], str],\u001b[39;00m\n\u001b[0;32m   1135\u001b[0m         \u001b[38;5;66;03m# List[Union[Callable[..., Any], str]]]]]\"; expected\u001b[39;00m\n\u001b[0;32m   1136\u001b[0m         \u001b[38;5;66;03m# \"Callable[[Any], Any]\"\u001b[39;00m\n\u001b[1;32m-> 1137\u001b[0m         mapped \u001b[38;5;241m=\u001b[39m \u001b[43mlib\u001b[49m\u001b[38;5;241;43m.\u001b[39;49m\u001b[43mmap_infer\u001b[49m\u001b[43m(\u001b[49m\n\u001b[0;32m   1138\u001b[0m \u001b[43m            \u001b[49m\u001b[43mvalues\u001b[49m\u001b[43m,\u001b[49m\n\u001b[0;32m   1139\u001b[0m \u001b[43m            \u001b[49m\u001b[43mf\u001b[49m\u001b[43m,\u001b[49m\u001b[43m  \u001b[49m\u001b[38;5;66;43;03m# type: ignore[arg-type]\u001b[39;49;00m\n\u001b[0;32m   1140\u001b[0m \u001b[43m            \u001b[49m\u001b[43mconvert\u001b[49m\u001b[38;5;241;43m=\u001b[39;49m\u001b[38;5;28;43mself\u001b[39;49m\u001b[38;5;241;43m.\u001b[39;49m\u001b[43mconvert_dtype\u001b[49m\u001b[43m,\u001b[49m\n\u001b[0;32m   1141\u001b[0m \u001b[43m        \u001b[49m\u001b[43m)\u001b[49m\n\u001b[0;32m   1143\u001b[0m \u001b[38;5;28;01mif\u001b[39;00m \u001b[38;5;28mlen\u001b[39m(mapped) \u001b[38;5;129;01mand\u001b[39;00m \u001b[38;5;28misinstance\u001b[39m(mapped[\u001b[38;5;241m0\u001b[39m], ABCSeries):\n\u001b[0;32m   1144\u001b[0m     \u001b[38;5;66;03m# GH#43986 Need to do list(mapped) in order to get treated as nested\u001b[39;00m\n\u001b[0;32m   1145\u001b[0m     \u001b[38;5;66;03m#  See also GH#25959 regarding EA support\u001b[39;00m\n\u001b[0;32m   1146\u001b[0m     \u001b[38;5;28;01mreturn\u001b[39;00m obj\u001b[38;5;241m.\u001b[39m_constructor_expanddim(\u001b[38;5;28mlist\u001b[39m(mapped), index\u001b[38;5;241m=\u001b[39mobj\u001b[38;5;241m.\u001b[39mindex)\n",
      "File \u001b[1;32m~\\anaconda3\\lib\\site-packages\\pandas\\_libs\\lib.pyx:2870\u001b[0m, in \u001b[0;36mpandas._libs.lib.map_infer\u001b[1;34m()\u001b[0m\n",
      "Input \u001b[1;32mIn [30]\u001b[0m, in \u001b[0;36mmain\u001b[1;34m(text)\u001b[0m\n\u001b[0;32m      7\u001b[0m stop_gram\u001b[38;5;241m=\u001b[39mword_grams(no_stop)\n\u001b[0;32m      8\u001b[0m tel\u001b[38;5;241m=\u001b[39mstop_gram\n\u001b[1;32m----> 9\u001b[0m res \u001b[38;5;241m=\u001b[39m [ele1 \u001b[38;5;28;01mfor\u001b[39;00m ele1 \u001b[38;5;129;01min\u001b[39;00m test_list1 \u001b[38;5;28;01mif\u001b[39;00m \u001b[38;5;28many\u001b[39m(ele2 \u001b[38;5;129;01min\u001b[39;00m ele1 \u001b[38;5;28;01mfor\u001b[39;00m ele2 \u001b[38;5;129;01min\u001b[39;00m tel)]\n\u001b[0;32m     10\u001b[0m \u001b[38;5;28;01mreturn\u001b[39;00m res\n",
      "Input \u001b[1;32mIn [30]\u001b[0m, in \u001b[0;36m<listcomp>\u001b[1;34m(.0)\u001b[0m\n\u001b[0;32m      7\u001b[0m stop_gram\u001b[38;5;241m=\u001b[39mword_grams(no_stop)\n\u001b[0;32m      8\u001b[0m tel\u001b[38;5;241m=\u001b[39mstop_gram\n\u001b[1;32m----> 9\u001b[0m res \u001b[38;5;241m=\u001b[39m [ele1 \u001b[38;5;28;01mfor\u001b[39;00m ele1 \u001b[38;5;129;01min\u001b[39;00m test_list1 \u001b[38;5;28;01mif\u001b[39;00m \u001b[38;5;28many\u001b[39m(ele2 \u001b[38;5;129;01min\u001b[39;00m ele1 \u001b[38;5;28;01mfor\u001b[39;00m ele2 \u001b[38;5;129;01min\u001b[39;00m tel)]\n\u001b[0;32m     10\u001b[0m \u001b[38;5;28;01mreturn\u001b[39;00m res\n",
      "\u001b[1;31mKeyboardInterrupt\u001b[0m: "
     ]
    }
   ],
   "source": [
    "scraped['derived'] =scraped['corpus'].apply(main)\n"
   ]
  },
  {
   "cell_type": "code",
   "execution_count": null,
   "id": "e06bf091",
   "metadata": {},
   "outputs": [],
   "source": []
  },
  {
   "cell_type": "code",
   "execution_count": null,
   "id": "a572c623",
   "metadata": {},
   "outputs": [],
   "source": []
  },
  {
   "cell_type": "code",
   "execution_count": null,
   "id": "65935569",
   "metadata": {},
   "outputs": [],
   "source": []
  },
  {
   "cell_type": "code",
   "execution_count": null,
   "id": "c7e21b80",
   "metadata": {},
   "outputs": [],
   "source": []
  },
  {
   "cell_type": "code",
   "execution_count": 73,
   "id": "6d4d1e35",
   "metadata": {},
   "outputs": [],
   "source": [
    "arr = [\n",
    " 'casterbridge-hollow',\n",
    " 'elephant-plains-lodge',\n",
    " 'idube-game-reserve',\n",
    " 'marataba-trails-lodge',\n",
    " 'hans-merensky-hotel-and-golf-estate',\n",
    " 'bayethe-lodge',\n",
    " '4-day-fly-in-safari',\n",
    " 'madikwe-hills-private-game-lodge',\n",
    " 'phinda-homestead',\n",
    " 'long-lee-manor',\n",
    " 'camp-shawu',\n",
    " 'thula-thula-private-game-reserve',\n",
    " 'simbavati-river-lodge',\n",
    " 'inn-on-the-square',\n",
    " 'madikwe-safari-lodge',\n",
    " 'country-boutique-hotel',\n",
    " 'rhino-ridge-safari-lodge',\n",
    " 'entabeni-lakeside-lodge',\n",
    " 'kirkmans-kamp',\n",
    " 'exeter-river-lodge',\n",
    " 'ekuthuleni-lodge',\n",
    " 'nedile-lodge',\n",
    " 'leopard-hills-private-game-reserve',\n",
    " 'thonga-beach-lodge',\n",
    " 'nottens-bush-camp',\n",
    " 'isibindi-zulu-lodge',\n",
    " 'hillsnek-safari-camp',\n",
    " 'camp-shonga',\n",
    " 'leadwood-lodge',\n",
    " 'nungubane-game-lodge',\n",
    " 'impodimo-game-lodge',\n",
    " 'alpine-heath-resort',\n",
    " 'entabeni-kingfisher-lodge',\n",
    " 'mandela-rhodes-place',\n",
    " 'marataba-safari-lodge',\n",
    " 'greenway-woods-resort-2980',\n",
    " 'legend-golf-and-safari-resort',\n",
    " '2-day-fly-in-safari',\n",
    " 'umkumbe-safari-lodge',\n",
    " 'hollow-on-the-square-cape-town-city-hotel',\n",
    " 'arathusa-safari-lodge',\n",
    " 'perry-039-s-bridge-hollow-boutique-hotel',\n",
    " 'sabi-sabi-bush-lodge',\n",
    " 'hippo-hollow-country-estate',\n",
    " 'oceana-beach-and-wildlife-resort',\n",
    " '4-day-camping-trip-to-kruger-national-park',\n",
    " 'ecolux-boutique-hotel-and-spa',\n",
    " 'bush-lodge',\n",
    " 'londolozi-private-game-reserve',\n",
    " 'nkomazi-game-reserve',\n",
    " '3-day-fly-in-safari',\n",
    " 'little-bush-camp',\n",
    " 'rhino-walking-safari',\n",
    " 'kosi-forest-lodge',\n",
    " 'white-elephant-safari-lodge',\n",
    " 'jock-explorer-camp',\n",
    " 'baradinckals-bush-lodge',\n",
    " 'thandeka-game-lodge',\n",
    " 'dulini-lodge',\n",
    " 'leolapa',\n",
    " 'mkuze-falls-private-game-reserve',\n",
    " 'phinda-forest-lodge',\n",
    " 'entabeni-wildside-safari-lodge',\n",
    " 'entabeni-ravineside-lodge',\n",
    " 'hanglip-mountain-lodge',\n",
    " 'bushbreaks']"
   ]
  },
  {
   "cell_type": "code",
   "execution_count": null,
   "id": "977daf3f",
   "metadata": {},
   "outputs": [],
   "source": [
    "neew6 = df.loc[df['favorite_color'].isin(array)]"
   ]
  },
  {
   "cell_type": "code",
   "execution_count": null,
   "id": "ac10e029",
   "metadata": {},
   "outputs": [],
   "source": []
  },
  {
   "cell_type": "code",
   "execution_count": null,
   "id": "ad842904",
   "metadata": {},
   "outputs": [],
   "source": []
  },
  {
   "cell_type": "code",
   "execution_count": null,
   "id": "4e2a6846",
   "metadata": {},
   "outputs": [],
   "source": []
  },
  {
   "cell_type": "code",
   "execution_count": null,
   "id": "e54458f9",
   "metadata": {},
   "outputs": [],
   "source": []
  },
  {
   "cell_type": "code",
   "execution_count": null,
   "id": "15a87681",
   "metadata": {},
   "outputs": [],
   "source": []
  }
 ],
 "metadata": {
  "kernelspec": {
   "display_name": "Python 3 (ipykernel)",
   "language": "python",
   "name": "python3"
  },
  "language_info": {
   "codemirror_mode": {
    "name": "ipython",
    "version": 3
   },
   "file_extension": ".py",
   "mimetype": "text/x-python",
   "name": "python",
   "nbconvert_exporter": "python",
   "pygments_lexer": "ipython3",
   "version": "3.9.12"
  }
 },
 "nbformat": 4,
 "nbformat_minor": 5
}
