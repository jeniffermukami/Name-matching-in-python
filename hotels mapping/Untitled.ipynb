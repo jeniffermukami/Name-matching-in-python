{
 "cells": [
  {
   "cell_type": "code",
   "execution_count": 1,
   "id": "aed6af49",
   "metadata": {},
   "outputs": [],
   "source": [
    "import pandas as pd"
   ]
  },
  {
   "cell_type": "code",
   "execution_count": 2,
   "id": "483fac62",
   "metadata": {},
   "outputs": [],
   "source": [
    "hotels4 = pd.read_csv('hotels4.csv')"
   ]
  },
  {
   "cell_type": "code",
   "execution_count": 5,
   "id": "f6e6b78e",
   "metadata": {},
   "outputs": [],
   "source": [
    "hotels=pd.read_csv('Hotel Location.csv',encoding='latin1')\n"
   ]
  },
  {
   "cell_type": "code",
   "execution_count": 9,
   "id": "1e56ed42",
   "metadata": {},
   "outputs": [
    {
     "data": {
      "text/html": [
       "<div>\n",
       "<style scoped>\n",
       "    .dataframe tbody tr th:only-of-type {\n",
       "        vertical-align: middle;\n",
       "    }\n",
       "\n",
       "    .dataframe tbody tr th {\n",
       "        vertical-align: top;\n",
       "    }\n",
       "\n",
       "    .dataframe thead th {\n",
       "        text-align: right;\n",
       "    }\n",
       "</style>\n",
       "<table border=\"1\" class=\"dataframe\">\n",
       "  <thead>\n",
       "    <tr style=\"text-align: right;\">\n",
       "      <th></th>\n",
       "      <th>Name</th>\n",
       "      <th>Address1</th>\n",
       "      <th>Address2</th>\n",
       "      <th>City</th>\n",
       "      <th>StateProvince</th>\n",
       "      <th>PostalCode</th>\n",
       "      <th>Country</th>\n",
       "      <th>Latitude</th>\n",
       "      <th>Longitude</th>\n",
       "      <th>AirportCode</th>\n",
       "      <th>PropertyCurrency</th>\n",
       "      <th>StarRating</th>\n",
       "      <th>Location</th>\n",
       "    </tr>\n",
       "  </thead>\n",
       "  <tbody>\n",
       "    <tr>\n",
       "      <th>93067</th>\n",
       "      <td>Microtel Inn by Wyndham Champaign</td>\n",
       "      <td>1615 Rion Drive</td>\n",
       "      <td>NaN</td>\n",
       "      <td>Champaign</td>\n",
       "      <td>IL</td>\n",
       "      <td>61822</td>\n",
       "      <td>US</td>\n",
       "      <td>40.15968</td>\n",
       "      <td>-88.27357</td>\n",
       "      <td>CMI</td>\n",
       "      <td>USD</td>\n",
       "      <td>2.0</td>\n",
       "      <td>In the city center</td>\n",
       "    </tr>\n",
       "    <tr>\n",
       "      <th>4003</th>\n",
       "      <td>Americas Best Value Inn</td>\n",
       "      <td>501 Virginia Rd</td>\n",
       "      <td>Us-17 Bypass &amp; Rt.32 Exit#227</td>\n",
       "      <td>Edenton</td>\n",
       "      <td>NC</td>\n",
       "      <td>27932</td>\n",
       "      <td>US</td>\n",
       "      <td>36.07952</td>\n",
       "      <td>-76.61981</td>\n",
       "      <td>PGV</td>\n",
       "      <td>USD</td>\n",
       "      <td>2.0</td>\n",
       "      <td>Near Cupola House Association</td>\n",
       "    </tr>\n",
       "  </tbody>\n",
       "</table>\n",
       "</div>"
      ],
      "text/plain": [
       "                                    Name         Address1  \\\n",
       "93067  Microtel Inn by Wyndham Champaign  1615 Rion Drive   \n",
       "4003             Americas Best Value Inn  501 Virginia Rd   \n",
       "\n",
       "                            Address2       City StateProvince PostalCode  \\\n",
       "93067                            NaN  Champaign            IL      61822   \n",
       "4003   Us-17 Bypass & Rt.32 Exit#227    Edenton            NC      27932   \n",
       "\n",
       "      Country  Latitude  Longitude AirportCode PropertyCurrency  StarRating  \\\n",
       "93067      US  40.15968  -88.27357         CMI              USD         2.0   \n",
       "4003       US  36.07952  -76.61981         PGV              USD         2.0   \n",
       "\n",
       "                            Location  \n",
       "93067             In the city center  \n",
       "4003   Near Cupola House Association  "
      ]
     },
     "execution_count": 9,
     "metadata": {},
     "output_type": "execute_result"
    }
   ],
   "source": [
    "hotels.sample(2)"
   ]
  },
  {
   "cell_type": "code",
   "execution_count": 10,
   "id": "ceec03d7",
   "metadata": {},
   "outputs": [
    {
     "data": {
      "text/html": [
       "<div>\n",
       "<style scoped>\n",
       "    .dataframe tbody tr th:only-of-type {\n",
       "        vertical-align: middle;\n",
       "    }\n",
       "\n",
       "    .dataframe tbody tr th {\n",
       "        vertical-align: top;\n",
       "    }\n",
       "\n",
       "    .dataframe thead th {\n",
       "        text-align: right;\n",
       "    }\n",
       "</style>\n",
       "<table border=\"1\" class=\"dataframe\">\n",
       "  <thead>\n",
       "    <tr style=\"text-align: right;\">\n",
       "      <th></th>\n",
       "      <th>scraped_url</th>\n",
       "      <th>agency_slug</th>\n",
       "      <th>country</th>\n",
       "      <th>title</th>\n",
       "      <th>description</th>\n",
       "      <th>inclusions</th>\n",
       "      <th>hotel_name</th>\n",
       "      <th>hotel_mapped</th>\n",
       "      <th>domain</th>\n",
       "      <th>hotels_new</th>\n",
       "      <th>value</th>\n",
       "    </tr>\n",
       "  </thead>\n",
       "  <tbody>\n",
       "    <tr>\n",
       "      <th>0</th>\n",
       "      <td>https://www.flightcentre.co.za/product/14197346</td>\n",
       "      <td>flightcentre</td>\n",
       "      <td>maldives</td>\n",
       "      <td>Adaaran Select Meedhupparu</td>\n",
       "      <td>\\nYour Maldives Holiday Package includes:\\nRet...</td>\n",
       "      <td>\\nYour Maldives Holiday Package includes:\\n\\nR...</td>\n",
       "      <td>NaN</td>\n",
       "      <td>NaN</td>\n",
       "      <td>flightcentre</td>\n",
       "      <td>Adaaran Select Meedhupparu</td>\n",
       "      <td>NaN</td>\n",
       "    </tr>\n",
       "    <tr>\n",
       "      <th>1</th>\n",
       "      <td>https://www.flightcentre.co.za/product/5415249</td>\n",
       "      <td>flightcentre</td>\n",
       "      <td>south africa</td>\n",
       "      <td>Family Fun on the Wild Coast</td>\n",
       "      <td>\\nYour Eastern Cape Holiday Package includes:\\...</td>\n",
       "      <td>\\nYour Eastern Cape Holiday Package includes:\\...</td>\n",
       "      <td>NaN</td>\n",
       "      <td>NaN</td>\n",
       "      <td>flightcentre</td>\n",
       "      <td>Wild Coast Sun</td>\n",
       "      <td>NaN</td>\n",
       "    </tr>\n",
       "  </tbody>\n",
       "</table>\n",
       "</div>"
      ],
      "text/plain": [
       "                                       scraped_url   agency_slug  \\\n",
       "0  https://www.flightcentre.co.za/product/14197346  flightcentre   \n",
       "1   https://www.flightcentre.co.za/product/5415249  flightcentre   \n",
       "\n",
       "        country                         title  \\\n",
       "0      maldives    Adaaran Select Meedhupparu   \n",
       "1  south africa  Family Fun on the Wild Coast   \n",
       "\n",
       "                                         description  \\\n",
       "0  \\nYour Maldives Holiday Package includes:\\nRet...   \n",
       "1  \\nYour Eastern Cape Holiday Package includes:\\...   \n",
       "\n",
       "                                          inclusions hotel_name  hotel_mapped  \\\n",
       "0  \\nYour Maldives Holiday Package includes:\\n\\nR...        NaN           NaN   \n",
       "1  \\nYour Eastern Cape Holiday Package includes:\\...        NaN           NaN   \n",
       "\n",
       "         domain                  hotels_new value  \n",
       "0  flightcentre  Adaaran Select Meedhupparu   NaN  \n",
       "1  flightcentre              Wild Coast Sun   NaN  "
      ]
     },
     "execution_count": 10,
     "metadata": {},
     "output_type": "execute_result"
    }
   ],
   "source": [
    "hotels4.head(2)"
   ]
  },
  {
   "cell_type": "code",
   "execution_count": 13,
   "id": "8f186344",
   "metadata": {},
   "outputs": [],
   "source": [
    "hotels5 = hotels4.drop(['agency_slug','country','title','description','inclusions','hotel_name','hotel_mapped','domain','value','scraped_url'], axis=1)\n"
   ]
  },
  {
   "cell_type": "code",
   "execution_count": 15,
   "id": "adeece7a",
   "metadata": {
    "scrolled": false
   },
   "outputs": [
    {
     "data": {
      "text/html": [
       "<div>\n",
       "<style scoped>\n",
       "    .dataframe tbody tr th:only-of-type {\n",
       "        vertical-align: middle;\n",
       "    }\n",
       "\n",
       "    .dataframe tbody tr th {\n",
       "        vertical-align: top;\n",
       "    }\n",
       "\n",
       "    .dataframe thead th {\n",
       "        text-align: right;\n",
       "    }\n",
       "</style>\n",
       "<table border=\"1\" class=\"dataframe\">\n",
       "  <thead>\n",
       "    <tr style=\"text-align: right;\">\n",
       "      <th></th>\n",
       "      <th>hotels_new</th>\n",
       "    </tr>\n",
       "  </thead>\n",
       "  <tbody>\n",
       "    <tr>\n",
       "      <th>4575</th>\n",
       "      <td>Cruise Japan with Holland America</td>\n",
       "    </tr>\n",
       "    <tr>\n",
       "      <th>5831</th>\n",
       "      <td>Riu Palace Zanzibar</td>\n",
       "    </tr>\n",
       "    <tr>\n",
       "      <th>162</th>\n",
       "      <td>Cathedral Peak Hotel  Drakensberg</td>\n",
       "    </tr>\n",
       "    <tr>\n",
       "      <th>3961</th>\n",
       "      <td>12 Night South Africa &amp; Namibia Cruise</td>\n",
       "    </tr>\n",
       "    <tr>\n",
       "      <th>3507</th>\n",
       "      <td>veranda pointe aux biches</td>\n",
       "    </tr>\n",
       "  </tbody>\n",
       "</table>\n",
       "</div>"
      ],
      "text/plain": [
       "                                  hotels_new\n",
       "4575       Cruise Japan with Holland America\n",
       "5831                    Riu Palace Zanzibar \n",
       "162       Cathedral Peak Hotel  Drakensberg\n",
       "3961  12 Night South Africa & Namibia Cruise\n",
       "3507               veranda pointe aux biches"
      ]
     },
     "execution_count": 15,
     "metadata": {},
     "output_type": "execute_result"
    }
   ],
   "source": [
    "hotels5.sample(5)"
   ]
  },
  {
   "cell_type": "code",
   "execution_count": 28,
   "id": "60facafe",
   "metadata": {},
   "outputs": [],
   "source": [
    "hotels6 = hotels5.dropna()"
   ]
  },
  {
   "cell_type": "code",
   "execution_count": 16,
   "id": "5579bfcf",
   "metadata": {
    "scrolled": false
   },
   "outputs": [
    {
     "name": "stderr",
     "output_type": "stream",
     "text": [
      "C:\\Users\\user\\anaconda3\\lib\\site-packages\\fuzzywuzzy\\fuzz.py:11: UserWarning: Using slow pure-python SequenceMatcher. Install python-Levenshtein to remove this warning\n",
      "  warnings.warn('Using slow pure-python SequenceMatcher. Install python-Levenshtein to remove this warning')\n"
     ]
    }
   ],
   "source": [
    "from fuzzywuzzy import fuzz\n",
    "from fuzzywuzzy import process"
   ]
  },
  {
   "cell_type": "code",
   "execution_count": 17,
   "id": "ffa9cc0b",
   "metadata": {},
   "outputs": [],
   "source": [
    "names = list(hotels['Name'])"
   ]
  },
  {
   "cell_type": "code",
   "execution_count": 20,
   "id": "1de3185e",
   "metadata": {
    "scrolled": true
   },
   "outputs": [
    {
     "data": {
      "text/plain": [
       "('Veranda Pointe Aux Biches Hotel', 95)"
      ]
     },
     "execution_count": 20,
     "metadata": {},
     "output_type": "execute_result"
    }
   ],
   "source": [
    "process.extractOne('veranda pointe aux biches', names)"
   ]
  },
  {
   "cell_type": "code",
   "execution_count": 22,
   "id": "52b7ae7c",
   "metadata": {},
   "outputs": [
    {
     "name": "stderr",
     "output_type": "stream",
     "text": [
      "ERROR: Invalid requirement: '#'\n"
     ]
    }
   ],
   "source": [
    "import re\n",
    "!pip install ftfy # amazing text cleaning for decode issues..\n",
    "from ftfy import fix_text\n",
    "\n",
    "def ngrams(string, n=3):\n",
    "    string = str(string)\n",
    "    string = fix_text(string) # fix text\n",
    "    string = string.encode(\"ascii\", errors=\"ignore\").decode() #remove non ascii chars\n",
    "    string = string.lower()\n",
    "    chars_to_remove = [\")\",\"(\",\".\",\"|\",\"[\",\"]\",\"{\",\"}\",\"'\"]\n",
    "    rx = '[' + re.escape(''.join(chars_to_remove)) + ']'\n",
    "    string = re.sub(rx, '', string)\n",
    "    string = string.replace('&', 'and')\n",
    "    string = string.replace(',', ' ')\n",
    "    string = string.replace('-', ' ')\n",
    "    string = string.title() # normalise case - capital at start of each word\n",
    "    string = re.sub(' +',' ',string).strip() # get rid of multiple spaces and replace with a single\n",
    "    string = ' '+ string +' ' # pad names for ngrams...\n",
    "    string = re.sub(r'[,-./]|\\sBD',r'', string)\n",
    "    ngrams = zip(*[string[i:] for i in range(n)])\n",
    "    return [''.join(ngram) for ngram in ngrams]"
   ]
  },
  {
   "cell_type": "code",
   "execution_count": 23,
   "id": "b02a92bf",
   "metadata": {},
   "outputs": [
    {
     "name": "stderr",
     "output_type": "stream",
     "text": [
      "ERROR: Invalid requirement: '#uncomment'\n"
     ]
    }
   ],
   "source": [
    "import numpy as np\n",
    "from scipy.sparse import csr_matrix\n",
    "!pip install sparse_dot_topn #uncomment to install\n",
    "import sparse_dot_topn.sparse_dot_topn as ct\n",
    "\n",
    "\n",
    "def awesome_cossim_top(A, B, ntop, lower_bound=0):\n",
    "    # force A and B as a CSR matrix.\n",
    "    # If they have already been CSR, there is no overhead\n",
    "    A = A.tocsr()\n",
    "    B = B.tocsr()\n",
    "    M, _ = A.shape\n",
    "    _, N = B.shape\n",
    " \n",
    "    idx_dtype = np.int32\n",
    " \n",
    "    nnz_max = M*ntop\n",
    " \n",
    "    indptr = np.zeros(M+1, dtype=idx_dtype)\n",
    "    indices = np.zeros(nnz_max, dtype=idx_dtype)\n",
    "    data = np.zeros(nnz_max, dtype=A.dtype)\n",
    "\n",
    "    ct.sparse_dot_topn(\n",
    "        M, N, np.asarray(A.indptr, dtype=idx_dtype),\n",
    "        np.asarray(A.indices, dtype=idx_dtype),\n",
    "        A.data,\n",
    "        np.asarray(B.indptr, dtype=idx_dtype),\n",
    "        np.asarray(B.indices, dtype=idx_dtype),\n",
    "        B.data,\n",
    "        ntop,\n",
    "        lower_bound,\n",
    "        indptr, indices, data)\n",
    "\n",
    "    return csr_matrix((data,indices,indptr),shape=(M,N))"
   ]
  },
  {
   "cell_type": "code",
   "execution_count": 24,
   "id": "d75c8759",
   "metadata": {},
   "outputs": [],
   "source": [
    "from sklearn.feature_extraction.text import TfidfVectorizer\n",
    "\n",
    "org_names = hotels['Name'].unique()\n",
    "vectorizer = TfidfVectorizer(min_df=1, analyzer=ngrams)\n",
    "tf_idf_matrix = vectorizer.fit_transform(org_names)"
   ]
  },
  {
   "cell_type": "code",
   "execution_count": 29,
   "id": "ee022757",
   "metadata": {},
   "outputs": [],
   "source": [
    "org_names1 = hotels6['hotels_new']\n",
    "vectorizer = TfidfVectorizer(min_df=1, analyzer=ngrams)\n",
    "tf_idf_matrix1 = vectorizer.fit_transform(org_names1)"
   ]
  },
  {
   "cell_type": "code",
   "execution_count": null,
   "id": "98697191",
   "metadata": {},
   "outputs": [],
   "source": [
    "import time\n",
    "t1 = time.time()\n",
    "matches = awesome_cossim_top(tf_idf_matrix, tf_idf_matrix1, 10, 0.85)\n",
    "t = time.time()-t1\n",
    "print(\"SELFTIMED:\", t)"
   ]
  },
  {
   "cell_type": "code",
   "execution_count": 25,
   "id": "9e79b081",
   "metadata": {},
   "outputs": [],
   "source": [
    "def get_matches_df(sparse_matrix, name_vector, top=100):\n",
    "    non_zeros = sparse_matrix.nonzero()\n",
    "    \n",
    "    sparserows = non_zeros[0]\n",
    "    sparsecols = non_zeros[1]\n",
    "    \n",
    "    if top:\n",
    "        nr_matches = top\n",
    "    else:\n",
    "        nr_matches = sparsecols.size\n",
    "    \n",
    "    left_side = np.empty([nr_matches], dtype=object)\n",
    "    right_side = np.empty([nr_matches], dtype=object)\n",
    "    similairity = np.zeros(nr_matches)\n",
    "    \n",
    "    for index in range(0, nr_matches):\n",
    "        left_side[index] = name_vector[sparserows[index]]\n",
    "        right_side[index] = name_vector[sparsecols[index]]\n",
    "        similairity[index] = sparse_matrix.data[index]\n",
    "    \n",
    "    return pd.DataFrame({'left_side': left_side,\n",
    "                          'right_side': right_side,\n",
    "                           'similairity': similairity})"
   ]
  },
  {
   "cell_type": "code",
   "execution_count": 26,
   "id": "412472b9",
   "metadata": {},
   "outputs": [
    {
     "ename": "NameError",
     "evalue": "name 'matches' is not defined",
     "output_type": "error",
     "traceback": [
      "\u001b[1;31m---------------------------------------------------------------------------\u001b[0m",
      "\u001b[1;31mNameError\u001b[0m                                 Traceback (most recent call last)",
      "Input \u001b[1;32mIn [26]\u001b[0m, in \u001b[0;36m<cell line: 1>\u001b[1;34m()\u001b[0m\n\u001b[1;32m----> 1\u001b[0m matches_df \u001b[38;5;241m=\u001b[39m get_matches_df(\u001b[43mmatches\u001b[49m, org_names, top\u001b[38;5;241m=\u001b[39m\u001b[38;5;241m1000\u001b[39m)\n\u001b[0;32m      2\u001b[0m matches_df \u001b[38;5;241m=\u001b[39m matches_df[matches_df[\u001b[38;5;124m'\u001b[39m\u001b[38;5;124msimilairity\u001b[39m\u001b[38;5;124m'\u001b[39m] \u001b[38;5;241m<\u001b[39m \u001b[38;5;241m0.99999\u001b[39m] \u001b[38;5;66;03m# Remove all exact matches\u001b[39;00m\n\u001b[0;32m      3\u001b[0m matches_df\u001b[38;5;241m.\u001b[39msample(\u001b[38;5;241m20\u001b[39m)\n",
      "\u001b[1;31mNameError\u001b[0m: name 'matches' is not defined"
     ]
    }
   ],
   "source": [
    "matches_df = get_matches_df(matches, org_names, top=1000)\n",
    "matches_df = matches_df[matches_df['similairity'] < 0.99999] # Remove all exact matches\n",
    "matches_df.sample(20)"
   ]
  }
 ],
 "metadata": {
  "kernelspec": {
   "display_name": "Python 3 (ipykernel)",
   "language": "python",
   "name": "python3"
  },
  "language_info": {
   "codemirror_mode": {
    "name": "ipython",
    "version": 3
   },
   "file_extension": ".py",
   "mimetype": "text/x-python",
   "name": "python",
   "nbconvert_exporter": "python",
   "pygments_lexer": "ipython3",
   "version": "3.9.12"
  }
 },
 "nbformat": 4,
 "nbformat_minor": 5
}
