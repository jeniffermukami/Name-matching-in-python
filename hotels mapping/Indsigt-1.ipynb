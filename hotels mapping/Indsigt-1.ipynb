{
 "cells": [
  {
   "cell_type": "markdown",
   "id": "f3652968",
   "metadata": {},
   "source": [
    "###### Importing the necessary module"
   ]
  },
  {
   "cell_type": "code",
   "execution_count": 2,
   "id": "35d9dff4",
   "metadata": {},
   "outputs": [],
   "source": [
    "import pandas as pd\n",
    "import re\n",
    "import string"
   ]
  },
  {
   "cell_type": "markdown",
   "id": "6d6eaade",
   "metadata": {},
   "source": [
    "##### reading the files\n"
   ]
  },
  {
   "cell_type": "code",
   "execution_count": 3,
   "id": "51c25cf3",
   "metadata": {},
   "outputs": [],
   "source": [
    "scraped= pd.read_csv('Hotel Location Table Mapping.csv',encoding='latin1')\n",
    "hotels=pd.read_csv('Hotel Location.csv',encoding='latin1')\n",
    "scraped_ngrams=pd.read_csv('submission.csv',encoding='latin1')\n",
    "\n",
    "old=pd.read_csv('old.csv',encoding='latin1')\n",
    "pivot=pd.read_csv('pivot.csv',encoding='latin1')"
   ]
  },
  {
   "cell_type": "code",
   "execution_count": 9,
   "id": "2fc96139",
   "metadata": {
    "scrolled": true
   },
   "outputs": [
    {
     "data": {
      "text/html": [
       "<div>\n",
       "<style scoped>\n",
       "    .dataframe tbody tr th:only-of-type {\n",
       "        vertical-align: middle;\n",
       "    }\n",
       "\n",
       "    .dataframe tbody tr th {\n",
       "        vertical-align: top;\n",
       "    }\n",
       "\n",
       "    .dataframe thead th {\n",
       "        text-align: right;\n",
       "    }\n",
       "</style>\n",
       "<table border=\"1\" class=\"dataframe\">\n",
       "  <thead>\n",
       "    <tr style=\"text-align: right;\">\n",
       "      <th></th>\n",
       "      <th>scraped_url</th>\n",
       "      <th>agency_slug</th>\n",
       "      <th>country</th>\n",
       "      <th>title</th>\n",
       "      <th>description</th>\n",
       "      <th>inclusions</th>\n",
       "      <th>hotel_name</th>\n",
       "      <th>hotel_mapped</th>\n",
       "    </tr>\n",
       "  </thead>\n",
       "  <tbody>\n",
       "    <tr>\n",
       "      <th>3233</th>\n",
       "      <td>https://www.holidayfactory.co.za/package/12868</td>\n",
       "      <td>holidayfactory</td>\n",
       "      <td>maldives</td>\n",
       "      <td>THE SUN SIYAM IRU FUSHI - 7 NIGHTS</td>\n",
       "      <td>25% discount included \\nDiscounted seaplane tr...</td>\n",
       "      <td>\\n\\n\\nReturn flights to the Maldives on Qatar\\...</td>\n",
       "      <td>sun siyam iru fushi</td>\n",
       "      <td>NaN</td>\n",
       "    </tr>\n",
       "    <tr>\n",
       "      <th>6011</th>\n",
       "      <td>https://www.pentravel.co.za/packages/cruise-th...</td>\n",
       "      <td>pentravel</td>\n",
       "      <td>spain</td>\n",
       "      <td>Cruise the Canary Islands onboard NCL</td>\n",
       "      <td>NaN</td>\n",
       "      <td>&lt;ul class=\"checklist\"&gt; &lt;li&gt;10 Nights accommoda...</td>\n",
       "      <td>NaN</td>\n",
       "      <td>NaN</td>\n",
       "    </tr>\n",
       "  </tbody>\n",
       "</table>\n",
       "</div>"
      ],
      "text/plain": [
       "                                            scraped_url     agency_slug  \\\n",
       "3233     https://www.holidayfactory.co.za/package/12868  holidayfactory   \n",
       "6011  https://www.pentravel.co.za/packages/cruise-th...       pentravel   \n",
       "\n",
       "       country                                  title  \\\n",
       "3233  maldives     THE SUN SIYAM IRU FUSHI - 7 NIGHTS   \n",
       "6011     spain  Cruise the Canary Islands onboard NCL   \n",
       "\n",
       "                                            description  \\\n",
       "3233  25% discount included \\nDiscounted seaplane tr...   \n",
       "6011                                                NaN   \n",
       "\n",
       "                                             inclusions           hotel_name  \\\n",
       "3233  \\n\\n\\nReturn flights to the Maldives on Qatar\\...  sun siyam iru fushi   \n",
       "6011  <ul class=\"checklist\"> <li>10 Nights accommoda...                  NaN   \n",
       "\n",
       "      hotel_mapped  \n",
       "3233           NaN  \n",
       "6011           NaN  "
      ]
     },
     "execution_count": 9,
     "metadata": {},
     "output_type": "execute_result"
    }
   ],
   "source": [
    "scraped.sample(2)"
   ]
  },
  {
   "cell_type": "markdown",
   "id": "19652053",
   "metadata": {},
   "source": [
    "The scraped data frame contains the scraped data from different agencies' websites.it contains seven columns and  8381 entries.The goalis to fill the hotel_mapped field which only contains null values,  with the a hotel name mapped from the hotels dataframe.The name should first be extracted from either the title,description or the inclusions column and then mapped to the right hotel name in the hotels table.\n",
    "\n",
    "We have also been provided with a *hotel_name* column which also contains extracted hotel names but has only 4524 non null values,leaving 3857 null values in the hotel_name column."
   ]
  },
  {
   "cell_type": "code",
   "execution_count": 11,
   "id": "a985530f",
   "metadata": {},
   "outputs": [
    {
     "data": {
      "text/html": [
       "<div>\n",
       "<style scoped>\n",
       "    .dataframe tbody tr th:only-of-type {\n",
       "        vertical-align: middle;\n",
       "    }\n",
       "\n",
       "    .dataframe tbody tr th {\n",
       "        vertical-align: top;\n",
       "    }\n",
       "\n",
       "    .dataframe thead th {\n",
       "        text-align: right;\n",
       "    }\n",
       "</style>\n",
       "<table border=\"1\" class=\"dataframe\">\n",
       "  <thead>\n",
       "    <tr style=\"text-align: right;\">\n",
       "      <th></th>\n",
       "      <th>Name</th>\n",
       "      <th>Address1</th>\n",
       "      <th>Address2</th>\n",
       "      <th>City</th>\n",
       "      <th>StateProvince</th>\n",
       "      <th>PostalCode</th>\n",
       "      <th>Country</th>\n",
       "      <th>Latitude</th>\n",
       "      <th>Longitude</th>\n",
       "      <th>AirportCode</th>\n",
       "      <th>PropertyCurrency</th>\n",
       "      <th>StarRating</th>\n",
       "      <th>Location</th>\n",
       "    </tr>\n",
       "  </thead>\n",
       "  <tbody>\n",
       "    <tr>\n",
       "      <th>96348</th>\n",
       "      <td>Mystic Marriott Hotel and Spa</td>\n",
       "      <td>625 North Rd</td>\n",
       "      <td>NaN</td>\n",
       "      <td>Groton</td>\n",
       "      <td>CT</td>\n",
       "      <td>6340</td>\n",
       "      <td>US</td>\n",
       "      <td>41.36485</td>\n",
       "      <td>-72.02673</td>\n",
       "      <td>PVD</td>\n",
       "      <td>USD</td>\n",
       "      <td>4.0</td>\n",
       "      <td>Near Bluff Point State Park</td>\n",
       "    </tr>\n",
       "    <tr>\n",
       "      <th>26542</th>\n",
       "      <td>Comfort Hotel Ulm Blaustein</td>\n",
       "      <td>Ulmer Strasse 4/1</td>\n",
       "      <td>NaN</td>\n",
       "      <td>Blaustein</td>\n",
       "      <td>NaN</td>\n",
       "      <td>89134</td>\n",
       "      <td>DE</td>\n",
       "      <td>48.42171</td>\n",
       "      <td>9.90652</td>\n",
       "      <td>STR</td>\n",
       "      <td>EUR</td>\n",
       "      <td>3.5</td>\n",
       "      <td>Near a train station</td>\n",
       "    </tr>\n",
       "  </tbody>\n",
       "</table>\n",
       "</div>"
      ],
      "text/plain": [
       "                                Name           Address1 Address2       City  \\\n",
       "96348  Mystic Marriott Hotel and Spa       625 North Rd      NaN     Groton   \n",
       "26542    Comfort Hotel Ulm Blaustein  Ulmer Strasse 4/1      NaN  Blaustein   \n",
       "\n",
       "      StateProvince PostalCode Country  Latitude  Longitude AirportCode  \\\n",
       "96348            CT       6340      US  41.36485  -72.02673         PVD   \n",
       "26542           NaN      89134      DE  48.42171    9.90652         STR   \n",
       "\n",
       "      PropertyCurrency  StarRating                     Location  \n",
       "96348              USD         4.0  Near Bluff Point State Park  \n",
       "26542              EUR         3.5         Near a train station  "
      ]
     },
     "execution_count": 11,
     "metadata": {},
     "output_type": "execute_result"
    }
   ],
   "source": [
    "hotels.sample(2)"
   ]
  },
  {
   "cell_type": "markdown",
   "id": "484bb567",
   "metadata": {},
   "source": [
    "The hotels table contains the correct names and locations of the hotels"
   ]
  },
  {
   "cell_type": "code",
   "execution_count": 14,
   "id": "6672e890",
   "metadata": {},
   "outputs": [],
   "source": [
    "def clean_text(text):\n",
    "    \"\"\"\n",
    "    This function uses regular expressions to \n",
    "        - remove links characters\n",
    "        - remove html characters,\n",
    "        - remove escape sequences,\n",
    "        - remove capitalization,\n",
    "        - any extra white space from each text and then converts them to lowercase.\n",
    "\n",
    "    Input:\n",
    "    text: original text\n",
    "          datatype: string\n",
    "\n",
    "    Output:\n",
    "    texts: modified text\n",
    "           datatype: string\n",
    "    \"\"\"\n",
    "    # replace links with url-web\n",
    "    pattern_url = 'http[s]?://(?:[A-Za-z]|[0-9]|[$-_@.&+]|[!*\\(\\),]|(?:%[0-9A-Fa-f][0-9A-Fa-f]))+'\n",
    "    subs_url = 'url-web'\n",
    "    text = re.sub(pattern_url, subs_url, text)\n",
    "    # replace the html characters with \" \"\n",
    "    text = re.sub('<.*?>#()&', ' ', text)\n",
    "    text = re.sub('&', ' ', text)\n",
    "#     text = re.sub('(', ' ', text)\n",
    "#     text = re.sub(')', ' ', text)\n",
    "    \n",
    "    text=re.sub('Nan', ' ', text)\n",
    "    # replace escape sequence with space\n",
    "    escape_seq = [\"\\r\", \"\\n\",'\\a', '\\b', '\\f', \"\\`\", '\\”', '\\t']\n",
    "    for i in escape_seq:\n",
    "        text = re.sub(i, \" \", text)\n",
    "    # Remove Capitalization\n",
    "    text = text.lower()\n",
    "    # plit and join the words\n",
    "    text=' '.join(text.split())\n",
    "    \n",
    "    return text"
   ]
  },
  {
   "cell_type": "code",
   "execution_count": 15,
   "id": "84c1bccb",
   "metadata": {},
   "outputs": [],
   "source": [
    "def clean(text):\n",
    "    \n",
    "    # removing paragraph numbers\n",
    "    text = re.sub('[0-9]+.\\t','',str(text))\n",
    "    # removing new line characters\n",
    "    text = re.sub('\\n ','',str(text))\n",
    "    text = re.sub('\\n',' ',str(text))\n",
    "    # removing apostrophes\n",
    "    text = re.sub(\"'s\",'',str(text))\n",
    "    # removing hyphens\n",
    "    text = re.sub(\"#\",' ',str(text))\n",
    "    text = re.sub(\"@\",'',str(text))\n",
    "    \n",
    "    # removing quotation marks\n",
    "    text = re.sub('\\\"','',str(text))\n",
    "    # removing salutations\n",
    "    text = re.sub(\"Mr\\.\",'Mr',str(text))\n",
    "    text = re.sub(\"Mrs\\.\",'Mrs',str(text))\n",
    "    # removing any reference to outside text\n",
    "    text = re.sub(\"[\\(\\[].*?[\\)\\]]#\", \"\", str(text))\n",
    "    \n",
    "    return text"
   ]
  },
  {
   "cell_type": "markdown",
   "id": "fb0b287a",
   "metadata": {},
   "source": [
    "The first step was to select only the rows that contained null values in the hotel_name column to easen the task."
   ]
  },
  {
   "cell_type": "code",
   "execution_count": 12,
   "id": "2eac5f0a",
   "metadata": {},
   "outputs": [],
   "source": [
    "selected_rows = scraped[scraped['hotel_name'].isnull()]"
   ]
  },
  {
   "cell_type": "code",
   "execution_count": 13,
   "id": "37401b2e",
   "metadata": {
    "scrolled": true
   },
   "outputs": [
    {
     "name": "stdout",
     "output_type": "stream",
     "text": [
      "<class 'pandas.core.frame.DataFrame'>\n",
      "Int64Index: 3857 entries, 0 to 8380\n",
      "Data columns (total 8 columns):\n",
      " #   Column        Non-Null Count  Dtype  \n",
      "---  ------        --------------  -----  \n",
      " 0   scraped_url   3855 non-null   object \n",
      " 1   agency_slug   3855 non-null   object \n",
      " 2   country       3557 non-null   object \n",
      " 3   title         3855 non-null   object \n",
      " 4   description   2193 non-null   object \n",
      " 5   inclusions    2486 non-null   object \n",
      " 6   hotel_name    0 non-null      object \n",
      " 7   hotel_mapped  0 non-null      float64\n",
      "dtypes: float64(1), object(7)\n",
      "memory usage: 271.2+ KB\n"
     ]
    },
    {
     "data": {
      "text/plain": [
       "None"
      ]
     },
     "metadata": {},
     "output_type": "display_data"
    }
   ],
   "source": [
    "display(selected_rows.info())"
   ]
  },
  {
   "cell_type": "code",
   "execution_count": 16,
   "id": "e4a53440",
   "metadata": {
    "scrolled": true
   },
   "outputs": [
    {
     "name": "stdout",
     "output_type": "stream",
     "text": [
      "<class 'pandas.core.frame.DataFrame'>\n",
      "RangeIndex: 8381 entries, 0 to 8380\n",
      "Data columns (total 8 columns):\n",
      " #   Column        Non-Null Count  Dtype  \n",
      "---  ------        --------------  -----  \n",
      " 0   scraped_url   8379 non-null   object \n",
      " 1   agency_slug   8379 non-null   object \n",
      " 2   country       7992 non-null   object \n",
      " 3   title         8379 non-null   object \n",
      " 4   description   5270 non-null   object \n",
      " 5   inclusions    6884 non-null   object \n",
      " 6   hotel_name    4524 non-null   object \n",
      " 7   hotel_mapped  0 non-null      float64\n",
      "dtypes: float64(1), object(7)\n",
      "memory usage: 523.9+ KB\n"
     ]
    },
    {
     "data": {
      "text/plain": [
       "None"
      ]
     },
     "metadata": {},
     "output_type": "display_data"
    }
   ],
   "source": [
    "display(scraped.info())"
   ]
  },
  {
   "cell_type": "code",
   "execution_count": 17,
   "id": "5c3b2adb",
   "metadata": {
    "scrolled": true
   },
   "outputs": [
    {
     "name": "stderr",
     "output_type": "stream",
     "text": [
      "C:\\Users\\user\\AppData\\Local\\Temp\\ipykernel_22012\\1967922270.py:2: SettingWithCopyWarning: \n",
      "A value is trying to be set on a copy of a slice from a DataFrame.\n",
      "Try using .loc[row_indexer,col_indexer] = value instead\n",
      "\n",
      "See the caveats in the documentation: https://pandas.pydata.org/pandas-docs/stable/user_guide/indexing.html#returning-a-view-versus-a-copy\n",
      "  nonselected_rows['hotels_new'] = nonselected_rows['hotel_name']\n"
     ]
    }
   ],
   "source": [
    "nonselected_rows = scraped[scraped['hotel_name'].notnull()]\n",
    "nonselected_rows['hotels_new'] = nonselected_rows['hotel_name']"
   ]
  },
  {
   "cell_type": "code",
   "execution_count": null,
   "id": "591b4365",
   "metadata": {},
   "outputs": [],
   "source": [
    "display(nonselected_rows.info())"
   ]
  },
  {
   "cell_type": "code",
   "execution_count": 18,
   "id": "0e8b5616",
   "metadata": {},
   "outputs": [],
   "source": [
    "def remove_punctuation(post):\n",
    "    return ''.join([l for l in post if l not in string.punctuation])"
   ]
  },
  {
   "cell_type": "code",
   "execution_count": 19,
   "id": "e0917504",
   "metadata": {},
   "outputs": [],
   "source": [
    "scraped['description'] = scraped['description'].astype(str).apply(clean_text)\n",
    "scraped['description'] = scraped['description'].astype(str).apply(remove_punctuation)"
   ]
  },
  {
   "cell_type": "code",
   "execution_count": 20,
   "id": "791bd58e",
   "metadata": {},
   "outputs": [],
   "source": [
    "def domain_name(url):\n",
    "    return url.split(\"www.\")[-1].split(\"//\")[-1].split(\".\")[0]"
   ]
  },
  {
   "cell_type": "code",
   "execution_count": 21,
   "id": "cfc79b06",
   "metadata": {},
   "outputs": [
    {
     "name": "stderr",
     "output_type": "stream",
     "text": [
      "C:\\Users\\user\\AppData\\Local\\Temp\\ipykernel_22012\\3696863612.py:1: SettingWithCopyWarning: \n",
      "A value is trying to be set on a copy of a slice from a DataFrame.\n",
      "Try using .loc[row_indexer,col_indexer] = value instead\n",
      "\n",
      "See the caveats in the documentation: https://pandas.pydata.org/pandas-docs/stable/user_guide/indexing.html#returning-a-view-versus-a-copy\n",
      "  selected_rows['domain'] =selected_rows['scraped_url'].astype(str).apply(domain_name)\n"
     ]
    }
   ],
   "source": [
    "selected_rows['domain'] =selected_rows['scraped_url'].astype(str).apply(domain_name)"
   ]
  },
  {
   "cell_type": "code",
   "execution_count": 22,
   "id": "e56e8f1b",
   "metadata": {},
   "outputs": [],
   "source": [
    "type_labels = list(selected_rows.domain.unique())"
   ]
  },
  {
   "cell_type": "code",
   "execution_count": 23,
   "id": "2f5f35d2",
   "metadata": {},
   "outputs": [],
   "source": [
    "neew = selected_rows.loc[selected_rows['domain']=='igotravel']"
   ]
  },
  {
   "cell_type": "code",
   "execution_count": 24,
   "id": "f10a7d40",
   "metadata": {},
   "outputs": [
    {
     "data": {
      "text/html": [
       "<div>\n",
       "<style scoped>\n",
       "    .dataframe tbody tr th:only-of-type {\n",
       "        vertical-align: middle;\n",
       "    }\n",
       "\n",
       "    .dataframe tbody tr th {\n",
       "        vertical-align: top;\n",
       "    }\n",
       "\n",
       "    .dataframe thead th {\n",
       "        text-align: right;\n",
       "    }\n",
       "</style>\n",
       "<table border=\"1\" class=\"dataframe\">\n",
       "  <thead>\n",
       "    <tr style=\"text-align: right;\">\n",
       "      <th></th>\n",
       "      <th>scraped_url</th>\n",
       "      <th>agency_slug</th>\n",
       "      <th>country</th>\n",
       "      <th>title</th>\n",
       "      <th>description</th>\n",
       "      <th>inclusions</th>\n",
       "      <th>hotel_name</th>\n",
       "      <th>hotel_mapped</th>\n",
       "      <th>domain</th>\n",
       "    </tr>\n",
       "  </thead>\n",
       "  <tbody>\n",
       "    <tr>\n",
       "      <th>409</th>\n",
       "      <td>https://www.igotravel.co.za/holidays/kandima-m...</td>\n",
       "      <td>igotravel</td>\n",
       "      <td>maldives</td>\n",
       "      <td>Kandima Maldives</td>\n",
       "      <td>&lt;div class=\"woocommerce-product-details__short...</td>\n",
       "      <td>&lt;div class=\"blck col-sm-6\"&gt;\\n&lt;h3 class=\"blck-t...</td>\n",
       "      <td>NaN</td>\n",
       "      <td>NaN</td>\n",
       "      <td>igotravel</td>\n",
       "    </tr>\n",
       "    <tr>\n",
       "      <th>305</th>\n",
       "      <td>https://www.igotravel.co.za/holidays/mont-roch...</td>\n",
       "      <td>igotravel</td>\n",
       "      <td>south africa</td>\n",
       "      <td>Mont Rochelle Vineyard Hotel &amp; Spa, Western Cape</td>\n",
       "      <td>&lt;div class=\"woocommerce-product-details__short...</td>\n",
       "      <td>&lt;div class=\"blck col-sm-6\"&gt;\\n&lt;h3 class=\"blck-t...</td>\n",
       "      <td>NaN</td>\n",
       "      <td>NaN</td>\n",
       "      <td>igotravel</td>\n",
       "    </tr>\n",
       "    <tr>\n",
       "      <th>466</th>\n",
       "      <td>https://www.igotravel.co.za/holidays/cathedral...</td>\n",
       "      <td>igotravel</td>\n",
       "      <td>united states</td>\n",
       "      <td>Cathedral Peak Hotel  Drakensberg</td>\n",
       "      <td>&lt;div class=\"woocommerce-product-details__short...</td>\n",
       "      <td>&lt;div class=\"blck col-sm-6\"&gt;\\n&lt;h3 class=\"blck-t...</td>\n",
       "      <td>NaN</td>\n",
       "      <td>NaN</td>\n",
       "      <td>igotravel</td>\n",
       "    </tr>\n",
       "    <tr>\n",
       "      <th>598</th>\n",
       "      <td>https://www.igotravel.co.za/holidays/victoria-...</td>\n",
       "      <td>igotravel</td>\n",
       "      <td>zambia</td>\n",
       "      <td>Victoria Falls Safari Lodge</td>\n",
       "      <td>&lt;div class=\"woocommerce-product-details__short...</td>\n",
       "      <td>&lt;div class=\"blck col-sm-6\"&gt;\\n&lt;h3 class=\"blck-t...</td>\n",
       "      <td>NaN</td>\n",
       "      <td>NaN</td>\n",
       "      <td>igotravel</td>\n",
       "    </tr>\n",
       "    <tr>\n",
       "      <th>566</th>\n",
       "      <td>https://www.igotravel.co.za/holidays/egyptian-...</td>\n",
       "      <td>igotravel</td>\n",
       "      <td>egypt</td>\n",
       "      <td>Egyptian Express for families</td>\n",
       "      <td>&lt;div class=\"woocommerce-product-details__short...</td>\n",
       "      <td>&lt;div class=\"blck col-sm-6\"&gt;\\n&lt;h3 class=\"blck-t...</td>\n",
       "      <td>NaN</td>\n",
       "      <td>NaN</td>\n",
       "      <td>igotravel</td>\n",
       "    </tr>\n",
       "    <tr>\n",
       "      <th>313</th>\n",
       "      <td>https://www.igotravel.co.za/holidays/club-med-...</td>\n",
       "      <td>igotravel</td>\n",
       "      <td>seychelles</td>\n",
       "      <td>Club Med Seychelles</td>\n",
       "      <td>&lt;div class=\"woocommerce-product-details__short...</td>\n",
       "      <td>&lt;div class=\"blck col-sm-6\"&gt;\\n&lt;h3 class=\"blck-t...</td>\n",
       "      <td>NaN</td>\n",
       "      <td>NaN</td>\n",
       "      <td>igotravel</td>\n",
       "    </tr>\n",
       "    <tr>\n",
       "      <th>602</th>\n",
       "      <td>https://www.igotravel.co.za/holidays/royal-liv...</td>\n",
       "      <td>igotravel</td>\n",
       "      <td>zambia</td>\n",
       "      <td>Royal Livingstone Hotel</td>\n",
       "      <td>&lt;div class=\"woocommerce-product-details__short...</td>\n",
       "      <td>&lt;div class=\"blck col-sm-6\"&gt;\\n&lt;h3 class=\"blck-t...</td>\n",
       "      <td>NaN</td>\n",
       "      <td>NaN</td>\n",
       "      <td>igotravel</td>\n",
       "    </tr>\n",
       "    <tr>\n",
       "      <th>468</th>\n",
       "      <td>https://www.igotravel.co.za/holidays/head-over...</td>\n",
       "      <td>igotravel</td>\n",
       "      <td>south africa</td>\n",
       "      <td>Head over Hills, Knysna with Pezula Golf</td>\n",
       "      <td>&lt;div class=\"woocommerce-product-details__short...</td>\n",
       "      <td>&lt;div class=\"blck col-sm-6\"&gt;\\n&lt;h3 class=\"blck-t...</td>\n",
       "      <td>NaN</td>\n",
       "      <td>NaN</td>\n",
       "      <td>igotravel</td>\n",
       "    </tr>\n",
       "    <tr>\n",
       "      <th>528</th>\n",
       "      <td>https://www.igotravel.co.za/holidays/the-taj-c...</td>\n",
       "      <td>igotravel</td>\n",
       "      <td>south africa</td>\n",
       "      <td>The Taj, Cape Town Family Getaway</td>\n",
       "      <td>&lt;div class=\"woocommerce-product-details__short...</td>\n",
       "      <td>&lt;div class=\"blck col-sm-6\"&gt;\\n&lt;h3 class=\"blck-t...</td>\n",
       "      <td>NaN</td>\n",
       "      <td>NaN</td>\n",
       "      <td>igotravel</td>\n",
       "    </tr>\n",
       "    <tr>\n",
       "      <th>246</th>\n",
       "      <td>https://www.igotravel.co.za/holidays/shandrani...</td>\n",
       "      <td>igotravel</td>\n",
       "      <td>mauritius</td>\n",
       "      <td>Shandrani Hotel Honeymoon, Mauritius</td>\n",
       "      <td>&lt;div class=\"woocommerce-product-details__short...</td>\n",
       "      <td>&lt;div class=\"blck col-sm-6\"&gt;\\n&lt;h3 class=\"blck-t...</td>\n",
       "      <td>NaN</td>\n",
       "      <td>NaN</td>\n",
       "      <td>igotravel</td>\n",
       "    </tr>\n",
       "  </tbody>\n",
       "</table>\n",
       "</div>"
      ],
      "text/plain": [
       "                                           scraped_url agency_slug  \\\n",
       "409  https://www.igotravel.co.za/holidays/kandima-m...   igotravel   \n",
       "305  https://www.igotravel.co.za/holidays/mont-roch...   igotravel   \n",
       "466  https://www.igotravel.co.za/holidays/cathedral...   igotravel   \n",
       "598  https://www.igotravel.co.za/holidays/victoria-...   igotravel   \n",
       "566  https://www.igotravel.co.za/holidays/egyptian-...   igotravel   \n",
       "313  https://www.igotravel.co.za/holidays/club-med-...   igotravel   \n",
       "602  https://www.igotravel.co.za/holidays/royal-liv...   igotravel   \n",
       "468  https://www.igotravel.co.za/holidays/head-over...   igotravel   \n",
       "528  https://www.igotravel.co.za/holidays/the-taj-c...   igotravel   \n",
       "246  https://www.igotravel.co.za/holidays/shandrani...   igotravel   \n",
       "\n",
       "           country                                             title  \\\n",
       "409       maldives                                  Kandima Maldives   \n",
       "305   south africa  Mont Rochelle Vineyard Hotel & Spa, Western Cape   \n",
       "466  united states                Cathedral Peak Hotel  Drakensberg   \n",
       "598         zambia                       Victoria Falls Safari Lodge   \n",
       "566          egypt                     Egyptian Express for families   \n",
       "313     seychelles                               Club Med Seychelles   \n",
       "602         zambia                           Royal Livingstone Hotel   \n",
       "468   south africa          Head over Hills, Knysna with Pezula Golf   \n",
       "528   south africa                 The Taj, Cape Town Family Getaway   \n",
       "246      mauritius              Shandrani Hotel Honeymoon, Mauritius   \n",
       "\n",
       "                                           description  \\\n",
       "409  <div class=\"woocommerce-product-details__short...   \n",
       "305  <div class=\"woocommerce-product-details__short...   \n",
       "466  <div class=\"woocommerce-product-details__short...   \n",
       "598  <div class=\"woocommerce-product-details__short...   \n",
       "566  <div class=\"woocommerce-product-details__short...   \n",
       "313  <div class=\"woocommerce-product-details__short...   \n",
       "602  <div class=\"woocommerce-product-details__short...   \n",
       "468  <div class=\"woocommerce-product-details__short...   \n",
       "528  <div class=\"woocommerce-product-details__short...   \n",
       "246  <div class=\"woocommerce-product-details__short...   \n",
       "\n",
       "                                            inclusions hotel_name  \\\n",
       "409  <div class=\"blck col-sm-6\">\\n<h3 class=\"blck-t...        NaN   \n",
       "305  <div class=\"blck col-sm-6\">\\n<h3 class=\"blck-t...        NaN   \n",
       "466  <div class=\"blck col-sm-6\">\\n<h3 class=\"blck-t...        NaN   \n",
       "598  <div class=\"blck col-sm-6\">\\n<h3 class=\"blck-t...        NaN   \n",
       "566  <div class=\"blck col-sm-6\">\\n<h3 class=\"blck-t...        NaN   \n",
       "313  <div class=\"blck col-sm-6\">\\n<h3 class=\"blck-t...        NaN   \n",
       "602  <div class=\"blck col-sm-6\">\\n<h3 class=\"blck-t...        NaN   \n",
       "468  <div class=\"blck col-sm-6\">\\n<h3 class=\"blck-t...        NaN   \n",
       "528  <div class=\"blck col-sm-6\">\\n<h3 class=\"blck-t...        NaN   \n",
       "246  <div class=\"blck col-sm-6\">\\n<h3 class=\"blck-t...        NaN   \n",
       "\n",
       "     hotel_mapped     domain  \n",
       "409           NaN  igotravel  \n",
       "305           NaN  igotravel  \n",
       "466           NaN  igotravel  \n",
       "598           NaN  igotravel  \n",
       "566           NaN  igotravel  \n",
       "313           NaN  igotravel  \n",
       "602           NaN  igotravel  \n",
       "468           NaN  igotravel  \n",
       "528           NaN  igotravel  \n",
       "246           NaN  igotravel  "
      ]
     },
     "execution_count": 24,
     "metadata": {},
     "output_type": "execute_result"
    }
   ],
   "source": [
    "neew.sample(10)"
   ]
  },
  {
   "cell_type": "code",
   "execution_count": 25,
   "id": "e0b49d0f",
   "metadata": {},
   "outputs": [
    {
     "name": "stderr",
     "output_type": "stream",
     "text": [
      "C:\\Users\\user\\AppData\\Local\\Temp\\ipykernel_22012\\1640489448.py:1: SettingWithCopyWarning: \n",
      "A value is trying to be set on a copy of a slice from a DataFrame.\n",
      "Try using .loc[row_indexer,col_indexer] = value instead\n",
      "\n",
      "See the caveats in the documentation: https://pandas.pydata.org/pandas-docs/stable/user_guide/indexing.html#returning-a-view-versus-a-copy\n",
      "  neew['hotels_new'] = neew['title']\n"
     ]
    }
   ],
   "source": [
    "neew['hotels_new'] = neew['title']"
   ]
  },
  {
   "cell_type": "code",
   "execution_count": 26,
   "id": "07b1c037",
   "metadata": {},
   "outputs": [],
   "source": [
    "neew1 = selected_rows.loc[selected_rows['domain']=='packages']"
   ]
  },
  {
   "cell_type": "code",
   "execution_count": 27,
   "id": "8029091c",
   "metadata": {
    "scrolled": true
   },
   "outputs": [
    {
     "name": "stderr",
     "output_type": "stream",
     "text": [
      "C:\\Users\\user\\AppData\\Local\\Temp\\ipykernel_22012\\2116465824.py:1: SettingWithCopyWarning: \n",
      "A value is trying to be set on a copy of a slice from a DataFrame.\n",
      "Try using .loc[row_indexer,col_indexer] = value instead\n",
      "\n",
      "See the caveats in the documentation: https://pandas.pydata.org/pandas-docs/stable/user_guide/indexing.html#returning-a-view-versus-a-copy\n",
      "  neew1['hotels_new'] = neew1['title']\n"
     ]
    }
   ],
   "source": [
    "neew1['hotels_new'] = neew1['title']"
   ]
  },
  {
   "cell_type": "code",
   "execution_count": 28,
   "id": "9da22ee7",
   "metadata": {},
   "outputs": [],
   "source": [
    "neew2 = selected_rows.loc[selected_rows['domain']=='computravel']"
   ]
  },
  {
   "cell_type": "code",
   "execution_count": 29,
   "id": "805158b8",
   "metadata": {},
   "outputs": [
    {
     "data": {
      "text/html": [
       "<div>\n",
       "<style scoped>\n",
       "    .dataframe tbody tr th:only-of-type {\n",
       "        vertical-align: middle;\n",
       "    }\n",
       "\n",
       "    .dataframe tbody tr th {\n",
       "        vertical-align: top;\n",
       "    }\n",
       "\n",
       "    .dataframe thead th {\n",
       "        text-align: right;\n",
       "    }\n",
       "</style>\n",
       "<table border=\"1\" class=\"dataframe\">\n",
       "  <thead>\n",
       "    <tr style=\"text-align: right;\">\n",
       "      <th></th>\n",
       "      <th>scraped_url</th>\n",
       "      <th>agency_slug</th>\n",
       "      <th>country</th>\n",
       "      <th>title</th>\n",
       "      <th>description</th>\n",
       "      <th>inclusions</th>\n",
       "      <th>hotel_name</th>\n",
       "      <th>hotel_mapped</th>\n",
       "      <th>domain</th>\n",
       "    </tr>\n",
       "  </thead>\n",
       "  <tbody>\n",
       "    <tr>\n",
       "      <th>6805</th>\n",
       "      <td>https://computravel.co.za/packages/11132/zanzi...</td>\n",
       "      <td>computravel</td>\n",
       "      <td>tanzania</td>\n",
       "      <td>Zanzibar - 4* My Blue Hotel - All Inclusive - ...</td>\n",
       "      <td>&lt;div class=\"item-description-text\"&gt;\\n\\n&lt;h6&gt;Qui...</td>\n",
       "      <td>NaN</td>\n",
       "      <td>NaN</td>\n",
       "      <td>NaN</td>\n",
       "      <td>computravel</td>\n",
       "    </tr>\n",
       "    <tr>\n",
       "      <th>6243</th>\n",
       "      <td>https://computravel.co.za/packages/7437/namibi...</td>\n",
       "      <td>computravel</td>\n",
       "      <td>namibia</td>\n",
       "      <td>Namibia - 4* Strand Hotel - Swakopmund - 3 Nig...</td>\n",
       "      <td>&lt;div class=\"item-description-text\"&gt;\\n\\n&lt;h6&gt;Qui...</td>\n",
       "      <td>NaN</td>\n",
       "      <td>NaN</td>\n",
       "      <td>NaN</td>\n",
       "      <td>computravel</td>\n",
       "    </tr>\n",
       "    <tr>\n",
       "      <th>5678</th>\n",
       "      <td>https://computravel.co.za/packages/9458/maurit...</td>\n",
       "      <td>computravel</td>\n",
       "      <td>mauritius</td>\n",
       "      <td>Mauritius - 5* Heritage Le Telfair - Valid: 1 ...</td>\n",
       "      <td>&lt;div class=\"item-description-text\"&gt;\\n\\n&lt;h6&gt;Qui...</td>\n",
       "      <td>NaN</td>\n",
       "      <td>NaN</td>\n",
       "      <td>NaN</td>\n",
       "      <td>computravel</td>\n",
       "    </tr>\n",
       "    <tr>\n",
       "      <th>4927</th>\n",
       "      <td>https://computravel.co.za/packages/10040/zanzi...</td>\n",
       "      <td>computravel</td>\n",
       "      <td>tanzania</td>\n",
       "      <td>Zanzibar - 4* Sandies Baobab - All Inclusive -...</td>\n",
       "      <td>&lt;div class=\"item-description-text\"&gt;\\n\\n&lt;h6&gt;Qui...</td>\n",
       "      <td>NaN</td>\n",
       "      <td>NaN</td>\n",
       "      <td>NaN</td>\n",
       "      <td>computravel</td>\n",
       "    </tr>\n",
       "    <tr>\n",
       "      <th>5139</th>\n",
       "      <td>https://computravel.co.za/packages/10863/maldi...</td>\n",
       "      <td>computravel</td>\n",
       "      <td>maldives</td>\n",
       "      <td>Maldives - 5* Heritance Aarah - All Inclusive ...</td>\n",
       "      <td>&lt;div class=\"item-description-text\"&gt;\\n\\n&lt;h6&gt;Qui...</td>\n",
       "      <td>NaN</td>\n",
       "      <td>NaN</td>\n",
       "      <td>NaN</td>\n",
       "      <td>computravel</td>\n",
       "    </tr>\n",
       "    <tr>\n",
       "      <th>4287</th>\n",
       "      <td>https://computravel.co.za/packages/10589/kwazu...</td>\n",
       "      <td>computravel</td>\n",
       "      <td>south africa</td>\n",
       "      <td>Kwazulu Natal - 4* Thonga Beach Lodge - iSiman...</td>\n",
       "      <td>&lt;div class=\"item-description-text\"&gt;\\n\\n&lt;h6&gt;Qui...</td>\n",
       "      <td>NaN</td>\n",
       "      <td>NaN</td>\n",
       "      <td>NaN</td>\n",
       "      <td>computravel</td>\n",
       "    </tr>\n",
       "    <tr>\n",
       "      <th>5348</th>\n",
       "      <td>https://computravel.co.za/packages/8622/kzn-do...</td>\n",
       "      <td>computravel</td>\n",
       "      <td>south africa</td>\n",
       "      <td>KZN Dolphin Coast - 5* The Capital Zimbali - V...</td>\n",
       "      <td>&lt;div class=\"item-description-text\"&gt;\\n\\n&lt;h6&gt;Qui...</td>\n",
       "      <td>NaN</td>\n",
       "      <td>NaN</td>\n",
       "      <td>NaN</td>\n",
       "      <td>computravel</td>\n",
       "    </tr>\n",
       "    <tr>\n",
       "      <th>4477</th>\n",
       "      <td>https://computravel.co.za/packages/11047/zanzi...</td>\n",
       "      <td>computravel</td>\n",
       "      <td>tanzania</td>\n",
       "      <td>Zanzibar - 5* Gold Zanzibar - All inclusive - ...</td>\n",
       "      <td>&lt;div class=\"item-description-text\"&gt;\\n\\n&lt;h6&gt;Qui...</td>\n",
       "      <td>NaN</td>\n",
       "      <td>NaN</td>\n",
       "      <td>NaN</td>\n",
       "      <td>computravel</td>\n",
       "    </tr>\n",
       "    <tr>\n",
       "      <th>3902</th>\n",
       "      <td>https://computravel.co.za/packages/11057/zanzi...</td>\n",
       "      <td>computravel</td>\n",
       "      <td>tanzania</td>\n",
       "      <td>Zanzibar - 4* Sandies Baobab - All Inclusive -...</td>\n",
       "      <td>&lt;div class=\"item-description-text\"&gt;\\n\\n&lt;h6&gt;Qui...</td>\n",
       "      <td>NaN</td>\n",
       "      <td>NaN</td>\n",
       "      <td>NaN</td>\n",
       "      <td>computravel</td>\n",
       "    </tr>\n",
       "    <tr>\n",
       "      <th>5555</th>\n",
       "      <td>https://computravel.co.za/packages/11165/marve...</td>\n",
       "      <td>computravel</td>\n",
       "      <td>greece</td>\n",
       "      <td>Marvels of Greece &amp; Italy 10 Night Voyage on B...</td>\n",
       "      <td>&lt;div class=\"item-description-text\"&gt;\\n\\n&lt;h6&gt;Qui...</td>\n",
       "      <td>NaN</td>\n",
       "      <td>NaN</td>\n",
       "      <td>NaN</td>\n",
       "      <td>computravel</td>\n",
       "    </tr>\n",
       "  </tbody>\n",
       "</table>\n",
       "</div>"
      ],
      "text/plain": [
       "                                            scraped_url  agency_slug  \\\n",
       "6805  https://computravel.co.za/packages/11132/zanzi...  computravel   \n",
       "6243  https://computravel.co.za/packages/7437/namibi...  computravel   \n",
       "5678  https://computravel.co.za/packages/9458/maurit...  computravel   \n",
       "4927  https://computravel.co.za/packages/10040/zanzi...  computravel   \n",
       "5139  https://computravel.co.za/packages/10863/maldi...  computravel   \n",
       "4287  https://computravel.co.za/packages/10589/kwazu...  computravel   \n",
       "5348  https://computravel.co.za/packages/8622/kzn-do...  computravel   \n",
       "4477  https://computravel.co.za/packages/11047/zanzi...  computravel   \n",
       "3902  https://computravel.co.za/packages/11057/zanzi...  computravel   \n",
       "5555  https://computravel.co.za/packages/11165/marve...  computravel   \n",
       "\n",
       "           country                                              title  \\\n",
       "6805      tanzania  Zanzibar - 4* My Blue Hotel - All Inclusive - ...   \n",
       "6243       namibia  Namibia - 4* Strand Hotel - Swakopmund - 3 Nig...   \n",
       "5678     mauritius  Mauritius - 5* Heritage Le Telfair - Valid: 1 ...   \n",
       "4927      tanzania  Zanzibar - 4* Sandies Baobab - All Inclusive -...   \n",
       "5139      maldives  Maldives - 5* Heritance Aarah - All Inclusive ...   \n",
       "4287  south africa  Kwazulu Natal - 4* Thonga Beach Lodge - iSiman...   \n",
       "5348  south africa  KZN Dolphin Coast - 5* The Capital Zimbali - V...   \n",
       "4477      tanzania  Zanzibar - 5* Gold Zanzibar - All inclusive - ...   \n",
       "3902      tanzania  Zanzibar - 4* Sandies Baobab - All Inclusive -...   \n",
       "5555        greece  Marvels of Greece & Italy 10 Night Voyage on B...   \n",
       "\n",
       "                                            description inclusions hotel_name  \\\n",
       "6805  <div class=\"item-description-text\">\\n\\n<h6>Qui...        NaN        NaN   \n",
       "6243  <div class=\"item-description-text\">\\n\\n<h6>Qui...        NaN        NaN   \n",
       "5678  <div class=\"item-description-text\">\\n\\n<h6>Qui...        NaN        NaN   \n",
       "4927  <div class=\"item-description-text\">\\n\\n<h6>Qui...        NaN        NaN   \n",
       "5139  <div class=\"item-description-text\">\\n\\n<h6>Qui...        NaN        NaN   \n",
       "4287  <div class=\"item-description-text\">\\n\\n<h6>Qui...        NaN        NaN   \n",
       "5348  <div class=\"item-description-text\">\\n\\n<h6>Qui...        NaN        NaN   \n",
       "4477  <div class=\"item-description-text\">\\n\\n<h6>Qui...        NaN        NaN   \n",
       "3902  <div class=\"item-description-text\">\\n\\n<h6>Qui...        NaN        NaN   \n",
       "5555  <div class=\"item-description-text\">\\n\\n<h6>Qui...        NaN        NaN   \n",
       "\n",
       "      hotel_mapped       domain  \n",
       "6805           NaN  computravel  \n",
       "6243           NaN  computravel  \n",
       "5678           NaN  computravel  \n",
       "4927           NaN  computravel  \n",
       "5139           NaN  computravel  \n",
       "4287           NaN  computravel  \n",
       "5348           NaN  computravel  \n",
       "4477           NaN  computravel  \n",
       "3902           NaN  computravel  \n",
       "5555           NaN  computravel  "
      ]
     },
     "execution_count": 29,
     "metadata": {},
     "output_type": "execute_result"
    }
   ],
   "source": [
    "neew2.sample(10)"
   ]
  },
  {
   "cell_type": "code",
   "execution_count": 30,
   "id": "07c0072b",
   "metadata": {},
   "outputs": [],
   "source": [
    "def findAfter (txt):\n",
    "#len(txt.split(''))\n",
    "    myList = txt.split(\" \")\n",
    "    for x in myList:\n",
    "        if x=='4*':\n",
    "            start = txt.find (x) #Sets start to the start of keyword\n",
    "            end = start + len (x) #Sets end to the end of the keyword\n",
    "            return txt [end:end+30] \n",
    "        elif x=='3*':\n",
    "            start = txt.find (x) #Sets start to the start of keyword\n",
    "            end = start + len (x) #Sets end to the end of the keyword\n",
    "            return txt [end:end+30] \n",
    "        elif x=='2*':\n",
    "            start = txt.find (x) #Sets start to the start of keyword\n",
    "            end = start + len (x) #Sets end to the end of the keyword\n",
    "            return txt [end:end+30] \n",
    "        elif x=='5*':\n",
    "            start = txt.find (x) #Sets start to the start of keyword\n",
    "            end = start + len (x) #Sets end to the end of the keyword\n",
    "            return txt [end:end+30] \n",
    "        elif x=='5star':\n",
    "            start = txt.find (x) #Sets start to the start of keyword\n",
    "            end = start + len (x) #Sets end to the end of the keyword\n",
    "            return txt [end:end+30]\n",
    "    "
   ]
  },
  {
   "cell_type": "code",
   "execution_count": 31,
   "id": "09c84bc8",
   "metadata": {},
   "outputs": [
    {
     "name": "stderr",
     "output_type": "stream",
     "text": [
      "C:\\Users\\user\\AppData\\Local\\Temp\\ipykernel_22012\\204853310.py:1: SettingWithCopyWarning: \n",
      "A value is trying to be set on a copy of a slice from a DataFrame.\n",
      "Try using .loc[row_indexer,col_indexer] = value instead\n",
      "\n",
      "See the caveats in the documentation: https://pandas.pydata.org/pandas-docs/stable/user_guide/indexing.html#returning-a-view-versus-a-copy\n",
      "  neew2['value'] = neew2['title'] .astype(str).apply(findAfter)\n"
     ]
    }
   ],
   "source": [
    "neew2['value'] = neew2['title'] .astype(str).apply(findAfter)"
   ]
  },
  {
   "cell_type": "code",
   "execution_count": 32,
   "id": "36398b43",
   "metadata": {
    "scrolled": true
   },
   "outputs": [
    {
     "name": "stderr",
     "output_type": "stream",
     "text": [
      "C:\\Users\\user\\AppData\\Local\\Temp\\ipykernel_22012\\1613221675.py:1: SettingWithCopyWarning: \n",
      "A value is trying to be set on a copy of a slice from a DataFrame.\n",
      "Try using .loc[row_indexer,col_indexer] = value instead\n",
      "\n",
      "See the caveats in the documentation: https://pandas.pydata.org/pandas-docs/stable/user_guide/indexing.html#returning-a-view-versus-a-copy\n",
      "  neew2['hotels_new'] = neew2['value'].str.extract('(.+?)-')\n"
     ]
    }
   ],
   "source": [
    " neew2['hotels_new'] = neew2['value'].str.extract('(.+?)-')"
   ]
  },
  {
   "cell_type": "code",
   "execution_count": 33,
   "id": "9f58660f",
   "metadata": {},
   "outputs": [
    {
     "data": {
      "text/plain": [
       "3780         Plus C Mauritius \n",
       "3783       Chobe Safari Lodge \n",
       "3784     Mauricia Beachcomber \n",
       "3785               Rovos Rail \n",
       "3788                   Cocoon \n",
       "                 ...          \n",
       "6793          Lagoon Attitude \n",
       "6795          Biyadhoo Island \n",
       "6803     Mauricia Beachcomber \n",
       "6804        South Palm Resort \n",
       "6805            My Blue Hotel \n",
       "Name: hotels_new, Length: 1114, dtype: object"
      ]
     },
     "execution_count": 33,
     "metadata": {},
     "output_type": "execute_result"
    }
   ],
   "source": [
    "neew2['hotels_new']"
   ]
  },
  {
   "cell_type": "code",
   "execution_count": 34,
   "id": "b4567a71",
   "metadata": {},
   "outputs": [],
   "source": [
    "neew3 = selected_rows.loc[selected_rows['domain']=='pentravel']"
   ]
  },
  {
   "cell_type": "code",
   "execution_count": 35,
   "id": "9b187c15",
   "metadata": {
    "scrolled": true
   },
   "outputs": [
    {
     "name": "stderr",
     "output_type": "stream",
     "text": [
      "C:\\Users\\user\\AppData\\Local\\Temp\\ipykernel_22012\\2782757151.py:1: SettingWithCopyWarning: \n",
      "A value is trying to be set on a copy of a slice from a DataFrame.\n",
      "Try using .loc[row_indexer,col_indexer] = value instead\n",
      "\n",
      "See the caveats in the documentation: https://pandas.pydata.org/pandas-docs/stable/user_guide/indexing.html#returning-a-view-versus-a-copy\n",
      "  neew3['hotels_new'] = neew3['title']\n"
     ]
    }
   ],
   "source": [
    "neew3['hotels_new'] = neew3['title']"
   ]
  },
  {
   "cell_type": "code",
   "execution_count": 38,
   "id": "62f4c09b",
   "metadata": {},
   "outputs": [],
   "source": [
    "def findAfter2 (txt):\n",
    "#len(txt.split(''))\n",
    "    myList = txt.split(\" \")\n",
    "    for x in myList:\n",
    "        if x=='4-star':\n",
    "            start = txt.find (x) #Sets start to the start of keyword\n",
    "            end = start + len (x) #Sets end to the end of the keyword\n",
    "            return txt [end:end+30] \n",
    "        elif x=='3star':\n",
    "            start = txt.find (x) #Sets start to the start of keyword\n",
    "            end = start + len (x) #Sets end to the end of the keyword\n",
    "            return txt [end:end+30] \n",
    "        elif x=='4star':\n",
    "            start = txt.find (x) #Sets start to the start of keyword\n",
    "            end = start + len (x) #Sets end to the end of the keyword\n",
    "            return txt [end:end+30] \n",
    "        elif x=='3-star':\n",
    "            start = txt.find (x) #Sets start to the start of keyword\n",
    "            end = start + len (x) #Sets end to the end of the keyword\n",
    "            return txt [end:end+30] \n",
    "        elif x=='45star':\n",
    "            start = txt.find (x) #Sets start to the start of keyword\n",
    "            end = start + len (x) #Sets end to the end of the keyword\n",
    "            return txt [end:end+30] \n",
    "        elif x=='5star':\n",
    "            start = txt.find (x) #Sets start to the start of keyword\n",
    "            end = start + len (x) #Sets end to the end of the keyword\n",
    "            return txt [end:end+30]\n",
    "        \n",
    "        elif x=='4,5-star':\n",
    "            start = txt.find (x) #Sets start to the start of keyword\n",
    "            end = start + len (x) #Sets end to the end of the keyword\n",
    "            return txt [end:end+30]\n",
    "        elif x=='5-star':\n",
    "            start = txt.find (x) #Sets start to the start of keyword\n",
    "            end = start + len (x) #Sets end to the end of the keyword\n",
    "            return txt [end:end+30]"
   ]
  },
  {
   "cell_type": "code",
   "execution_count": 36,
   "id": "cc9476d7",
   "metadata": {},
   "outputs": [],
   "source": [
    "neew4 = selected_rows.loc[selected_rows['domain']=='flightcentre']"
   ]
  },
  {
   "cell_type": "code",
   "execution_count": 37,
   "id": "c9a1d4c6",
   "metadata": {},
   "outputs": [
    {
     "data": {
      "text/html": [
       "<div>\n",
       "<style scoped>\n",
       "    .dataframe tbody tr th:only-of-type {\n",
       "        vertical-align: middle;\n",
       "    }\n",
       "\n",
       "    .dataframe tbody tr th {\n",
       "        vertical-align: top;\n",
       "    }\n",
       "\n",
       "    .dataframe thead th {\n",
       "        text-align: right;\n",
       "    }\n",
       "</style>\n",
       "<table border=\"1\" class=\"dataframe\">\n",
       "  <thead>\n",
       "    <tr style=\"text-align: right;\">\n",
       "      <th></th>\n",
       "      <th>scraped_url</th>\n",
       "      <th>agency_slug</th>\n",
       "      <th>country</th>\n",
       "      <th>title</th>\n",
       "      <th>description</th>\n",
       "      <th>inclusions</th>\n",
       "      <th>hotel_name</th>\n",
       "      <th>hotel_mapped</th>\n",
       "      <th>domain</th>\n",
       "    </tr>\n",
       "  </thead>\n",
       "  <tbody>\n",
       "    <tr>\n",
       "      <th>87</th>\n",
       "      <td>https://www.flightcentre.co.za/product/14135671</td>\n",
       "      <td>flightcentre</td>\n",
       "      <td>mozambique</td>\n",
       "      <td>Azura Benguerra Island</td>\n",
       "      <td>\\nYour Mozambique Holiday Package includes:\\nR...</td>\n",
       "      <td>\\nYour Mozambique Holiday Package includes:\\n\\...</td>\n",
       "      <td>NaN</td>\n",
       "      <td>NaN</td>\n",
       "      <td>flightcentre</td>\n",
       "    </tr>\n",
       "    <tr>\n",
       "      <th>55</th>\n",
       "      <td>https://www.flightcentre.co.za/product/14952266</td>\n",
       "      <td>flightcentre</td>\n",
       "      <td>united arab emirates</td>\n",
       "      <td>Abu Dhabi F1 Grand Prix 2022</td>\n",
       "      <td>\\nYour Abu Dhabi Holiday Package includes:\\n4 ...</td>\n",
       "      <td>\\nYour Abu Dhabi Holiday Package includes:\\n\\n...</td>\n",
       "      <td>NaN</td>\n",
       "      <td>NaN</td>\n",
       "      <td>flightcentre</td>\n",
       "    </tr>\n",
       "    <tr>\n",
       "      <th>75</th>\n",
       "      <td>https://www.flightcentre.co.za/product/14135464</td>\n",
       "      <td>flightcentre</td>\n",
       "      <td>mozambique</td>\n",
       "      <td>Anantara Bazaruto Island Resort &amp; Spa</td>\n",
       "      <td>\\nYour Mozambique Holiday Package includes:\\nR...</td>\n",
       "      <td>\\nYour Mozambique Holiday Package includes:\\n\\...</td>\n",
       "      <td>NaN</td>\n",
       "      <td>NaN</td>\n",
       "      <td>flightcentre</td>\n",
       "    </tr>\n",
       "    <tr>\n",
       "      <th>29</th>\n",
       "      <td>https://www.flightcentre.co.za/product/15703260</td>\n",
       "      <td>flightcentre</td>\n",
       "      <td>tanzania</td>\n",
       "      <td>Sparkling Sunshine &amp; Shady Palms</td>\n",
       "      <td>\\nYour Zanzibar Holiday Package includes:\\nRet...</td>\n",
       "      <td>\\nYour Zanzibar Holiday Package includes:\\n\\nR...</td>\n",
       "      <td>NaN</td>\n",
       "      <td>NaN</td>\n",
       "      <td>flightcentre</td>\n",
       "    </tr>\n",
       "    <tr>\n",
       "      <th>37</th>\n",
       "      <td>https://www.flightcentre.co.za/product/14197139</td>\n",
       "      <td>flightcentre</td>\n",
       "      <td>maldives</td>\n",
       "      <td>Adaaran Club Rannalhi</td>\n",
       "      <td>\\nYour Maldives Holiday Package includes:\\nRet...</td>\n",
       "      <td>\\nYour Maldives Holiday Package includes:\\n\\nR...</td>\n",
       "      <td>NaN</td>\n",
       "      <td>NaN</td>\n",
       "      <td>flightcentre</td>\n",
       "    </tr>\n",
       "    <tr>\n",
       "      <th>4</th>\n",
       "      <td>https://www.flightcentre.co.za/product/13250621</td>\n",
       "      <td>flightcentre</td>\n",
       "      <td>south africa</td>\n",
       "      <td>Kruger Park Splendour</td>\n",
       "      <td>\\nYour Kruger National Park Holiday Package in...</td>\n",
       "      <td>\\nYour Kruger National Park Holiday Package in...</td>\n",
       "      <td>NaN</td>\n",
       "      <td>NaN</td>\n",
       "      <td>flightcentre</td>\n",
       "    </tr>\n",
       "    <tr>\n",
       "      <th>23</th>\n",
       "      <td>https://www.flightcentre.co.za/product/15631761</td>\n",
       "      <td>flightcentre</td>\n",
       "      <td>canada</td>\n",
       "      <td>Tropical Paradise</td>\n",
       "      <td>\\nYour Zanzibar Holiday Package includes:\\nRet...</td>\n",
       "      <td>\\nYour Zanzibar Holiday Package includes:\\n\\nR...</td>\n",
       "      <td>NaN</td>\n",
       "      <td>NaN</td>\n",
       "      <td>flightcentre</td>\n",
       "    </tr>\n",
       "    <tr>\n",
       "      <th>98</th>\n",
       "      <td>https://www.flightcentre.co.za/product/12616094</td>\n",
       "      <td>flightcentre</td>\n",
       "      <td>mauritius</td>\n",
       "      <td>Clear Skies &amp; Turquoise Sea *JUNE/JULY SCHOOL ...</td>\n",
       "      <td>\\nYour Mauritius Holiday Package includes:\\nRe...</td>\n",
       "      <td>\\nYour Mauritius Holiday Package includes:\\n\\n...</td>\n",
       "      <td>NaN</td>\n",
       "      <td>NaN</td>\n",
       "      <td>flightcentre</td>\n",
       "    </tr>\n",
       "    <tr>\n",
       "      <th>3</th>\n",
       "      <td>https://www.flightcentre.co.za/product/16323810</td>\n",
       "      <td>flightcentre</td>\n",
       "      <td>mauritius</td>\n",
       "      <td>Seas the Day in Mauritius</td>\n",
       "      <td>\\nYour Mauritius Holiday Package includes:\\nRe...</td>\n",
       "      <td>\\nYour Mauritius Holiday Package includes:\\n\\n...</td>\n",
       "      <td>NaN</td>\n",
       "      <td>NaN</td>\n",
       "      <td>flightcentre</td>\n",
       "    </tr>\n",
       "    <tr>\n",
       "      <th>78</th>\n",
       "      <td>https://www.flightcentre.co.za/product/12615686</td>\n",
       "      <td>flightcentre</td>\n",
       "      <td>mauritius</td>\n",
       "      <td>Seas the Day in Mauritius</td>\n",
       "      <td>\\nYour Mauritius Holiday Package includes:\\nRe...</td>\n",
       "      <td>\\nYour Mauritius Holiday Package includes:\\n\\n...</td>\n",
       "      <td>NaN</td>\n",
       "      <td>NaN</td>\n",
       "      <td>flightcentre</td>\n",
       "    </tr>\n",
       "  </tbody>\n",
       "</table>\n",
       "</div>"
      ],
      "text/plain": [
       "                                        scraped_url   agency_slug  \\\n",
       "87  https://www.flightcentre.co.za/product/14135671  flightcentre   \n",
       "55  https://www.flightcentre.co.za/product/14952266  flightcentre   \n",
       "75  https://www.flightcentre.co.za/product/14135464  flightcentre   \n",
       "29  https://www.flightcentre.co.za/product/15703260  flightcentre   \n",
       "37  https://www.flightcentre.co.za/product/14197139  flightcentre   \n",
       "4   https://www.flightcentre.co.za/product/13250621  flightcentre   \n",
       "23  https://www.flightcentre.co.za/product/15631761  flightcentre   \n",
       "98  https://www.flightcentre.co.za/product/12616094  flightcentre   \n",
       "3   https://www.flightcentre.co.za/product/16323810  flightcentre   \n",
       "78  https://www.flightcentre.co.za/product/12615686  flightcentre   \n",
       "\n",
       "                 country                                              title  \\\n",
       "87            mozambique                             Azura Benguerra Island   \n",
       "55  united arab emirates                       Abu Dhabi F1 Grand Prix 2022   \n",
       "75            mozambique              Anantara Bazaruto Island Resort & Spa   \n",
       "29              tanzania                   Sparkling Sunshine & Shady Palms   \n",
       "37              maldives                              Adaaran Club Rannalhi   \n",
       "4           south africa                              Kruger Park Splendour   \n",
       "23                canada                                  Tropical Paradise   \n",
       "98             mauritius  Clear Skies & Turquoise Sea *JUNE/JULY SCHOOL ...   \n",
       "3              mauritius                          Seas the Day in Mauritius   \n",
       "78             mauritius                          Seas the Day in Mauritius   \n",
       "\n",
       "                                          description  \\\n",
       "87  \\nYour Mozambique Holiday Package includes:\\nR...   \n",
       "55  \\nYour Abu Dhabi Holiday Package includes:\\n4 ...   \n",
       "75  \\nYour Mozambique Holiday Package includes:\\nR...   \n",
       "29  \\nYour Zanzibar Holiday Package includes:\\nRet...   \n",
       "37  \\nYour Maldives Holiday Package includes:\\nRet...   \n",
       "4   \\nYour Kruger National Park Holiday Package in...   \n",
       "23  \\nYour Zanzibar Holiday Package includes:\\nRet...   \n",
       "98  \\nYour Mauritius Holiday Package includes:\\nRe...   \n",
       "3   \\nYour Mauritius Holiday Package includes:\\nRe...   \n",
       "78  \\nYour Mauritius Holiday Package includes:\\nRe...   \n",
       "\n",
       "                                           inclusions hotel_name  \\\n",
       "87  \\nYour Mozambique Holiday Package includes:\\n\\...        NaN   \n",
       "55  \\nYour Abu Dhabi Holiday Package includes:\\n\\n...        NaN   \n",
       "75  \\nYour Mozambique Holiday Package includes:\\n\\...        NaN   \n",
       "29  \\nYour Zanzibar Holiday Package includes:\\n\\nR...        NaN   \n",
       "37  \\nYour Maldives Holiday Package includes:\\n\\nR...        NaN   \n",
       "4   \\nYour Kruger National Park Holiday Package in...        NaN   \n",
       "23  \\nYour Zanzibar Holiday Package includes:\\n\\nR...        NaN   \n",
       "98  \\nYour Mauritius Holiday Package includes:\\n\\n...        NaN   \n",
       "3   \\nYour Mauritius Holiday Package includes:\\n\\n...        NaN   \n",
       "78  \\nYour Mauritius Holiday Package includes:\\n\\n...        NaN   \n",
       "\n",
       "    hotel_mapped        domain  \n",
       "87           NaN  flightcentre  \n",
       "55           NaN  flightcentre  \n",
       "75           NaN  flightcentre  \n",
       "29           NaN  flightcentre  \n",
       "37           NaN  flightcentre  \n",
       "4            NaN  flightcentre  \n",
       "23           NaN  flightcentre  \n",
       "98           NaN  flightcentre  \n",
       "3            NaN  flightcentre  \n",
       "78           NaN  flightcentre  "
      ]
     },
     "execution_count": 37,
     "metadata": {},
     "output_type": "execute_result"
    }
   ],
   "source": [
    "neew4.sample(10)"
   ]
  },
  {
   "cell_type": "code",
   "execution_count": 39,
   "id": "d0dc30e3",
   "metadata": {},
   "outputs": [
    {
     "name": "stderr",
     "output_type": "stream",
     "text": [
      "C:\\Users\\user\\AppData\\Local\\Temp\\ipykernel_22012\\1046999580.py:1: SettingWithCopyWarning: \n",
      "A value is trying to be set on a copy of a slice from a DataFrame.\n",
      "Try using .loc[row_indexer,col_indexer] = value instead\n",
      "\n",
      "See the caveats in the documentation: https://pandas.pydata.org/pandas-docs/stable/user_guide/indexing.html#returning-a-view-versus-a-copy\n",
      "  neew4['hotels_new'] = neew4['description'] .astype(str).apply(findAfter2)\n"
     ]
    }
   ],
   "source": [
    "neew4['hotels_new'] = neew4['description'] .astype(str).apply(findAfter2)"
   ]
  },
  {
   "cell_type": "code",
   "execution_count": 40,
   "id": "3dcba893",
   "metadata": {},
   "outputs": [],
   "source": [
    "def first3(txx):\n",
    "    lis=txx.split()[:3]\n",
    "    new=' '.join(lis)\n",
    "    return new"
   ]
  },
  {
   "cell_type": "code",
   "execution_count": 41,
   "id": "e1b161dd",
   "metadata": {},
   "outputs": [
    {
     "name": "stderr",
     "output_type": "stream",
     "text": [
      "C:\\Users\\user\\AppData\\Local\\Temp\\ipykernel_22012\\31037954.py:1: SettingWithCopyWarning: \n",
      "A value is trying to be set on a copy of a slice from a DataFrame.\n",
      "Try using .loc[row_indexer,col_indexer] = value instead\n",
      "\n",
      "See the caveats in the documentation: https://pandas.pydata.org/pandas-docs/stable/user_guide/indexing.html#returning-a-view-versus-a-copy\n",
      "  neew4['hotels_new']=neew4['hotels_new'] .astype(str).apply(first3)\n"
     ]
    }
   ],
   "source": [
    "neew4['hotels_new']=neew4['hotels_new'] .astype(str).apply(first3)"
   ]
  },
  {
   "cell_type": "code",
   "execution_count": null,
   "id": "d9fb6a87",
   "metadata": {},
   "outputs": [],
   "source": [
    "frames = [neew, neew1,neew2,neew4,neew3]\n",
    "result = pd.concat(frames)"
   ]
  },
  {
   "cell_type": "code",
   "execution_count": null,
   "id": "769a7dea",
   "metadata": {},
   "outputs": [],
   "source": [
    "display(result.info())"
   ]
  },
  {
   "cell_type": "code",
   "execution_count": null,
   "id": "02349c7b",
   "metadata": {},
   "outputs": [],
   "source": [
    "nonselected_rows\n",
    "frames3 = [nonselected_rows,result]\n",
    "result3 = pd.concat(frames3)"
   ]
  },
  {
   "cell_type": "code",
   "execution_count": null,
   "id": "8a444dc0",
   "metadata": {
    "scrolled": true
   },
   "outputs": [],
   "source": [
    "display(result3.info())"
   ]
  },
  {
   "cell_type": "code",
   "execution_count": null,
   "id": "827031c9",
   "metadata": {},
   "outputs": [],
   "source": [
    "arr = [\n",
    " 'casterbridge-hollow',\n",
    " 'elephant-plains-lodge',\n",
    " 'idube-game-reserve',\n",
    " 'marataba-trails-lodge',\n",
    " 'hans-merensky-hotel-and-golf-estate',\n",
    " 'bayethe-lodge',\n",
    " '4-day-fly-in-safari',\n",
    " 'madikwe-hills-private-game-lodge',\n",
    " 'phinda-homestead',\n",
    " 'long-lee-manor',\n",
    " 'camp-shawu',\n",
    " 'thula-thula-private-game-reserve',\n",
    " 'simbavati-river-lodge',\n",
    " 'inn-on-the-square',\n",
    " 'madikwe-safari-lodge',\n",
    " 'country-boutique-hotel',\n",
    " 'rhino-ridge-safari-lodge',\n",
    " 'entabeni-lakeside-lodge',\n",
    " 'kirkmans-kamp',\n",
    " 'exeter-river-lodge',\n",
    " 'ekuthuleni-lodge',\n",
    " 'nedile-lodge',\n",
    " 'leopard-hills-private-game-reserve',\n",
    " 'thonga-beach-lodge',\n",
    " 'nottens-bush-camp',\n",
    " 'isibindi-zulu-lodge',\n",
    " 'hillsnek-safari-camp',\n",
    " 'camp-shonga',\n",
    " 'leadwood-lodge',\n",
    " 'nungubane-game-lodge',\n",
    " 'impodimo-game-lodge',\n",
    " 'alpine-heath-resort',\n",
    " 'entabeni-kingfisher-lodge',\n",
    " 'mandela-rhodes-place',\n",
    " 'marataba-safari-lodge',\n",
    " 'greenway-woods-resort-2980',\n",
    " 'legend-golf-and-safari-resort',\n",
    " '2-day-fly-in-safari',\n",
    " 'umkumbe-safari-lodge',\n",
    " 'hollow-on-the-square-cape-town-city-hotel',\n",
    " 'arathusa-safari-lodge',\n",
    " 'perry-039-s-bridge-hollow-boutique-hotel',\n",
    " 'sabi-sabi-bush-lodge',\n",
    " 'hippo-hollow-country-estate',\n",
    " 'oceana-beach-and-wildlife-resort',\n",
    " '4-day-camping-trip-to-kruger-national-park',\n",
    " 'ecolux-boutique-hotel-and-spa',\n",
    " 'bush-lodge',\n",
    " 'londolozi-private-game-reserve',\n",
    " 'nkomazi-game-reserve',\n",
    " '3-day-fly-in-safari',\n",
    " 'little-bush-camp',\n",
    " 'rhino-walking-safari',\n",
    " 'kosi-forest-lodge',\n",
    " 'white-elephant-safari-lodge',\n",
    " 'jock-explorer-camp',\n",
    " 'baradinckals-bush-lodge',\n",
    " 'thandeka-game-lodge',\n",
    " 'dulini-lodge',\n",
    " 'leolapa',\n",
    " 'mkuze-falls-private-game-reserve',\n",
    " 'phinda-forest-lodge',\n",
    " 'entabeni-wildside-safari-lodge',\n",
    " 'entabeni-ravineside-lodge',\n",
    " 'hanglip-mountain-lodge',\n",
    " 'bushbreaks']"
   ]
  },
  {
   "cell_type": "code",
   "execution_count": null,
   "id": "74a60259",
   "metadata": {},
   "outputs": [],
   "source": [
    "#neew6 = df.loc[df['favorite_color'].isin(array)]"
   ]
  },
  {
   "cell_type": "code",
   "execution_count": null,
   "id": "7bdd3a05",
   "metadata": {},
   "outputs": [],
   "source": [
    "neew6=selected_rows.loc[selected_rows['domain'].isin(arr)]"
   ]
  },
  {
   "cell_type": "code",
   "execution_count": null,
   "id": "6a8defce",
   "metadata": {},
   "outputs": [],
   "source": [
    "neew6['hotels_new'] = neew6['title']"
   ]
  },
  {
   "cell_type": "code",
   "execution_count": null,
   "id": "e4242ba3",
   "metadata": {},
   "outputs": [],
   "source": [
    "frames4 = [neew6,result3]\n",
    "result4 = pd.concat(frames4)"
   ]
  },
  {
   "cell_type": "code",
   "execution_count": null,
   "id": "55a7b903",
   "metadata": {
    "scrolled": true
   },
   "outputs": [],
   "source": [
    "display(result4.info())"
   ]
  },
  {
   "cell_type": "code",
   "execution_count": null,
   "id": "5a6c3560",
   "metadata": {
    "scrolled": true
   },
   "outputs": [],
   "source": [
    "res=result4.sort_index()"
   ]
  },
  {
   "cell_type": "code",
   "execution_count": null,
   "id": "a066a30e",
   "metadata": {},
   "outputs": [],
   "source": [
    "res.head(20)"
   ]
  },
  {
   "cell_type": "code",
   "execution_count": null,
   "id": "bde2bd4b",
   "metadata": {},
   "outputs": [],
   "source": [
    "res.to_csv('hotels4.csv',index=False)"
   ]
  },
  {
   "cell_type": "code",
   "execution_count": null,
   "id": "e3936c68",
   "metadata": {},
   "outputs": [],
   "source": [
    "\n",
    "res.to_excel(\"output.xlsx\")"
   ]
  }
 ],
 "metadata": {
  "kernelspec": {
   "display_name": "Python 3 (ipykernel)",
   "language": "python",
   "name": "python3"
  },
  "language_info": {
   "codemirror_mode": {
    "name": "ipython",
    "version": 3
   },
   "file_extension": ".py",
   "mimetype": "text/x-python",
   "name": "python",
   "nbconvert_exporter": "python",
   "pygments_lexer": "ipython3",
   "version": "3.9.12"
  }
 },
 "nbformat": 4,
 "nbformat_minor": 5
}
