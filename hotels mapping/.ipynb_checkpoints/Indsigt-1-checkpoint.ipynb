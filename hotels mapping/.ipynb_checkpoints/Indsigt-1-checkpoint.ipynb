{
 "cells": [
  {
   "cell_type": "code",
   "execution_count": 401,
   "id": "14b6d0e5",
   "metadata": {},
   "outputs": [],
   "source": [
    "import pandas as pd\n",
    "import re\n",
    "import string"
   ]
  },
  {
   "cell_type": "code",
   "execution_count": 402,
   "id": "2d1e96fa",
   "metadata": {},
   "outputs": [],
   "source": [
    "scraped= pd.read_csv('Hotel Location Table Mapping.csv',encoding='latin1')\n",
    "hotels=pd.read_csv('Hotel Location.csv',encoding='latin1')\n",
    "scraped_ngrams=pd.read_csv('submission.csv',encoding='latin1')\n",
    "\n",
    "old=pd.read_csv('old.csv',encoding='latin1')\n",
    "pivot=pd.read_csv('pivot.csv',encoding='latin1')"
   ]
  },
  {
   "cell_type": "code",
   "execution_count": 403,
   "id": "35d0d1eb",
   "metadata": {},
   "outputs": [],
   "source": [
    "def clean_text(text):\n",
    "    \"\"\"\n",
    "    This function uses regular expressions to \n",
    "        - remove links characters\n",
    "        - remove html characters,\n",
    "        - remove escape sequences,\n",
    "        - remove capitalization,\n",
    "        - any extra white space from each text and then converts them to lowercase.\n",
    "\n",
    "    Input:\n",
    "    text: original text\n",
    "          datatype: string\n",
    "\n",
    "    Output:\n",
    "    texts: modified text\n",
    "           datatype: string\n",
    "    \"\"\"\n",
    "    # replace links with url-web\n",
    "    pattern_url = 'http[s]?://(?:[A-Za-z]|[0-9]|[$-_@.&+]|[!*\\(\\),]|(?:%[0-9A-Fa-f][0-9A-Fa-f]))+'\n",
    "    subs_url = 'url-web'\n",
    "    text = re.sub(pattern_url, subs_url, text)\n",
    "    # replace the html characters with \" \"\n",
    "    text = re.sub('<.*?>#()&', ' ', text)\n",
    "    text = re.sub('&', ' ', text)\n",
    "#     text = re.sub('(', ' ', text)\n",
    "#     text = re.sub(')', ' ', text)\n",
    "    \n",
    "    text=re.sub('Nan', ' ', text)\n",
    "    # replace escape sequence with space\n",
    "    escape_seq = [\"\\r\", \"\\n\",'\\a', '\\b', '\\f', \"\\`\", '\\”', '\\t']\n",
    "    for i in escape_seq:\n",
    "        text = re.sub(i, \" \", text)\n",
    "    # Remove Capitalization\n",
    "    text = text.lower()\n",
    "    # plit and join the words\n",
    "    text=' '.join(text.split())\n",
    "    \n",
    "    return text"
   ]
  },
  {
   "cell_type": "code",
   "execution_count": 404,
   "id": "668c1dcb",
   "metadata": {},
   "outputs": [],
   "source": [
    "def clean(text):\n",
    "    \n",
    "    # removing paragraph numbers\n",
    "    text = re.sub('[0-9]+.\\t','',str(text))\n",
    "    # removing new line characters\n",
    "    text = re.sub('\\n ','',str(text))\n",
    "    text = re.sub('\\n',' ',str(text))\n",
    "    # removing apostrophes\n",
    "    text = re.sub(\"'s\",'',str(text))\n",
    "    # removing hyphens\n",
    "    text = re.sub(\"#\",' ',str(text))\n",
    "    text = re.sub(\"@\",'',str(text))\n",
    "    \n",
    "    # removing quotation marks\n",
    "    text = re.sub('\\\"','',str(text))\n",
    "    # removing salutations\n",
    "    text = re.sub(\"Mr\\.\",'Mr',str(text))\n",
    "    text = re.sub(\"Mrs\\.\",'Mrs',str(text))\n",
    "    # removing any reference to outside text\n",
    "    text = re.sub(\"[\\(\\[].*?[\\)\\]]#\", \"\", str(text))\n",
    "    \n",
    "    return text"
   ]
  },
  {
   "cell_type": "code",
   "execution_count": 361,
   "id": "7b9b4fca",
   "metadata": {
    "scrolled": true
   },
   "outputs": [
    {
     "name": "stdout",
     "output_type": "stream",
     "text": [
      "<class 'pandas.core.frame.DataFrame'>\n",
      "Int64Index: 3857 entries, 0 to 8380\n",
      "Data columns (total 9 columns):\n",
      " #   Column        Non-Null Count  Dtype  \n",
      "---  ------        --------------  -----  \n",
      " 0   scraped_url   3855 non-null   object \n",
      " 1   agency_slug   3855 non-null   object \n",
      " 2   country       3557 non-null   object \n",
      " 3   title         3855 non-null   object \n",
      " 4   description   2193 non-null   object \n",
      " 5   inclusions    2486 non-null   object \n",
      " 6   hotel_name    0 non-null      object \n",
      " 7   hotel_mapped  0 non-null      float64\n",
      " 8   domain        3857 non-null   object \n",
      "dtypes: float64(1), object(8)\n",
      "memory usage: 301.3+ KB\n"
     ]
    },
    {
     "data": {
      "text/plain": [
       "None"
      ]
     },
     "metadata": {},
     "output_type": "display_data"
    }
   ],
   "source": [
    "display(selected_rows.info())"
   ]
  },
  {
   "cell_type": "code",
   "execution_count": 405,
   "id": "e0f678dc",
   "metadata": {
    "scrolled": true
   },
   "outputs": [
    {
     "name": "stdout",
     "output_type": "stream",
     "text": [
      "<class 'pandas.core.frame.DataFrame'>\n",
      "RangeIndex: 8381 entries, 0 to 8380\n",
      "Data columns (total 8 columns):\n",
      " #   Column        Non-Null Count  Dtype  \n",
      "---  ------        --------------  -----  \n",
      " 0   scraped_url   8379 non-null   object \n",
      " 1   agency_slug   8379 non-null   object \n",
      " 2   country       7992 non-null   object \n",
      " 3   title         8379 non-null   object \n",
      " 4   description   5270 non-null   object \n",
      " 5   inclusions    6884 non-null   object \n",
      " 6   hotel_name    4524 non-null   object \n",
      " 7   hotel_mapped  0 non-null      float64\n",
      "dtypes: float64(1), object(7)\n",
      "memory usage: 523.9+ KB\n"
     ]
    },
    {
     "data": {
      "text/plain": [
       "None"
      ]
     },
     "metadata": {},
     "output_type": "display_data"
    }
   ],
   "source": [
    "display(scraped.info())"
   ]
  },
  {
   "cell_type": "code",
   "execution_count": 406,
   "id": "9a0d660d",
   "metadata": {
    "scrolled": true
   },
   "outputs": [
    {
     "name": "stderr",
     "output_type": "stream",
     "text": [
      "C:\\Users\\user\\AppData\\Local\\Temp\\ipykernel_17844\\1967922270.py:2: SettingWithCopyWarning: \n",
      "A value is trying to be set on a copy of a slice from a DataFrame.\n",
      "Try using .loc[row_indexer,col_indexer] = value instead\n",
      "\n",
      "See the caveats in the documentation: https://pandas.pydata.org/pandas-docs/stable/user_guide/indexing.html#returning-a-view-versus-a-copy\n",
      "  nonselected_rows['hotels_new'] = nonselected_rows['hotel_name']\n"
     ]
    }
   ],
   "source": [
    "nonselected_rows = scraped[scraped['hotel_name'].notnull()]\n",
    "nonselected_rows['hotels_new'] = nonselected_rows['hotel_name']"
   ]
  },
  {
   "cell_type": "code",
   "execution_count": 407,
   "id": "e0f05c86",
   "metadata": {},
   "outputs": [
    {
     "name": "stdout",
     "output_type": "stream",
     "text": [
      "<class 'pandas.core.frame.DataFrame'>\n",
      "Int64Index: 4524 entries, 613 to 8378\n",
      "Data columns (total 9 columns):\n",
      " #   Column        Non-Null Count  Dtype  \n",
      "---  ------        --------------  -----  \n",
      " 0   scraped_url   4524 non-null   object \n",
      " 1   agency_slug   4524 non-null   object \n",
      " 2   country       4435 non-null   object \n",
      " 3   title         4524 non-null   object \n",
      " 4   description   3077 non-null   object \n",
      " 5   inclusions    4398 non-null   object \n",
      " 6   hotel_name    4524 non-null   object \n",
      " 7   hotel_mapped  0 non-null      float64\n",
      " 8   hotels_new    4524 non-null   object \n",
      "dtypes: float64(1), object(8)\n",
      "memory usage: 353.4+ KB\n"
     ]
    },
    {
     "data": {
      "text/plain": [
       "None"
      ]
     },
     "metadata": {},
     "output_type": "display_data"
    }
   ],
   "source": [
    "display(nonselected_rows.info())"
   ]
  },
  {
   "cell_type": "code",
   "execution_count": 408,
   "id": "d154c67a",
   "metadata": {},
   "outputs": [],
   "source": [
    "def remove_punctuation(post):\n",
    "    return ''.join([l for l in post if l not in string.punctuation])"
   ]
  },
  {
   "cell_type": "code",
   "execution_count": 409,
   "id": "aea2ff37",
   "metadata": {},
   "outputs": [],
   "source": [
    "scraped['description'] = scraped['description'].astype(str).apply(clean_text)\n",
    "scraped['description'] = scraped['description'].astype(str).apply(remove_punctuation)"
   ]
  },
  {
   "cell_type": "code",
   "execution_count": 411,
   "id": "da3bb3b1",
   "metadata": {},
   "outputs": [],
   "source": [
    "def domain_name(url):\n",
    "    return url.split(\"www.\")[-1].split(\"//\")[-1].split(\".\")[0]"
   ]
  },
  {
   "cell_type": "code",
   "execution_count": 412,
   "id": "e086d7e8",
   "metadata": {},
   "outputs": [],
   "source": [
    "selected_rows['domain'] =selected_rows['scraped_url'].astype(str).apply(domain_name)"
   ]
  },
  {
   "cell_type": "code",
   "execution_count": 413,
   "id": "4a77cba6",
   "metadata": {},
   "outputs": [],
   "source": [
    "type_labels = list(selected_rows.domain.unique())"
   ]
  },
  {
   "cell_type": "code",
   "execution_count": 414,
   "id": "132ceb71",
   "metadata": {},
   "outputs": [],
   "source": [
    "neew = selected_rows.loc[selected_rows['domain']=='igotravel']"
   ]
  },
  {
   "cell_type": "code",
   "execution_count": 415,
   "id": "f8dc7271",
   "metadata": {},
   "outputs": [
    {
     "name": "stderr",
     "output_type": "stream",
     "text": [
      "C:\\Users\\user\\AppData\\Local\\Temp\\ipykernel_17844\\1640489448.py:1: SettingWithCopyWarning: \n",
      "A value is trying to be set on a copy of a slice from a DataFrame.\n",
      "Try using .loc[row_indexer,col_indexer] = value instead\n",
      "\n",
      "See the caveats in the documentation: https://pandas.pydata.org/pandas-docs/stable/user_guide/indexing.html#returning-a-view-versus-a-copy\n",
      "  neew['hotels_new'] = neew['title']\n"
     ]
    }
   ],
   "source": [
    "neew['hotels_new'] = neew['title']"
   ]
  },
  {
   "cell_type": "code",
   "execution_count": 416,
   "id": "8b16beef",
   "metadata": {},
   "outputs": [],
   "source": [
    "neew1 = selected_rows.loc[selected_rows['domain']=='packages']"
   ]
  },
  {
   "cell_type": "code",
   "execution_count": 417,
   "id": "8e69379b",
   "metadata": {
    "scrolled": true
   },
   "outputs": [
    {
     "name": "stderr",
     "output_type": "stream",
     "text": [
      "C:\\Users\\user\\AppData\\Local\\Temp\\ipykernel_17844\\2116465824.py:1: SettingWithCopyWarning: \n",
      "A value is trying to be set on a copy of a slice from a DataFrame.\n",
      "Try using .loc[row_indexer,col_indexer] = value instead\n",
      "\n",
      "See the caveats in the documentation: https://pandas.pydata.org/pandas-docs/stable/user_guide/indexing.html#returning-a-view-versus-a-copy\n",
      "  neew1['hotels_new'] = neew1['title']\n"
     ]
    }
   ],
   "source": [
    "neew1['hotels_new'] = neew1['title']"
   ]
  },
  {
   "cell_type": "code",
   "execution_count": 418,
   "id": "54edff39",
   "metadata": {},
   "outputs": [],
   "source": [
    "neew2 = selected_rows.loc[selected_rows['domain']=='computravel']"
   ]
  },
  {
   "cell_type": "code",
   "execution_count": 419,
   "id": "8252279b",
   "metadata": {},
   "outputs": [],
   "source": [
    "def findAfter (txt):\n",
    "#len(txt.split(''))\n",
    "    myList = txt.split(\" \")\n",
    "    for x in myList:\n",
    "        if x=='4*':\n",
    "            start = txt.find (x) #Sets start to the start of keyword\n",
    "            end = start + len (x) #Sets end to the end of the keyword\n",
    "            return txt [end:end+30] \n",
    "        elif x=='3*':\n",
    "            start = txt.find (x) #Sets start to the start of keyword\n",
    "            end = start + len (x) #Sets end to the end of the keyword\n",
    "            return txt [end:end+30] \n",
    "        elif x=='2*':\n",
    "            start = txt.find (x) #Sets start to the start of keyword\n",
    "            end = start + len (x) #Sets end to the end of the keyword\n",
    "            return txt [end:end+30] \n",
    "        elif x=='5*':\n",
    "            start = txt.find (x) #Sets start to the start of keyword\n",
    "            end = start + len (x) #Sets end to the end of the keyword\n",
    "            return txt [end:end+30] \n",
    "        elif x=='5star':\n",
    "            start = txt.find (x) #Sets start to the start of keyword\n",
    "            end = start + len (x) #Sets end to the end of the keyword\n",
    "            return txt [end:end+30]\n",
    "    "
   ]
  },
  {
   "cell_type": "code",
   "execution_count": 420,
   "id": "2f6b7334",
   "metadata": {},
   "outputs": [
    {
     "name": "stderr",
     "output_type": "stream",
     "text": [
      "C:\\Users\\user\\AppData\\Local\\Temp\\ipykernel_17844\\204853310.py:1: SettingWithCopyWarning: \n",
      "A value is trying to be set on a copy of a slice from a DataFrame.\n",
      "Try using .loc[row_indexer,col_indexer] = value instead\n",
      "\n",
      "See the caveats in the documentation: https://pandas.pydata.org/pandas-docs/stable/user_guide/indexing.html#returning-a-view-versus-a-copy\n",
      "  neew2['value'] = neew2['title'] .astype(str).apply(findAfter)\n"
     ]
    }
   ],
   "source": [
    "neew2['value'] = neew2['title'] .astype(str).apply(findAfter)"
   ]
  },
  {
   "cell_type": "code",
   "execution_count": 421,
   "id": "7b02eaee",
   "metadata": {},
   "outputs": [
    {
     "name": "stderr",
     "output_type": "stream",
     "text": [
      "C:\\Users\\user\\AppData\\Local\\Temp\\ipykernel_17844\\1613221675.py:1: SettingWithCopyWarning: \n",
      "A value is trying to be set on a copy of a slice from a DataFrame.\n",
      "Try using .loc[row_indexer,col_indexer] = value instead\n",
      "\n",
      "See the caveats in the documentation: https://pandas.pydata.org/pandas-docs/stable/user_guide/indexing.html#returning-a-view-versus-a-copy\n",
      "  neew2['hotels_new'] = neew2['value'].str.extract('(.+?)-')\n"
     ]
    }
   ],
   "source": [
    " neew2['hotels_new'] = neew2['value'].str.extract('(.+?)-')"
   ]
  },
  {
   "cell_type": "code",
   "execution_count": 422,
   "id": "c6bff5b4",
   "metadata": {},
   "outputs": [],
   "source": [
    "neew3 = selected_rows.loc[selected_rows['domain']=='pentravel']"
   ]
  },
  {
   "cell_type": "code",
   "execution_count": 423,
   "id": "789f9b82",
   "metadata": {
    "scrolled": true
   },
   "outputs": [
    {
     "name": "stderr",
     "output_type": "stream",
     "text": [
      "C:\\Users\\user\\AppData\\Local\\Temp\\ipykernel_17844\\2782757151.py:1: SettingWithCopyWarning: \n",
      "A value is trying to be set on a copy of a slice from a DataFrame.\n",
      "Try using .loc[row_indexer,col_indexer] = value instead\n",
      "\n",
      "See the caveats in the documentation: https://pandas.pydata.org/pandas-docs/stable/user_guide/indexing.html#returning-a-view-versus-a-copy\n",
      "  neew3['hotels_new'] = neew3['title']\n"
     ]
    }
   ],
   "source": [
    "neew3['hotels_new'] = neew3['title']"
   ]
  },
  {
   "cell_type": "code",
   "execution_count": 424,
   "id": "5d241e78",
   "metadata": {},
   "outputs": [],
   "source": [
    "def findAfter2 (txt):\n",
    "#len(txt.split(''))\n",
    "    myList = txt.split(\" \")\n",
    "    for x in myList:\n",
    "        if x=='4-star':\n",
    "            start = txt.find (x) #Sets start to the start of keyword\n",
    "            end = start + len (x) #Sets end to the end of the keyword\n",
    "            return txt [end:end+30] \n",
    "        elif x=='3star':\n",
    "            start = txt.find (x) #Sets start to the start of keyword\n",
    "            end = start + len (x) #Sets end to the end of the keyword\n",
    "            return txt [end:end+30] \n",
    "        elif x=='4star':\n",
    "            start = txt.find (x) #Sets start to the start of keyword\n",
    "            end = start + len (x) #Sets end to the end of the keyword\n",
    "            return txt [end:end+30] \n",
    "        elif x=='3-star':\n",
    "            start = txt.find (x) #Sets start to the start of keyword\n",
    "            end = start + len (x) #Sets end to the end of the keyword\n",
    "            return txt [end:end+30] \n",
    "        elif x=='45star':\n",
    "            start = txt.find (x) #Sets start to the start of keyword\n",
    "            end = start + len (x) #Sets end to the end of the keyword\n",
    "            return txt [end:end+30] \n",
    "        elif x=='5star':\n",
    "            start = txt.find (x) #Sets start to the start of keyword\n",
    "            end = start + len (x) #Sets end to the end of the keyword\n",
    "            return txt [end:end+30]\n",
    "        \n",
    "        elif x=='4,5-star':\n",
    "            start = txt.find (x) #Sets start to the start of keyword\n",
    "            end = start + len (x) #Sets end to the end of the keyword\n",
    "            return txt [end:end+30]\n",
    "        elif x=='5-star':\n",
    "            start = txt.find (x) #Sets start to the start of keyword\n",
    "            end = start + len (x) #Sets end to the end of the keyword\n",
    "            return txt [end:end+30]"
   ]
  },
  {
   "cell_type": "code",
   "execution_count": 425,
   "id": "fe4fcda9",
   "metadata": {},
   "outputs": [],
   "source": [
    "neew4 = selected_rows.loc[selected_rows['domain']=='flightcentre']"
   ]
  },
  {
   "cell_type": "code",
   "execution_count": 426,
   "id": "3cb07599",
   "metadata": {},
   "outputs": [
    {
     "name": "stderr",
     "output_type": "stream",
     "text": [
      "C:\\Users\\user\\AppData\\Local\\Temp\\ipykernel_17844\\1046999580.py:1: SettingWithCopyWarning: \n",
      "A value is trying to be set on a copy of a slice from a DataFrame.\n",
      "Try using .loc[row_indexer,col_indexer] = value instead\n",
      "\n",
      "See the caveats in the documentation: https://pandas.pydata.org/pandas-docs/stable/user_guide/indexing.html#returning-a-view-versus-a-copy\n",
      "  neew4['hotels_new'] = neew4['description'] .astype(str).apply(findAfter2)\n"
     ]
    }
   ],
   "source": [
    "neew4['hotels_new'] = neew4['description'] .astype(str).apply(findAfter2)"
   ]
  },
  {
   "cell_type": "code",
   "execution_count": 427,
   "id": "ee7d8b02",
   "metadata": {},
   "outputs": [],
   "source": [
    "def first3(txx):\n",
    "    lis=txx.split()[:3]\n",
    "    new=' '.join(lis)\n",
    "    return new"
   ]
  },
  {
   "cell_type": "code",
   "execution_count": 428,
   "id": "0d26d882",
   "metadata": {},
   "outputs": [
    {
     "name": "stderr",
     "output_type": "stream",
     "text": [
      "C:\\Users\\user\\AppData\\Local\\Temp\\ipykernel_17844\\31037954.py:1: SettingWithCopyWarning: \n",
      "A value is trying to be set on a copy of a slice from a DataFrame.\n",
      "Try using .loc[row_indexer,col_indexer] = value instead\n",
      "\n",
      "See the caveats in the documentation: https://pandas.pydata.org/pandas-docs/stable/user_guide/indexing.html#returning-a-view-versus-a-copy\n",
      "  neew4['hotels_new']=neew4['hotels_new'] .astype(str).apply(first3)\n"
     ]
    }
   ],
   "source": [
    "neew4['hotels_new']=neew4['hotels_new'] .astype(str).apply(first3)"
   ]
  },
  {
   "cell_type": "code",
   "execution_count": 429,
   "id": "45c4abc1",
   "metadata": {},
   "outputs": [],
   "source": [
    "frames = [neew, neew1,neew2,neew4,neew3]\n",
    "result = pd.concat(frames)"
   ]
  },
  {
   "cell_type": "code",
   "execution_count": 431,
   "id": "29a871ee",
   "metadata": {},
   "outputs": [
    {
     "name": "stdout",
     "output_type": "stream",
     "text": [
      "<class 'pandas.core.frame.DataFrame'>\n",
      "Int64Index: 3634 entries, 102 to 6818\n",
      "Data columns (total 11 columns):\n",
      " #   Column        Non-Null Count  Dtype  \n",
      "---  ------        --------------  -----  \n",
      " 0   scraped_url   3634 non-null   object \n",
      " 1   agency_slug   3634 non-null   object \n",
      " 2   country       3401 non-null   object \n",
      " 3   title         3634 non-null   object \n",
      " 4   description   2003 non-null   object \n",
      " 5   inclusions    2486 non-null   object \n",
      " 6   hotel_name    0 non-null      object \n",
      " 7   hotel_mapped  0 non-null      float64\n",
      " 8   domain        3634 non-null   object \n",
      " 9   hotels_new    3328 non-null   object \n",
      " 10  value         880 non-null    object \n",
      "dtypes: float64(1), object(10)\n",
      "memory usage: 340.7+ KB\n"
     ]
    },
    {
     "data": {
      "text/plain": [
       "None"
      ]
     },
     "metadata": {},
     "output_type": "display_data"
    }
   ],
   "source": [
    "display(result.info())"
   ]
  },
  {
   "cell_type": "code",
   "execution_count": 432,
   "id": "86e24c77",
   "metadata": {},
   "outputs": [],
   "source": [
    "nonselected_rows\n",
    "frames3 = [nonselected_rows,result]\n",
    "result3 = pd.concat(frames3)"
   ]
  },
  {
   "cell_type": "code",
   "execution_count": 433,
   "id": "89cc1f9d",
   "metadata": {
    "scrolled": true
   },
   "outputs": [
    {
     "name": "stdout",
     "output_type": "stream",
     "text": [
      "<class 'pandas.core.frame.DataFrame'>\n",
      "Int64Index: 8158 entries, 613 to 6818\n",
      "Data columns (total 11 columns):\n",
      " #   Column        Non-Null Count  Dtype  \n",
      "---  ------        --------------  -----  \n",
      " 0   scraped_url   8158 non-null   object \n",
      " 1   agency_slug   8158 non-null   object \n",
      " 2   country       7836 non-null   object \n",
      " 3   title         8158 non-null   object \n",
      " 4   description   5080 non-null   object \n",
      " 5   inclusions    6884 non-null   object \n",
      " 6   hotel_name    4524 non-null   object \n",
      " 7   hotel_mapped  0 non-null      float64\n",
      " 8   hotels_new    7852 non-null   object \n",
      " 9   domain        3634 non-null   object \n",
      " 10  value         880 non-null    object \n",
      "dtypes: float64(1), object(10)\n",
      "memory usage: 764.8+ KB\n"
     ]
    },
    {
     "data": {
      "text/plain": [
       "None"
      ]
     },
     "metadata": {},
     "output_type": "display_data"
    }
   ],
   "source": [
    "display(result3.info())"
   ]
  },
  {
   "cell_type": "code",
   "execution_count": 434,
   "id": "2e184587",
   "metadata": {},
   "outputs": [],
   "source": [
    "arr = [\n",
    " 'casterbridge-hollow',\n",
    " 'elephant-plains-lodge',\n",
    " 'idube-game-reserve',\n",
    " 'marataba-trails-lodge',\n",
    " 'hans-merensky-hotel-and-golf-estate',\n",
    " 'bayethe-lodge',\n",
    " '4-day-fly-in-safari',\n",
    " 'madikwe-hills-private-game-lodge',\n",
    " 'phinda-homestead',\n",
    " 'long-lee-manor',\n",
    " 'camp-shawu',\n",
    " 'thula-thula-private-game-reserve',\n",
    " 'simbavati-river-lodge',\n",
    " 'inn-on-the-square',\n",
    " 'madikwe-safari-lodge',\n",
    " 'country-boutique-hotel',\n",
    " 'rhino-ridge-safari-lodge',\n",
    " 'entabeni-lakeside-lodge',\n",
    " 'kirkmans-kamp',\n",
    " 'exeter-river-lodge',\n",
    " 'ekuthuleni-lodge',\n",
    " 'nedile-lodge',\n",
    " 'leopard-hills-private-game-reserve',\n",
    " 'thonga-beach-lodge',\n",
    " 'nottens-bush-camp',\n",
    " 'isibindi-zulu-lodge',\n",
    " 'hillsnek-safari-camp',\n",
    " 'camp-shonga',\n",
    " 'leadwood-lodge',\n",
    " 'nungubane-game-lodge',\n",
    " 'impodimo-game-lodge',\n",
    " 'alpine-heath-resort',\n",
    " 'entabeni-kingfisher-lodge',\n",
    " 'mandela-rhodes-place',\n",
    " 'marataba-safari-lodge',\n",
    " 'greenway-woods-resort-2980',\n",
    " 'legend-golf-and-safari-resort',\n",
    " '2-day-fly-in-safari',\n",
    " 'umkumbe-safari-lodge',\n",
    " 'hollow-on-the-square-cape-town-city-hotel',\n",
    " 'arathusa-safari-lodge',\n",
    " 'perry-039-s-bridge-hollow-boutique-hotel',\n",
    " 'sabi-sabi-bush-lodge',\n",
    " 'hippo-hollow-country-estate',\n",
    " 'oceana-beach-and-wildlife-resort',\n",
    " '4-day-camping-trip-to-kruger-national-park',\n",
    " 'ecolux-boutique-hotel-and-spa',\n",
    " 'bush-lodge',\n",
    " 'londolozi-private-game-reserve',\n",
    " 'nkomazi-game-reserve',\n",
    " '3-day-fly-in-safari',\n",
    " 'little-bush-camp',\n",
    " 'rhino-walking-safari',\n",
    " 'kosi-forest-lodge',\n",
    " 'white-elephant-safari-lodge',\n",
    " 'jock-explorer-camp',\n",
    " 'baradinckals-bush-lodge',\n",
    " 'thandeka-game-lodge',\n",
    " 'dulini-lodge',\n",
    " 'leolapa',\n",
    " 'mkuze-falls-private-game-reserve',\n",
    " 'phinda-forest-lodge',\n",
    " 'entabeni-wildside-safari-lodge',\n",
    " 'entabeni-ravineside-lodge',\n",
    " 'hanglip-mountain-lodge',\n",
    " 'bushbreaks']"
   ]
  },
  {
   "cell_type": "code",
   "execution_count": null,
   "id": "6bbd9187",
   "metadata": {},
   "outputs": [],
   "source": [
    "#neew6 = df.loc[df['favorite_color'].isin(array)]"
   ]
  },
  {
   "cell_type": "code",
   "execution_count": 435,
   "id": "77386df2",
   "metadata": {},
   "outputs": [],
   "source": [
    "neew6=selected_rows.loc[selected_rows['domain'].isin(arr)]"
   ]
  },
  {
   "cell_type": "code",
   "execution_count": 436,
   "id": "dcf08951",
   "metadata": {},
   "outputs": [
    {
     "name": "stderr",
     "output_type": "stream",
     "text": [
      "C:\\Users\\user\\AppData\\Local\\Temp\\ipykernel_17844\\1236144802.py:1: SettingWithCopyWarning: \n",
      "A value is trying to be set on a copy of a slice from a DataFrame.\n",
      "Try using .loc[row_indexer,col_indexer] = value instead\n",
      "\n",
      "See the caveats in the documentation: https://pandas.pydata.org/pandas-docs/stable/user_guide/indexing.html#returning-a-view-versus-a-copy\n",
      "  neew6['hotels_new'] = neew6['title']\n"
     ]
    }
   ],
   "source": [
    "neew6['hotels_new'] = neew6['title']"
   ]
  },
  {
   "cell_type": "code",
   "execution_count": 437,
   "id": "b90e9981",
   "metadata": {},
   "outputs": [],
   "source": [
    "frames4 = [neew6,result3]\n",
    "result4 = pd.concat(frames4)"
   ]
  },
  {
   "cell_type": "code",
   "execution_count": 438,
   "id": "1d90e228",
   "metadata": {
    "scrolled": true
   },
   "outputs": [
    {
     "name": "stdout",
     "output_type": "stream",
     "text": [
      "<class 'pandas.core.frame.DataFrame'>\n",
      "Int64Index: 8379 entries, 126 to 6818\n",
      "Data columns (total 11 columns):\n",
      " #   Column        Non-Null Count  Dtype  \n",
      "---  ------        --------------  -----  \n",
      " 0   scraped_url   8379 non-null   object \n",
      " 1   agency_slug   8379 non-null   object \n",
      " 2   country       7992 non-null   object \n",
      " 3   title         8379 non-null   object \n",
      " 4   description   5270 non-null   object \n",
      " 5   inclusions    6884 non-null   object \n",
      " 6   hotel_name    4524 non-null   object \n",
      " 7   hotel_mapped  0 non-null      float64\n",
      " 8   domain        3855 non-null   object \n",
      " 9   hotels_new    8073 non-null   object \n",
      " 10  value         880 non-null    object \n",
      "dtypes: float64(1), object(10)\n",
      "memory usage: 785.5+ KB\n"
     ]
    },
    {
     "data": {
      "text/plain": [
       "None"
      ]
     },
     "metadata": {},
     "output_type": "display_data"
    }
   ],
   "source": [
    "display(result4.info())"
   ]
  },
  {
   "cell_type": "code",
   "execution_count": 439,
   "id": "57b29db6",
   "metadata": {
    "scrolled": true
   },
   "outputs": [],
   "source": [
    "res=result4.sort_index()"
   ]
  },
  {
   "cell_type": "code",
   "execution_count": 440,
   "id": "7ed8d824",
   "metadata": {},
   "outputs": [
    {
     "data": {
      "text/html": [
       "<div>\n",
       "<style scoped>\n",
       "    .dataframe tbody tr th:only-of-type {\n",
       "        vertical-align: middle;\n",
       "    }\n",
       "\n",
       "    .dataframe tbody tr th {\n",
       "        vertical-align: top;\n",
       "    }\n",
       "\n",
       "    .dataframe thead th {\n",
       "        text-align: right;\n",
       "    }\n",
       "</style>\n",
       "<table border=\"1\" class=\"dataframe\">\n",
       "  <thead>\n",
       "    <tr style=\"text-align: right;\">\n",
       "      <th></th>\n",
       "      <th>scraped_url</th>\n",
       "      <th>agency_slug</th>\n",
       "      <th>country</th>\n",
       "      <th>title</th>\n",
       "      <th>description</th>\n",
       "      <th>inclusions</th>\n",
       "      <th>hotel_name</th>\n",
       "      <th>hotel_mapped</th>\n",
       "      <th>domain</th>\n",
       "      <th>hotels_new</th>\n",
       "      <th>value</th>\n",
       "    </tr>\n",
       "  </thead>\n",
       "  <tbody>\n",
       "    <tr>\n",
       "      <th>0</th>\n",
       "      <td>https://www.flightcentre.co.za/product/14197346</td>\n",
       "      <td>flightcentre</td>\n",
       "      <td>maldives</td>\n",
       "      <td>Adaaran Select Meedhupparu</td>\n",
       "      <td>\\nYour Maldives Holiday Package includes:\\nReturn flights from Johannesburg\\nApproximate taxes\\nReturn domestic flight &amp; speedboat transfers\\n7 nights' accommodation at the 4-star Adaaran Select Meedhupparu in a Beachfront Villa\\nAll meals &amp; selected alcoholic and non-alcoholic drinks daily\\nExclusions\\nItems of a personal nature, items not mentioned, gratuities and porterage, meals &amp; drinks not mentioned, tours/sightseeing not mentioned, car hire\\nWith the promise of an incomparable holiday in the tropics, Adaaran Select Meedhupparu one of the best Maldives luxury resorts offers blissful accommodation for the discerning traveller to the Maldives. Bask under the healing sunshine and soak up the alluring sights and sounds of a truly enchanting island in the tropics. Adaaran Select Meedhupparu offers tranquil settings brimming with luxury. Settle into a holiday full of breathtaking experiences that will leave you with memories to last a lifetime.\\n</td>\n",
       "      <td>\\nYour Maldives Holiday Package includes:\\n\\nReturn flights from Johannesburg\\nApproximate taxes\\nReturn domestic flight &amp; speedboat transfers\\n7 nights' accommodation at the 4-star Adaaran Select Meedhupparu in a Beachfront Villa\\nAll meals &amp; selected alcoholic and non-alcoholic drinks daily\\n\\n</td>\n",
       "      <td>NaN</td>\n",
       "      <td>NaN</td>\n",
       "      <td>flightcentre</td>\n",
       "      <td>Adaaran Select Meedhupparu</td>\n",
       "      <td>NaN</td>\n",
       "    </tr>\n",
       "    <tr>\n",
       "      <th>1</th>\n",
       "      <td>https://www.flightcentre.co.za/product/5415249</td>\n",
       "      <td>flightcentre</td>\n",
       "      <td>south africa</td>\n",
       "      <td>Family Fun on the Wild Coast</td>\n",
       "      <td>\\nYour Eastern Cape Holiday Package includes:\\nReturn flights from Johannesburg to Durban\\nApproximate taxes\\n3 days car hire (Kia Picanto or similar)\\n3 nights' midweek accommodation on the Wild Coast at the 4-star Wild Coast Sun in a Garden Facing Luxury Room\\nBreakfast daily\\nBONUS: Complimentary access to Wild Waves Water Park\\nPLEASE NOTE: 2 Children eat breakfast and stay free when sharing with adults\\nWEEKEND UPGRADE: From R660 per adult\\nExclusions\\nTransfers, items of a personal nature, items not mentioned, gratuities and porterage, meals and drinks not mentioned, tours/sightseeing not mentioned\\nLess than 2 Hours from Durban. You can't beat the location of the Wild Coast Sun Hotel, situated in the coastal hub of Port Edward, less than a two-hour scenic drive along the South Coast from Durban's King Shaka International Airport. This family-friendly accommodation is just the place if you're looking for that relaxing room with a view, with all the modern facilities one could ever need. Moms and dads can soak up the sun watching the kids play at the Wild Waves Water Park, while couples can slip away to the tranquil oasis of the Mangwanani African Day Spa.\\n</td>\n",
       "      <td>\\nYour Eastern Cape Holiday Package includes:\\n\\nReturn flights from Johannesburg to Durban\\nApproximate taxes\\n3 days car hire (Kia Picanto or similar)\\n3 nights' midweek accommodation on the Wild Coast at the 4-star Wild Coast Sun in a Garden Facing Luxury Room\\nBreakfast daily\\nBONUS: Complimentary access to Wild Waves Water Park\\nPLEASE NOTE: 2 Children eat breakfast and stay free when sharing with adults\\nWEEKEND UPGRADE: From R660 per adult\\n\\n</td>\n",
       "      <td>NaN</td>\n",
       "      <td>NaN</td>\n",
       "      <td>flightcentre</td>\n",
       "      <td>Wild Coast Sun</td>\n",
       "      <td>NaN</td>\n",
       "    </tr>\n",
       "    <tr>\n",
       "      <th>2</th>\n",
       "      <td>https://www.flightcentre.co.za/product/16385011</td>\n",
       "      <td>flightcentre</td>\n",
       "      <td>mauritius</td>\n",
       "      <td>Azuri Residences by Life in Blue</td>\n",
       "      <td>\\nYour Mauritius Holiday Package includes:\\nReturn direct flights from Durban\\nApproximate taxes\\nReturn transfers\\n5 nights' accommodation at the 4-star Azuri Residences by Life in Blue in a Deluxe Apartment on a Room Only basis\\nPLEASE NOTE: Price is based on 4 people travelling together\\nExclusions\\nItems of a personal nature, items not mentioned, gratuities and porterage, meals and drinks not mentioned, tours/sightseeing not mentioned, car hire\\nThis coastal village on the north-eastern coast of the island in Roches Noires, lined by an infinite turquoise sea and the blue sky, will tinge your holidays with picturesque shades of blue. Opt for our high-end seafront accommodation and enjoy your intimacy within an elegant setting. Kindle your senses and experience La Dolce Vita through a memorable escape to Mauritius where you will benefit from services available at your fingertips within Azuri village.\\n</td>\n",
       "      <td>\\nYour Mauritius Holiday Package includes:\\n\\nReturn direct flights from Durban\\nApproximate taxes\\nReturn transfers\\n5 nights' accommodation at the 4-star Azuri Residences by Life in Blue in a Deluxe Apartment on a Room Only basis\\nPLEASE NOTE: Price is based on 4 people travelling together\\n\\n</td>\n",
       "      <td>NaN</td>\n",
       "      <td>NaN</td>\n",
       "      <td>flightcentre</td>\n",
       "      <td>Azuri Residences by</td>\n",
       "      <td>NaN</td>\n",
       "    </tr>\n",
       "    <tr>\n",
       "      <th>3</th>\n",
       "      <td>https://www.flightcentre.co.za/product/16323810</td>\n",
       "      <td>flightcentre</td>\n",
       "      <td>mauritius</td>\n",
       "      <td>Seas the Day in Mauritius</td>\n",
       "      <td>\\nYour Mauritius Holiday Package includes:\\nReturn direct flights from Cape Town\\nApproximate taxes\\nReturn transfers\\n5 nights' accommodation at the 4,5-star Radisson Blu Azuri Resort &amp; Spa in a Garden Premium Room\\nAll meals &amp; selected drinks daily\\nBONUS: FREE upgrade to All Inclusive included\\n2 Children under 12 years stay FREE\\nExclusions\\nItems of a personal nature, items not mentioned, gratuities and porterage, meals and drinks not mentioned, tours/sightseeing not mentioned, car hire\\nSet on the tranquil beach that frames the brand new Azuri marine complex on the north east coast of the island, with a sparkling lagoon and lush green surroundings, the resort delivers a distinctive Mauritius holiday experience. A perfect retreat for couples and a fun place for families, the resort has all the necessary facilities for a most enjoyable holiday.\\n</td>\n",
       "      <td>\\nYour Mauritius Holiday Package includes:\\n\\nReturn direct flights from Cape Town\\nApproximate taxes\\nReturn transfers\\n5 nights' accommodation at the 4,5-star Radisson Blu Azuri Resort &amp; Spa in a Garden Premium Room\\nAll meals &amp; selected drinks daily\\nBONUS: FREE upgrade to All Inclusive included\\n2 Children under 12 years stay FREE\\n\\n</td>\n",
       "      <td>NaN</td>\n",
       "      <td>NaN</td>\n",
       "      <td>flightcentre</td>\n",
       "      <td>Radisson Blu Azuri</td>\n",
       "      <td>NaN</td>\n",
       "    </tr>\n",
       "    <tr>\n",
       "      <th>4</th>\n",
       "      <td>https://www.flightcentre.co.za/product/13250621</td>\n",
       "      <td>flightcentre</td>\n",
       "      <td>south africa</td>\n",
       "      <td>Kruger Park Splendour</td>\n",
       "      <td>\\nYour Kruger National Park Holiday Package includes:\\nReturn flights from Johannesburg to Nelspruit\\nApproximate taxes\\n2 days car hire (Kia Picanto or similar)\\n2 nights' midweek accommodation just outside the Kruger National Park at the 4-star Protea Hotel by Marriott Kruger Gate in a Standard Room\\nBreakfast daily\\nExclusions\\nTransfers, items of a personal nature, items not mentioned, gratuities and porterage, meals and drinks not mentioned, tours/sightseeing not mentioned\\nExperience the wonder of the African Bushveld here in Mpumalanga with a visit to the Protea Hotel Kruger Gate. Located along the Sabie River, our rustic and elegant lodge provides all the comforts of home, yet is just 100 meters from the Paul Kruger Gate of Kruger National Park - offering unparalleled access to the area's legendary natural beauty. Step under the indigenous portico and be transported to a different world - one reminiscent of a tree house, with elevated walkways nestled among native bird habitats. Relax in your air-conditioned room which features marble bathrooms, free Wi-Fi and modern technology. Our two hotel restaurants, Lapa and Kudyela, offer delectable dining in an convivial atmosphere. Be sure to spend time at our year-round outdoor pool or squeeze in a workout at the fitness center. And with the incredible wildlife of Kruger National Park at your doorstep, you have plenty to explore during your stay. We look forward to welcoming you here to Mpumalanga at the Protea Hotel Kruger Gate!\\n</td>\n",
       "      <td>\\nYour Kruger National Park Holiday Package includes:\\n\\nReturn flights from Johannesburg to Nelspruit\\nApproximate taxes\\n2 days car hire (Kia Picanto or similar)\\n2 nights' midweek accommodation just outside the Kruger National Park at the 4-star Protea Hotel by Marriott Kruger Gate in a Standard Room\\nBreakfast daily\\n\\n</td>\n",
       "      <td>NaN</td>\n",
       "      <td>NaN</td>\n",
       "      <td>flightcentre</td>\n",
       "      <td>Protea Hotel by</td>\n",
       "      <td>NaN</td>\n",
       "    </tr>\n",
       "    <tr>\n",
       "      <th>5</th>\n",
       "      <td>https://www.flightcentre.co.za/product/15650253</td>\n",
       "      <td>flightcentre</td>\n",
       "      <td>hungary</td>\n",
       "      <td>Hungarian F1 Grand Prix 2022</td>\n",
       "      <td>\\nYour Hungary Holiday Package includes:\\n3 nights' accommodation at the 3-star Ibis Budapest Centrum or similar\\n3-day general admission race ticket (Friday - Sunday)\\nReturn circuit transfers (Saturday &amp; Sunday only)\\n6 days travel insurance\\nTour merchandise\\nExclusions\\nFlight, taxes, transport, passport &amp; visas. Admission fees into sights of interest not included in the tour cost/itinerary. Personal expenses such as tips for meals, gratuities, telephone calls, beverages, all meals not mentioned under inclusions and anything else of a personal nature. Any other services not mentioned.\\nThe Hungarian Grand Prix is a motor race held annually in Mogyorod, Hungary. Since 1986, the race has been a round of the FIA Formula One World Championship. The first Hungarian Grand Prix was held on 21 June 1936 over a 5-kilometre track laid out in Nepliget, a park in Budapest. The Mercedes-Benz, Auto Union, and the Alfa Romeo-equipped Ferrari teams all sent three cars and the event drew a very large crowd. However, politics and the ensuing war meant the end of Grand Prix motor racing in the country for fifty years.\\n</td>\n",
       "      <td>\\nYour Hungary Holiday Package includes:\\n\\n3 nights' accommodation at the 3-star Ibis Budapest Centrum or similar\\n3-day general admission race ticket (Friday - Sunday)\\nReturn circuit transfers (Saturday &amp; Sunday only)\\n6 days travel insurance\\nTour merchandise\\n\\n</td>\n",
       "      <td>NaN</td>\n",
       "      <td>NaN</td>\n",
       "      <td>flightcentre</td>\n",
       "      <td>Ibis Budapest Centrum</td>\n",
       "      <td>NaN</td>\n",
       "    </tr>\n",
       "    <tr>\n",
       "      <th>6</th>\n",
       "      <td>https://www.flightcentre.co.za/product/12615686</td>\n",
       "      <td>flightcentre</td>\n",
       "      <td>mauritius</td>\n",
       "      <td>Seas the Day in Mauritius</td>\n",
       "      <td>\\nYour Mauritius Holiday Package includes:\\nReturn direct flights from Johannesburg\\nApproximate taxes\\nReturn transfers\\n7 nights' accommodation at the 4,5-star Radisson Blu Azuri Resort &amp; Spa in a Garden Premium Room\\nAll meals &amp; selected drinks daily\\nBONUS: FREE upgrade to All Inclusive included\\n2 Children under 12 years stay FREE\\nExclusions\\nItems of a personal nature, items not mentioned, gratuities and porterage, meals and drinks not mentioned, tours/sightseeing not mentioned, car hire\\nSet on the tranquil beach that frames the brand new Azuri marine complex on the north east coast of the island, with a sparkling lagoon and lush green surroundings, the resort delivers a distinctive Mauritius holiday experience. A perfect retreat for couples and a fun place for families, the resort has all the necessary facilities for a most enjoyable holiday.\\n</td>\n",
       "      <td>\\nYour Mauritius Holiday Package includes:\\n\\nReturn direct flights from Johannesburg\\nApproximate taxes\\nReturn transfers\\n7 nights' accommodation at the 4,5-star Radisson Blu Azuri Resort &amp; Spa in a Garden Premium Room\\nAll meals &amp; selected drinks daily\\nBONUS: FREE upgrade to All Inclusive included\\n2 Children under 12 years stay FREE\\n\\n</td>\n",
       "      <td>NaN</td>\n",
       "      <td>NaN</td>\n",
       "      <td>flightcentre</td>\n",
       "      <td>Radisson Blu Azuri</td>\n",
       "      <td>NaN</td>\n",
       "    </tr>\n",
       "    <tr>\n",
       "      <th>7</th>\n",
       "      <td>https://www.flightcentre.co.za/product/12616094</td>\n",
       "      <td>flightcentre</td>\n",
       "      <td>mauritius</td>\n",
       "      <td>Clear Skies &amp; Turquoise Sea</td>\n",
       "      <td>\\nYour Mauritius Holiday Package includes:\\nReturn direct flights from Johannesburg\\nApproximate taxes\\nReturn transfers\\n5 nights' accommodation at the 3-star Azuri Residences by Life in Blue in a Deluxe Apartment on a Room Only basis\\nPLEASE NOTE: Price is based on 4 people travelling together\\nExclusions\\nItems of a personal nature, items not mentioned, gratuities and porterage, meals and drinks not mentioned, tours/sightseeing not mentioned, car hire\\nThis coastal village on the north-eastern coast of the island in Roches Noires, lined by an infinite turquoise sea and the blue sky, will tinge your holidays with picturesque shades of blue. Opt for our high-end seafront accommodation and enjoy your intimacy within an elegant setting. Kindle your senses and experience La Dolce Vita through a memorable escape to Mauritius where you will benefit from services available at your fingertips within Azuri village.\\n</td>\n",
       "      <td>\\nYour Mauritius Holiday Package includes:\\n\\nReturn direct flights from Johannesburg\\nApproximate taxes\\nReturn transfers\\n5 nights' accommodation at the 3-star Azuri Residences by Life in Blue in a Deluxe Apartment on a Room Only basis\\nPLEASE NOTE: Price is based on 4 people travelling together\\n\\n</td>\n",
       "      <td>NaN</td>\n",
       "      <td>NaN</td>\n",
       "      <td>flightcentre</td>\n",
       "      <td>Azuri Residences by</td>\n",
       "      <td>NaN</td>\n",
       "    </tr>\n",
       "    <tr>\n",
       "      <th>8</th>\n",
       "      <td>https://www.flightcentre.co.za/product/15650322</td>\n",
       "      <td>flightcentre</td>\n",
       "      <td>united kingdom</td>\n",
       "      <td>Wimbledon 2022</td>\n",
       "      <td>\\nYour England Holiday Package includes:\\n3 nights' accommodation at the 4-star Warren House, Kingston-upon-Thames Surrey\\nWeek one No 1 Court Event ticket: All debenture tickets are in prime locations and have access to the exclusive Debenture Holders Lounge, which includes a variety of excellent bars and restaurants, all overlooking the grounds at Wimbledon\\nOyster Card for travel to and from central London\\n6 days Bryte travel insurance\\nUPGRADE: to Week two No 1 Court (03-06 July 2022) from R28 960 per person sharing\\nUPGRADE: to Ladies Final Centre Court (08-11 July 2022) from R44 570 per person sharing\\nUPGRADE: to Mens Final Centre Court (09-12 July 2022) from R104 490 per person sharing\\nExclusions\\nFlight, taxes, transport, passport &amp; visas. Admission fees into sights of interest not included in the tour cost/itinerary. Personal expenses such as tips for meals, gratuities, telephone calls, beverages, all meals not mentioned under inclusions and anything else of a personal nature. Any other services not mentioned.\\nInch-perfect serves, nail-biting sets, and some of the sporting world's most famous rivalries. Moments of ecstasy, heart-breaking exits, and atmospheres that are as intense as they are palpable. With Pure Sport, you have a chance to experience tennis' most magical moments live. Boasting a footprint on 6 continents and a loyal audience around the world, tennis is certainly one of the most universal sports on the planet. Let us put you in the action with travel packages that are tailored to your needs, so you don't miss out on a single rally. It all began with an announcement in the leisure magazine The Field on 9 June 1877 that \"The All England Croquet and Lawn Tennis Club, Wimbledon, propose to hold a lawn tennis meeting, open to all amateurs, on Monday July 9th and following days\". A total of 22 men - no women were permitted at that stage - stumped up the ?11 shilling entrance fee, being warned to bring their own rackets and \"shoes without heels\" but that balls would be provided by the club gardener. The All England Club had been founded solely for the purpose of croquet in 1869 on four acres of rented meadowland at Worple Road, Wimbledon but croquet was rapidly overtaken by the new pastime of tennis. Conditions were primitive. A temporary three-plank stand offered seats for 30 people, the total attendance for the final was 200, the rackets resembled snowshoes in shape and weight and the balls had hand-sewn flannel outer casings. Today, Wimbledon is the oldest tennis tournament in the world and widely regarded as the most prestigious.\\n</td>\n",
       "      <td>\\nYour England Holiday Package includes:\\n\\n3 nights' accommodation at the 4-star Warren House, Kingston-upon-Thames Surrey\\nWeek one No 1 Court Event ticket: All debenture tickets are in prime locations and have access to the exclusive Debenture Holders Lounge, which includes a variety of excellent bars and restaurants, all overlooking the grounds at Wimbledon\\nOyster Card for travel to and from central London\\n6 days Bryte travel insurance\\nUPGRADE: to Week two No 1 Court (03-06 July 2022) from R28 960 per person sharing\\nUPGRADE: to Ladies Final Centre Court (08-11 July 2022) from R44 570 per person sharing\\nUPGRADE: to Mens Final Centre Court (09-12 July 2022) from R104 490 per person sharing\\n\\n</td>\n",
       "      <td>NaN</td>\n",
       "      <td>NaN</td>\n",
       "      <td>flightcentre</td>\n",
       "      <td>Warren House, Kingston-upon-T</td>\n",
       "      <td>NaN</td>\n",
       "    </tr>\n",
       "    <tr>\n",
       "      <th>9</th>\n",
       "      <td>https://www.flightcentre.co.za/product/15968357</td>\n",
       "      <td>flightcentre</td>\n",
       "      <td>tanzania</td>\n",
       "      <td>Tropical Palms &amp; Sandy Shores</td>\n",
       "      <td>\\nYour Zanzibar Holiday Package includes:\\nReturn direct flights from Johannesburg\\nApproximate taxes\\nReturn transfers\\n3 nights' accommodation at the 4-star Bluebay Beach Resort in a Garden Room\\nAll meals &amp; selected drinks daily\\nUPGRADE: to 7 Nights from R1400 per person sharing\\nExclusions\\nItems of a personal nature, items not mentioned, gratuities and porterage, meals and drinks not mentioned, tours/sightseeing not mentioned, car hire, travel insurance, an infrastructure levy of USD1 per person per day is payable upon check in\\nA luxury beachfront resort with traditional Swahili charm, Bluebay Beach Resort &amp; Spa is situated on the finest white, sandy beach on the east coast of the island of Zanzibar. Set in 30-acres of tropical gardens with over 1,000 palm trees, the resort is one of Zanzibar's most prestigious properties offering the ultimate in beach comfort: excellent accommodation; fine wining and dining; a host of sports and leisure facilities; the famous Oasis Spa; and our award-winning service. Free WiFi is also available throughout the Resort.\\n</td>\n",
       "      <td>\\nYour Zanzibar Holiday Package includes:\\n\\nReturn direct flights from Johannesburg\\nApproximate taxes\\nReturn transfers\\n3 nights' accommodation at the 4-star Bluebay Beach Resort in a Garden Room\\nAll meals &amp; selected drinks daily\\nUPGRADE: to 7 Nights from R1400 per person sharing\\n\\n</td>\n",
       "      <td>NaN</td>\n",
       "      <td>NaN</td>\n",
       "      <td>flightcentre</td>\n",
       "      <td>Bluebay Beach Resort</td>\n",
       "      <td>NaN</td>\n",
       "    </tr>\n",
       "    <tr>\n",
       "      <th>10</th>\n",
       "      <td>https://www.flightcentre.co.za/product/5415250</td>\n",
       "      <td>flightcentre</td>\n",
       "      <td>south africa</td>\n",
       "      <td>Family Fun on the Wild Coast</td>\n",
       "      <td>\\nYour Eastern Cape Holiday Package includes:\\nReturn flights from Cape Town to Durban\\nApproximate taxes\\n3 days car hire (Kia Picanto or similar)\\n3 nights' midweek accommodation on the Wild Coast at the 4-star Wild Coast Sun in a Garden Facing Luxury Room\\nBreakfast daily\\nBONUS: Complimentary access to Wild Waves Water Park\\nPLEASE NOTE: 2 Children eat breakfast and stay free when sharing with adults\\nWEEKEND UPGRADE: From R570 per adult\\nExclusions\\nTransfers, items of a personal nature, items not mentioned, gratuities and porterage, meals and drinks not mentioned, tours/sightseeing not mentioned\\nLess than 2 Hours from Durban. You can't beat the location of the Wild Coast Sun Hotel, situated in the coastal hub of Port Edward, less than a two-hour scenic drive along the South Coast from Durban's King Shaka International Airport. This family-friendly accommodation is just the place if you're looking for that relaxing room with a view, with all the modern facilities one could ever need. Moms and dads can soak up the sun watching the kids play at the Wild Waves Water Park, while couples can slip away to the tranquil oasis of the Mangwanani African Day Spa.\\n</td>\n",
       "      <td>\\nYour Eastern Cape Holiday Package includes:\\n\\nReturn flights from Cape Town to Durban\\nApproximate taxes\\n3 days car hire (Kia Picanto or similar)\\n3 nights' midweek accommodation on the Wild Coast at the 4-star Wild Coast Sun in a Garden Facing Luxury Room\\nBreakfast daily\\nBONUS: Complimentary access to Wild Waves Water Park\\nPLEASE NOTE: 2 Children eat breakfast and stay free when sharing with adults\\nWEEKEND UPGRADE: From R570 per adult\\n\\n</td>\n",
       "      <td>NaN</td>\n",
       "      <td>NaN</td>\n",
       "      <td>flightcentre</td>\n",
       "      <td>Wild Coast Sun</td>\n",
       "      <td>NaN</td>\n",
       "    </tr>\n",
       "    <tr>\n",
       "      <th>11</th>\n",
       "      <td>https://www.flightcentre.co.za/product/13250690</td>\n",
       "      <td>flightcentre</td>\n",
       "      <td>south africa</td>\n",
       "      <td>Kruger Park Splendour</td>\n",
       "      <td>\\nYour Kruger National Park Holiday Package includes:\\nReturn flights from Cape Town to Nelspruit\\nApproximate taxes\\n2 days car hire (Kia Picanto or similar)\\n2 nights' midweek accommodation just outside the Kruger National Park at the 4-star Protea Hotel by Marriott Kruger Gate in a Standard Room\\nBreakfast daily\\nExclusions\\nTransfers, items of a personal nature, items not mentioned, gratuities and porterage, meals and drinks not mentioned, tours/sightseeing not mentioned\\nExperience the wonder of the African Bushveld here in Mpumalanga with a visit to the Protea Hotel Kruger Gate. Located along the Sabie River, our rustic and elegant lodge provides all the comforts of home, yet is just 100 meters from the Paul Kruger Gate of Kruger National Park - offering unparalleled access to the area's legendary natural beauty. Step under the indigenous portico and be transported to a different world - one reminiscent of a tree house, with elevated walkways nestled among native bird habitats. Relax in your air-conditioned room which features marble bathrooms, free Wi-Fi and modern technology. Our two hotel restaurants, Lapa and Kudyela, offer delectable dining in an convivial atmosphere. Be sure to spend time at our year-round outdoor pool or squeeze in a workout at the fitness center. And with the incredible wildlife of Kruger National Park at your doorstep, you have plenty to explore during your stay. We look forward to welcoming you here to Mpumalanga at the Protea Hotel Kruger Gate!\\n</td>\n",
       "      <td>\\nYour Kruger National Park Holiday Package includes:\\n\\nReturn flights from Cape Town to Nelspruit\\nApproximate taxes\\n2 days car hire (Kia Picanto or similar)\\n2 nights' midweek accommodation just outside the Kruger National Park at the 4-star Protea Hotel by Marriott Kruger Gate in a Standard Room\\nBreakfast daily\\n\\n</td>\n",
       "      <td>NaN</td>\n",
       "      <td>NaN</td>\n",
       "      <td>flightcentre</td>\n",
       "      <td>Protea Hotel by</td>\n",
       "      <td>NaN</td>\n",
       "    </tr>\n",
       "    <tr>\n",
       "      <th>12</th>\n",
       "      <td>https://www.flightcentre.co.za/product/15631761</td>\n",
       "      <td>flightcentre</td>\n",
       "      <td>tanzania</td>\n",
       "      <td>Tropical Paradise</td>\n",
       "      <td>\\nYour Zanzibar Holiday Package includes:\\nReturn direct flights from Johannesburg\\nApproximate taxes\\nReturn transfers\\n7 nights' accommodation at the 5-star Tui Blue Bahari in a Deluxe Room\\nAll meals &amp; selected drinks daily\\nExclusions\\nItems of a personal nature, items not mentioned, gratuities and porterage, meals and drinks not mentioned, tours/sightseeing not mentioned, car hire, travel insurance, an infrastructure levy of USD1 per person per day is payable upon check in\\nAt the Hotel TUI BLUE Bahari Zanzibar, your holiday dream of a tropical paradise will come true. Directly on the picture-perfect sandy beach and embedded in an exotic garden area full of palm trees, the 5-star hotel in the Arabian palace style is the perfect choice in Zanzibar. Customize your comfortable and relaxing beach vacation as a couple or family entirely to your liking. The TUI BLUE Bahari Zanzibar entices you to feast with several restaurants and bars.\\n</td>\n",
       "      <td>\\nYour Zanzibar Holiday Package includes:\\n\\nReturn direct flights from Johannesburg\\nApproximate taxes\\nReturn transfers\\n7 nights' accommodation at the 5-star Tui Blue Bahari in a Deluxe Room\\nAll meals &amp; selected drinks daily\\n\\n</td>\n",
       "      <td>NaN</td>\n",
       "      <td>NaN</td>\n",
       "      <td>flightcentre</td>\n",
       "      <td>Tui Blue Bahari</td>\n",
       "      <td>NaN</td>\n",
       "    </tr>\n",
       "    <tr>\n",
       "      <th>13</th>\n",
       "      <td>https://www.flightcentre.co.za/product/15631761</td>\n",
       "      <td>flightcentre</td>\n",
       "      <td>tanzania</td>\n",
       "      <td>Tropical Paradise *DECEMBER TRAVEL*</td>\n",
       "      <td>\\nYour Zanzibar Holiday Package includes:\\nReturn flights from Johannesburg\\nApproximate taxes\\nReturn transfers\\n7 nights' accommodation at the 5-star Tui Blue Bahari in a Deluxe Room\\nAll meals &amp; selected drinks daily\\nExclusions\\nItems of a personal nature, items not mentioned, gratuities and porterage, meals and drinks not mentioned, tours/sightseeing not mentioned, car hire, travel insurance, an infrastructure levy of USD1 per person per day is payable upon check in\\nAt the Hotel TUI BLUE Bahari Zanzibar, your holiday dream of a tropical paradise will come true. Directly on the picture-perfect sandy beach and embedded in an exotic garden area full of palm trees, the 5-star hotel in the Arabian palace style is the perfect choice in Zanzibar. Customize your comfortable and relaxing beach vacation as a couple or family entirely to your liking. The TUI BLUE Bahari Zanzibar entices you to feast with several restaurants and bars.\\n</td>\n",
       "      <td>\\nYour Zanzibar Holiday Package includes:\\n\\nReturn flights from Johannesburg\\nApproximate taxes\\nReturn transfers\\n7 nights' accommodation at the 5-star Tui Blue Bahari in a Deluxe Room\\nAll meals &amp; selected drinks daily\\n\\n</td>\n",
       "      <td>NaN</td>\n",
       "      <td>NaN</td>\n",
       "      <td>flightcentre</td>\n",
       "      <td>Tui Blue Bahari</td>\n",
       "      <td>NaN</td>\n",
       "    </tr>\n",
       "    <tr>\n",
       "      <th>14</th>\n",
       "      <td>https://www.flightcentre.co.za/product/15968357</td>\n",
       "      <td>flightcentre</td>\n",
       "      <td>canada</td>\n",
       "      <td>Tropical Palms &amp; Sandy Shores</td>\n",
       "      <td>\\nYour Zanzibar Holiday Package includes:\\nReturn direct flights from Johannesburg\\nApproximate taxes\\nReturn transfers\\n3 nights' accommodation at the 5-star Bluebay Beach Resort in a Garden Room\\nAll meals &amp; selected drinks daily\\nUPGRADE: to 7 Nights from R1400 per person sharing\\nSet Departures 7 Night Stay \\n( 17 May 2022 - 24 May 2022 \\n21 May 2022 - 28 May 2022)\\nExclusions\\nItems of a personal nature, items not mentioned, gratuities and porterage, meals and drinks not mentioned, tours/sightseeing not mentioned, car hire, travel insurance, an infrastructure levy of USD1 per person per day is payable upon check in\\nA luxury beachfront resort with traditional Swahili charm, Bluebay Beach Resort &amp; Spa is situated on the finest white, sandy beach on the east coast of the island of Zanzibar. Set in 30-acres of tropical gardens with over 1,000 palm trees, the resort is one of Zanzibar's most prestigious properties offering the ultimate in beach comfort: excellent accommodation; fine wining and dining; a host of sports and leisure facilities; the famous Oasis Spa; and our award-winning service. Free WiFi is also available throughout the Resort.\\n</td>\n",
       "      <td>\\nYour Zanzibar Holiday Package includes:\\n\\nReturn direct flights from Johannesburg\\nApproximate taxes\\nReturn transfers\\n3 nights' accommodation at the 5-star Bluebay Beach Resort in a Garden Room\\nAll meals &amp; selected drinks daily\\nUPGRADE: to 7 Nights from R1400 per person sharing\\nSet Departures 7 Night Stay \\n( 17 May 2022 - 24 May 2022 \\n21 May 2022 - 28 May 2022)\\n\\n</td>\n",
       "      <td>NaN</td>\n",
       "      <td>NaN</td>\n",
       "      <td>flightcentre</td>\n",
       "      <td>Bluebay Beach Resort</td>\n",
       "      <td>NaN</td>\n",
       "    </tr>\n",
       "    <tr>\n",
       "      <th>15</th>\n",
       "      <td>https://www.flightcentre.co.za/product/15650115</td>\n",
       "      <td>flightcentre</td>\n",
       "      <td>france</td>\n",
       "      <td>Le Mans MotoGP 2022</td>\n",
       "      <td>\\nYour France Holiday Package includes:\\n3 nights' accommodation based in a Classic Hotel in Le Mans, Sarthe\\nWeekend with full paddock access, hospitality, pit tour, rider meeting, service road tour, welcome pack with merchandise, guide &amp; Moto3 GRID pass\\nBryte travel insurance (6 days cover)\\nSat/Sun track transfers, guides &amp; merchandise\\nExclusions\\nFlight, taxes, transport, passport &amp; visas. Admission fees into sights of interest not included in the tour cost/itinerary. Personal expenses such as tips for meals, gratuities, telephone calls, beverages, all meals not mentioned under inclusions and anything else of a personal nature. Any other services not mentioned.\\nThe Bugatti Circuit is the temporary home of the iconic 24 hours of Le Mans race, that began in 1923 on the Circuit de la Sarthe. It takes riders through a fast right-hand first turn, through a left-right hairpin combination and beneath one of Le Mans' most iconic structures - the Bridgestone Tires bridge - before leaving history behind and turning in on itself where the permanent 4.18km circuit is set up. Weekends at Le Mans are always exciting. The hotel is right in the city center, 15 minutes walk from the medieval quarter, and 2 minutes from the tram stop that takes you directly to the circuit. All in all, it?s a very convenient location! Le Mans itself is a great town - one of Europe's most historic medieval villages, the homeland of the famous English royal Plantagenet family, and charming beyond words.\\n</td>\n",
       "      <td>\\nYour France Holiday Package includes:\\n\\n3 nights' accommodation based in a Classic Hotel in Le Mans, Sarthe\\nWeekend with full paddock access, hospitality, pit tour, rider meeting, service road tour, welcome pack with merchandise, guide &amp; Moto3 GRID pass\\nBryte travel insurance (6 days cover)\\nSat/Sun track transfers, guides &amp; merchandise\\n\\n</td>\n",
       "      <td>NaN</td>\n",
       "      <td>NaN</td>\n",
       "      <td>flightcentre</td>\n",
       "      <td>None</td>\n",
       "      <td>NaN</td>\n",
       "    </tr>\n",
       "    <tr>\n",
       "      <th>16</th>\n",
       "      <td>https://www.flightcentre.co.za/product/15968357</td>\n",
       "      <td>flightcentre</td>\n",
       "      <td>tanzania</td>\n",
       "      <td>Tropical Palms &amp; Sandy Shores</td>\n",
       "      <td>\\nYour Zanzibar Holiday Package includes:\\nReturn direct flights from Johannesburg\\nApproximate taxes\\nReturn transfers\\n3 nights' accommodation at the 5-star Bluebay Beach Resort in a Garden Room\\nAll meals &amp; selected drinks daily\\nUPGRADE: to 7 Nights from R1400 per person sharing\\nSet Departures 7 Night Stay \\n( 17 May 2022 - 24 May 2022 \\n21 May 2022 - 28 May 2022)\\nExclusions\\nItems of a personal nature, items not mentioned, gratuities and porterage, meals and drinks not mentioned, tours/sightseeing not mentioned, car hire, travel insurance, an infrastructure levy of USD1 per person per day is payable upon check in\\nA luxury beachfront resort with traditional Swahili charm, Bluebay Beach Resort &amp; Spa is situated on the finest white, sandy beach on the east coast of the island of Zanzibar. Set in 30-acres of tropical gardens with over 1,000 palm trees, the resort is one of Zanzibar's most prestigious properties offering the ultimate in beach comfort: excellent accommodation; fine wining and dining; a host of sports and leisure facilities; the famous Oasis Spa; and our award-winning service. Free WiFi is also available throughout the Resort.\\n</td>\n",
       "      <td>\\nYour Zanzibar Holiday Package includes:\\n\\nReturn direct flights from Johannesburg\\nApproximate taxes\\nReturn transfers\\n3 nights' accommodation at the 5-star Bluebay Beach Resort in a Garden Room\\nAll meals &amp; selected drinks daily\\nUPGRADE: to 7 Nights from R1400 per person sharing\\nSet Departures 7 Night Stay \\n( 17 May 2022 - 24 May 2022 \\n21 May 2022 - 28 May 2022)\\n\\n</td>\n",
       "      <td>NaN</td>\n",
       "      <td>NaN</td>\n",
       "      <td>flightcentre</td>\n",
       "      <td>Bluebay Beach Resort</td>\n",
       "      <td>NaN</td>\n",
       "    </tr>\n",
       "    <tr>\n",
       "      <th>17</th>\n",
       "      <td>https://www.flightcentre.co.za/product/13297703</td>\n",
       "      <td>flightcentre</td>\n",
       "      <td>mauritius</td>\n",
       "      <td>Tropical Attitude *ADULTS ONLY - DECEMBER TRAVEL*</td>\n",
       "      <td>\\nYour Mauritius Holiday Package includes:\\nReturn direct flights from Johannesburg\\nApproximate taxes\\nReturn transfers\\n7 nights' accommodation at the 3-star Tropical Attitude in a Seafront Standard Room\\nAll meals and selected drinks daily\\nExclusions\\nItems of a personal nature, items not mentioned, gratuities and porterage, meals and drinks not mentioned, tours/sightseeing not mentioned, car hire\\nWelcome to the picture-perfect east coast of Mauritius, and to the Tropical Attitude hotel. Here, you'll benefit from the ideal location facing a clear, turquoise lagoon, close to the charming fishing village of Trou d'Eau Douce and idyllic Ile aux Cerfs. A true ode to tranquility, this boutique hotel immerses you in an atmosphere that's both elegant and relaxed, courtesy of its tropical architecture and open spaces.\\n</td>\n",
       "      <td>\\nYour Mauritius Holiday Package includes:\\n\\nReturn direct flights from Johannesburg\\nApproximate taxes\\nReturn transfers\\n7 nights' accommodation at the 3-star Tropical Attitude in a Seafront Standard Room\\nAll meals and selected drinks daily\\n\\n</td>\n",
       "      <td>NaN</td>\n",
       "      <td>NaN</td>\n",
       "      <td>flightcentre</td>\n",
       "      <td>Tropical Attitude in</td>\n",
       "      <td>NaN</td>\n",
       "    </tr>\n",
       "    <tr>\n",
       "      <th>18</th>\n",
       "      <td>https://www.flightcentre.co.za/product/16282226</td>\n",
       "      <td>flightcentre</td>\n",
       "      <td>france</td>\n",
       "      <td>Rugby World Cup 2023 - Semi Final 1 &amp; Semi Final 2 | Bronze Final &amp; Final</td>\n",
       "      <td>\\nYour Paris Holiday Package includes:\\n3 nights' accommodation at a 3-star hotel in Paris (19-22 October 2023) &amp; 4 nights' accommodation at a 3-star hotel in Paris (25-29 October 2023)\\nBreakfast daily\\nGuaranteed category 4 match tickets on 20 &amp; 21 October 2023 and 27 &amp; 28 October 2023\\nOfficial SA Rugby memorabilia\\nGroup travel insurance\\nExclusions\\nFlight, taxes, transport, passport &amp; visas. Any and all ground transportation. Admission fees into sights of interests, personal expenses such as tips for meals, gratuities, telephone calls, beverages, all meals not mentioned under inclusions and anything else of a personal nature, hotel accommodation and match ticket upgrades. Any services not mentioned. Please note that accommodation is not included from 22 October 2023 - 25 October 2023.\\nPARIS TOP 5: 5 - CUISINE French food isn't all about haute cuisine and fine dining some of the best food to be enjoyed in Paris can be bought for a couple of euros from a humble boulangerie. From Macarons, Baguettes, Croissants, Steak frites, Paris Brest to street stand crepes, French cuisine is indulgence you cannot miss. 4 - ATTRACTIONS: Built in 1889 for the Exposition Universelle, the Eiffel Tower (Tour Eiffel) has become the main symbol of Paris. It is also the most-visited attraction in the world. The Eiffel Tower is a wrought iron tower standing 324m tall and is the most famous symbol of Paris. Don't miss a visit to some of Paris' other top attractions - Louvre Museum, Notre Dame Cathedral, Arc de Triomphe, Montmatre, Champs-Elysees to name but a few. 3 - EXPERIENCE: An iconic Paris cabaret, the Moulin Rouge has a storied history stretching back over a century. Most notably, it was the birthplace of the iconic can-can dance. Visitors from around the world come every day to take in the spectacular show. Identified by its red windmill, the cabaret's building is itself a popular tourist landmark. 2 - SHOPPING: Champs-Elysees: The city's most popular avenue is also renowned for its exclusive stores, luxury brands and designer fashion. This is where , attracting Louis Vuitton's insignia shop is attracting hundreds of clients and thousands of curious tourists to its window display each day. Galeries Lafayette: Declared historic monument thanks to its spectacular Neo-Byzantine dome, Galeries Lafayette is one of the most visited department stores in the world. 1 - ULTIMATE: An evening cruise on the Seine, when the city is beautifully illuminated, is one of the most romantic things to do in Paris. Some of the cruises include a delicious gourmet dinner, wine and live music, creating a truly magical atmosphere. Glide smoothly through the night and see the stunning views of the illuminated Eiffel Tower, Notre Dame, the Louvre and create some wonderful memories to cherish for the years to come.\\n</td>\n",
       "      <td>\\nYour Paris Holiday Package includes:\\n\\n3 nights' accommodation at a 3-star hotel in Paris (19-22 October 2023) &amp; 4 nights' accommodation at a 3-star hotel in Paris (25-29 October 2023)\\nBreakfast daily\\nGuaranteed category 4 match tickets on 20 &amp; 21 October 2023 and 27 &amp; 28 October 2023\\nOfficial SA Rugby memorabilia\\nGroup travel insurance\\n\\n</td>\n",
       "      <td>NaN</td>\n",
       "      <td>NaN</td>\n",
       "      <td>flightcentre</td>\n",
       "      <td>hotel in Paris</td>\n",
       "      <td>NaN</td>\n",
       "    </tr>\n",
       "    <tr>\n",
       "      <th>19</th>\n",
       "      <td>https://www.flightcentre.co.za/product/16390931</td>\n",
       "      <td>flightcentre</td>\n",
       "      <td>maldives</td>\n",
       "      <td>Heritance Aarah</td>\n",
       "      <td>\\nYour Maldives Holiday Package includes:\\nReturn flights from Johannesburg\\nApproximate taxes\\nReturn domestic flight &amp; speedboat transfers\\n7 nights' accommodation at the 5-star Heritance Aarah in a Beachfront Villa\\nAll meals &amp; selected alcoholic and non-alcoholic drinks daily\\nBONUS: 35% Discount Included!\\nExclusions\\nItems of a personal nature, items not mentioned, gratuities and porterage, meals &amp; drinks not mentioned, tours/sightseeing not mentioned, car hire\\nEscape to Heritance Aarah? Wake up in paradise to the sound of the sea, dive amidst exotic underwater marvels and dine under a majestic star-studded sky over one of the finest Maldives luxury resorts.\\n</td>\n",
       "      <td>\\nYour Maldives Holiday Package includes:\\n\\nReturn flights from Johannesburg\\nApproximate taxes\\nReturn domestic flight &amp; speedboat transfers\\n7 nights' accommodation at the 5-star Heritance Aarah in a Beachfront Villa\\nAll meals &amp; selected alcoholic and non-alcoholic drinks daily\\nBONUS: 35% Discount Included!\\n\\n</td>\n",
       "      <td>NaN</td>\n",
       "      <td>NaN</td>\n",
       "      <td>flightcentre</td>\n",
       "      <td>Heritance Aarah in</td>\n",
       "      <td>NaN</td>\n",
       "    </tr>\n",
       "  </tbody>\n",
       "</table>\n",
       "</div>"
      ],
      "text/plain": [
       "                                        scraped_url   agency_slug  \\\n",
       "0   https://www.flightcentre.co.za/product/14197346  flightcentre   \n",
       "1   https://www.flightcentre.co.za/product/5415249   flightcentre   \n",
       "2   https://www.flightcentre.co.za/product/16385011  flightcentre   \n",
       "3   https://www.flightcentre.co.za/product/16323810  flightcentre   \n",
       "4   https://www.flightcentre.co.za/product/13250621  flightcentre   \n",
       "5   https://www.flightcentre.co.za/product/15650253  flightcentre   \n",
       "6   https://www.flightcentre.co.za/product/12615686  flightcentre   \n",
       "7   https://www.flightcentre.co.za/product/12616094  flightcentre   \n",
       "8   https://www.flightcentre.co.za/product/15650322  flightcentre   \n",
       "9   https://www.flightcentre.co.za/product/15968357  flightcentre   \n",
       "10  https://www.flightcentre.co.za/product/5415250   flightcentre   \n",
       "11  https://www.flightcentre.co.za/product/13250690  flightcentre   \n",
       "12  https://www.flightcentre.co.za/product/15631761  flightcentre   \n",
       "13  https://www.flightcentre.co.za/product/15631761  flightcentre   \n",
       "14  https://www.flightcentre.co.za/product/15968357  flightcentre   \n",
       "15  https://www.flightcentre.co.za/product/15650115  flightcentre   \n",
       "16  https://www.flightcentre.co.za/product/15968357  flightcentre   \n",
       "17  https://www.flightcentre.co.za/product/13297703  flightcentre   \n",
       "18  https://www.flightcentre.co.za/product/16282226  flightcentre   \n",
       "19  https://www.flightcentre.co.za/product/16390931  flightcentre   \n",
       "\n",
       "           country  \\\n",
       "0   maldives         \n",
       "1   south africa     \n",
       "2   mauritius        \n",
       "3   mauritius        \n",
       "4   south africa     \n",
       "5   hungary          \n",
       "6   mauritius        \n",
       "7   mauritius        \n",
       "8   united kingdom   \n",
       "9   tanzania         \n",
       "10  south africa     \n",
       "11  south africa     \n",
       "12  tanzania         \n",
       "13  tanzania         \n",
       "14  canada           \n",
       "15  france           \n",
       "16  tanzania         \n",
       "17  mauritius        \n",
       "18  france           \n",
       "19  maldives         \n",
       "\n",
       "                                                                        title  \\\n",
       "0   Adaaran Select Meedhupparu                                                  \n",
       "1   Family Fun on the Wild Coast                                                \n",
       "2   Azuri Residences by Life in Blue                                            \n",
       "3   Seas the Day in Mauritius                                                   \n",
       "4   Kruger Park Splendour                                                       \n",
       "5   Hungarian F1 Grand Prix 2022                                                \n",
       "6   Seas the Day in Mauritius                                                   \n",
       "7   Clear Skies & Turquoise Sea                                                 \n",
       "8   Wimbledon 2022                                                              \n",
       "9   Tropical Palms & Sandy Shores                                               \n",
       "10  Family Fun on the Wild Coast                                                \n",
       "11  Kruger Park Splendour                                                       \n",
       "12  Tropical Paradise                                                           \n",
       "13  Tropical Paradise *DECEMBER TRAVEL*                                         \n",
       "14  Tropical Palms & Sandy Shores                                               \n",
       "15  Le Mans MotoGP 2022                                                         \n",
       "16  Tropical Palms & Sandy Shores                                               \n",
       "17  Tropical Attitude *ADULTS ONLY - DECEMBER TRAVEL*                           \n",
       "18  Rugby World Cup 2023 - Semi Final 1 & Semi Final 2 | Bronze Final & Final   \n",
       "19  Heritance Aarah                                                             \n",
       "\n",
       "                                                                                                                                                                                                                                                                                                                                                                                                                                                                                                                                                                                                                                                                                                                                                                                                                                                                                                                                                                                                                                                                                                                                                                                                                                                                                                                                                                                                                                                                                                                                                                                                                                                                                                                                                                                                                                                                                                                                                                                                                                                                                                                                                                                                                                                                                                                                                                                                                                                                                                                                                                                                                                                                                                                                                                                                                                                                                                                                     description  \\\n",
       "0   \\nYour Maldives Holiday Package includes:\\nReturn flights from Johannesburg\\nApproximate taxes\\nReturn domestic flight & speedboat transfers\\n7 nights' accommodation at the 4-star Adaaran Select Meedhupparu in a Beachfront Villa\\nAll meals & selected alcoholic and non-alcoholic drinks daily\\nExclusions\\nItems of a personal nature, items not mentioned, gratuities and porterage, meals & drinks not mentioned, tours/sightseeing not mentioned, car hire\\nWith the promise of an incomparable holiday in the tropics, Adaaran Select Meedhupparu one of the best Maldives luxury resorts offers blissful accommodation for the discerning traveller to the Maldives. Bask under the healing sunshine and soak up the alluring sights and sounds of a truly enchanting island in the tropics. Adaaran Select Meedhupparu offers tranquil settings brimming with luxury. Settle into a holiday full of breathtaking experiences that will leave you with memories to last a lifetime.\\n                                                                                                                                                                                                                                                                                                                                                                                                                                                                                                                                                                                                                                                                                                                                                                                                                                                                                                                                                                                                                                                                                                                                                                                                                                                                                                                                                                                                                                                                                                                                                                                                                                                                                                                                                                                                                                                                                                                                               \n",
       "1   \\nYour Eastern Cape Holiday Package includes:\\nReturn flights from Johannesburg to Durban\\nApproximate taxes\\n3 days car hire (Kia Picanto or similar)\\n3 nights' midweek accommodation on the Wild Coast at the 4-star Wild Coast Sun in a Garden Facing Luxury Room\\nBreakfast daily\\nBONUS: Complimentary access to Wild Waves Water Park\\nPLEASE NOTE: 2 Children eat breakfast and stay free when sharing with adults\\nWEEKEND UPGRADE: From R660 per adult\\nExclusions\\nTransfers, items of a personal nature, items not mentioned, gratuities and porterage, meals and drinks not mentioned, tours/sightseeing not mentioned\\nLess than 2 Hours from Durban. You can't beat the location of the Wild Coast Sun Hotel, situated in the coastal hub of Port Edward, less than a two-hour scenic drive along the South Coast from Durban's King Shaka International Airport. This family-friendly accommodation is just the place if you're looking for that relaxing room with a view, with all the modern facilities one could ever need. Moms and dads can soak up the sun watching the kids play at the Wild Waves Water Park, while couples can slip away to the tranquil oasis of the Mangwanani African Day Spa.\\n                                                                                                                                                                                                                                                                                                                                                                                                                                                                                                                                                                                                                                                                                                                                                                                                                                                                                                                                                                                                                                                                                                                                                                                                                                                                                                                                                                                                                                                                                                                                                                                                                                                                                                                  \n",
       "2   \\nYour Mauritius Holiday Package includes:\\nReturn direct flights from Durban\\nApproximate taxes\\nReturn transfers\\n5 nights' accommodation at the 4-star Azuri Residences by Life in Blue in a Deluxe Apartment on a Room Only basis\\nPLEASE NOTE: Price is based on 4 people travelling together\\nExclusions\\nItems of a personal nature, items not mentioned, gratuities and porterage, meals and drinks not mentioned, tours/sightseeing not mentioned, car hire\\nThis coastal village on the north-eastern coast of the island in Roches Noires, lined by an infinite turquoise sea and the blue sky, will tinge your holidays with picturesque shades of blue. Opt for our high-end seafront accommodation and enjoy your intimacy within an elegant setting. Kindle your senses and experience La Dolce Vita through a memorable escape to Mauritius where you will benefit from services available at your fingertips within Azuri village.\\n                                                                                                                                                                                                                                                                                                                                                                                                                                                                                                                                                                                                                                                                                                                                                                                                                                                                                                                                                                                                                                                                                                                                                                                                                                                                                                                                                                                                                                                                                                                                                                                                                                                                                                                                                                                                                                                                                                                                                                                          \n",
       "3   \\nYour Mauritius Holiday Package includes:\\nReturn direct flights from Cape Town\\nApproximate taxes\\nReturn transfers\\n5 nights' accommodation at the 4,5-star Radisson Blu Azuri Resort & Spa in a Garden Premium Room\\nAll meals & selected drinks daily\\nBONUS: FREE upgrade to All Inclusive included\\n2 Children under 12 years stay FREE\\nExclusions\\nItems of a personal nature, items not mentioned, gratuities and porterage, meals and drinks not mentioned, tours/sightseeing not mentioned, car hire\\nSet on the tranquil beach that frames the brand new Azuri marine complex on the north east coast of the island, with a sparkling lagoon and lush green surroundings, the resort delivers a distinctive Mauritius holiday experience. A perfect retreat for couples and a fun place for families, the resort has all the necessary facilities for a most enjoyable holiday.\\n                                                                                                                                                                                                                                                                                                                                                                                                                                                                                                                                                                                                                                                                                                                                                                                                                                                                                                                                                                                                                                                                                                                                                                                                                                                                                                                                                                                                                                                                                                                                                                                                                                                                                                                                                                                                                                                                                                                                                                                                                                                 \n",
       "4   \\nYour Kruger National Park Holiday Package includes:\\nReturn flights from Johannesburg to Nelspruit\\nApproximate taxes\\n2 days car hire (Kia Picanto or similar)\\n2 nights' midweek accommodation just outside the Kruger National Park at the 4-star Protea Hotel by Marriott Kruger Gate in a Standard Room\\nBreakfast daily\\nExclusions\\nTransfers, items of a personal nature, items not mentioned, gratuities and porterage, meals and drinks not mentioned, tours/sightseeing not mentioned\\nExperience the wonder of the African Bushveld here in Mpumalanga with a visit to the Protea Hotel Kruger Gate. Located along the Sabie River, our rustic and elegant lodge provides all the comforts of home, yet is just 100 meters from the Paul Kruger Gate of Kruger National Park - offering unparalleled access to the area's legendary natural beauty. Step under the indigenous portico and be transported to a different world - one reminiscent of a tree house, with elevated walkways nestled among native bird habitats. Relax in your air-conditioned room which features marble bathrooms, free Wi-Fi and modern technology. Our two hotel restaurants, Lapa and Kudyela, offer delectable dining in an convivial atmosphere. Be sure to spend time at our year-round outdoor pool or squeeze in a workout at the fitness center. And with the incredible wildlife of Kruger National Park at your doorstep, you have plenty to explore during your stay. We look forward to welcoming you here to Mpumalanga at the Protea Hotel Kruger Gate!\\n                                                                                                                                                                                                                                                                                                                                                                                                                                                                                                                                                                                                                                                                                                                                                                                                                                                                                                                                                                                                                                                                                                                                                                                                                                                                                                                                                                            \n",
       "5   \\nYour Hungary Holiday Package includes:\\n3 nights' accommodation at the 3-star Ibis Budapest Centrum or similar\\n3-day general admission race ticket (Friday - Sunday)\\nReturn circuit transfers (Saturday & Sunday only)\\n6 days travel insurance\\nTour merchandise\\nExclusions\\nFlight, taxes, transport, passport & visas. Admission fees into sights of interest not included in the tour cost/itinerary. Personal expenses such as tips for meals, gratuities, telephone calls, beverages, all meals not mentioned under inclusions and anything else of a personal nature. Any other services not mentioned.\\nThe Hungarian Grand Prix is a motor race held annually in Mogyorod, Hungary. Since 1986, the race has been a round of the FIA Formula One World Championship. The first Hungarian Grand Prix was held on 21 June 1936 over a 5-kilometre track laid out in Nepliget, a park in Budapest. The Mercedes-Benz, Auto Union, and the Alfa Romeo-equipped Ferrari teams all sent three cars and the event drew a very large crowd. However, politics and the ensuing war meant the end of Grand Prix motor racing in the country for fifty years.\\n                                                                                                                                                                                                                                                                                                                                                                                                                                                                                                                                                                                                                                                                                                                                                                                                                                                                                                                                                                                                                                                                                                                                                                                                                                                                                                                                                                                                                                                                                                                                                                                                                                                                                                                                                                             \n",
       "6   \\nYour Mauritius Holiday Package includes:\\nReturn direct flights from Johannesburg\\nApproximate taxes\\nReturn transfers\\n7 nights' accommodation at the 4,5-star Radisson Blu Azuri Resort & Spa in a Garden Premium Room\\nAll meals & selected drinks daily\\nBONUS: FREE upgrade to All Inclusive included\\n2 Children under 12 years stay FREE\\nExclusions\\nItems of a personal nature, items not mentioned, gratuities and porterage, meals and drinks not mentioned, tours/sightseeing not mentioned, car hire\\nSet on the tranquil beach that frames the brand new Azuri marine complex on the north east coast of the island, with a sparkling lagoon and lush green surroundings, the resort delivers a distinctive Mauritius holiday experience. A perfect retreat for couples and a fun place for families, the resort has all the necessary facilities for a most enjoyable holiday.\\n                                                                                                                                                                                                                                                                                                                                                                                                                                                                                                                                                                                                                                                                                                                                                                                                                                                                                                                                                                                                                                                                                                                                                                                                                                                                                                                                                                                                                                                                                                                                                                                                                                                                                                                                                                                                                                                                                                                                                                                                                                              \n",
       "7   \\nYour Mauritius Holiday Package includes:\\nReturn direct flights from Johannesburg\\nApproximate taxes\\nReturn transfers\\n5 nights' accommodation at the 3-star Azuri Residences by Life in Blue in a Deluxe Apartment on a Room Only basis\\nPLEASE NOTE: Price is based on 4 people travelling together\\nExclusions\\nItems of a personal nature, items not mentioned, gratuities and porterage, meals and drinks not mentioned, tours/sightseeing not mentioned, car hire\\nThis coastal village on the north-eastern coast of the island in Roches Noires, lined by an infinite turquoise sea and the blue sky, will tinge your holidays with picturesque shades of blue. Opt for our high-end seafront accommodation and enjoy your intimacy within an elegant setting. Kindle your senses and experience La Dolce Vita through a memorable escape to Mauritius where you will benefit from services available at your fingertips within Azuri village.\\n                                                                                                                                                                                                                                                                                                                                                                                                                                                                                                                                                                                                                                                                                                                                                                                                                                                                                                                                                                                                                                                                                                                                                                                                                                                                                                                                                                                                                                                                                                                                                                                                                                                                                                                                                                                                                                                                                                                                                                                    \n",
       "8   \\nYour England Holiday Package includes:\\n3 nights' accommodation at the 4-star Warren House, Kingston-upon-Thames Surrey\\nWeek one No 1 Court Event ticket: All debenture tickets are in prime locations and have access to the exclusive Debenture Holders Lounge, which includes a variety of excellent bars and restaurants, all overlooking the grounds at Wimbledon\\nOyster Card for travel to and from central London\\n6 days Bryte travel insurance\\nUPGRADE: to Week two No 1 Court (03-06 July 2022) from R28 960 per person sharing\\nUPGRADE: to Ladies Final Centre Court (08-11 July 2022) from R44 570 per person sharing\\nUPGRADE: to Mens Final Centre Court (09-12 July 2022) from R104 490 per person sharing\\nExclusions\\nFlight, taxes, transport, passport & visas. Admission fees into sights of interest not included in the tour cost/itinerary. Personal expenses such as tips for meals, gratuities, telephone calls, beverages, all meals not mentioned under inclusions and anything else of a personal nature. Any other services not mentioned.\\nInch-perfect serves, nail-biting sets, and some of the sporting world's most famous rivalries. Moments of ecstasy, heart-breaking exits, and atmospheres that are as intense as they are palpable. With Pure Sport, you have a chance to experience tennis' most magical moments live. Boasting a footprint on 6 continents and a loyal audience around the world, tennis is certainly one of the most universal sports on the planet. Let us put you in the action with travel packages that are tailored to your needs, so you don't miss out on a single rally. It all began with an announcement in the leisure magazine The Field on 9 June 1877 that \"The All England Croquet and Lawn Tennis Club, Wimbledon, propose to hold a lawn tennis meeting, open to all amateurs, on Monday July 9th and following days\". A total of 22 men - no women were permitted at that stage - stumped up the ?11 shilling entrance fee, being warned to bring their own rackets and \"shoes without heels\" but that balls would be provided by the club gardener. The All England Club had been founded solely for the purpose of croquet in 1869 on four acres of rented meadowland at Worple Road, Wimbledon but croquet was rapidly overtaken by the new pastime of tennis. Conditions were primitive. A temporary three-plank stand offered seats for 30 people, the total attendance for the final was 200, the rackets resembled snowshoes in shape and weight and the balls had hand-sewn flannel outer casings. Today, Wimbledon is the oldest tennis tournament in the world and widely regarded as the most prestigious.\\n                                                                                                                                                                                                                                     \n",
       "9   \\nYour Zanzibar Holiday Package includes:\\nReturn direct flights from Johannesburg\\nApproximate taxes\\nReturn transfers\\n3 nights' accommodation at the 4-star Bluebay Beach Resort in a Garden Room\\nAll meals & selected drinks daily\\nUPGRADE: to 7 Nights from R1400 per person sharing\\nExclusions\\nItems of a personal nature, items not mentioned, gratuities and porterage, meals and drinks not mentioned, tours/sightseeing not mentioned, car hire, travel insurance, an infrastructure levy of USD1 per person per day is payable upon check in\\nA luxury beachfront resort with traditional Swahili charm, Bluebay Beach Resort & Spa is situated on the finest white, sandy beach on the east coast of the island of Zanzibar. Set in 30-acres of tropical gardens with over 1,000 palm trees, the resort is one of Zanzibar's most prestigious properties offering the ultimate in beach comfort: excellent accommodation; fine wining and dining; a host of sports and leisure facilities; the famous Oasis Spa; and our award-winning service. Free WiFi is also available throughout the Resort.\\n                                                                                                                                                                                                                                                                                                                                                                                                                                                                                                                                                                                                                                                                                                                                                                                                                                                                                                                                                                                                                                                                                                                                                                                                                                                                                                                                                                                                                                                                                                                                                                                                                                                                                                                                                                                                                           \n",
       "10  \\nYour Eastern Cape Holiday Package includes:\\nReturn flights from Cape Town to Durban\\nApproximate taxes\\n3 days car hire (Kia Picanto or similar)\\n3 nights' midweek accommodation on the Wild Coast at the 4-star Wild Coast Sun in a Garden Facing Luxury Room\\nBreakfast daily\\nBONUS: Complimentary access to Wild Waves Water Park\\nPLEASE NOTE: 2 Children eat breakfast and stay free when sharing with adults\\nWEEKEND UPGRADE: From R570 per adult\\nExclusions\\nTransfers, items of a personal nature, items not mentioned, gratuities and porterage, meals and drinks not mentioned, tours/sightseeing not mentioned\\nLess than 2 Hours from Durban. You can't beat the location of the Wild Coast Sun Hotel, situated in the coastal hub of Port Edward, less than a two-hour scenic drive along the South Coast from Durban's King Shaka International Airport. This family-friendly accommodation is just the place if you're looking for that relaxing room with a view, with all the modern facilities one could ever need. Moms and dads can soak up the sun watching the kids play at the Wild Waves Water Park, while couples can slip away to the tranquil oasis of the Mangwanani African Day Spa.\\n                                                                                                                                                                                                                                                                                                                                                                                                                                                                                                                                                                                                                                                                                                                                                                                                                                                                                                                                                                                                                                                                                                                                                                                                                                                                                                                                                                                                                                                                                                                                                                                                                                                                                                                     \n",
       "11  \\nYour Kruger National Park Holiday Package includes:\\nReturn flights from Cape Town to Nelspruit\\nApproximate taxes\\n2 days car hire (Kia Picanto or similar)\\n2 nights' midweek accommodation just outside the Kruger National Park at the 4-star Protea Hotel by Marriott Kruger Gate in a Standard Room\\nBreakfast daily\\nExclusions\\nTransfers, items of a personal nature, items not mentioned, gratuities and porterage, meals and drinks not mentioned, tours/sightseeing not mentioned\\nExperience the wonder of the African Bushveld here in Mpumalanga with a visit to the Protea Hotel Kruger Gate. Located along the Sabie River, our rustic and elegant lodge provides all the comforts of home, yet is just 100 meters from the Paul Kruger Gate of Kruger National Park - offering unparalleled access to the area's legendary natural beauty. Step under the indigenous portico and be transported to a different world - one reminiscent of a tree house, with elevated walkways nestled among native bird habitats. Relax in your air-conditioned room which features marble bathrooms, free Wi-Fi and modern technology. Our two hotel restaurants, Lapa and Kudyela, offer delectable dining in an convivial atmosphere. Be sure to spend time at our year-round outdoor pool or squeeze in a workout at the fitness center. And with the incredible wildlife of Kruger National Park at your doorstep, you have plenty to explore during your stay. We look forward to welcoming you here to Mpumalanga at the Protea Hotel Kruger Gate!\\n                                                                                                                                                                                                                                                                                                                                                                                                                                                                                                                                                                                                                                                                                                                                                                                                                                                                                                                                                                                                                                                                                                                                                                                                                                                                                                                                                                               \n",
       "12  \\nYour Zanzibar Holiday Package includes:\\nReturn direct flights from Johannesburg\\nApproximate taxes\\nReturn transfers\\n7 nights' accommodation at the 5-star Tui Blue Bahari in a Deluxe Room\\nAll meals & selected drinks daily\\nExclusions\\nItems of a personal nature, items not mentioned, gratuities and porterage, meals and drinks not mentioned, tours/sightseeing not mentioned, car hire, travel insurance, an infrastructure levy of USD1 per person per day is payable upon check in\\nAt the Hotel TUI BLUE Bahari Zanzibar, your holiday dream of a tropical paradise will come true. Directly on the picture-perfect sandy beach and embedded in an exotic garden area full of palm trees, the 5-star hotel in the Arabian palace style is the perfect choice in Zanzibar. Customize your comfortable and relaxing beach vacation as a couple or family entirely to your liking. The TUI BLUE Bahari Zanzibar entices you to feast with several restaurants and bars.\\n                                                                                                                                                                                                                                                                                                                                                                                                                                                                                                                                                                                                                                                                                                                                                                                                                                                                                                                                                                                                                                                                                                                                                                                                                                                                                                                                                                                                                                                                                                                                                                                                                                                                                                                                                                                                                                                                                                                                                        \n",
       "13  \\nYour Zanzibar Holiday Package includes:\\nReturn flights from Johannesburg\\nApproximate taxes\\nReturn transfers\\n7 nights' accommodation at the 5-star Tui Blue Bahari in a Deluxe Room\\nAll meals & selected drinks daily\\nExclusions\\nItems of a personal nature, items not mentioned, gratuities and porterage, meals and drinks not mentioned, tours/sightseeing not mentioned, car hire, travel insurance, an infrastructure levy of USD1 per person per day is payable upon check in\\nAt the Hotel TUI BLUE Bahari Zanzibar, your holiday dream of a tropical paradise will come true. Directly on the picture-perfect sandy beach and embedded in an exotic garden area full of palm trees, the 5-star hotel in the Arabian palace style is the perfect choice in Zanzibar. Customize your comfortable and relaxing beach vacation as a couple or family entirely to your liking. The TUI BLUE Bahari Zanzibar entices you to feast with several restaurants and bars.\\n                                                                                                                                                                                                                                                                                                                                                                                                                                                                                                                                                                                                                                                                                                                                                                                                                                                                                                                                                                                                                                                                                                                                                                                                                                                                                                                                                                                                                                                                                                                                                                                                                                                                                                                                                                                                                                                                                                                                                               \n",
       "14  \\nYour Zanzibar Holiday Package includes:\\nReturn direct flights from Johannesburg\\nApproximate taxes\\nReturn transfers\\n3 nights' accommodation at the 5-star Bluebay Beach Resort in a Garden Room\\nAll meals & selected drinks daily\\nUPGRADE: to 7 Nights from R1400 per person sharing\\nSet Departures 7 Night Stay \\n( 17 May 2022 - 24 May 2022 \\n21 May 2022 - 28 May 2022)\\nExclusions\\nItems of a personal nature, items not mentioned, gratuities and porterage, meals and drinks not mentioned, tours/sightseeing not mentioned, car hire, travel insurance, an infrastructure levy of USD1 per person per day is payable upon check in\\nA luxury beachfront resort with traditional Swahili charm, Bluebay Beach Resort & Spa is situated on the finest white, sandy beach on the east coast of the island of Zanzibar. Set in 30-acres of tropical gardens with over 1,000 palm trees, the resort is one of Zanzibar's most prestigious properties offering the ultimate in beach comfort: excellent accommodation; fine wining and dining; a host of sports and leisure facilities; the famous Oasis Spa; and our award-winning service. Free WiFi is also available throughout the Resort.\\n                                                                                                                                                                                                                                                                                                                                                                                                                                                                                                                                                                                                                                                                                                                                                                                                                                                                                                                                                                                                                                                                                                                                                                                                                                                                                                                                                                                                                                                                                                                                                                                                                                                                                                                                   \n",
       "15  \\nYour France Holiday Package includes:\\n3 nights' accommodation based in a Classic Hotel in Le Mans, Sarthe\\nWeekend with full paddock access, hospitality, pit tour, rider meeting, service road tour, welcome pack with merchandise, guide & Moto3 GRID pass\\nBryte travel insurance (6 days cover)\\nSat/Sun track transfers, guides & merchandise\\nExclusions\\nFlight, taxes, transport, passport & visas. Admission fees into sights of interest not included in the tour cost/itinerary. Personal expenses such as tips for meals, gratuities, telephone calls, beverages, all meals not mentioned under inclusions and anything else of a personal nature. Any other services not mentioned.\\nThe Bugatti Circuit is the temporary home of the iconic 24 hours of Le Mans race, that began in 1923 on the Circuit de la Sarthe. It takes riders through a fast right-hand first turn, through a left-right hairpin combination and beneath one of Le Mans' most iconic structures - the Bridgestone Tires bridge - before leaving history behind and turning in on itself where the permanent 4.18km circuit is set up. Weekends at Le Mans are always exciting. The hotel is right in the city center, 15 minutes walk from the medieval quarter, and 2 minutes from the tram stop that takes you directly to the circuit. All in all, it?s a very convenient location! Le Mans itself is a great town - one of Europe's most historic medieval villages, the homeland of the famous English royal Plantagenet family, and charming beyond words.\\n                                                                                                                                                                                                                                                                                                                                                                                                                                                                                                                                                                                                                                                                                                                                                                                                                                                                                                                                                                                                                                                                                                                                                                                                                                                                                                                                                                                    \n",
       "16  \\nYour Zanzibar Holiday Package includes:\\nReturn direct flights from Johannesburg\\nApproximate taxes\\nReturn transfers\\n3 nights' accommodation at the 5-star Bluebay Beach Resort in a Garden Room\\nAll meals & selected drinks daily\\nUPGRADE: to 7 Nights from R1400 per person sharing\\nSet Departures 7 Night Stay \\n( 17 May 2022 - 24 May 2022 \\n21 May 2022 - 28 May 2022)\\nExclusions\\nItems of a personal nature, items not mentioned, gratuities and porterage, meals and drinks not mentioned, tours/sightseeing not mentioned, car hire, travel insurance, an infrastructure levy of USD1 per person per day is payable upon check in\\nA luxury beachfront resort with traditional Swahili charm, Bluebay Beach Resort & Spa is situated on the finest white, sandy beach on the east coast of the island of Zanzibar. Set in 30-acres of tropical gardens with over 1,000 palm trees, the resort is one of Zanzibar's most prestigious properties offering the ultimate in beach comfort: excellent accommodation; fine wining and dining; a host of sports and leisure facilities; the famous Oasis Spa; and our award-winning service. Free WiFi is also available throughout the Resort.\\n                                                                                                                                                                                                                                                                                                                                                                                                                                                                                                                                                                                                                                                                                                                                                                                                                                                                                                                                                                                                                                                                                                                                                                                                                                                                                                                                                                                                                                                                                                                                                                                                                                                                                                                                   \n",
       "17  \\nYour Mauritius Holiday Package includes:\\nReturn direct flights from Johannesburg\\nApproximate taxes\\nReturn transfers\\n7 nights' accommodation at the 3-star Tropical Attitude in a Seafront Standard Room\\nAll meals and selected drinks daily\\nExclusions\\nItems of a personal nature, items not mentioned, gratuities and porterage, meals and drinks not mentioned, tours/sightseeing not mentioned, car hire\\nWelcome to the picture-perfect east coast of Mauritius, and to the Tropical Attitude hotel. Here, you'll benefit from the ideal location facing a clear, turquoise lagoon, close to the charming fishing village of Trou d'Eau Douce and idyllic Ile aux Cerfs. A true ode to tranquility, this boutique hotel immerses you in an atmosphere that's both elegant and relaxed, courtesy of its tropical architecture and open spaces.\\n                                                                                                                                                                                                                                                                                                                                                                                                                                                                                                                                                                                                                                                                                                                                                                                                                                                                                                                                                                                                                                                                                                                                                                                                                                                                                                                                                                                                                                                                                                                                                                                                                                                                                                                                                                                                                                                                                                                                                                                                                                                                                   \n",
       "18  \\nYour Paris Holiday Package includes:\\n3 nights' accommodation at a 3-star hotel in Paris (19-22 October 2023) & 4 nights' accommodation at a 3-star hotel in Paris (25-29 October 2023)\\nBreakfast daily\\nGuaranteed category 4 match tickets on 20 & 21 October 2023 and 27 & 28 October 2023\\nOfficial SA Rugby memorabilia\\nGroup travel insurance\\nExclusions\\nFlight, taxes, transport, passport & visas. Any and all ground transportation. Admission fees into sights of interests, personal expenses such as tips for meals, gratuities, telephone calls, beverages, all meals not mentioned under inclusions and anything else of a personal nature, hotel accommodation and match ticket upgrades. Any services not mentioned. Please note that accommodation is not included from 22 October 2023 - 25 October 2023.\\nPARIS TOP 5: 5 - CUISINE French food isn't all about haute cuisine and fine dining some of the best food to be enjoyed in Paris can be bought for a couple of euros from a humble boulangerie. From Macarons, Baguettes, Croissants, Steak frites, Paris Brest to street stand crepes, French cuisine is indulgence you cannot miss. 4 - ATTRACTIONS: Built in 1889 for the Exposition Universelle, the Eiffel Tower (Tour Eiffel) has become the main symbol of Paris. It is also the most-visited attraction in the world. The Eiffel Tower is a wrought iron tower standing 324m tall and is the most famous symbol of Paris. Don't miss a visit to some of Paris' other top attractions - Louvre Museum, Notre Dame Cathedral, Arc de Triomphe, Montmatre, Champs-Elysees to name but a few. 3 - EXPERIENCE: An iconic Paris cabaret, the Moulin Rouge has a storied history stretching back over a century. Most notably, it was the birthplace of the iconic can-can dance. Visitors from around the world come every day to take in the spectacular show. Identified by its red windmill, the cabaret's building is itself a popular tourist landmark. 2 - SHOPPING: Champs-Elysees: The city's most popular avenue is also renowned for its exclusive stores, luxury brands and designer fashion. This is where , attracting Louis Vuitton's insignia shop is attracting hundreds of clients and thousands of curious tourists to its window display each day. Galeries Lafayette: Declared historic monument thanks to its spectacular Neo-Byzantine dome, Galeries Lafayette is one of the most visited department stores in the world. 1 - ULTIMATE: An evening cruise on the Seine, when the city is beautifully illuminated, is one of the most romantic things to do in Paris. Some of the cruises include a delicious gourmet dinner, wine and live music, creating a truly magical atmosphere. Glide smoothly through the night and see the stunning views of the illuminated Eiffel Tower, Notre Dame, the Louvre and create some wonderful memories to cherish for the years to come.\\n   \n",
       "19  \\nYour Maldives Holiday Package includes:\\nReturn flights from Johannesburg\\nApproximate taxes\\nReturn domestic flight & speedboat transfers\\n7 nights' accommodation at the 5-star Heritance Aarah in a Beachfront Villa\\nAll meals & selected alcoholic and non-alcoholic drinks daily\\nBONUS: 35% Discount Included!\\nExclusions\\nItems of a personal nature, items not mentioned, gratuities and porterage, meals & drinks not mentioned, tours/sightseeing not mentioned, car hire\\nEscape to Heritance Aarah? Wake up in paradise to the sound of the sea, dive amidst exotic underwater marvels and dine under a majestic star-studded sky over one of the finest Maldives luxury resorts.\\n                                                                                                                                                                                                                                                                                                                                                                                                                                                                                                                                                                                                                                                                                                                                                                                                                                                                                                                                                                                                                                                                                                                                                                                                                                                                                                                                                                                                                                                                                                                                                                                                                                                                                                                                                                                                                                                                                                                                                                                                                                                                                                                                                                                                                                            \n",
       "\n",
       "                                                                                                                                                                                                                                                                                                                                                                                                                                                                                                                                                                                                                                                                                                                               inclusions  \\\n",
       "0   \\nYour Maldives Holiday Package includes:\\n\\nReturn flights from Johannesburg\\nApproximate taxes\\nReturn domestic flight & speedboat transfers\\n7 nights' accommodation at the 4-star Adaaran Select Meedhupparu in a Beachfront Villa\\nAll meals & selected alcoholic and non-alcoholic drinks daily\\n\\n                                                                                                                                                                                                                                                                                                                                                                                                                               \n",
       "1   \\nYour Eastern Cape Holiday Package includes:\\n\\nReturn flights from Johannesburg to Durban\\nApproximate taxes\\n3 days car hire (Kia Picanto or similar)\\n3 nights' midweek accommodation on the Wild Coast at the 4-star Wild Coast Sun in a Garden Facing Luxury Room\\nBreakfast daily\\nBONUS: Complimentary access to Wild Waves Water Park\\nPLEASE NOTE: 2 Children eat breakfast and stay free when sharing with adults\\nWEEKEND UPGRADE: From R660 per adult\\n\\n                                                                                                                                                                                                                                                                  \n",
       "2   \\nYour Mauritius Holiday Package includes:\\n\\nReturn direct flights from Durban\\nApproximate taxes\\nReturn transfers\\n5 nights' accommodation at the 4-star Azuri Residences by Life in Blue in a Deluxe Apartment on a Room Only basis\\nPLEASE NOTE: Price is based on 4 people travelling together\\n\\n                                                                                                                                                                                                                                                                                                                                                                                                                                \n",
       "3   \\nYour Mauritius Holiday Package includes:\\n\\nReturn direct flights from Cape Town\\nApproximate taxes\\nReturn transfers\\n5 nights' accommodation at the 4,5-star Radisson Blu Azuri Resort & Spa in a Garden Premium Room\\nAll meals & selected drinks daily\\nBONUS: FREE upgrade to All Inclusive included\\n2 Children under 12 years stay FREE\\n\\n                                                                                                                                                                                                                                                                                                                                                                                    \n",
       "4   \\nYour Kruger National Park Holiday Package includes:\\n\\nReturn flights from Johannesburg to Nelspruit\\nApproximate taxes\\n2 days car hire (Kia Picanto or similar)\\n2 nights' midweek accommodation just outside the Kruger National Park at the 4-star Protea Hotel by Marriott Kruger Gate in a Standard Room\\nBreakfast daily\\n\\n                                                                                                                                                                                                                                                                                                                                                                                                   \n",
       "5   \\nYour Hungary Holiday Package includes:\\n\\n3 nights' accommodation at the 3-star Ibis Budapest Centrum or similar\\n3-day general admission race ticket (Friday - Sunday)\\nReturn circuit transfers (Saturday & Sunday only)\\n6 days travel insurance\\nTour merchandise\\n\\n                                                                                                                                                                                                                                                                                                                                                                                                                                                             \n",
       "6   \\nYour Mauritius Holiday Package includes:\\n\\nReturn direct flights from Johannesburg\\nApproximate taxes\\nReturn transfers\\n7 nights' accommodation at the 4,5-star Radisson Blu Azuri Resort & Spa in a Garden Premium Room\\nAll meals & selected drinks daily\\nBONUS: FREE upgrade to All Inclusive included\\n2 Children under 12 years stay FREE\\n\\n                                                                                                                                                                                                                                                                                                                                                                                 \n",
       "7   \\nYour Mauritius Holiday Package includes:\\n\\nReturn direct flights from Johannesburg\\nApproximate taxes\\nReturn transfers\\n5 nights' accommodation at the 3-star Azuri Residences by Life in Blue in a Deluxe Apartment on a Room Only basis\\nPLEASE NOTE: Price is based on 4 people travelling together\\n\\n                                                                                                                                                                                                                                                                                                                                                                                                                          \n",
       "8   \\nYour England Holiday Package includes:\\n\\n3 nights' accommodation at the 4-star Warren House, Kingston-upon-Thames Surrey\\nWeek one No 1 Court Event ticket: All debenture tickets are in prime locations and have access to the exclusive Debenture Holders Lounge, which includes a variety of excellent bars and restaurants, all overlooking the grounds at Wimbledon\\nOyster Card for travel to and from central London\\n6 days Bryte travel insurance\\nUPGRADE: to Week two No 1 Court (03-06 July 2022) from R28 960 per person sharing\\nUPGRADE: to Ladies Final Centre Court (08-11 July 2022) from R44 570 per person sharing\\nUPGRADE: to Mens Final Centre Court (09-12 July 2022) from R104 490 per person sharing\\n\\n   \n",
       "9   \\nYour Zanzibar Holiday Package includes:\\n\\nReturn direct flights from Johannesburg\\nApproximate taxes\\nReturn transfers\\n3 nights' accommodation at the 4-star Bluebay Beach Resort in a Garden Room\\nAll meals & selected drinks daily\\nUPGRADE: to 7 Nights from R1400 per person sharing\\n\\n                                                                                                                                                                                                                                                                                                                                                                                                                                       \n",
       "10  \\nYour Eastern Cape Holiday Package includes:\\n\\nReturn flights from Cape Town to Durban\\nApproximate taxes\\n3 days car hire (Kia Picanto or similar)\\n3 nights' midweek accommodation on the Wild Coast at the 4-star Wild Coast Sun in a Garden Facing Luxury Room\\nBreakfast daily\\nBONUS: Complimentary access to Wild Waves Water Park\\nPLEASE NOTE: 2 Children eat breakfast and stay free when sharing with adults\\nWEEKEND UPGRADE: From R570 per adult\\n\\n                                                                                                                                                                                                                                                                     \n",
       "11  \\nYour Kruger National Park Holiday Package includes:\\n\\nReturn flights from Cape Town to Nelspruit\\nApproximate taxes\\n2 days car hire (Kia Picanto or similar)\\n2 nights' midweek accommodation just outside the Kruger National Park at the 4-star Protea Hotel by Marriott Kruger Gate in a Standard Room\\nBreakfast daily\\n\\n                                                                                                                                                                                                                                                                                                                                                                                                      \n",
       "12  \\nYour Zanzibar Holiday Package includes:\\n\\nReturn direct flights from Johannesburg\\nApproximate taxes\\nReturn transfers\\n7 nights' accommodation at the 5-star Tui Blue Bahari in a Deluxe Room\\nAll meals & selected drinks daily\\n\\n                                                                                                                                                                                                                                                                                                                                                                                                                                                                                                \n",
       "13  \\nYour Zanzibar Holiday Package includes:\\n\\nReturn flights from Johannesburg\\nApproximate taxes\\nReturn transfers\\n7 nights' accommodation at the 5-star Tui Blue Bahari in a Deluxe Room\\nAll meals & selected drinks daily\\n\\n                                                                                                                                                                                                                                                                                                                                                                                                                                                                                                       \n",
       "14  \\nYour Zanzibar Holiday Package includes:\\n\\nReturn direct flights from Johannesburg\\nApproximate taxes\\nReturn transfers\\n3 nights' accommodation at the 5-star Bluebay Beach Resort in a Garden Room\\nAll meals & selected drinks daily\\nUPGRADE: to 7 Nights from R1400 per person sharing\\nSet Departures 7 Night Stay \\n( 17 May 2022 - 24 May 2022 \\n21 May 2022 - 28 May 2022)\\n\\n                                                                                                                                                                                                                                                                                                                                               \n",
       "15  \\nYour France Holiday Package includes:\\n\\n3 nights' accommodation based in a Classic Hotel in Le Mans, Sarthe\\nWeekend with full paddock access, hospitality, pit tour, rider meeting, service road tour, welcome pack with merchandise, guide & Moto3 GRID pass\\nBryte travel insurance (6 days cover)\\nSat/Sun track transfers, guides & merchandise\\n\\n                                                                                                                                                                                                                                                                                                                                                                             \n",
       "16  \\nYour Zanzibar Holiday Package includes:\\n\\nReturn direct flights from Johannesburg\\nApproximate taxes\\nReturn transfers\\n3 nights' accommodation at the 5-star Bluebay Beach Resort in a Garden Room\\nAll meals & selected drinks daily\\nUPGRADE: to 7 Nights from R1400 per person sharing\\nSet Departures 7 Night Stay \\n( 17 May 2022 - 24 May 2022 \\n21 May 2022 - 28 May 2022)\\n\\n                                                                                                                                                                                                                                                                                                                                               \n",
       "17  \\nYour Mauritius Holiday Package includes:\\n\\nReturn direct flights from Johannesburg\\nApproximate taxes\\nReturn transfers\\n7 nights' accommodation at the 3-star Tropical Attitude in a Seafront Standard Room\\nAll meals and selected drinks daily\\n\\n                                                                                                                                                                                                                                                                                                                                                                                                                                                                                \n",
       "18  \\nYour Paris Holiday Package includes:\\n\\n3 nights' accommodation at a 3-star hotel in Paris (19-22 October 2023) & 4 nights' accommodation at a 3-star hotel in Paris (25-29 October 2023)\\nBreakfast daily\\nGuaranteed category 4 match tickets on 20 & 21 October 2023 and 27 & 28 October 2023\\nOfficial SA Rugby memorabilia\\nGroup travel insurance\\n\\n                                                                                                                                                                                                                                                                                                                                                                           \n",
       "19  \\nYour Maldives Holiday Package includes:\\n\\nReturn flights from Johannesburg\\nApproximate taxes\\nReturn domestic flight & speedboat transfers\\n7 nights' accommodation at the 5-star Heritance Aarah in a Beachfront Villa\\nAll meals & selected alcoholic and non-alcoholic drinks daily\\nBONUS: 35% Discount Included!\\n\\n                                                                                                                                                                                                                                                                                                                                                                                                           \n",
       "\n",
       "   hotel_name  hotel_mapped        domain                     hotels_new value  \n",
       "0   NaN       NaN            flightcentre  Adaaran Select Meedhupparu     NaN   \n",
       "1   NaN       NaN            flightcentre  Wild Coast Sun                 NaN   \n",
       "2   NaN       NaN            flightcentre  Azuri Residences by            NaN   \n",
       "3   NaN       NaN            flightcentre  Radisson Blu Azuri             NaN   \n",
       "4   NaN       NaN            flightcentre  Protea Hotel by                NaN   \n",
       "5   NaN       NaN            flightcentre  Ibis Budapest Centrum          NaN   \n",
       "6   NaN       NaN            flightcentre  Radisson Blu Azuri             NaN   \n",
       "7   NaN       NaN            flightcentre  Azuri Residences by            NaN   \n",
       "8   NaN       NaN            flightcentre  Warren House, Kingston-upon-T  NaN   \n",
       "9   NaN       NaN            flightcentre  Bluebay Beach Resort           NaN   \n",
       "10  NaN       NaN            flightcentre  Wild Coast Sun                 NaN   \n",
       "11  NaN       NaN            flightcentre  Protea Hotel by                NaN   \n",
       "12  NaN       NaN            flightcentre  Tui Blue Bahari                NaN   \n",
       "13  NaN       NaN            flightcentre  Tui Blue Bahari                NaN   \n",
       "14  NaN       NaN            flightcentre  Bluebay Beach Resort           NaN   \n",
       "15  NaN       NaN            flightcentre  None                           NaN   \n",
       "16  NaN       NaN            flightcentre  Bluebay Beach Resort           NaN   \n",
       "17  NaN       NaN            flightcentre  Tropical Attitude in           NaN   \n",
       "18  NaN       NaN            flightcentre  hotel in Paris                 NaN   \n",
       "19  NaN       NaN            flightcentre  Heritance Aarah in             NaN   "
      ]
     },
     "execution_count": 440,
     "metadata": {},
     "output_type": "execute_result"
    }
   ],
   "source": [
    "res.head(20)"
   ]
  },
  {
   "cell_type": "code",
   "execution_count": 445,
   "id": "c35025c7",
   "metadata": {},
   "outputs": [],
   "source": [
    "res.to_csv('hotels4.csv',index=False)"
   ]
  },
  {
   "cell_type": "code",
   "execution_count": 446,
   "id": "e7283c0b",
   "metadata": {},
   "outputs": [],
   "source": [
    "\n",
    "res.to_excel(\"output.xlsx\")"
   ]
  }
 ],
 "metadata": {
  "kernelspec": {
   "display_name": "Python 3 (ipykernel)",
   "language": "python",
   "name": "python3"
  },
  "language_info": {
   "codemirror_mode": {
    "name": "ipython",
    "version": 3
   },
   "file_extension": ".py",
   "mimetype": "text/x-python",
   "name": "python",
   "nbconvert_exporter": "python",
   "pygments_lexer": "ipython3",
   "version": "3.9.12"
  }
 },
 "nbformat": 4,
 "nbformat_minor": 5
}
