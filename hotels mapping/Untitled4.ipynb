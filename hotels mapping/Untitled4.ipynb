{
 "cells": [
  {
   "cell_type": "code",
   "execution_count": 1,
   "id": "86e24a41",
   "metadata": {},
   "outputs": [],
   "source": [
    "import pandas as pd\n",
    "import re\n",
    "import string"
   ]
  },
  {
   "cell_type": "code",
   "execution_count": 97,
   "id": "bfcfbe8f",
   "metadata": {},
   "outputs": [],
   "source": [
    "scraped= pd.read_csv('Hotel Location Table Mapping.csv',encoding='latin1')\n",
    "hotels=pd.read_csv('Hotel Location.csv',encoding='latin1')\n",
    "scraped_ngrams=pd.read_csv('submission.csv',encoding='latin1')\n",
    "\n",
    "old=pd.read_csv('old.csv',encoding='latin1')\n",
    "pivot=pd.read_csv('pivot.csv',encoding='latin1')"
   ]
  },
  {
   "cell_type": "code",
   "execution_count": 4,
   "id": "50138258",
   "metadata": {},
   "outputs": [],
   "source": [
    "def clean_text(text):\n",
    "    \"\"\"\n",
    "    This function uses regular expressions to \n",
    "        - remove links characters\n",
    "        - remove html characters,\n",
    "        - remove escape sequences,\n",
    "        - remove capitalization,\n",
    "        - any extra white space from each text and then converts them to lowercase.\n",
    "\n",
    "    Input:\n",
    "    text: original text\n",
    "          datatype: string\n",
    "\n",
    "    Output:\n",
    "    texts: modified text\n",
    "           datatype: string\n",
    "    \"\"\"\n",
    "    # replace links with url-web\n",
    "    pattern_url = 'http[s]?://(?:[A-Za-z]|[0-9]|[$-_@.&+]|[!*\\(\\),]|(?:%[0-9A-Fa-f][0-9A-Fa-f]))+'\n",
    "    subs_url = 'url-web'\n",
    "    text = re.sub(pattern_url, subs_url, text)\n",
    "    # replace the html characters with \" \"\n",
    "    text = re.sub('<.*?>#()&', ' ', text)\n",
    "    text = re.sub('&', ' ', text)\n",
    "#     text = re.sub('(', ' ', text)\n",
    "#     text = re.sub(')', ' ', text)\n",
    "    \n",
    "    text=re.sub('Nan', ' ', text)\n",
    "    # replace escape sequence with space\n",
    "    escape_seq = [\"\\r\", \"\\n\",'\\a', '\\b', '\\f', \"\\`\", '\\”', '\\t']\n",
    "    for i in escape_seq:\n",
    "        text = re.sub(i, \" \", text)\n",
    "    # Remove Capitalization\n",
    "    text = text.lower()\n",
    "    # plit and join the words\n",
    "    text=' '.join(text.split())\n",
    "    \n",
    "    return text"
   ]
  },
  {
   "cell_type": "code",
   "execution_count": 6,
   "id": "a034536a",
   "metadata": {},
   "outputs": [],
   "source": [
    "def clean(text):\n",
    "    \n",
    "    # removing paragraph numbers\n",
    "    text = re.sub('[0-9]+.\\t','',str(text))\n",
    "    # removing new line characters\n",
    "    text = re.sub('\\n ','',str(text))\n",
    "    text = re.sub('\\n',' ',str(text))\n",
    "    # removing apostrophes\n",
    "    text = re.sub(\"'s\",'',str(text))\n",
    "    # removing hyphens\n",
    "    text = re.sub(\"#\",' ',str(text))\n",
    "    text = re.sub(\"@\",'',str(text))\n",
    "    \n",
    "    # removing quotation marks\n",
    "    text = re.sub('\\\"','',str(text))\n",
    "    # removing salutations\n",
    "    text = re.sub(\"Mr\\.\",'Mr',str(text))\n",
    "    text = re.sub(\"Mrs\\.\",'Mrs',str(text))\n",
    "    # removing any reference to outside text\n",
    "    text = re.sub(\"[\\(\\[].*?[\\)\\]]#\", \"\", str(text))\n",
    "    \n",
    "    return text"
   ]
  },
  {
   "cell_type": "code",
   "execution_count": 7,
   "id": "f44516cb",
   "metadata": {},
   "outputs": [],
   "source": [
    "def remove_punctuation(post):\n",
    "    return ''.join([l for l in post if l not in string.punctuation])"
   ]
  },
  {
   "cell_type": "code",
   "execution_count": 8,
   "id": "0169cba7",
   "metadata": {},
   "outputs": [],
   "source": [
    "scraped['description'] = scraped['description'].astype(str).apply(clean_text)\n",
    "scraped['description'] = scraped['description'].astype(str).apply(remove_punctuation)"
   ]
  },
  {
   "cell_type": "code",
   "execution_count": 98,
   "id": "502b416f",
   "metadata": {},
   "outputs": [],
   "source": [
    "def domain_name(url):\n",
    "    return url.split(\"www.\")[-1].split(\"//\")[-1].split(\".\")[0]"
   ]
  },
  {
   "cell_type": "code",
   "execution_count": 12,
   "id": "1c8d8e13",
   "metadata": {},
   "outputs": [],
   "source": [
    "selected_rows = scraped[scraped['hotel_name'].isnull()]"
   ]
  },
  {
   "cell_type": "code",
   "execution_count": 31,
   "id": "9df71967",
   "metadata": {},
   "outputs": [
    {
     "data": {
      "text/html": [
       "<div>\n",
       "<style scoped>\n",
       "    .dataframe tbody tr th:only-of-type {\n",
       "        vertical-align: middle;\n",
       "    }\n",
       "\n",
       "    .dataframe tbody tr th {\n",
       "        vertical-align: top;\n",
       "    }\n",
       "\n",
       "    .dataframe thead th {\n",
       "        text-align: right;\n",
       "    }\n",
       "</style>\n",
       "<table border=\"1\" class=\"dataframe\">\n",
       "  <thead>\n",
       "    <tr style=\"text-align: right;\">\n",
       "      <th></th>\n",
       "      <th>scraped_url</th>\n",
       "      <th>agency_slug</th>\n",
       "      <th>country</th>\n",
       "      <th>title</th>\n",
       "      <th>description</th>\n",
       "      <th>inclusions</th>\n",
       "      <th>hotel_name</th>\n",
       "      <th>hotel_mapped</th>\n",
       "      <th>domain</th>\n",
       "    </tr>\n",
       "  </thead>\n",
       "  <tbody>\n",
       "    <tr>\n",
       "      <th>0</th>\n",
       "      <td>https://www.flightcentre.co.za/product/14197346</td>\n",
       "      <td>flightcentre</td>\n",
       "      <td>maldives</td>\n",
       "      <td>Adaaran Select Meedhupparu</td>\n",
       "      <td>your maldives holiday package includes return flights from johannesburg approximate taxes return domestic flight speedboat transfers 7 nights accommodation at the 4star adaaran select meedhupparu in a beachfront villa all meals selected alcoholic and nonalcoholic drinks daily exclusions items of a personal nature items not mentioned gratuities and porterage meals drinks not mentioned tourssightseeing not mentioned car hire with the promise of an incomparable holiday in the tropics adaaran select meedhupparu one of the best maldives luxury resorts offers blissful accommodation for the discerning traveller to the maldives bask under the healing sunshine and soak up the alluring sights and sounds of a truly enchanting island in the tropics adaaran select meedhupparu offers tranquil settings brimming with luxury settle into a holiday full of breathtaking experiences that will leave you with memories to last a lifetime</td>\n",
       "      <td>\\nYour Maldives Holiday Package includes:\\n\\nReturn flights from Johannesburg\\nApproximate taxes\\nReturn domestic flight &amp; speedboat transfers\\n7 nights' accommodation at the 4-star Adaaran Select Meedhupparu in a Beachfront Villa\\nAll meals &amp; selected alcoholic and non-alcoholic drinks daily\\n\\n</td>\n",
       "      <td>NaN</td>\n",
       "      <td>NaN</td>\n",
       "      <td>flightcentre</td>\n",
       "    </tr>\n",
       "    <tr>\n",
       "      <th>1</th>\n",
       "      <td>https://www.flightcentre.co.za/product/5415249</td>\n",
       "      <td>flightcentre</td>\n",
       "      <td>south africa</td>\n",
       "      <td>Family Fun on the Wild Coast</td>\n",
       "      <td>your eastern cape holiday package includes return flights from johannesburg to durban approximate taxes 3 days car hire kia picanto or similar 3 nights midweek accommodation on the wild coast at the 4star wild coast sun in a garden facing luxury room breakfast daily bonus complimentary access to wild waves water park please note 2 children eat breakfast and stay free when sharing with adults weekend upgrade from r660 per adult exclusions transfers items of a personal nature items not mentioned gratuities and porterage meals and drinks not mentioned tourssightseeing not mentioned less than 2 hours from durban you cant beat the location of the wild coast sun hotel situated in the coastal hub of port edward less than a twohour scenic drive along the south coast from durbans king shaka international airport this familyfriendly accommodation is just the place if youre looking for that relaxing room with a view with all the modern facilities one could ever need moms and dads can soak up the sun watching the kids play at the wild waves water park while couples can slip away to the tranquil oasis of the mangwanani african day spa</td>\n",
       "      <td>\\nYour Eastern Cape Holiday Package includes:\\n\\nReturn flights from Johannesburg to Durban\\nApproximate taxes\\n3 days car hire (Kia Picanto or similar)\\n3 nights' midweek accommodation on the Wild Coast at the 4-star Wild Coast Sun in a Garden Facing Luxury Room\\nBreakfast daily\\nBONUS: Complimentary access to Wild Waves Water Park\\nPLEASE NOTE: 2 Children eat breakfast and stay free when sharing with adults\\nWEEKEND UPGRADE: From R660 per adult\\n\\n</td>\n",
       "      <td>NaN</td>\n",
       "      <td>NaN</td>\n",
       "      <td>flightcentre</td>\n",
       "    </tr>\n",
       "    <tr>\n",
       "      <th>2</th>\n",
       "      <td>https://www.flightcentre.co.za/product/16385011</td>\n",
       "      <td>flightcentre</td>\n",
       "      <td>mauritius</td>\n",
       "      <td>Azuri Residences by Life in Blue</td>\n",
       "      <td>your mauritius holiday package includes return direct flights from durban approximate taxes return transfers 5 nights accommodation at the 4star azuri residences by life in blue in a deluxe apartment on a room only basis please note price is based on 4 people travelling together exclusions items of a personal nature items not mentioned gratuities and porterage meals and drinks not mentioned tourssightseeing not mentioned car hire this coastal village on the northeastern coast of the island in roches noires lined by an infinite turquoise sea and the blue sky will tinge your holidays with picturesque shades of blue opt for our highend seafront accommodation and enjoy your intimacy within an elegant setting kindle your senses and experience la dolce vita through a memorable escape to mauritius where you will benefit from services available at your fingertips within azuri village</td>\n",
       "      <td>\\nYour Mauritius Holiday Package includes:\\n\\nReturn direct flights from Durban\\nApproximate taxes\\nReturn transfers\\n5 nights' accommodation at the 4-star Azuri Residences by Life in Blue in a Deluxe Apartment on a Room Only basis\\nPLEASE NOTE: Price is based on 4 people travelling together\\n\\n</td>\n",
       "      <td>NaN</td>\n",
       "      <td>NaN</td>\n",
       "      <td>flightcentre</td>\n",
       "    </tr>\n",
       "  </tbody>\n",
       "</table>\n",
       "</div>"
      ],
      "text/plain": [
       "                                       scraped_url   agency_slug  \\\n",
       "0  https://www.flightcentre.co.za/product/14197346  flightcentre   \n",
       "1  https://www.flightcentre.co.za/product/5415249   flightcentre   \n",
       "2  https://www.flightcentre.co.za/product/16385011  flightcentre   \n",
       "\n",
       "        country                             title  \\\n",
       "0  maldives      Adaaran Select Meedhupparu         \n",
       "1  south africa  Family Fun on the Wild Coast       \n",
       "2  mauritius     Azuri Residences by Life in Blue   \n",
       "\n",
       "                                                                                                                                                                                                                                                                                                                                                                                                                                                                                                                                                                                                                                                                                                                                                                                                                                                                                                                                                                                                                                                                                                                                                                           description  \\\n",
       "0  your maldives holiday package includes return flights from johannesburg approximate taxes return domestic flight speedboat transfers 7 nights accommodation at the 4star adaaran select meedhupparu in a beachfront villa all meals selected alcoholic and nonalcoholic drinks daily exclusions items of a personal nature items not mentioned gratuities and porterage meals drinks not mentioned tourssightseeing not mentioned car hire with the promise of an incomparable holiday in the tropics adaaran select meedhupparu one of the best maldives luxury resorts offers blissful accommodation for the discerning traveller to the maldives bask under the healing sunshine and soak up the alluring sights and sounds of a truly enchanting island in the tropics adaaran select meedhupparu offers tranquil settings brimming with luxury settle into a holiday full of breathtaking experiences that will leave you with memories to last a lifetime                                                                                                                                                                                                                       \n",
       "1  your eastern cape holiday package includes return flights from johannesburg to durban approximate taxes 3 days car hire kia picanto or similar 3 nights midweek accommodation on the wild coast at the 4star wild coast sun in a garden facing luxury room breakfast daily bonus complimentary access to wild waves water park please note 2 children eat breakfast and stay free when sharing with adults weekend upgrade from r660 per adult exclusions transfers items of a personal nature items not mentioned gratuities and porterage meals and drinks not mentioned tourssightseeing not mentioned less than 2 hours from durban you cant beat the location of the wild coast sun hotel situated in the coastal hub of port edward less than a twohour scenic drive along the south coast from durbans king shaka international airport this familyfriendly accommodation is just the place if youre looking for that relaxing room with a view with all the modern facilities one could ever need moms and dads can soak up the sun watching the kids play at the wild waves water park while couples can slip away to the tranquil oasis of the mangwanani african day spa   \n",
       "2  your mauritius holiday package includes return direct flights from durban approximate taxes return transfers 5 nights accommodation at the 4star azuri residences by life in blue in a deluxe apartment on a room only basis please note price is based on 4 people travelling together exclusions items of a personal nature items not mentioned gratuities and porterage meals and drinks not mentioned tourssightseeing not mentioned car hire this coastal village on the northeastern coast of the island in roches noires lined by an infinite turquoise sea and the blue sky will tinge your holidays with picturesque shades of blue opt for our highend seafront accommodation and enjoy your intimacy within an elegant setting kindle your senses and experience la dolce vita through a memorable escape to mauritius where you will benefit from services available at your fingertips within azuri village                                                                                                                                                                                                                                                              \n",
       "\n",
       "                                                                                                                                                                                                                                                                                                                                                                                                                                                               inclusions  \\\n",
       "0  \\nYour Maldives Holiday Package includes:\\n\\nReturn flights from Johannesburg\\nApproximate taxes\\nReturn domestic flight & speedboat transfers\\n7 nights' accommodation at the 4-star Adaaran Select Meedhupparu in a Beachfront Villa\\nAll meals & selected alcoholic and non-alcoholic drinks daily\\n\\n                                                                                                                                                                \n",
       "1  \\nYour Eastern Cape Holiday Package includes:\\n\\nReturn flights from Johannesburg to Durban\\nApproximate taxes\\n3 days car hire (Kia Picanto or similar)\\n3 nights' midweek accommodation on the Wild Coast at the 4-star Wild Coast Sun in a Garden Facing Luxury Room\\nBreakfast daily\\nBONUS: Complimentary access to Wild Waves Water Park\\nPLEASE NOTE: 2 Children eat breakfast and stay free when sharing with adults\\nWEEKEND UPGRADE: From R660 per adult\\n\\n   \n",
       "2  \\nYour Mauritius Holiday Package includes:\\n\\nReturn direct flights from Durban\\nApproximate taxes\\nReturn transfers\\n5 nights' accommodation at the 4-star Azuri Residences by Life in Blue in a Deluxe Apartment on a Room Only basis\\nPLEASE NOTE: Price is based on 4 people travelling together\\n\\n                                                                                                                                                                 \n",
       "\n",
       "  hotel_name  hotel_mapped        domain  \n",
       "0  NaN       NaN            flightcentre  \n",
       "1  NaN       NaN            flightcentre  \n",
       "2  NaN       NaN            flightcentre  "
      ]
     },
     "execution_count": 31,
     "metadata": {},
     "output_type": "execute_result"
    }
   ],
   "source": [
    "selected_rows .head(3)"
   ]
  },
  {
   "cell_type": "code",
   "execution_count": 32,
   "id": "89f7b825",
   "metadata": {},
   "outputs": [],
   "source": [
    "nonselected_rows = scraped[scraped['hotel_name'].notbnull()]"
   ]
  },
  {
   "cell_type": "code",
   "execution_count": 33,
   "id": "df78c053",
   "metadata": {},
   "outputs": [
    {
     "data": {
      "text/html": [
       "<div>\n",
       "<style scoped>\n",
       "    .dataframe tbody tr th:only-of-type {\n",
       "        vertical-align: middle;\n",
       "    }\n",
       "\n",
       "    .dataframe tbody tr th {\n",
       "        vertical-align: top;\n",
       "    }\n",
       "\n",
       "    .dataframe thead th {\n",
       "        text-align: right;\n",
       "    }\n",
       "</style>\n",
       "<table border=\"1\" class=\"dataframe\">\n",
       "  <thead>\n",
       "    <tr style=\"text-align: right;\">\n",
       "      <th></th>\n",
       "      <th>scraped_url</th>\n",
       "      <th>agency_slug</th>\n",
       "      <th>country</th>\n",
       "      <th>title</th>\n",
       "      <th>description</th>\n",
       "      <th>inclusions</th>\n",
       "      <th>hotel_name</th>\n",
       "      <th>hotel_mapped</th>\n",
       "    </tr>\n",
       "  </thead>\n",
       "  <tbody>\n",
       "    <tr>\n",
       "      <th>613</th>\n",
       "      <td>https://www.flightcentre.co.za/product/4054754</td>\n",
       "      <td>flightcentre</td>\n",
       "      <td>south africa</td>\n",
       "      <td>The Swakopmund Experience</td>\n",
       "      <td>your swakopmund holiday package includes return flights from johannesburg to windhoek approximate taxes 4 days group b car hire with unlimited mileage and max waivers 3 nights accommodation at the 3star beach hotel swakopmund breakfast daily bonus includes a seal and dolphin cruise and a half day living desert tour exclusions items of a personal nature items not mentioned gratuities porterage meals drinks not mentioned tourssightseeing not mentioned get the full swakopmund experience exploring the life both in the desolate sands and the cool atlantic ocean this historic and quaint seaside town will awe you with its charm location and excellent food</td>\n",
       "      <td>\\nYour Swakopmund Holiday Package includes:\\n\\nReturn flights from Johannesburg to Windhoek\\nApproximate taxes\\n4 days Group B car hire with unlimited mileage and max waivers\\n3 nights' accommodation at the 3-star Beach Hotel Swakopmund\\nBreakfast daily\\nBONUS: Includes a Seal and Dolphin Cruise and a Half Day Living Desert Tour\\n\\n</td>\n",
       "      <td>3-star beach hotel</td>\n",
       "      <td>NaN</td>\n",
       "    </tr>\n",
       "    <tr>\n",
       "      <th>614</th>\n",
       "      <td>https://www.flightcentre.co.za/product/15497971</td>\n",
       "      <td>flightcentre</td>\n",
       "      <td>mauritius</td>\n",
       "      <td>Friday Attitude</td>\n",
       "      <td>your mauritius holiday package includes return flights from johannesburg approximate taxes return airporthotel transfers 5 nights accommodation at the 3star friday attitude in a standard room breakfast lunch dinner selected drinks daily add 2 nights from r2350 per person exclusions items of a personal nature items not mentioned gratuities and porterage meals and drinks not mentioned tourssightseeing not mentioned car hire this 3star superior hotel is nestled in trou deau douce a quiet village along the east coast of mauritius</td>\n",
       "      <td>\\nYour Mauritius Holiday Package includes:\\n\\nReturn flights from Johannesburg\\nApproximate taxes\\nReturn airport/hotel transfers\\n5 nights' accommodation at the 3-star Friday Attitude in a Standard Room\\nBreakfast, lunch, dinner &amp; selected drinks daily\\nADD: 2 nights from R2350 per person\\n\\n</td>\n",
       "      <td>3-star friday attitude in a standard room\\nbreakfast, lunch, dinner &amp; selected drinks daily\\nadd: 2 nights from r2350 per person\\n\\nhotel</td>\n",
       "      <td>NaN</td>\n",
       "    </tr>\n",
       "    <tr>\n",
       "      <th>615</th>\n",
       "      <td>https://www.flightcentre.co.za/product/5487199</td>\n",
       "      <td>flightcentre</td>\n",
       "      <td>united arab emirates</td>\n",
       "      <td>Golden Sands Hotel Apartments</td>\n",
       "      <td>your dubai holiday package includes return flights from cape town approximate taxes return private transfers 5 nights selfcatering accommodation at the 3star golden sands hotel apartments in a studio room on a room only basis free wifi optional addon a 24 hour hop on hop off dubai bus tour from r1020 per person exclusions items of a personal nature items not mentioned gratuities porterage meals drinks not mentioned tourssightseeing not mentioned car hire golden sands 3 hotel apartments offers a comprehensive range of apartment types to suit individuals as well as families coming to dubai for leisure or business or both golden sands a budget hotel apartment with its perfectly placed location offers ideal accommodation in dubai with all facilities and amenities</td>\n",
       "      <td>\\nYour Dubai Holiday Package includes:\\n\\nReturn flights from Cape Town\\nApproximate taxes\\nReturn private transfers\\n5 nights' self-catering accommodation at the 3-star Golden Sands Hotel Apartments in a Studio Room on a room only basis\\nFree Wi-Fi\\nOPTIONAL ADD-ON: A 24 Hour Hop On Hop Off Dubai Bus Tour from R1020 per person\\n\\n</td>\n",
       "      <td>3-star golden sands hotel</td>\n",
       "      <td>NaN</td>\n",
       "    </tr>\n",
       "    <tr>\n",
       "      <th>616</th>\n",
       "      <td>https://www.flightcentre.co.za/product/5487197</td>\n",
       "      <td>flightcentre</td>\n",
       "      <td>united arab emirates</td>\n",
       "      <td>Golden Sands Hotel Apartments</td>\n",
       "      <td>your dubai holiday package includes return flights from johannesburg approximate taxes return private transfers 5 nights selfcatering accommodation at the 3star golden sands hotel apartments in a studio room on a room only basis free wifi optional addon a 24 hour hop on hop off dubai bus tour from r1150 per person exclusions items of a personal nature items not mentioned gratuities porterage meals drinks not mentioned tourssightseeing not mentioned car hire golden sands 3 hotel apartments offers a comprehensive range of apartment types to suit individuals as well as families coming to dubai for leisure or business or both golden sands a budget hotel apartment with its perfectly placed location offers ideal accommodation in dubai with all facilities and amenities</td>\n",
       "      <td>\\nYour Dubai Holiday Package includes:\\n\\nReturn flights from Johannesburg\\nApproximate taxes\\nReturn private transfers\\n5 nights' self-catering accommodation at the 3-star Golden Sands Hotel Apartments in a Studio Room on a room only basis\\nFree Wi-Fi\\nOPTIONAL ADD-ON: A 24 Hour Hop On Hop Off Dubai Bus Tour from R1150 per person\\n\\n</td>\n",
       "      <td>3-star golden sands hotel</td>\n",
       "      <td>NaN</td>\n",
       "    </tr>\n",
       "    <tr>\n",
       "      <th>617</th>\n",
       "      <td>https://www.flightcentre.co.za/product/5487197</td>\n",
       "      <td>flightcentre</td>\n",
       "      <td>united arab emirates</td>\n",
       "      <td>Golden Sands Hotel Apartments</td>\n",
       "      <td>your dubai holiday package includes return flights from johannesburg approximate taxes return private transfers 5 nights selfcatering accommodation at the 3star golden sands hotel apartments in a studio room on a room only basis free wifi optional addon a 24 hour hop on hop off dubai bus tour from r1030 per person exclusions items of a personal nature items not mentioned gratuities porterage meals drinks not mentioned tourssightseeing not mentioned car hire golden sands 3 hotel apartments offers a comprehensive range of apartment types to suit individuals as well as families coming to dubai for leisure or business or both golden sands a budget hotel apartment with its perfectly placed location offers ideal accommodation in dubai with all facilities and amenities</td>\n",
       "      <td>\\nYour Dubai Holiday Package includes:\\n\\nReturn flights from Johannesburg\\nApproximate taxes\\nReturn private transfers\\n5 nights' self-catering accommodation at the 3-star Golden Sands Hotel Apartments in a Studio Room on a room only basis\\nFree Wi-Fi\\nOPTIONAL ADD-ON: A 24 Hour Hop On Hop Off Dubai Bus Tour from R1030 per person\\n\\n</td>\n",
       "      <td>3-star golden sands hotel</td>\n",
       "      <td>NaN</td>\n",
       "    </tr>\n",
       "  </tbody>\n",
       "</table>\n",
       "</div>"
      ],
      "text/plain": [
       "                                         scraped_url   agency_slug  \\\n",
       "613  https://www.flightcentre.co.za/product/4054754   flightcentre   \n",
       "614  https://www.flightcentre.co.za/product/15497971  flightcentre   \n",
       "615  https://www.flightcentre.co.za/product/5487199   flightcentre   \n",
       "616  https://www.flightcentre.co.za/product/5487197   flightcentre   \n",
       "617  https://www.flightcentre.co.za/product/5487197   flightcentre   \n",
       "\n",
       "                  country                          title  \\\n",
       "613  south africa          The Swakopmund Experience       \n",
       "614  mauritius             Friday Attitude                 \n",
       "615  united arab emirates  Golden Sands Hotel Apartments   \n",
       "616  united arab emirates  Golden Sands Hotel Apartments   \n",
       "617  united arab emirates  Golden Sands Hotel Apartments   \n",
       "\n",
       "                                                                                                                                                                                                                                                                                                                                                                                                                                                                                                                                                                                                                                                                                                                                                                                              description  \\\n",
       "613  your swakopmund holiday package includes return flights from johannesburg to windhoek approximate taxes 4 days group b car hire with unlimited mileage and max waivers 3 nights accommodation at the 3star beach hotel swakopmund breakfast daily bonus includes a seal and dolphin cruise and a half day living desert tour exclusions items of a personal nature items not mentioned gratuities porterage meals drinks not mentioned tourssightseeing not mentioned get the full swakopmund experience exploring the life both in the desolate sands and the cool atlantic ocean this historic and quaint seaside town will awe you with its charm location and excellent food                                                                                                                       \n",
       "614  your mauritius holiday package includes return flights from johannesburg approximate taxes return airporthotel transfers 5 nights accommodation at the 3star friday attitude in a standard room breakfast lunch dinner selected drinks daily add 2 nights from r2350 per person exclusions items of a personal nature items not mentioned gratuities and porterage meals and drinks not mentioned tourssightseeing not mentioned car hire this 3star superior hotel is nestled in trou deau douce a quiet village along the east coast of mauritius                                                                                                                                                                                                                                                    \n",
       "615  your dubai holiday package includes return flights from cape town approximate taxes return private transfers 5 nights selfcatering accommodation at the 3star golden sands hotel apartments in a studio room on a room only basis free wifi optional addon a 24 hour hop on hop off dubai bus tour from r1020 per person exclusions items of a personal nature items not mentioned gratuities porterage meals drinks not mentioned tourssightseeing not mentioned car hire golden sands 3 hotel apartments offers a comprehensive range of apartment types to suit individuals as well as families coming to dubai for leisure or business or both golden sands a budget hotel apartment with its perfectly placed location offers ideal accommodation in dubai with all facilities and amenities      \n",
       "616  your dubai holiday package includes return flights from johannesburg approximate taxes return private transfers 5 nights selfcatering accommodation at the 3star golden sands hotel apartments in a studio room on a room only basis free wifi optional addon a 24 hour hop on hop off dubai bus tour from r1150 per person exclusions items of a personal nature items not mentioned gratuities porterage meals drinks not mentioned tourssightseeing not mentioned car hire golden sands 3 hotel apartments offers a comprehensive range of apartment types to suit individuals as well as families coming to dubai for leisure or business or both golden sands a budget hotel apartment with its perfectly placed location offers ideal accommodation in dubai with all facilities and amenities   \n",
       "617  your dubai holiday package includes return flights from johannesburg approximate taxes return private transfers 5 nights selfcatering accommodation at the 3star golden sands hotel apartments in a studio room on a room only basis free wifi optional addon a 24 hour hop on hop off dubai bus tour from r1030 per person exclusions items of a personal nature items not mentioned gratuities porterage meals drinks not mentioned tourssightseeing not mentioned car hire golden sands 3 hotel apartments offers a comprehensive range of apartment types to suit individuals as well as families coming to dubai for leisure or business or both golden sands a budget hotel apartment with its perfectly placed location offers ideal accommodation in dubai with all facilities and amenities   \n",
       "\n",
       "                                                                                                                                                                                                                                                                                                                                           inclusions  \\\n",
       "613  \\nYour Swakopmund Holiday Package includes:\\n\\nReturn flights from Johannesburg to Windhoek\\nApproximate taxes\\n4 days Group B car hire with unlimited mileage and max waivers\\n3 nights' accommodation at the 3-star Beach Hotel Swakopmund\\nBreakfast daily\\nBONUS: Includes a Seal and Dolphin Cruise and a Half Day Living Desert Tour\\n\\n     \n",
       "614  \\nYour Mauritius Holiday Package includes:\\n\\nReturn flights from Johannesburg\\nApproximate taxes\\nReturn airport/hotel transfers\\n5 nights' accommodation at the 3-star Friday Attitude in a Standard Room\\nBreakfast, lunch, dinner & selected drinks daily\\nADD: 2 nights from R2350 per person\\n\\n                                             \n",
       "615  \\nYour Dubai Holiday Package includes:\\n\\nReturn flights from Cape Town\\nApproximate taxes\\nReturn private transfers\\n5 nights' self-catering accommodation at the 3-star Golden Sands Hotel Apartments in a Studio Room on a room only basis\\nFree Wi-Fi\\nOPTIONAL ADD-ON: A 24 Hour Hop On Hop Off Dubai Bus Tour from R1020 per person\\n\\n      \n",
       "616  \\nYour Dubai Holiday Package includes:\\n\\nReturn flights from Johannesburg\\nApproximate taxes\\nReturn private transfers\\n5 nights' self-catering accommodation at the 3-star Golden Sands Hotel Apartments in a Studio Room on a room only basis\\nFree Wi-Fi\\nOPTIONAL ADD-ON: A 24 Hour Hop On Hop Off Dubai Bus Tour from R1150 per person\\n\\n   \n",
       "617  \\nYour Dubai Holiday Package includes:\\n\\nReturn flights from Johannesburg\\nApproximate taxes\\nReturn private transfers\\n5 nights' self-catering accommodation at the 3-star Golden Sands Hotel Apartments in a Studio Room on a room only basis\\nFree Wi-Fi\\nOPTIONAL ADD-ON: A 24 Hour Hop On Hop Off Dubai Bus Tour from R1030 per person\\n\\n   \n",
       "\n",
       "                                                                                                                                    hotel_name  \\\n",
       "613  3-star beach hotel                                                                                                                          \n",
       "614  3-star friday attitude in a standard room\\nbreakfast, lunch, dinner & selected drinks daily\\nadd: 2 nights from r2350 per person\\n\\nhotel   \n",
       "615  3-star golden sands hotel                                                                                                                   \n",
       "616  3-star golden sands hotel                                                                                                                   \n",
       "617  3-star golden sands hotel                                                                                                                   \n",
       "\n",
       "     hotel_mapped  \n",
       "613 NaN            \n",
       "614 NaN            \n",
       "615 NaN            \n",
       "616 NaN            \n",
       "617 NaN            "
      ]
     },
     "execution_count": 33,
     "metadata": {},
     "output_type": "execute_result"
    }
   ],
   "source": [
    "nonselected_rows .head()"
   ]
  },
  {
   "cell_type": "code",
   "execution_count": 13,
   "id": "9648ba6d",
   "metadata": {
    "scrolled": true
   },
   "outputs": [
    {
     "name": "stderr",
     "output_type": "stream",
     "text": [
      "C:\\Users\\user\\AppData\\Local\\Temp\\ipykernel_9640\\3696863612.py:1: SettingWithCopyWarning: \n",
      "A value is trying to be set on a copy of a slice from a DataFrame.\n",
      "Try using .loc[row_indexer,col_indexer] = value instead\n",
      "\n",
      "See the caveats in the documentation: https://pandas.pydata.org/pandas-docs/stable/user_guide/indexing.html#returning-a-view-versus-a-copy\n",
      "  selected_rows['domain'] =selected_rows['scraped_url'].astype(str).apply(domain_name)\n"
     ]
    }
   ],
   "source": [
    "selected_rows['domain'] =selected_rows['scraped_url'].astype(str).apply(domain_name)"
   ]
  },
  {
   "cell_type": "code",
   "execution_count": 15,
   "id": "f4b829a2",
   "metadata": {},
   "outputs": [],
   "source": [
    "type_labels = list(selected_rows.domain.unique())"
   ]
  },
  {
   "cell_type": "code",
   "execution_count": 16,
   "id": "44d2926c",
   "metadata": {},
   "outputs": [
    {
     "data": {
      "text/plain": [
       "['flightcentre',\n",
       " 'igotravel',\n",
       " 'casterbridge-hollow',\n",
       " 'elephant-plains-lodge',\n",
       " 'idube-game-reserve',\n",
       " 'marataba-trails-lodge',\n",
       " 'hans-merensky-hotel-and-golf-estate',\n",
       " 'bayethe-lodge',\n",
       " '4-day-fly-in-safari',\n",
       " 'madikwe-hills-private-game-lodge',\n",
       " 'phinda-homestead',\n",
       " 'long-lee-manor',\n",
       " 'camp-shawu',\n",
       " 'thula-thula-private-game-reserve',\n",
       " 'simbavati-river-lodge',\n",
       " 'inn-on-the-square',\n",
       " 'madikwe-safari-lodge',\n",
       " 'country-boutique-hotel',\n",
       " 'rhino-ridge-safari-lodge',\n",
       " 'entabeni-lakeside-lodge',\n",
       " 'kirkmans-kamp',\n",
       " 'exeter-river-lodge',\n",
       " 'ekuthuleni-lodge',\n",
       " 'nedile-lodge',\n",
       " 'leopard-hills-private-game-reserve',\n",
       " 'thonga-beach-lodge',\n",
       " 'nottens-bush-camp',\n",
       " 'isibindi-zulu-lodge',\n",
       " 'hillsnek-safari-camp',\n",
       " 'camp-shonga',\n",
       " 'leadwood-lodge',\n",
       " 'nungubane-game-lodge',\n",
       " 'impodimo-game-lodge',\n",
       " 'alpine-heath-resort',\n",
       " 'entabeni-kingfisher-lodge',\n",
       " 'mandela-rhodes-place',\n",
       " 'marataba-safari-lodge',\n",
       " 'greenway-woods-resort-2980',\n",
       " 'legend-golf-and-safari-resort',\n",
       " '2-day-fly-in-safari',\n",
       " 'umkumbe-safari-lodge',\n",
       " 'hollow-on-the-square-cape-town-city-hotel',\n",
       " 'arathusa-safari-lodge',\n",
       " 'perry-039-s-bridge-hollow-boutique-hotel',\n",
       " 'sabi-sabi-bush-lodge',\n",
       " 'hippo-hollow-country-estate',\n",
       " 'oceana-beach-and-wildlife-resort',\n",
       " '4-day-camping-trip-to-kruger-national-park',\n",
       " 'ecolux-boutique-hotel-and-spa',\n",
       " 'bush-lodge',\n",
       " 'londolozi-private-game-reserve',\n",
       " 'nkomazi-game-reserve',\n",
       " '3-day-fly-in-safari',\n",
       " 'little-bush-camp',\n",
       " 'rhino-walking-safari',\n",
       " 'kosi-forest-lodge',\n",
       " 'white-elephant-safari-lodge',\n",
       " 'jock-explorer-camp',\n",
       " 'baradinckals-bush-lodge',\n",
       " 'thandeka-game-lodge',\n",
       " 'dulini-lodge',\n",
       " 'leolapa',\n",
       " 'mkuze-falls-private-game-reserve',\n",
       " 'phinda-forest-lodge',\n",
       " 'entabeni-wildside-safari-lodge',\n",
       " 'entabeni-ravineside-lodge',\n",
       " 'hanglip-mountain-lodge',\n",
       " 'bushbreaks',\n",
       " 'pentravel',\n",
       " 'packages',\n",
       " 'computravel',\n",
       " 'nan']"
      ]
     },
     "execution_count": 16,
     "metadata": {},
     "output_type": "execute_result"
    }
   ],
   "source": [
    "type_labels "
   ]
  },
  {
   "cell_type": "code",
   "execution_count": 17,
   "id": "df5a747e",
   "metadata": {
    "scrolled": true
   },
   "outputs": [
    {
     "name": "stderr",
     "output_type": "stream",
     "text": [
      "C:\\Users\\user\\AppData\\Local\\Temp\\ipykernel_9640\\3316049702.py:1: FutureWarning: Passing a negative integer is deprecated in version 1.0 and will not be supported in future version. Instead, use None to not limit the column width.\n",
      "  pd.set_option('display.max_colwidth', -1)\n"
     ]
    }
   ],
   "source": [
    "pd.set_option('display.max_colwidth', -1)   \n",
    "neew = selected_rows.loc[selected_rows['domain']=='igotravel']"
   ]
  },
  {
   "cell_type": "code",
   "execution_count": 20,
   "id": "7117a011",
   "metadata": {
    "scrolled": true
   },
   "outputs": [
    {
     "name": "stderr",
     "output_type": "stream",
     "text": [
      "C:\\Users\\user\\AppData\\Local\\Temp\\ipykernel_9640\\1640489448.py:1: SettingWithCopyWarning: \n",
      "A value is trying to be set on a copy of a slice from a DataFrame.\n",
      "Try using .loc[row_indexer,col_indexer] = value instead\n",
      "\n",
      "See the caveats in the documentation: https://pandas.pydata.org/pandas-docs/stable/user_guide/indexing.html#returning-a-view-versus-a-copy\n",
      "  neew['hotels_new'] = neew['title']\n"
     ]
    }
   ],
   "source": [
    "neew['hotels_new'] = neew['title']"
   ]
  },
  {
   "cell_type": "code",
   "execution_count": 96,
   "id": "beca4159",
   "metadata": {},
   "outputs": [
    {
     "data": {
      "text/html": [
       "<div>\n",
       "<style scoped>\n",
       "    .dataframe tbody tr th:only-of-type {\n",
       "        vertical-align: middle;\n",
       "    }\n",
       "\n",
       "    .dataframe tbody tr th {\n",
       "        vertical-align: top;\n",
       "    }\n",
       "\n",
       "    .dataframe thead th {\n",
       "        text-align: right;\n",
       "    }\n",
       "</style>\n",
       "<table border=\"1\" class=\"dataframe\">\n",
       "  <thead>\n",
       "    <tr style=\"text-align: right;\">\n",
       "      <th></th>\n",
       "      <th>scraped_url</th>\n",
       "      <th>agency_slug</th>\n",
       "      <th>country</th>\n",
       "      <th>title</th>\n",
       "      <th>description</th>\n",
       "      <th>inclusions</th>\n",
       "      <th>hotel_name</th>\n",
       "      <th>hotel_mapped</th>\n",
       "      <th>domain</th>\n",
       "      <th>hotels_new</th>\n",
       "    </tr>\n",
       "  </thead>\n",
       "  <tbody>\n",
       "    <tr>\n",
       "      <th>102</th>\n",
       "      <td>https://www.igotravel.co.za/holidays/13-day-egypt-tour/</td>\n",
       "      <td>igotravel</td>\n",
       "      <td>egypt</td>\n",
       "      <td>13 Day Egypt Tour</td>\n",
       "      <td>div classwoocommerceproductdetailsshortdescription p styletextalign centervisit the incredible pyramids of giza relax on a felucca as you cruise down the nile and discover the ancient wonders of aswan and luxor before spending a few days by the beautiful red sea in hurghada this is egypt at its best in 13 wonderful days choose to travel by felucca or nile river cruiser on this tour you have the option of a 2 night stay onboard a traditional felucca sail boat or 3 nights onboard a 5 star nile cruiser the details of both are noted in our itinerary if choosing to travel by 5 star nile cruiser please select the cruise upgrade prices amp dates for costsp p styletextalign centertrip highlightsbr hurghada  relax at the red sea swim and opt to snorkel or scuba dive in the clear coastal watersbr luxor west bank  discover exquisite tombs in the valley of the kings the towering colossi of memnon and the beautiful temple of queen hatshepsutbr aswan  take leisurely boat trip to agilika island to explore the romantic philae temple and wander around the colourful souqsbr kom ombo  visit the nile side temple of kom ombobr cairo  marvel at the legendary pyramids of giza explore the necropolis of saqqara and see king tuts treasures at the egyptian museumbr luxor  roam around the colossal temple of karnak and take an optional tour of the beautifully illuminated luxor temple at nightbr nile felucca sailing  sail the river nile on board a traditional felucca and spend two nights sleeping under a blanket of stars or upgrade to a 5 star nile cruisep div</td>\n",
       "      <td>&lt;div class=\"blck col-sm-6\"&gt;\\n&lt;h3 class=\"blck-ttl\"&gt;Inclusions&lt;/h3&gt;&lt;p class=\"blck-txt pb-0\"&gt;&lt;/p&gt;&lt;ul&gt;&lt;br&gt;\\n&lt;li&gt;Breakfast daily&lt;/li&gt;&lt;br&gt;\\n&lt;li&gt;2 Lunches&lt;/li&gt;&lt;br&gt;\\n&lt;li&gt;2 Dinners&lt;/li&gt;&lt;br&gt;\\n&lt;li&gt;Escorted by an Egyptian tour guide degree qualified in Egyptology&lt;/li&gt;&lt;br&gt;\\n&lt;li&gt;4 Days' Hurghada - Red Sea stay - swim, sun and sand&lt;/li&gt;&lt;br&gt;\\n&lt;li&gt;Airport arrival and departure transfer, day 1 and day 13&lt;/li&gt;&lt;br&gt;\\n&lt;li&gt;Escorted by an Egyptian tour guide degree qualified in Egyptology&lt;/li&gt;&lt;br&gt;\\n&lt;li&gt;9 Nights' in 4 - 5 star hotels&lt;/li&gt;&lt;br&gt;\\n&lt;li&gt;2 Nights' aboard felucca (open deck)&lt;/li&gt;&lt;br&gt;\\n&lt;li&gt;1 overnight train: Cairo - Aswan (Private 2 berth sleeper cabin)&lt;/li&gt;&lt;br&gt;\\n&lt;li&gt;Touring of Cairo, Giza, Saqqara, Aswan, Luxor and Hughada&lt;/li&gt;&lt;br&gt;\\n&lt;li&gt;All relevant transfer and transportation in private modern air-conditioned vehicles&lt;/li&gt;&lt;br&gt;\\n&lt;li&gt;Set departure dates to choose from (Friday departures)&lt;/li&gt;&lt;br&gt;\\n&lt;/ul&gt; &lt;/div&gt;</td>\n",
       "      <td>NaN</td>\n",
       "      <td>NaN</td>\n",
       "      <td>igotravel</td>\n",
       "      <td>13 Day Egypt Tour</td>\n",
       "    </tr>\n",
       "    <tr>\n",
       "      <th>103</th>\n",
       "      <td>https://www.igotravel.co.za/holidays/hilton-seychelles-northolme-resort/</td>\n",
       "      <td>igotravel</td>\n",
       "      <td>seychelles</td>\n",
       "      <td>Hilton Seychelles Northolme Resort</td>\n",
       "      <td>div classwoocommerceproductdetailsshortdescription p styletextalign centerauthor  ian fleming wrote for your eyes only in this secluded 5 star hideaway small intimate charming as well as beautifully equipped private romantic villas await you villas raised on stilts providing uninterrupted views of the ocean white sandy beaches tropical gardens as well as crystal clear waters surround the hilton seychelles northolme resort amp spa this place is a truly stunning escape located on mahes north west coastline this is an adult only resort only kids over 13 years old are allowed to stay here hilton seychelles northolme resort amp spa features great attention to detail in the stunning wooden interiors featuring contemporary decor as well as original artwork special finishing touches include bathrobe slippers mineral water as well as fruit the new grand ocean pool villas are truly spectacular with an infinity private pool set into the sunwashed decking of each villa the striking spa is perched on granite boulders overlooking the gorgeous oceanp p styletextalign centerdiscover national monuments beautiful creole houses artists studios national reserves as well as marine parks explore seychelles breathtaking natural wonders above as well as beneath the waves take a guided nature tour to enjoy some of the rarest species of flora amp fauna on earth not forgetting the mellow seychelles nightlife where you can take in a casino or some local bars dine in fine restaurants offering unforgettable creole as well as international cuisinep div</td>\n",
       "      <td>&lt;div class=\"blck col-sm-6\"&gt;\\n&lt;h3 class=\"blck-ttl\"&gt;Inclusions&lt;/h3&gt;&lt;p class=\"blck-txt pb-0\"&gt;&lt;/p&gt;&lt;li&gt;Return economy class flights from Johannesburg to the Seychelles&lt;/li&gt;&lt;br&gt;\\n&lt;li&gt;Airport taxes&lt;/li&gt;&lt;br&gt;\\n&lt;li&gt;Return resort transfers&lt;/li&gt;&lt;br&gt;\\n&lt;li&gt;7 Nights' in a Sunset Villa at Hilton Seychelles Northolme Resort &amp;amp; Spa&lt;/li&gt;&lt;br&gt;\\n&lt;li&gt;Breakfast daily&lt;/li&gt;&lt;br&gt;\\n&lt;li&gt;All taxes, levies &amp;amp;surcharges (estimated)&lt;/li&gt;&lt;br&gt;\\n&lt;li&gt;&lt;strong&gt;30% Discount IF booked 15 days or more prior to departure&lt;/strong&gt;&lt;/li&gt;&lt;br&gt;\\n&lt;li&gt;Valid for SADC country passport holders only&lt;/li&gt; &lt;/div&gt;</td>\n",
       "      <td>NaN</td>\n",
       "      <td>NaN</td>\n",
       "      <td>igotravel</td>\n",
       "      <td>Hilton Seychelles Northolme Resort</td>\n",
       "    </tr>\n",
       "    <tr>\n",
       "      <th>104</th>\n",
       "      <td>https://www.igotravel.co.za/holidays/vienna-budapest-prague-insight-vacations-tour/</td>\n",
       "      <td>igotravel</td>\n",
       "      <td>NaN</td>\n",
       "      <td>Vienna, Budapest &amp; Prague Insight Vacations Tour</td>\n",
       "      <td>div classwoocommerceproductdetailsshortdescription p styletextalign centerthese three capitals lush with magnificent cathedrals imperial palaces as well as majestic castles stand at the geographical heart of mainland europe are ideal to visit during winter their histories and cultures are intertwined by the powerful habsburg dynasty start budapest hungary end prague czech republicp p p div</td>\n",
       "      <td>&lt;div class=\"blck col-sm-6\"&gt;\\n&lt;h3 class=\"blck-ttl\"&gt;Inclusions&lt;/h3&gt;&lt;p class=\"blck-txt pb-0\"&gt;&lt;/p&gt;&lt;li&gt;Stay 9 nights at highly rated hotels in desirable locations offering superb service, superior rooms with comfy beds to rest in&lt;/li&gt;&lt;br&gt;\\n&lt;li&gt;Highly-skilled Travel Director will ensure your journey is seamless, serving as your expert guide, consummate organiser, and friend overseas&lt;/li&gt;&lt;br&gt;\\n&lt;li&gt;Enjoy the comfort of luxury, air-conditioned, 40-seat coach with double the standard legroom and onboard washroom&lt;/li&gt;&lt;br&gt;\\n&lt;li&gt;Personal radio headsets give you the freedom to wander during visits to famous highlights, without missing any of your Local Expert's fascinating commentary&lt;/li&gt;&lt;br&gt;\\n&lt;li&gt;We carry your bags for you and promptly deliver them to your hotel door&lt;/li&gt;&lt;br&gt;\\n&lt;li&gt;Hotel and restaurant tips are included - you'll never have to worry about how much to give, nor search for foreign currency. We also include all taxes and porterage charges at hotels&lt;/li&gt;&lt;br&gt;\\n&lt;li&gt;Stay connected with friends and family with our complimentary coach and hotel Wi-Fi (where available)&lt;/li&gt;&lt;br&gt;\\n&lt;li&gt;From time to time, your Travel Director will enchant you with a local specialty representing the destination&lt;/li&gt;&lt;br&gt;\\n&lt;li&gt;If your arrival and/or departure flights are as per the itinerary start and end dates, then transfers are available at scheduled times. &lt;/li&gt;&lt;br&gt;\\n&lt;li&gt;Budapest: Your Welcome Dinner is a treat of mouthwatering Hungarian specialties, accompanied by specially selected Hungarian wine, as you dine at the famous and elegant Gundel Restaurant.&lt;/li&gt;&lt;br&gt;\\n&lt;li&gt;Budapest: Visit a traditional strudel house for a taste of sweet strudel and learn about the art of making this Hungarian delicacy.&lt;/li&gt;&lt;br&gt;\\n&lt;li&gt;Budapest: Enjoy a Dine-at-Home experience as you are welcomed into the home of a local for a freshly-prepared meal, typical of the region. Dine with the family for dinner and learn more about&lt;br&gt;\\ntheir life.&lt;/li&gt;&lt;br&gt;\\n&lt;li&gt;Vienna: Enjoy a choice of specially selected restaurants for your Dine-Around evening.&lt;/li&gt;&lt;br&gt;\\n&lt;li&gt;Prague: Your Celebration Dinner at a specially selected Prague restaurant, encapsulates the very essence of the Golden City.&lt;/li&gt;&lt;br&gt;\\n&lt;li&gt;Dining Summary: 9 Breakfasts (B), 1 Morning Tea (MT) and 5 Dinners with Wine (DW) all with tea or coffee.&lt;/li&gt; &lt;/div&gt;</td>\n",
       "      <td>NaN</td>\n",
       "      <td>NaN</td>\n",
       "      <td>igotravel</td>\n",
       "      <td>Vienna, Budapest &amp; Prague Insight Vacations Tour</td>\n",
       "    </tr>\n",
       "    <tr>\n",
       "      <th>105</th>\n",
       "      <td>https://www.igotravel.co.za/holidays/disneys-art-of-animation/</td>\n",
       "      <td>igotravel</td>\n",
       "      <td>united states</td>\n",
       "      <td>Disneys Art of Animation</td>\n",
       "      <td>div classwoocommerceproductdetailsshortdescription p styletextalign centerpicture a family vacation where you can stay and play in the funfilled worlds of finding nemo cars the lion king and the little mermaid share the adventure of a storyinspired room and have a blast in our 3 themed pools theres gnarly fun for little ones at our schoolyard sprayground or squirts righteous reef mealtime is a childrens play with delicious casual dining optionsp p styletextalign centertake the plunge in the largest resort pool in a hrefurlweb targetblank relnoopener noreferrerwalt disney world resorta inspired by the disney pixar movie finding nemo the pool features stateoftheart underwater speakers  a first for disney resort hotels additionally theres an interactive water play area for little ones located nearby two more pools cozy cone pool inspired by the disney pixar film cars and flippin fins pool featuring the under the sea orchestra conducted by sebastian from the little mermaid are also available to guests looking to cool offp p styletextalign centerwalt disney world opened in 1971 and has been making childhood fantasies come true ever since today it is just one of four disney parks that cover more than 28000 acres of orange and osceola counties in central florida with accompanying resorts shopping complexes hotels as well as water parks apart from the magic kingdom walt disney world orlando now includes epcot hollywood studios and the animal kingdom the park complex also includes two water parks disneys blizzard beach and disneys typhoon lagoonp div</td>\n",
       "      <td>&lt;div class=\"blck col-sm-6\"&gt;\\n&lt;h3 class=\"blck-ttl\"&gt;Inclusions&lt;/h3&gt;&lt;p class=\"blck-txt pb-0\"&gt;&lt;/p&gt;&lt;ul&gt;&lt;br&gt;\\n&lt;li&gt;Return economy class flights from Johannesburg to Orlando&lt;/li&gt;&lt;br&gt;\\n&lt;li&gt;Airport taxes&lt;/li&gt;&lt;br&gt;\\n&lt;li&gt;Return Airport - Disney - Airport shared shuttle transfers&lt;/li&gt;&lt;br&gt;\\n&lt;li&gt;5 Nights at Disney's Art of Animation Resort&lt;/li&gt;&lt;br&gt;\\n&lt;li&gt;5 Day Disney's Flexible Date Base Ticket, permitting you entrance to one of the following theme parks per day:&lt;br&gt;\\n&lt;/li&gt;&lt;li&gt;Magic Kingdom® Park&lt;/li&gt;&lt;br&gt;\\n&lt;li&gt;Epcot®&lt;/li&gt;&lt;br&gt;\\n&lt;li&gt;Disney's Animal Kingdom® Theme Park&lt;/li&gt;&lt;br&gt;\\n&lt;li&gt;Disney's Hollywood Studios®&lt;/li&gt;&lt;br&gt;\\n&lt;li&gt;Extra Magic hours&lt;/li&gt;&lt;br&gt;\\n&lt;li&gt;Disney entertainment&lt;/li&gt;&lt;br&gt;\\n&lt;li&gt;Unlimited Disney resort transportation&lt;/li&gt;&lt;br&gt;\\n&lt;li&gt;Wi-Fi&lt;/li&gt;&lt;br&gt;\\n&lt;/ul&gt; &lt;/div&gt;</td>\n",
       "      <td>NaN</td>\n",
       "      <td>NaN</td>\n",
       "      <td>igotravel</td>\n",
       "      <td>Disneys Art of Animation</td>\n",
       "    </tr>\n",
       "    <tr>\n",
       "      <th>106</th>\n",
       "      <td>https://www.igotravel.co.za/holidays/safari-plains-package-waterberg/</td>\n",
       "      <td>igotravel</td>\n",
       "      <td>south africa</td>\n",
       "      <td>Safari Plains, Waterberg</td>\n",
       "      <td>div classwoocommerceproductdetailsshortdescription p styletextalign centerstrongsafari plainsstrong is set against the backdrop of the magnificent waterberg mountains in the limpopo province close to gauteng only a couple of hours drive is the luxurious haven that is safari plains safari plains redefines luxury in the bush from the impressive high ceiling dining room amp an elegant lounge to the impressive bar amp a relaxing spa enter our bushveld connoisseur romantic at heart and families alike safaris at safari plains are conducted on the 12 000ha private game reserve which is itself an extension of the game rich greater mabula private game reserve safari plains offers a true malariafree big five safari experience that is accessible to all the zebula golf course is located 20 minutes drive from safari plains in a basin of the most pristine african bushveld the course is both challenging and accommodating with a seamless integration between bushveld and the course four tees are on offer for your preference with the longest one measuring 6829mp div</td>\n",
       "      <td>&lt;div class=\"blck col-sm-6\"&gt;\\n&lt;h3 class=\"blck-ttl\"&gt;Inclusions&lt;/h3&gt;&lt;p class=\"blck-txt pb-0\"&gt;&lt;/p&gt;&lt;ul&gt;&lt;br&gt;\\n&lt;li&gt;&lt;strong&gt;2 nights mid-week accommodation at 5* Safari Plains, Waterberg in a Safari Suite (self-drive)&lt;/strong&gt;&lt;/li&gt;&lt;br&gt;\\n&lt;li&gt;3 meals daily&lt;/li&gt;&lt;br&gt;\\n&lt;li&gt;Daily safari's&lt;/li&gt;&lt;br&gt;\\n&lt;li&gt;15% Vat&lt;/li&gt;&lt;br&gt;\\n&lt;/ul&gt; &lt;/div&gt;</td>\n",
       "      <td>NaN</td>\n",
       "      <td>NaN</td>\n",
       "      <td>igotravel</td>\n",
       "      <td>Safari Plains, Waterberg</td>\n",
       "    </tr>\n",
       "    <tr>\n",
       "      <th>...</th>\n",
       "      <td>...</td>\n",
       "      <td>...</td>\n",
       "      <td>...</td>\n",
       "      <td>...</td>\n",
       "      <td>...</td>\n",
       "      <td>...</td>\n",
       "      <td>...</td>\n",
       "      <td>...</td>\n",
       "      <td>...</td>\n",
       "      <td>...</td>\n",
       "    </tr>\n",
       "    <tr>\n",
       "      <th>605</th>\n",
       "      <td>https://www.igotravel.co.za/holidays/victoria-beachcomber-for-couples/</td>\n",
       "      <td>igotravel</td>\n",
       "      <td>south africa</td>\n",
       "      <td>Victoria Beachcomber for couples</td>\n",
       "      <td>div classwoocommerceproductdetailsshortdescription p styletextalign centernestled on a 10hectare tropical garden in the northwest of the island victoria beachcomber resort amp spa stretches over one kilometer of whitesand beach protected all year round from trade winds introducing the adultsonly wing victoria for 2 fits perfectly into this idyllic decor with its forty rooms facing a private beach on the ocean romance is present 247 on this beach which has its own bar an à la carte restaurant it is like staring through the window with your eyes contemplating the west coast and its sunset victoria for 2 also offers the barefoot concept  imagine walking hand in hand all day with your loved one barefoot this feeling of being one with the decor can extend into the sea mauritius an indian ocean island nation best known for its beaches lagoons as well as reefs the mountainous interior includes black river gorges national park with rainforests waterfalls hiking trails as well as wildlife like the flying fox capital port louis has sites such as the champs de mars horse track eureka plantation house as well as the 18thcentury sir seewoosagur ramgoolam botanical gardensp div</td>\n",
       "      <td>&lt;div class=\"blck col-sm-6\"&gt;\\n&lt;h3 class=\"blck-ttl\"&gt;Inclusions&lt;/h3&gt;&lt;p class=\"blck-txt pb-0\"&gt;&lt;/p&gt;&lt;li&gt;Return economy class flights from Johannesburg to Mauritius&lt;/li&gt;&lt;br&gt;\\n&lt;li&gt;Airport taxes&lt;/li&gt;&lt;br&gt;\\n&lt;li&gt;Return airport-hotel transfers&lt;/li&gt;&lt;br&gt;\\n&lt;li&gt;7 Nights' at Victoria Beachcomber Resort &amp;amp; Spa Mauritius, in the Victoria-for-2 adults only wing, in an Ocean facing room&lt;/li&gt;&lt;br&gt;\\n&lt;li&gt;Full American breakfast daily&lt;/li&gt;&lt;br&gt;\\n&lt;li&gt;Choice of three restaurants for dinner (daily)&lt;/li&gt;&lt;br&gt;\\n&lt;li&gt;Free land sports and water sports including wakeboarding and waterskiing and free use of gym, hammam/sauna&lt;/li&gt;&lt;br&gt;\\n&lt;li&gt;FREE Wi-Fi&lt;/li&gt; &lt;br&gt;\\n&lt;li&gt;25% booking discount&lt;/li&gt;&lt;br&gt;\\n&lt;li&gt;&lt;strong&gt;Fully vaccinated travelers are allowed unrestricted entry subject to a negative PCR test 72 hours prior to boarding&lt;/strong&gt;&lt;/li&gt; &lt;/div&gt;</td>\n",
       "      <td>NaN</td>\n",
       "      <td>NaN</td>\n",
       "      <td>igotravel</td>\n",
       "      <td>Victoria Beachcomber for couples</td>\n",
       "    </tr>\n",
       "    <tr>\n",
       "      <th>606</th>\n",
       "      <td>https://www.igotravel.co.za/holidays/le-franschhoek-hotel-spa-western-cape/</td>\n",
       "      <td>igotravel</td>\n",
       "      <td>south africa</td>\n",
       "      <td>Le Franschhoek Hotel &amp; Spa, Western Cape</td>\n",
       "      <td>div classwoocommerceproductdetailsshortdescription p styletextalign centerwith picturesque vineyards a stones throw away the sophisticated charm of le franschhoek hotel amp spa is elegantly portrayed in their fine dining restaurants enjoy a few nights stay here as well enjoying a high tea consisting of a tiered platter of handselected delicate sweets and mouthwatering savoury canapes a wide selection of teas and a glass of cap classique this stunning hotel is surrounded by magnificent mountain vistas ease into pure luxury and be treated to elegant finishes and careful attention to detail bordered by leafy vineyards in the small town of franschhoek le franschhoek hotel offers a remarkable selection of inspiring venues delectable restaurants and indulgent spa treatments to present luxurious hotel accommodation at its bestp div</td>\n",
       "      <td>&lt;div class=\"blck col-sm-6\"&gt;\\n&lt;h3 class=\"blck-ttl\"&gt;Inclusions&lt;/h3&gt;&lt;p class=\"blck-txt pb-0\"&gt;&lt;/p&gt;&lt;ul&gt;&lt;br&gt;\\n&lt;li&gt;2 Nights' accommodation at Le Franschhoek Hotel &amp;amp; Spa in a deluxe room&lt;/li&gt;&lt;br&gt;\\n&lt;li&gt;Breakfast daily&lt;/li&gt;&lt;br&gt;\\n&lt;li&gt;One x Delectable High Tea: Tiered platter of hand-selected, delicate sweets &amp;amp; savoury canapes, a wide selection of teas and a glass of Cap Classique&lt;/li&gt;&lt;br&gt;\\n&lt;li&gt;VAT @ 15%&lt;/li&gt;&lt;br&gt;\\n&lt;/ul&gt; &lt;/div&gt;</td>\n",
       "      <td>NaN</td>\n",
       "      <td>NaN</td>\n",
       "      <td>igotravel</td>\n",
       "      <td>Le Franschhoek Hotel &amp; Spa, Western Cape</td>\n",
       "    </tr>\n",
       "    <tr>\n",
       "      <th>608</th>\n",
       "      <td>https://www.igotravel.co.za/holidays/eat-pray-love-bali/</td>\n",
       "      <td>igotravel</td>\n",
       "      <td>indonesia</td>\n",
       "      <td>Eat Pray Love Bali</td>\n",
       "      <td>div classwoocommerceproductdetailsshortdescription p styletextalign centerthe eden hotel kuta will be your home in the indonesian masterpiece of bali this is the island where volcanoes soar through the clouds rice paddies layer hillsides and tropical beaches line dreamy coastlines intricate temples dotted throughout are a reminder of the religious and cultural traditions in which the nation is steeped welcoming yoga retreats and meditation explore the cultural side of bali and as you enjoy an unforgettable half day tour to three of bali´s most famous temples taman ayun alas kedaton and tanah lotp div</td>\n",
       "      <td>&lt;div class=\"blck col-sm-6\"&gt;\\n&lt;h3 class=\"blck-ttl\"&gt;Includes&lt;/h3&gt;&lt;p class=\"blck-txt pb-0\"&gt;&lt;/p&gt;&lt;ul&gt;&lt;br&gt;\\n&lt;li&gt;Return economy class flights from Johannesburg to Bali&lt;/li&gt;&lt;br&gt;\\n&lt;li&gt;Airport taxes&lt;/li&gt;&lt;br&gt;\\n&lt;li&gt;Return airport transfers&lt;/li&gt;&lt;br&gt;\\n&lt;li&gt;7 Nights' at the Rani Hotel in a double or twin deluxe room&lt;/li&gt;&lt;br&gt;\\n&lt;li&gt;Breakfast daily&lt;/li&gt;&lt;br&gt;\\n&lt;li&gt;Private Half day tour of the Three Temples with English speaking guide&lt;/li&gt;&lt;br&gt;\\n&lt;/ul&gt; &lt;/div&gt;</td>\n",
       "      <td>NaN</td>\n",
       "      <td>NaN</td>\n",
       "      <td>igotravel</td>\n",
       "      <td>Eat Pray Love Bali</td>\n",
       "    </tr>\n",
       "    <tr>\n",
       "      <th>611</th>\n",
       "      <td>https://www.igotravel.co.za/holidays/veranda-hotel-tamarin-mauritius/</td>\n",
       "      <td>igotravel</td>\n",
       "      <td>mauritius</td>\n",
       "      <td>Veranda Hotel Tamarin Mauritius</td>\n",
       "      <td>div classwoocommerceproductdetailsshortdescription p styletextalign centerenjoy mauritian snacks whenever you want during the day or surf on the best waves of mauritius anchored in the popular tamarin bay with its fishing village this is the perfect starting point to immerse yourself in true local mauritian life with all the diversity it has to offer the village offers a variety of dining options with a vibey nightlife the hotel is small 70 rooms and intimate being a 3star offers great value for money swim with the dolphins in tamarin bay surf or kitesurf freely relax at the pool or at the spa discover the mauritian flavors and jazzy atmosphere of the crazy fish bar you will feel good at the tamarin hotelp div</td>\n",
       "      <td>&lt;div class=\"blck col-sm-6\"&gt;\\n&lt;h3 class=\"blck-ttl\"&gt;Includes&lt;/h3&gt;&lt;p class=\"blck-txt pb-0\"&gt;&lt;/p&gt;&lt;ul&gt;&lt;br&gt;\\n&lt;li&gt;Return economy class flights from Johannesburg to Mauritius&lt;/li&gt;&lt;br&gt;\\n&lt;li&gt;Airport taxes&lt;/li&gt;&lt;br&gt;\\n&lt;li&gt;Return resort transfers&lt;/li&gt;&lt;br&gt;\\n&lt;li&gt;7 Nights' at Veranda Tamarin in a Comfort Room&lt;/li&gt;&lt;br&gt;\\n&lt;li&gt;Breakfast daily&lt;/li&gt;&lt;br&gt;\\n&lt;li&gt;Dinner daily&lt;/li&gt;&lt;br&gt;\\n&lt;li&gt;includes 20% discount. Book by 30 June 2022&lt;/li&gt; &lt;/ul&gt;&lt;/div&gt;</td>\n",
       "      <td>NaN</td>\n",
       "      <td>NaN</td>\n",
       "      <td>igotravel</td>\n",
       "      <td>Veranda Hotel Tamarin Mauritius</td>\n",
       "    </tr>\n",
       "    <tr>\n",
       "      <th>612</th>\n",
       "      <td>https://www.igotravel.co.za/holidays/trou-aux-biches-beachcomber-golf-resort-spa-mauritius/</td>\n",
       "      <td>igotravel</td>\n",
       "      <td>mauritius</td>\n",
       "      <td>Trou aux Biches Beachcomber Golf Resort &amp; Spa</td>\n",
       "      <td>div classwoocommerceproductdetailsshortdescription p styletextalign centerlocated on one of the finest resort sites on the island the resort unfolds its magnificent suites and villas along a long stretch of beach and reaches back another 300 meters into lush tropical greenery in keeping with global principles of environmental preservation beachcomber ensured that the ancient trees dotted around the area were preserved known for its yearround fabulous weather the location of trou aux biches makes it a highly coveted mauritian resort natural colours and fabrics have been specially selected in the decor to preserve that authentic islandstyle  a trademark of this resort a staggering 100 swimming pools most of them private make this hotel the first choice for the welltravelled with worldclass service spectacular sunsets and a relaxed atmosphere to complete the experiencep div</td>\n",
       "      <td>&lt;div class=\"blck col-sm-6\"&gt;\\n&lt;h3 class=\"blck-ttl\"&gt;Includes&lt;/h3&gt;&lt;p class=\"blck-txt pb-0\"&gt;&lt;/p&gt;&lt;li&gt;Return economy class flights from Johannesburg to Mauritius&lt;/li&gt;&lt;br&gt;\\n&lt;li&gt;Airport taxes&lt;/li&gt;&lt;br&gt;\\n&lt;li&gt;Return private transfers from airport to hotel&lt;/li&gt;&lt;br&gt;\\n&lt;li&gt;7 Nights' at the 5-star superior Trou aux Biches Beachcomber Golf Resort &amp;amp; Spa Mauritius&lt;strong&gt; in a Junior suite&lt;/strong&gt;&lt;/li&gt;&lt;br&gt;\\n&lt;li&gt;Breakfast and dinner daily&lt;/li&gt;&lt;br&gt;\\n&lt;li&gt;&lt;strong&gt;BONUS: Free Lunch Daily!&lt;/strong&gt;&lt;/li&gt;&lt;br&gt;\\n&lt;li&gt;Free land sports and water sports including wakeboarding and waterskiing and free use of gym, hammam/sauna at all resorts&lt;/li&gt;&lt;br&gt;\\n&lt;li&gt;&lt;strong&gt;Early booking special!&lt;/strong&gt;&lt;/li&gt;&lt;br&gt;\\n&lt;li&gt;FREE Wi-Fi&lt;/li&gt;&lt;br&gt;\\n&lt;li&gt;&lt;strong&gt;Fully vaccinated travelers are allowed unrestricted entry subject to a negative PCR test 72 hours prior to boarding&lt;/strong&gt;&lt;/li&gt; &lt;/div&gt;</td>\n",
       "      <td>NaN</td>\n",
       "      <td>NaN</td>\n",
       "      <td>igotravel</td>\n",
       "      <td>Trou aux Biches Beachcomber Golf Resort &amp; Spa</td>\n",
       "    </tr>\n",
       "  </tbody>\n",
       "</table>\n",
       "<p>446 rows × 10 columns</p>\n",
       "</div>"
      ],
      "text/plain": [
       "                                                                                     scraped_url  \\\n",
       "102  https://www.igotravel.co.za/holidays/13-day-egypt-tour/                                       \n",
       "103  https://www.igotravel.co.za/holidays/hilton-seychelles-northolme-resort/                      \n",
       "104  https://www.igotravel.co.za/holidays/vienna-budapest-prague-insight-vacations-tour/           \n",
       "105  https://www.igotravel.co.za/holidays/disneys-art-of-animation/                                \n",
       "106  https://www.igotravel.co.za/holidays/safari-plains-package-waterberg/                         \n",
       "..                                                                     ...                         \n",
       "605  https://www.igotravel.co.za/holidays/victoria-beachcomber-for-couples/                        \n",
       "606  https://www.igotravel.co.za/holidays/le-franschhoek-hotel-spa-western-cape/                   \n",
       "608  https://www.igotravel.co.za/holidays/eat-pray-love-bali/                                      \n",
       "611  https://www.igotravel.co.za/holidays/veranda-hotel-tamarin-mauritius/                         \n",
       "612  https://www.igotravel.co.za/holidays/trou-aux-biches-beachcomber-golf-resort-spa-mauritius/   \n",
       "\n",
       "    agency_slug        country  \\\n",
       "102  igotravel   egypt           \n",
       "103  igotravel   seychelles      \n",
       "104  igotravel   NaN             \n",
       "105  igotravel   united states   \n",
       "106  igotravel   south africa    \n",
       "..         ...            ...    \n",
       "605  igotravel   south africa    \n",
       "606  igotravel   south africa    \n",
       "608  igotravel   indonesia       \n",
       "611  igotravel   mauritius       \n",
       "612  igotravel   mauritius       \n",
       "\n",
       "                                                title  \\\n",
       "102  13 Day Egypt Tour                                  \n",
       "103  Hilton Seychelles Northolme Resort                 \n",
       "104  Vienna, Budapest & Prague Insight Vacations Tour   \n",
       "105  Disneys Art of Animation                          \n",
       "106  Safari Plains, Waterberg                           \n",
       "..                        ...                           \n",
       "605  Victoria Beachcomber for couples                   \n",
       "606  Le Franschhoek Hotel & Spa, Western Cape           \n",
       "608  Eat Pray Love Bali                                 \n",
       "611  Veranda Hotel Tamarin Mauritius                    \n",
       "612  Trou aux Biches Beachcomber Golf Resort & Spa      \n",
       "\n",
       "                                                                                                                                                                                                                                                                                                                                                                                                                                                                                                                                                                                                                                                                                                                                                                                                                                                                                                                                                                                                                                                                                                                                                                                                                                                                                                                                                                                                                                                                                                                                                                                                                                description  \\\n",
       "102  div classwoocommerceproductdetailsshortdescription p styletextalign centervisit the incredible pyramids of giza relax on a felucca as you cruise down the nile and discover the ancient wonders of aswan and luxor before spending a few days by the beautiful red sea in hurghada this is egypt at its best in 13 wonderful days choose to travel by felucca or nile river cruiser on this tour you have the option of a 2 night stay onboard a traditional felucca sail boat or 3 nights onboard a 5 star nile cruiser the details of both are noted in our itinerary if choosing to travel by 5 star nile cruiser please select the cruise upgrade prices amp dates for costsp p styletextalign centertrip highlightsbr hurghada  relax at the red sea swim and opt to snorkel or scuba dive in the clear coastal watersbr luxor west bank  discover exquisite tombs in the valley of the kings the towering colossi of memnon and the beautiful temple of queen hatshepsutbr aswan  take leisurely boat trip to agilika island to explore the romantic philae temple and wander around the colourful souqsbr kom ombo  visit the nile side temple of kom ombobr cairo  marvel at the legendary pyramids of giza explore the necropolis of saqqara and see king tuts treasures at the egyptian museumbr luxor  roam around the colossal temple of karnak and take an optional tour of the beautifully illuminated luxor temple at nightbr nile felucca sailing  sail the river nile on board a traditional felucca and spend two nights sleeping under a blanket of stars or upgrade to a 5 star nile cruisep div           \n",
       "103  div classwoocommerceproductdetailsshortdescription p styletextalign centerauthor  ian fleming wrote for your eyes only in this secluded 5 star hideaway small intimate charming as well as beautifully equipped private romantic villas await you villas raised on stilts providing uninterrupted views of the ocean white sandy beaches tropical gardens as well as crystal clear waters surround the hilton seychelles northolme resort amp spa this place is a truly stunning escape located on mahes north west coastline this is an adult only resort only kids over 13 years old are allowed to stay here hilton seychelles northolme resort amp spa features great attention to detail in the stunning wooden interiors featuring contemporary decor as well as original artwork special finishing touches include bathrobe slippers mineral water as well as fruit the new grand ocean pool villas are truly spectacular with an infinity private pool set into the sunwashed decking of each villa the striking spa is perched on granite boulders overlooking the gorgeous oceanp p styletextalign centerdiscover national monuments beautiful creole houses artists studios national reserves as well as marine parks explore seychelles breathtaking natural wonders above as well as beneath the waves take a guided nature tour to enjoy some of the rarest species of flora amp fauna on earth not forgetting the mellow seychelles nightlife where you can take in a casino or some local bars dine in fine restaurants offering unforgettable creole as well as international cuisinep div                         \n",
       "104  div classwoocommerceproductdetailsshortdescription p styletextalign centerthese three capitals lush with magnificent cathedrals imperial palaces as well as majestic castles stand at the geographical heart of mainland europe are ideal to visit during winter their histories and cultures are intertwined by the powerful habsburg dynasty start budapest hungary end prague czech republicp p p div                                                                                                                                                                                                                                                                                                                                                                                                                                                                                                                                                                                                                                                                                                                                                                                                                                                                                                                                                                                                                                                                                                                                                                                                                                 \n",
       "105  div classwoocommerceproductdetailsshortdescription p styletextalign centerpicture a family vacation where you can stay and play in the funfilled worlds of finding nemo cars the lion king and the little mermaid share the adventure of a storyinspired room and have a blast in our 3 themed pools theres gnarly fun for little ones at our schoolyard sprayground or squirts righteous reef mealtime is a childrens play with delicious casual dining optionsp p styletextalign centertake the plunge in the largest resort pool in a hrefurlweb targetblank relnoopener noreferrerwalt disney world resorta inspired by the disney pixar movie finding nemo the pool features stateoftheart underwater speakers  a first for disney resort hotels additionally theres an interactive water play area for little ones located nearby two more pools cozy cone pool inspired by the disney pixar film cars and flippin fins pool featuring the under the sea orchestra conducted by sebastian from the little mermaid are also available to guests looking to cool offp p styletextalign centerwalt disney world opened in 1971 and has been making childhood fantasies come true ever since today it is just one of four disney parks that cover more than 28000 acres of orange and osceola counties in central florida with accompanying resorts shopping complexes hotels as well as water parks apart from the magic kingdom walt disney world orlando now includes epcot hollywood studios and the animal kingdom the park complex also includes two water parks disneys blizzard beach and disneys typhoon lagoonp div   \n",
       "106  div classwoocommerceproductdetailsshortdescription p styletextalign centerstrongsafari plainsstrong is set against the backdrop of the magnificent waterberg mountains in the limpopo province close to gauteng only a couple of hours drive is the luxurious haven that is safari plains safari plains redefines luxury in the bush from the impressive high ceiling dining room amp an elegant lounge to the impressive bar amp a relaxing spa enter our bushveld connoisseur romantic at heart and families alike safaris at safari plains are conducted on the 12 000ha private game reserve which is itself an extension of the game rich greater mabula private game reserve safari plains offers a true malariafree big five safari experience that is accessible to all the zebula golf course is located 20 minutes drive from safari plains in a basin of the most pristine african bushveld the course is both challenging and accommodating with a seamless integration between bushveld and the course four tees are on offer for your preference with the longest one measuring 6829mp div                                                                                                                                                                                                                                                                                                                                                                                                                                                                                                                                 \n",
       "..                                                                                                                                                                                                                                                                                                                                                                                                                                                                                                                                                                                                                                                                                                                                                                                                                                                                                                                                                                                                                                                                                                        ...                                                                                                                                                                                                                                                                                                                                                                                                                                                                                                                                 \n",
       "605  div classwoocommerceproductdetailsshortdescription p styletextalign centernestled on a 10hectare tropical garden in the northwest of the island victoria beachcomber resort amp spa stretches over one kilometer of whitesand beach protected all year round from trade winds introducing the adultsonly wing victoria for 2 fits perfectly into this idyllic decor with its forty rooms facing a private beach on the ocean romance is present 247 on this beach which has its own bar an à la carte restaurant it is like staring through the window with your eyes contemplating the west coast and its sunset victoria for 2 also offers the barefoot concept  imagine walking hand in hand all day with your loved one barefoot this feeling of being one with the decor can extend into the sea mauritius an indian ocean island nation best known for its beaches lagoons as well as reefs the mountainous interior includes black river gorges national park with rainforests waterfalls hiking trails as well as wildlife like the flying fox capital port louis has sites such as the champs de mars horse track eureka plantation house as well as the 18thcentury sir seewoosagur ramgoolam botanical gardensp div                                                                                                                                                                                                                                                                                                                                                                                                        \n",
       "606  div classwoocommerceproductdetailsshortdescription p styletextalign centerwith picturesque vineyards a stones throw away the sophisticated charm of le franschhoek hotel amp spa is elegantly portrayed in their fine dining restaurants enjoy a few nights stay here as well enjoying a high tea consisting of a tiered platter of handselected delicate sweets and mouthwatering savoury canapes a wide selection of teas and a glass of cap classique this stunning hotel is surrounded by magnificent mountain vistas ease into pure luxury and be treated to elegant finishes and careful attention to detail bordered by leafy vineyards in the small town of franschhoek le franschhoek hotel offers a remarkable selection of inspiring venues delectable restaurants and indulgent spa treatments to present luxurious hotel accommodation at its bestp div                                                                                                                                                                                                                                                                                                                                                                                                                                                                                                                                                                                                                                                                                                                                                                    \n",
       "608  div classwoocommerceproductdetailsshortdescription p styletextalign centerthe eden hotel kuta will be your home in the indonesian masterpiece of bali this is the island where volcanoes soar through the clouds rice paddies layer hillsides and tropical beaches line dreamy coastlines intricate temples dotted throughout are a reminder of the religious and cultural traditions in which the nation is steeped welcoming yoga retreats and meditation explore the cultural side of bali and as you enjoy an unforgettable half day tour to three of bali´s most famous temples taman ayun alas kedaton and tanah lotp div                                                                                                                                                                                                                                                                                                                                                                                                                                                                                                                                                                                                                                                                                                                                                                                                                                                                                                                                                                                                          \n",
       "611  div classwoocommerceproductdetailsshortdescription p styletextalign centerenjoy mauritian snacks whenever you want during the day or surf on the best waves of mauritius anchored in the popular tamarin bay with its fishing village this is the perfect starting point to immerse yourself in true local mauritian life with all the diversity it has to offer the village offers a variety of dining options with a vibey nightlife the hotel is small 70 rooms and intimate being a 3star offers great value for money swim with the dolphins in tamarin bay surf or kitesurf freely relax at the pool or at the spa discover the mauritian flavors and jazzy atmosphere of the crazy fish bar you will feel good at the tamarin hotelp div                                                                                                                                                                                                                                                                                                                                                                                                                                                                                                                                                                                                                                                                                                                                                                                                                                                                                          \n",
       "612  div classwoocommerceproductdetailsshortdescription p styletextalign centerlocated on one of the finest resort sites on the island the resort unfolds its magnificent suites and villas along a long stretch of beach and reaches back another 300 meters into lush tropical greenery in keeping with global principles of environmental preservation beachcomber ensured that the ancient trees dotted around the area were preserved known for its yearround fabulous weather the location of trou aux biches makes it a highly coveted mauritian resort natural colours and fabrics have been specially selected in the decor to preserve that authentic islandstyle  a trademark of this resort a staggering 100 swimming pools most of them private make this hotel the first choice for the welltravelled with worldclass service spectacular sunsets and a relaxed atmosphere to complete the experiencep div                                                                                                                                                                                                                                                                                                                                                                                                                                                                                                                                                                                                                                                                                                                     \n",
       "\n",
       "                                                                                                                                                                                                                                                                                                                                                                                                                                                                                                                                                                                                                                                                                                                                                                                                                                                                                                                                                                                                                                                                                                                                                                                                                                                                                                                                                                                                                                                                                                                                                                                                                                                                                                                                                                                                                                                                                                                                                                                                                                                                                                                                                                                                                                                                                                                                                                                 inclusions  \\\n",
       "102  <div class=\"blck col-sm-6\">\\n<h3 class=\"blck-ttl\">Inclusions</h3><p class=\"blck-txt pb-0\"></p><ul><br>\\n<li>Breakfast daily</li><br>\\n<li>2 Lunches</li><br>\\n<li>2 Dinners</li><br>\\n<li>Escorted by an Egyptian tour guide degree qualified in Egyptology</li><br>\\n<li>4 Days' Hurghada - Red Sea stay - swim, sun and sand</li><br>\\n<li>Airport arrival and departure transfer, day 1 and day 13</li><br>\\n<li>Escorted by an Egyptian tour guide degree qualified in Egyptology</li><br>\\n<li>9 Nights' in 4 - 5 star hotels</li><br>\\n<li>2 Nights' aboard felucca (open deck)</li><br>\\n<li>1 overnight train: Cairo - Aswan (Private 2 berth sleeper cabin)</li><br>\\n<li>Touring of Cairo, Giza, Saqqara, Aswan, Luxor and Hughada</li><br>\\n<li>All relevant transfer and transportation in private modern air-conditioned vehicles</li><br>\\n<li>Set departure dates to choose from (Friday departures)</li><br>\\n</ul> </div>                                                                                                                                                                                                                                                                                                                                                                                                                                                                                                                                                                                                                                                                                                                                                                                                                                                                                                                                                                                                                                                                                                                                                                                                                                                                                                                                                                                                                                               \n",
       "103  <div class=\"blck col-sm-6\">\\n<h3 class=\"blck-ttl\">Inclusions</h3><p class=\"blck-txt pb-0\"></p><li>Return economy class flights from Johannesburg to the Seychelles</li><br>\\n<li>Airport taxes</li><br>\\n<li>Return resort transfers</li><br>\\n<li>7 Nights' in a Sunset Villa at Hilton Seychelles Northolme Resort &amp; Spa</li><br>\\n<li>Breakfast daily</li><br>\\n<li>All taxes, levies &amp;surcharges (estimated)</li><br>\\n<li><strong>30% Discount IF booked 15 days or more prior to departure</strong></li><br>\\n<li>Valid for SADC country passport holders only</li> </div>                                                                                                                                                                                                                                                                                                                                                                                                                                                                                                                                                                                                                                                                                                                                                                                                                                                                                                                                                                                                                                                                                                                                                                                                                                                                                                                                                                                                                                                                                                                                                                                                                                                                                                                                                                                                 \n",
       "104  <div class=\"blck col-sm-6\">\\n<h3 class=\"blck-ttl\">Inclusions</h3><p class=\"blck-txt pb-0\"></p><li>Stay 9 nights at highly rated hotels in desirable locations offering superb service, superior rooms with comfy beds to rest in</li><br>\\n<li>Highly-skilled Travel Director will ensure your journey is seamless, serving as your expert guide, consummate organiser, and friend overseas</li><br>\\n<li>Enjoy the comfort of luxury, air-conditioned, 40-seat coach with double the standard legroom and onboard washroom</li><br>\\n<li>Personal radio headsets give you the freedom to wander during visits to famous highlights, without missing any of your Local Expert's fascinating commentary</li><br>\\n<li>We carry your bags for you and promptly deliver them to your hotel door</li><br>\\n<li>Hotel and restaurant tips are included - you'll never have to worry about how much to give, nor search for foreign currency. We also include all taxes and porterage charges at hotels</li><br>\\n<li>Stay connected with friends and family with our complimentary coach and hotel Wi-Fi (where available)</li><br>\\n<li>From time to time, your Travel Director will enchant you with a local specialty representing the destination</li><br>\\n<li>If your arrival and/or departure flights are as per the itinerary start and end dates, then transfers are available at scheduled times. </li><br>\\n<li>Budapest: Your Welcome Dinner is a treat of mouthwatering Hungarian specialties, accompanied by specially selected Hungarian wine, as you dine at the famous and elegant Gundel Restaurant.</li><br>\\n<li>Budapest: Visit a traditional strudel house for a taste of sweet strudel and learn about the art of making this Hungarian delicacy.</li><br>\\n<li>Budapest: Enjoy a Dine-at-Home experience as you are welcomed into the home of a local for a freshly-prepared meal, typical of the region. Dine with the family for dinner and learn more about<br>\\ntheir life.</li><br>\\n<li>Vienna: Enjoy a choice of specially selected restaurants for your Dine-Around evening.</li><br>\\n<li>Prague: Your Celebration Dinner at a specially selected Prague restaurant, encapsulates the very essence of the Golden City.</li><br>\\n<li>Dining Summary: 9 Breakfasts (B), 1 Morning Tea (MT) and 5 Dinners with Wine (DW) all with tea or coffee.</li> </div>   \n",
       "105  <div class=\"blck col-sm-6\">\\n<h3 class=\"blck-ttl\">Inclusions</h3><p class=\"blck-txt pb-0\"></p><ul><br>\\n<li>Return economy class flights from Johannesburg to Orlando</li><br>\\n<li>Airport taxes</li><br>\\n<li>Return Airport - Disney - Airport shared shuttle transfers</li><br>\\n<li>5 Nights at Disney's Art of Animation Resort</li><br>\\n<li>5 Day Disney's Flexible Date Base Ticket, permitting you entrance to one of the following theme parks per day:<br>\\n</li><li>Magic Kingdom® Park</li><br>\\n<li>Epcot®</li><br>\\n<li>Disney's Animal Kingdom® Theme Park</li><br>\\n<li>Disney's Hollywood Studios®</li><br>\\n<li>Extra Magic hours</li><br>\\n<li>Disney entertainment</li><br>\\n<li>Unlimited Disney resort transportation</li><br>\\n<li>Wi-Fi</li><br>\\n</ul> </div>                                                                                                                                                                                                                                                                                                                                                                                                                                                                                                                                                                                                                                                                                                                                                                                                                                                                                                                                                                                                                                                                                                                                                                                                                                                                                                                                                                                                                                                                                                                                                                                                \n",
       "106  <div class=\"blck col-sm-6\">\\n<h3 class=\"blck-ttl\">Inclusions</h3><p class=\"blck-txt pb-0\"></p><ul><br>\\n<li><strong>2 nights mid-week accommodation at 5* Safari Plains, Waterberg in a Safari Suite (self-drive)</strong></li><br>\\n<li>3 meals daily</li><br>\\n<li>Daily safari's</li><br>\\n<li>15% Vat</li><br>\\n</ul> </div>                                                                                                                                                                                                                                                                                                                                                                                                                                                                                                                                                                                                                                                                                                                                                                                                                                                                                                                                                                                                                                                                                                                                                                                                                                                                                                                                                                                                                                                                                                                                                                                                                                                                                                                                                                                                                                                                                                                                                                                                                                                         \n",
       "..                                                                                                                                                                                                                                                                                                                                ...                                                                                                                                                                                                                                                                                                                                                                                                                                                                                                                                                                                                                                                                                                                                                                                                                                                                                                                                                                                                                                                                                                                                                                                                                                                                                                                                                                                                                                                                                                                                                                                                                                                                                                                                                                                                                                                                                                                                                                                                                                                         \n",
       "605  <div class=\"blck col-sm-6\">\\n<h3 class=\"blck-ttl\">Inclusions</h3><p class=\"blck-txt pb-0\"></p><li>Return economy class flights from Johannesburg to Mauritius</li><br>\\n<li>Airport taxes</li><br>\\n<li>Return airport-hotel transfers</li><br>\\n<li>7 Nights' at Victoria Beachcomber Resort &amp; Spa Mauritius, in the Victoria-for-2 adults only wing, in an Ocean facing room</li><br>\\n<li>Full American breakfast daily</li><br>\\n<li>Choice of three restaurants for dinner (daily)</li><br>\\n<li>Free land sports and water sports including wakeboarding and waterskiing and free use of gym, hammam/sauna</li><br>\\n<li>FREE Wi-Fi</li> <br>\\n<li>25% booking discount</li><br>\\n<li><strong>Fully vaccinated travelers are allowed unrestricted entry subject to a negative PCR test 72 hours prior to boarding</strong></li> </div>                                                                                                                                                                                                                                                                                                                                                                                                                                                                                                                                                                                                                                                                                                                                                                                                                                                                                                                                                                                                                                                                                                                                                                                                                                                                                                                                                                                                                                                                                                                                         \n",
       "606  <div class=\"blck col-sm-6\">\\n<h3 class=\"blck-ttl\">Inclusions</h3><p class=\"blck-txt pb-0\"></p><ul><br>\\n<li>2 Nights' accommodation at Le Franschhoek Hotel &amp; Spa in a deluxe room</li><br>\\n<li>Breakfast daily</li><br>\\n<li>One x Delectable High Tea: Tiered platter of hand-selected, delicate sweets &amp; savoury canapes, a wide selection of teas and a glass of Cap Classique</li><br>\\n<li>VAT @ 15%</li><br>\\n</ul> </div>                                                                                                                                                                                                                                                                                                                                                                                                                                                                                                                                                                                                                                                                                                                                                                                                                                                                                                                                                                                                                                                                                                                                                                                                                                                                                                                                                                                                                                                                                                                                                                                                                                                                                                                                                                                                                                                                                                                                               \n",
       "608  <div class=\"blck col-sm-6\">\\n<h3 class=\"blck-ttl\">Includes</h3><p class=\"blck-txt pb-0\"></p><ul><br>\\n<li>Return economy class flights from Johannesburg to Bali</li><br>\\n<li>Airport taxes</li><br>\\n<li>Return airport transfers</li><br>\\n<li>7 Nights' at the Rani Hotel in a double or twin deluxe room</li><br>\\n<li>Breakfast daily</li><br>\\n<li>Private Half day tour of the Three Temples with English speaking guide</li><br>\\n</ul> </div>                                                                                                                                                                                                                                                                                                                                                                                                                                                                                                                                                                                                                                                                                                                                                                                                                                                                                                                                                                                                                                                                                                                                                                                                                                                                                                                                                                                                                                                                                                                                                                                                                                                                                                                                                                                                                                                                                                                                  \n",
       "611  <div class=\"blck col-sm-6\">\\n<h3 class=\"blck-ttl\">Includes</h3><p class=\"blck-txt pb-0\"></p><ul><br>\\n<li>Return economy class flights from Johannesburg to Mauritius</li><br>\\n<li>Airport taxes</li><br>\\n<li>Return resort transfers</li><br>\\n<li>7 Nights' at Veranda Tamarin in a Comfort Room</li><br>\\n<li>Breakfast daily</li><br>\\n<li>Dinner daily</li><br>\\n<li>includes 20% discount. Book by 30 June 2022</li> </ul></div>                                                                                                                                                                                                                                                                                                                                                                                                                                                                                                                                                                                                                                                                                                                                                                                                                                                                                                                                                                                                                                                                                                                                                                                                                                                                                                                                                                                                                                                                                                                                                                                                                                                                                                                                                                                                                                                                                                                                                 \n",
       "612  <div class=\"blck col-sm-6\">\\n<h3 class=\"blck-ttl\">Includes</h3><p class=\"blck-txt pb-0\"></p><li>Return economy class flights from Johannesburg to Mauritius</li><br>\\n<li>Airport taxes</li><br>\\n<li>Return private transfers from airport to hotel</li><br>\\n<li>7 Nights' at the 5-star superior Trou aux Biches Beachcomber Golf Resort &amp; Spa Mauritius<strong> in a Junior suite</strong></li><br>\\n<li>Breakfast and dinner daily</li><br>\\n<li><strong>BONUS: Free Lunch Daily!</strong></li><br>\\n<li>Free land sports and water sports including wakeboarding and waterskiing and free use of gym, hammam/sauna at all resorts</li><br>\\n<li><strong>Early booking special!</strong></li><br>\\n<li>FREE Wi-Fi</li><br>\\n<li><strong>Fully vaccinated travelers are allowed unrestricted entry subject to a negative PCR test 72 hours prior to boarding</strong></li> </div>                                                                                                                                                                                                                                                                                                                                                                                                                                                                                                                                                                                                                                                                                                                                                                                                                                                                                                                                                                                                                                                                                                                                                                                                                                                                                                                                                                                                                                                                                                \n",
       "\n",
       "    hotel_name  hotel_mapped     domain  \\\n",
       "102  NaN       NaN            igotravel   \n",
       "103  NaN       NaN            igotravel   \n",
       "104  NaN       NaN            igotravel   \n",
       "105  NaN       NaN            igotravel   \n",
       "106  NaN       NaN            igotravel   \n",
       "..   ...        ..                  ...   \n",
       "605  NaN       NaN            igotravel   \n",
       "606  NaN       NaN            igotravel   \n",
       "608  NaN       NaN            igotravel   \n",
       "611  NaN       NaN            igotravel   \n",
       "612  NaN       NaN            igotravel   \n",
       "\n",
       "                                           hotels_new  \n",
       "102  13 Day Egypt Tour                                 \n",
       "103  Hilton Seychelles Northolme Resort                \n",
       "104  Vienna, Budapest & Prague Insight Vacations Tour  \n",
       "105  Disneys Art of Animation                         \n",
       "106  Safari Plains, Waterberg                          \n",
       "..                        ...                          \n",
       "605  Victoria Beachcomber for couples                  \n",
       "606  Le Franschhoek Hotel & Spa, Western Cape          \n",
       "608  Eat Pray Love Bali                                \n",
       "611  Veranda Hotel Tamarin Mauritius                   \n",
       "612  Trou aux Biches Beachcomber Golf Resort & Spa     \n",
       "\n",
       "[446 rows x 10 columns]"
      ]
     },
     "execution_count": 96,
     "metadata": {},
     "output_type": "execute_result"
    }
   ],
   "source": [
    "neew"
   ]
  },
  {
   "cell_type": "code",
   "execution_count": 23,
   "id": "fba0d7b0",
   "metadata": {},
   "outputs": [
    {
     "name": "stderr",
     "output_type": "stream",
     "text": [
      "C:\\Users\\user\\AppData\\Local\\Temp\\ipykernel_9640\\2166239504.py:1: FutureWarning: Passing a negative integer is deprecated in version 1.0 and will not be supported in future version. Instead, use None to not limit the column width.\n",
      "  pd.set_option('display.max_colwidth', -1)\n"
     ]
    }
   ],
   "source": [
    "pd.set_option('display.max_colwidth', -1)   \n",
    "neew1 = selected_rows.loc[selected_rows['domain']=='packages']"
   ]
  },
  {
   "cell_type": "code",
   "execution_count": 25,
   "id": "e73914a5",
   "metadata": {},
   "outputs": [
    {
     "name": "stderr",
     "output_type": "stream",
     "text": [
      "C:\\Users\\user\\AppData\\Local\\Temp\\ipykernel_9640\\2116465824.py:1: SettingWithCopyWarning: \n",
      "A value is trying to be set on a copy of a slice from a DataFrame.\n",
      "Try using .loc[row_indexer,col_indexer] = value instead\n",
      "\n",
      "See the caveats in the documentation: https://pandas.pydata.org/pandas-docs/stable/user_guide/indexing.html#returning-a-view-versus-a-copy\n",
      "  neew1['hotels_new'] = neew1['title']\n"
     ]
    }
   ],
   "source": [
    "neew1['hotels_new'] = neew1['title']"
   ]
  },
  {
   "cell_type": "code",
   "execution_count": 99,
   "id": "9eb04e82",
   "metadata": {},
   "outputs": [
    {
     "ename": "KeyError",
     "evalue": "'hotels_new'",
     "output_type": "error",
     "traceback": [
      "\u001b[1;31m---------------------------------------------------------------------------\u001b[0m",
      "\u001b[1;31mKeyError\u001b[0m                                  Traceback (most recent call last)",
      "File \u001b[1;32m~\\anaconda3\\lib\\site-packages\\pandas\\core\\indexes\\base.py:3621\u001b[0m, in \u001b[0;36mIndex.get_loc\u001b[1;34m(self, key, method, tolerance)\u001b[0m\n\u001b[0;32m   3620\u001b[0m \u001b[38;5;28;01mtry\u001b[39;00m:\n\u001b[1;32m-> 3621\u001b[0m     \u001b[38;5;28;01mreturn\u001b[39;00m \u001b[38;5;28;43mself\u001b[39;49m\u001b[38;5;241;43m.\u001b[39;49m\u001b[43m_engine\u001b[49m\u001b[38;5;241;43m.\u001b[39;49m\u001b[43mget_loc\u001b[49m\u001b[43m(\u001b[49m\u001b[43mcasted_key\u001b[49m\u001b[43m)\u001b[49m\n\u001b[0;32m   3622\u001b[0m \u001b[38;5;28;01mexcept\u001b[39;00m \u001b[38;5;167;01mKeyError\u001b[39;00m \u001b[38;5;28;01mas\u001b[39;00m err:\n",
      "File \u001b[1;32m~\\anaconda3\\lib\\site-packages\\pandas\\_libs\\index.pyx:136\u001b[0m, in \u001b[0;36mpandas._libs.index.IndexEngine.get_loc\u001b[1;34m()\u001b[0m\n",
      "File \u001b[1;32m~\\anaconda3\\lib\\site-packages\\pandas\\_libs\\index.pyx:163\u001b[0m, in \u001b[0;36mpandas._libs.index.IndexEngine.get_loc\u001b[1;34m()\u001b[0m\n",
      "File \u001b[1;32mpandas\\_libs\\hashtable_class_helper.pxi:5198\u001b[0m, in \u001b[0;36mpandas._libs.hashtable.PyObjectHashTable.get_item\u001b[1;34m()\u001b[0m\n",
      "File \u001b[1;32mpandas\\_libs\\hashtable_class_helper.pxi:5206\u001b[0m, in \u001b[0;36mpandas._libs.hashtable.PyObjectHashTable.get_item\u001b[1;34m()\u001b[0m\n",
      "\u001b[1;31mKeyError\u001b[0m: 'hotels_new'",
      "\nThe above exception was the direct cause of the following exception:\n",
      "\u001b[1;31mKeyError\u001b[0m                                  Traceback (most recent call last)",
      "Input \u001b[1;32mIn [99]\u001b[0m, in \u001b[0;36m<cell line: 1>\u001b[1;34m()\u001b[0m\n\u001b[1;32m----> 1\u001b[0m \u001b[43mneew1\u001b[49m\u001b[43m[\u001b[49m\u001b[38;5;124;43m'\u001b[39;49m\u001b[38;5;124;43mhotels_new\u001b[39;49m\u001b[38;5;124;43m'\u001b[39;49m\u001b[43m]\u001b[49m\n",
      "File \u001b[1;32m~\\anaconda3\\lib\\site-packages\\pandas\\core\\frame.py:3505\u001b[0m, in \u001b[0;36mDataFrame.__getitem__\u001b[1;34m(self, key)\u001b[0m\n\u001b[0;32m   3503\u001b[0m \u001b[38;5;28;01mif\u001b[39;00m \u001b[38;5;28mself\u001b[39m\u001b[38;5;241m.\u001b[39mcolumns\u001b[38;5;241m.\u001b[39mnlevels \u001b[38;5;241m>\u001b[39m \u001b[38;5;241m1\u001b[39m:\n\u001b[0;32m   3504\u001b[0m     \u001b[38;5;28;01mreturn\u001b[39;00m \u001b[38;5;28mself\u001b[39m\u001b[38;5;241m.\u001b[39m_getitem_multilevel(key)\n\u001b[1;32m-> 3505\u001b[0m indexer \u001b[38;5;241m=\u001b[39m \u001b[38;5;28;43mself\u001b[39;49m\u001b[38;5;241;43m.\u001b[39;49m\u001b[43mcolumns\u001b[49m\u001b[38;5;241;43m.\u001b[39;49m\u001b[43mget_loc\u001b[49m\u001b[43m(\u001b[49m\u001b[43mkey\u001b[49m\u001b[43m)\u001b[49m\n\u001b[0;32m   3506\u001b[0m \u001b[38;5;28;01mif\u001b[39;00m is_integer(indexer):\n\u001b[0;32m   3507\u001b[0m     indexer \u001b[38;5;241m=\u001b[39m [indexer]\n",
      "File \u001b[1;32m~\\anaconda3\\lib\\site-packages\\pandas\\core\\indexes\\base.py:3623\u001b[0m, in \u001b[0;36mIndex.get_loc\u001b[1;34m(self, key, method, tolerance)\u001b[0m\n\u001b[0;32m   3621\u001b[0m     \u001b[38;5;28;01mreturn\u001b[39;00m \u001b[38;5;28mself\u001b[39m\u001b[38;5;241m.\u001b[39m_engine\u001b[38;5;241m.\u001b[39mget_loc(casted_key)\n\u001b[0;32m   3622\u001b[0m \u001b[38;5;28;01mexcept\u001b[39;00m \u001b[38;5;167;01mKeyError\u001b[39;00m \u001b[38;5;28;01mas\u001b[39;00m err:\n\u001b[1;32m-> 3623\u001b[0m     \u001b[38;5;28;01mraise\u001b[39;00m \u001b[38;5;167;01mKeyError\u001b[39;00m(key) \u001b[38;5;28;01mfrom\u001b[39;00m \u001b[38;5;21;01merr\u001b[39;00m\n\u001b[0;32m   3624\u001b[0m \u001b[38;5;28;01mexcept\u001b[39;00m \u001b[38;5;167;01mTypeError\u001b[39;00m:\n\u001b[0;32m   3625\u001b[0m     \u001b[38;5;66;03m# If we have a listlike key, _check_indexing_error will raise\u001b[39;00m\n\u001b[0;32m   3626\u001b[0m     \u001b[38;5;66;03m#  InvalidIndexError. Otherwise we fall through and re-raise\u001b[39;00m\n\u001b[0;32m   3627\u001b[0m     \u001b[38;5;66;03m#  the TypeError.\u001b[39;00m\n\u001b[0;32m   3628\u001b[0m     \u001b[38;5;28mself\u001b[39m\u001b[38;5;241m.\u001b[39m_check_indexing_error(key)\n",
      "\u001b[1;31mKeyError\u001b[0m: 'hotels_new'"
     ]
    }
   ],
   "source": [
    "neew1['hotels_new']"
   ]
  },
  {
   "cell_type": "code",
   "execution_count": 27,
   "id": "bd655e7a",
   "metadata": {},
   "outputs": [],
   "source": [
    "frames = [neew, neew1]\n",
    "result = pd.concat(frames) "
   ]
  },
  {
   "cell_type": "code",
   "execution_count": 95,
   "id": "5c351ab3",
   "metadata": {},
   "outputs": [
    {
     "data": {
      "text/plain": [
       "102     13 Day Egypt Tour                               \n",
       "103     Hilton Seychelles Northolme Resort              \n",
       "104     Vienna, Budapest & Prague Insight Vacations Tour\n",
       "105     Disneys Art of Animation                       \n",
       "106     Safari Plains, Waterberg                        \n",
       "                  ...                                   \n",
       "6717    Pearl Beach Zanzibar                            \n",
       "6733    My Blue Hotel                                   \n",
       "6740    The Kingdom at Victoria Falls                   \n",
       "6770    Adaaran Select Meedhupparu                      \n",
       "6816    Veranda Pointe Aux Biches                       \n",
       "Name: hotels_new, Length: 787, dtype: object"
      ]
     },
     "execution_count": 95,
     "metadata": {},
     "output_type": "execute_result"
    }
   ],
   "source": [
    "result['hotels_new']"
   ]
  },
  {
   "cell_type": "code",
   "execution_count": 35,
   "id": "86ad7c6b",
   "metadata": {
    "scrolled": true
   },
   "outputs": [
    {
     "name": "stderr",
     "output_type": "stream",
     "text": [
      "C:\\Users\\user\\AppData\\Local\\Temp\\ipykernel_9640\\3710132810.py:1: FutureWarning: Passing a negative integer is deprecated in version 1.0 and will not be supported in future version. Instead, use None to not limit the column width.\n",
      "  pd.set_option('display.max_colwidth', -1)\n"
     ]
    }
   ],
   "source": [
    "pd.set_option('display.max_colwidth', -1)   \n",
    "neew2 = selected_rows.loc[selected_rows['domain']=='computravel']"
   ]
  },
  {
   "cell_type": "code",
   "execution_count": 91,
   "id": "7f2a9c6d",
   "metadata": {},
   "outputs": [],
   "source": [
    "#neew2.head(5)"
   ]
  },
  {
   "cell_type": "code",
   "execution_count": 44,
   "id": "303c531d",
   "metadata": {},
   "outputs": [],
   "source": [
    "def findAfter (txt):\n",
    "#len(txt.split(''))\n",
    "    myList = txt.split(\" \")\n",
    "    for x in myList:\n",
    "        if x=='4*':\n",
    "            start = txt.find (x) #Sets start to the start of keyword\n",
    "            end = start + len (x) #Sets end to the end of the keyword\n",
    "            return txt [end:end+30] \n",
    "        elif x=='3*':\n",
    "            start = txt.find (x) #Sets start to the start of keyword\n",
    "            end = start + len (x) #Sets end to the end of the keyword\n",
    "            return txt [end:end+30] \n",
    "        elif x=='2*':\n",
    "            start = txt.find (x) #Sets start to the start of keyword\n",
    "            end = start + len (x) #Sets end to the end of the keyword\n",
    "            return txt [end:end+30] \n",
    "        elif x=='5*':\n",
    "            start = txt.find (x) #Sets start to the start of keyword\n",
    "            end = start + len (x) #Sets end to the end of the keyword\n",
    "            return txt [end:end+30] \n",
    "        elif x=='5star':\n",
    "            start = txt.find (x) #Sets start to the start of keyword\n",
    "            end = start + len (x) #Sets end to the end of the keyword\n",
    "            return txt [end:end+30]\n",
    "    \n"
   ]
  },
  {
   "cell_type": "code",
   "execution_count": 100,
   "id": "342a10d0",
   "metadata": {
    "scrolled": true
   },
   "outputs": [
    {
     "name": "stderr",
     "output_type": "stream",
     "text": [
      "C:\\Users\\user\\AppData\\Local\\Temp\\ipykernel_9640\\204853310.py:1: SettingWithCopyWarning: \n",
      "A value is trying to be set on a copy of a slice from a DataFrame.\n",
      "Try using .loc[row_indexer,col_indexer] = value instead\n",
      "\n",
      "See the caveats in the documentation: https://pandas.pydata.org/pandas-docs/stable/user_guide/indexing.html#returning-a-view-versus-a-copy\n",
      "  neew2['value'] = neew2['title'] .astype(str).apply(findAfter)\n"
     ]
    }
   ],
   "source": [
    "neew2['value'] = neew2['title'] .astype(str).apply(findAfter)"
   ]
  },
  {
   "cell_type": "code",
   "execution_count": 101,
   "id": "a6dec9dd",
   "metadata": {
    "scrolled": true
   },
   "outputs": [
    {
     "name": "stderr",
     "output_type": "stream",
     "text": [
      "C:\\Users\\user\\AppData\\Local\\Temp\\ipykernel_9640\\1613221675.py:1: SettingWithCopyWarning: \n",
      "A value is trying to be set on a copy of a slice from a DataFrame.\n",
      "Try using .loc[row_indexer,col_indexer] = value instead\n",
      "\n",
      "See the caveats in the documentation: https://pandas.pydata.org/pandas-docs/stable/user_guide/indexing.html#returning-a-view-versus-a-copy\n",
      "  neew2['hotels_new'] = neew2['value'].str.extract('(.+?)-')\n"
     ]
    }
   ],
   "source": [
    " neew2['hotels_new'] = neew2['value'].str.extract('(.+?)-')"
   ]
  },
  {
   "cell_type": "code",
   "execution_count": 72,
   "id": "dae6b647",
   "metadata": {},
   "outputs": [],
   "source": [
    "#neew2['hotels_new'].head(40)"
   ]
  },
  {
   "cell_type": "code",
   "execution_count": 74,
   "id": "e258f1e1",
   "metadata": {},
   "outputs": [
    {
     "name": "stderr",
     "output_type": "stream",
     "text": [
      "C:\\Users\\user\\AppData\\Local\\Temp\\ipykernel_9640\\3074155294.py:1: FutureWarning: Passing a negative integer is deprecated in version 1.0 and will not be supported in future version. Instead, use None to not limit the column width.\n",
      "  pd.set_option('display.max_colwidth', -1)\n"
     ]
    }
   ],
   "source": [
    "pd.set_option('display.max_colwidth', -1)   \n",
    "neew3 = selected_rows.loc[selected_rows['domain']=='pentravel']"
   ]
  },
  {
   "cell_type": "code",
   "execution_count": 77,
   "id": "39f11c34",
   "metadata": {},
   "outputs": [
    {
     "name": "stderr",
     "output_type": "stream",
     "text": [
      "C:\\Users\\user\\AppData\\Local\\Temp\\ipykernel_9640\\2782757151.py:1: SettingWithCopyWarning: \n",
      "A value is trying to be set on a copy of a slice from a DataFrame.\n",
      "Try using .loc[row_indexer,col_indexer] = value instead\n",
      "\n",
      "See the caveats in the documentation: https://pandas.pydata.org/pandas-docs/stable/user_guide/indexing.html#returning-a-view-versus-a-copy\n",
      "  neew3['hotels_new'] = neew3['title']\n"
     ]
    }
   ],
   "source": [
    "neew3['hotels_new'] = neew3['title']"
   ]
  },
  {
   "cell_type": "code",
   "execution_count": 78,
   "id": "eb11004f",
   "metadata": {},
   "outputs": [],
   "source": [
    "def findAfter2 (txt):\n",
    "#len(txt.split(''))\n",
    "    myList = txt.split(\" \")\n",
    "    for x in myList:\n",
    "        if x=='4-star':\n",
    "            start = txt.find (x) #Sets start to the start of keyword\n",
    "            end = start + len (x) #Sets end to the end of the keyword\n",
    "            return txt [end:end+30] \n",
    "        elif x=='3star':\n",
    "            start = txt.find (x) #Sets start to the start of keyword\n",
    "            end = start + len (x) #Sets end to the end of the keyword\n",
    "            return txt [end:end+30] \n",
    "        elif x=='4star':\n",
    "            start = txt.find (x) #Sets start to the start of keyword\n",
    "            end = start + len (x) #Sets end to the end of the keyword\n",
    "            return txt [end:end+30] \n",
    "        elif x=='45star':\n",
    "            start = txt.find (x) #Sets start to the start of keyword\n",
    "            end = start + len (x) #Sets end to the end of the keyword\n",
    "            return txt [end:end+30] \n",
    "        elif x=='5star':\n",
    "            start = txt.find (x) #Sets start to the start of keyword\n",
    "            end = start + len (x) #Sets end to the end of the keyword\n",
    "            return txt [end:end+30]"
   ]
  },
  {
   "cell_type": "code",
   "execution_count": 79,
   "id": "d776a090",
   "metadata": {},
   "outputs": [],
   "source": [
    "neew4 = selected_rows.loc[selected_rows['domain']=='flightcentre']"
   ]
  },
  {
   "cell_type": "code",
   "execution_count": 80,
   "id": "a957f98e",
   "metadata": {},
   "outputs": [
    {
     "name": "stderr",
     "output_type": "stream",
     "text": [
      "C:\\Users\\user\\AppData\\Local\\Temp\\ipykernel_9640\\1046999580.py:1: SettingWithCopyWarning: \n",
      "A value is trying to be set on a copy of a slice from a DataFrame.\n",
      "Try using .loc[row_indexer,col_indexer] = value instead\n",
      "\n",
      "See the caveats in the documentation: https://pandas.pydata.org/pandas-docs/stable/user_guide/indexing.html#returning-a-view-versus-a-copy\n",
      "  neew4['hotels_new'] = neew4['description'] .astype(str).apply(findAfter2)\n"
     ]
    }
   ],
   "source": [
    "neew4['hotels_new'] = neew4['description'] .astype(str).apply(findAfter2)"
   ]
  },
  {
   "cell_type": "code",
   "execution_count": 86,
   "id": "65f7612a",
   "metadata": {
    "scrolled": true
   },
   "outputs": [
    {
     "name": "stderr",
     "output_type": "stream",
     "text": [
      "C:\\Users\\user\\AppData\\Local\\Temp\\ipykernel_9640\\31037954.py:1: SettingWithCopyWarning: \n",
      "A value is trying to be set on a copy of a slice from a DataFrame.\n",
      "Try using .loc[row_indexer,col_indexer] = value instead\n",
      "\n",
      "See the caveats in the documentation: https://pandas.pydata.org/pandas-docs/stable/user_guide/indexing.html#returning-a-view-versus-a-copy\n",
      "  neew4['hotels_new']=neew4['hotels_new'] .astype(str).apply(first3)\n"
     ]
    }
   ],
   "source": [
    "neew4['hotels_new']=neew4['hotels_new'] .astype(str).apply(first3)"
   ]
  },
  {
   "cell_type": "code",
   "execution_count": 92,
   "id": "89d66890",
   "metadata": {},
   "outputs": [],
   "source": [
    "#neew4['hotels_new'].sample(40)"
   ]
  },
  {
   "cell_type": "code",
   "execution_count": 85,
   "id": "2b9139bf",
   "metadata": {},
   "outputs": [],
   "source": [
    "def first3(txx):\n",
    "    lis=txx.split()[:3]\n",
    "    new=' '.join(lis)\n",
    "    return new"
   ]
  },
  {
   "cell_type": "code",
   "execution_count": 93,
   "id": "1c1a1922",
   "metadata": {},
   "outputs": [],
   "source": [
    "neew5 = selected_rows.loc[selected_rows['domain']=='leolapa']"
   ]
  },
  {
   "cell_type": "code",
   "execution_count": 94,
   "id": "68ec0884",
   "metadata": {},
   "outputs": [
    {
     "data": {
      "text/html": [
       "<div>\n",
       "<style scoped>\n",
       "    .dataframe tbody tr th:only-of-type {\n",
       "        vertical-align: middle;\n",
       "    }\n",
       "\n",
       "    .dataframe tbody tr th {\n",
       "        vertical-align: top;\n",
       "    }\n",
       "\n",
       "    .dataframe thead th {\n",
       "        text-align: right;\n",
       "    }\n",
       "</style>\n",
       "<table border=\"1\" class=\"dataframe\">\n",
       "  <thead>\n",
       "    <tr style=\"text-align: right;\">\n",
       "      <th></th>\n",
       "      <th>scraped_url</th>\n",
       "      <th>agency_slug</th>\n",
       "      <th>country</th>\n",
       "      <th>title</th>\n",
       "      <th>description</th>\n",
       "      <th>inclusions</th>\n",
       "      <th>hotel_name</th>\n",
       "      <th>hotel_mapped</th>\n",
       "      <th>domain</th>\n",
       "    </tr>\n",
       "  </thead>\n",
       "  <tbody>\n",
       "    <tr>\n",
       "      <th>572</th>\n",
       "      <td>https://www.africastay.com//leolapa</td>\n",
       "      <td>africastay</td>\n",
       "      <td>NaN</td>\n",
       "      <td>LeoLapa Amenities</td>\n",
       "      <td>span classdestinationpricefrom r550000 per nightspan20150101  20151231strongtraveller ratingstrong span classgradingspan classfa fastarspan span classfa fastarspan span classfa fastarspan span classfa fastarspan span classfa fastarspan spanstrongcurrent reviewsstrong 2p classrsubjectstrongtitlestrong the view from both houses is outstandingp classrsubjectstrongtitlestrong the house is enormous itp color808080leolapa is located in mpumalanga kruger national park we provide accommodation hotel information holiday specials packages photos rates and leolapa reviews book leolapa online and savepay securely with</td>\n",
       "      <td>NaN</td>\n",
       "      <td>NaN</td>\n",
       "      <td>NaN</td>\n",
       "      <td>leolapa</td>\n",
       "    </tr>\n",
       "  </tbody>\n",
       "</table>\n",
       "</div>"
      ],
      "text/plain": [
       "                             scraped_url agency_slug country  \\\n",
       "572  https://www.africastay.com//leolapa  africastay  NaN      \n",
       "\n",
       "                 title  \\\n",
       "572  LeoLapa Amenities   \n",
       "\n",
       "                                                                                                                                                                                                                                                                                                                                                                                                                                                                                                                                                                                                                               description  \\\n",
       "572  span classdestinationpricefrom r550000 per nightspan20150101  20151231strongtraveller ratingstrong span classgradingspan classfa fastarspan span classfa fastarspan span classfa fastarspan span classfa fastarspan span classfa fastarspan spanstrongcurrent reviewsstrong 2p classrsubjectstrongtitlestrong the view from both houses is outstandingp classrsubjectstrongtitlestrong the house is enormous itp color808080leolapa is located in mpumalanga kruger national park we provide accommodation hotel information holiday specials packages photos rates and leolapa reviews book leolapa online and savepay securely with   \n",
       "\n",
       "    inclusions hotel_name  hotel_mapped   domain  \n",
       "572  NaN        NaN       NaN            leolapa  "
      ]
     },
     "execution_count": 94,
     "metadata": {},
     "output_type": "execute_result"
    }
   ],
   "source": [
    "neew5 "
   ]
  },
  {
   "cell_type": "code",
   "execution_count": null,
   "id": "f0990939",
   "metadata": {},
   "outputs": [],
   "source": []
  },
  {
   "cell_type": "code",
   "execution_count": null,
   "id": "64f1fa13",
   "metadata": {},
   "outputs": [],
   "source": [
    "frames = [result, neew1]\n",
    "result = pd.concat(frames) "
   ]
  },
  {
   "cell_type": "code",
   "execution_count": null,
   "id": "8676a2ff",
   "metadata": {},
   "outputs": [],
   "source": []
  }
 ],
 "metadata": {
  "kernelspec": {
   "display_name": "Python 3 (ipykernel)",
   "language": "python",
   "name": "python3"
  },
  "language_info": {
   "codemirror_mode": {
    "name": "ipython",
    "version": 3
   },
   "file_extension": ".py",
   "mimetype": "text/x-python",
   "name": "python",
   "nbconvert_exporter": "python",
   "pygments_lexer": "ipython3",
   "version": "3.9.12"
  }
 },
 "nbformat": 4,
 "nbformat_minor": 5
}
