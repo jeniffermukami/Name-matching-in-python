{
 "cells": [
  {
   "cell_type": "code",
   "execution_count": null,
   "id": "d24829fb",
   "metadata": {},
   "outputs": [],
   "source": [
    "!pip install fuzzywuzzy"
   ]
  },
  {
   "cell_type": "code",
   "execution_count": 4,
   "id": "ef842759",
   "metadata": {},
   "outputs": [],
   "source": [
    "import pandas as pd\n",
    "from fuzzywuzzy import fuzz\n",
    "from fuzzywuzzy import process"
   ]
  },
  {
   "cell_type": "code",
   "execution_count": 5,
   "id": "c4e15ac6",
   "metadata": {},
   "outputs": [],
   "source": [
    "# hot_loc2 = pd.read_excel('Hotel Location Table 2.xlsx')\n",
    "# hot_loc2.head()\n",
    "scraped= pd.read_csv('Hotel Location Table Mapping.csv',encoding='latin1')\n",
    "hotels=pd.read_csv('Hotel Location.csv',encoding='latin1')\n",
    "old=pd.read_csv('old.csv',encoding='latin1')\n",
    "pivot=pd.read_csv('pivot.csv',encoding='latin1')"
   ]
  },
  {
   "cell_type": "code",
   "execution_count": 12,
   "id": "4a3fa09a",
   "metadata": {},
   "outputs": [
    {
     "data": {
      "text/html": [
       "<div>\n",
       "<style scoped>\n",
       "    .dataframe tbody tr th:only-of-type {\n",
       "        vertical-align: middle;\n",
       "    }\n",
       "\n",
       "    .dataframe tbody tr th {\n",
       "        vertical-align: top;\n",
       "    }\n",
       "\n",
       "    .dataframe thead th {\n",
       "        text-align: right;\n",
       "    }\n",
       "</style>\n",
       "<table border=\"1\" class=\"dataframe\">\n",
       "  <thead>\n",
       "    <tr style=\"text-align: right;\">\n",
       "      <th></th>\n",
       "      <th>Name</th>\n",
       "      <th>Address1</th>\n",
       "      <th>Address2</th>\n",
       "      <th>City</th>\n",
       "      <th>StateProvince</th>\n",
       "      <th>PostalCode</th>\n",
       "      <th>Country</th>\n",
       "      <th>Latitude</th>\n",
       "      <th>Longitude</th>\n",
       "      <th>AirportCode</th>\n",
       "      <th>PropertyCurrency</th>\n",
       "      <th>StarRating</th>\n",
       "      <th>Location</th>\n",
       "    </tr>\n",
       "  </thead>\n",
       "  <tbody>\n",
       "    <tr>\n",
       "      <th>0</th>\n",
       "      <td>41</td>\n",
       "      <td>41 Buckingham Palace Road</td>\n",
       "      <td>NaN</td>\n",
       "      <td>London</td>\n",
       "      <td>NaN</td>\n",
       "      <td>SW1W 0PS</td>\n",
       "      <td>GB</td>\n",
       "      <td>51.49830</td>\n",
       "      <td>-0.14372</td>\n",
       "      <td>LHR</td>\n",
       "      <td>GBP</td>\n",
       "      <td>5.0</td>\n",
       "      <td>Near Buckingham Palace</td>\n",
       "    </tr>\n",
       "    <tr>\n",
       "      <th>1</th>\n",
       "      <td>#2 Andrews – Port Douglas</td>\n",
       "      <td>#2 Andrews Close</td>\n",
       "      <td>NaN</td>\n",
       "      <td>Port Douglas</td>\n",
       "      <td>QL</td>\n",
       "      <td>4877</td>\n",
       "      <td>AU</td>\n",
       "      <td>-16.51689</td>\n",
       "      <td>145.46770</td>\n",
       "      <td>CNS</td>\n",
       "      <td>AUD</td>\n",
       "      <td>5.0</td>\n",
       "      <td>Near Four Mile Beach Park</td>\n",
       "    </tr>\n",
       "    <tr>\n",
       "      <th>2</th>\n",
       "      <td>#2 Hastings Street</td>\n",
       "      <td>2 Hastings Street</td>\n",
       "      <td>NaN</td>\n",
       "      <td>Noosa Heads</td>\n",
       "      <td>QL</td>\n",
       "      <td>4567</td>\n",
       "      <td>AU</td>\n",
       "      <td>-26.38616</td>\n",
       "      <td>153.08722</td>\n",
       "      <td>MCY</td>\n",
       "      <td>AUD</td>\n",
       "      <td>4.0</td>\n",
       "      <td>In Noosa Heads (Noosa)</td>\n",
       "    </tr>\n",
       "    <tr>\n",
       "      <th>3</th>\n",
       "      <td>.Com</td>\n",
       "      <td>Albena</td>\n",
       "      <td>NaN</td>\n",
       "      <td>Albena</td>\n",
       "      <td>NaN</td>\n",
       "      <td>9620</td>\n",
       "      <td>BG</td>\n",
       "      <td>43.37024</td>\n",
       "      <td>28.07389</td>\n",
       "      <td>VAR</td>\n",
       "      <td>EUR</td>\n",
       "      <td>3.0</td>\n",
       "      <td>In Albena</td>\n",
       "    </tr>\n",
       "    <tr>\n",
       "      <th>4</th>\n",
       "      <td>?The Dunstane</td>\n",
       "      <td>4 West Coates &amp; 5 Hampton Terrace</td>\n",
       "      <td>Haymarket</td>\n",
       "      <td>Edinburgh</td>\n",
       "      <td>NaN</td>\n",
       "      <td>EH12 5JQ</td>\n",
       "      <td>GB</td>\n",
       "      <td>55.94571</td>\n",
       "      <td>-3.22880</td>\n",
       "      <td>EDI</td>\n",
       "      <td>GBP</td>\n",
       "      <td>4.0</td>\n",
       "      <td>Near Murrayfield Stadium</td>\n",
       "    </tr>\n",
       "  </tbody>\n",
       "</table>\n",
       "</div>"
      ],
      "text/plain": [
       "                        Name                           Address1   Address2  \\\n",
       "0                         41          41 Buckingham Palace Road        NaN   \n",
       "1  #2 Andrews – Port Douglas                   #2 Andrews Close        NaN   \n",
       "2         #2 Hastings Street                  2 Hastings Street        NaN   \n",
       "3                       .Com                             Albena        NaN   \n",
       "4              ?The Dunstane  4 West Coates & 5 Hampton Terrace  Haymarket   \n",
       "\n",
       "           City StateProvince PostalCode Country  Latitude  Longitude  \\\n",
       "0        London           NaN   SW1W 0PS      GB  51.49830   -0.14372   \n",
       "1  Port Douglas            QL       4877      AU -16.51689  145.46770   \n",
       "2   Noosa Heads            QL       4567      AU -26.38616  153.08722   \n",
       "3        Albena           NaN       9620      BG  43.37024   28.07389   \n",
       "4     Edinburgh           NaN   EH12 5JQ      GB  55.94571   -3.22880   \n",
       "\n",
       "  AirportCode PropertyCurrency  StarRating                   Location  \n",
       "0         LHR              GBP         5.0     Near Buckingham Palace  \n",
       "1         CNS              AUD         5.0  Near Four Mile Beach Park  \n",
       "2         MCY              AUD         4.0     In Noosa Heads (Noosa)  \n",
       "3         VAR              EUR         3.0                  In Albena  \n",
       "4         EDI              GBP         4.0   Near Murrayfield Stadium  "
      ]
     },
     "execution_count": 12,
     "metadata": {},
     "output_type": "execute_result"
    }
   ],
   "source": [
    "hot_loc = pd.read_excel('Hotel Location.xlsx')\n",
    "hot_loc.head()"
   ]
  },
  {
   "cell_type": "code",
   "execution_count": 60,
   "id": "1049b0b8",
   "metadata": {},
   "outputs": [
    {
     "data": {
      "text/plain": [
       "scraped_url        0\n",
       "agency_slug        0\n",
       "country          387\n",
       "title              0\n",
       "description     3109\n",
       "inclusions      1495\n",
       "hotel_name      3855\n",
       "hotel_mapped    8379\n",
       "dtype: int64"
      ]
     },
     "execution_count": 60,
     "metadata": {},
     "output_type": "execute_result"
    }
   ],
   "source": [
    "hot_map.isna().sum()"
   ]
  },
  {
   "cell_type": "code",
   "execution_count": 6,
   "id": "187beca3",
   "metadata": {},
   "outputs": [],
   "source": [
    "names = list(hotels['Name'])"
   ]
  },
  {
   "cell_type": "code",
   "execution_count": 9,
   "id": "f32c2371",
   "metadata": {},
   "outputs": [
    {
     "data": {
      "text/plain": [
       "[('SIDE', 90),\n",
       " ('47 Park Street - Grand Residences by Marriott', 86),\n",
       " ('51 Buckingham Gate, Taj Suites and Residences', 86),\n",
       " ('8 on Claymore Serviced Residences', 86),\n",
       " ('93 Luxury Suites & Residences', 86)]"
      ]
     },
     "execution_count": 9,
     "metadata": {},
     "output_type": "execute_result"
    }
   ],
   "source": [
    "process.extract('Azuri Residences', names)"
   ]
  },
  {
   "cell_type": "code",
   "execution_count": 64,
   "id": "75154d81",
   "metadata": {},
   "outputs": [
    {
     "data": {
      "text/plain": [
       "[('o', 60), ('u', 60), ('r', 60), ('K', 60), ('r', 60)]"
      ]
     },
     "execution_count": 64,
     "metadata": {},
     "output_type": "execute_result"
    }
   ],
   "source": [
    "process.extract('Kruger Park Splendou', 'Your Kruger National Park Holiday Package includes Return flightsJohannesburg to Nelspruit Approximate taxes days car hire Kia Picanto  similar nights midweek accommodation just outside the Kruger National Park at the 4-star Protea Hotel by Marriott Kruger Gate  a Standard Room Breakfast daily')"
   ]
  },
  {
   "cell_type": "code",
   "execution_count": 13,
   "id": "9a51db2b",
   "metadata": {},
   "outputs": [
    {
     "data": {
      "text/html": [
       "<div>\n",
       "<style scoped>\n",
       "    .dataframe tbody tr th:only-of-type {\n",
       "        vertical-align: middle;\n",
       "    }\n",
       "\n",
       "    .dataframe tbody tr th {\n",
       "        vertical-align: top;\n",
       "    }\n",
       "\n",
       "    .dataframe thead th {\n",
       "        text-align: right;\n",
       "    }\n",
       "</style>\n",
       "<table border=\"1\" class=\"dataframe\">\n",
       "  <thead>\n",
       "    <tr style=\"text-align: right;\">\n",
       "      <th></th>\n",
       "      <th>scraped_url</th>\n",
       "      <th>agency_slug</th>\n",
       "      <th>country</th>\n",
       "      <th>title</th>\n",
       "      <th>description</th>\n",
       "      <th>inclusions</th>\n",
       "      <th>hotel_name</th>\n",
       "      <th>hotel_mapped</th>\n",
       "    </tr>\n",
       "  </thead>\n",
       "  <tbody>\n",
       "    <tr>\n",
       "      <th>0</th>\n",
       "      <td>https://www.flightcentre.co.za/product/14197346</td>\n",
       "      <td>flightcentre</td>\n",
       "      <td>maldives</td>\n",
       "      <td>Adaaran Select Meedhupparu</td>\n",
       "      <td>\\nYour Maldives Holiday Package includes:\\nRet...</td>\n",
       "      <td>\\nYour Maldives Holiday Package includes:\\n\\nR...</td>\n",
       "      <td>NaN</td>\n",
       "      <td>NaN</td>\n",
       "    </tr>\n",
       "    <tr>\n",
       "      <th>1</th>\n",
       "      <td>https://www.flightcentre.co.za/product/5415249</td>\n",
       "      <td>flightcentre</td>\n",
       "      <td>south africa</td>\n",
       "      <td>Family Fun on the Wild Coast</td>\n",
       "      <td>\\nYour Eastern Cape Holiday Package includes:\\...</td>\n",
       "      <td>\\nYour Eastern Cape Holiday Package includes:\\...</td>\n",
       "      <td>NaN</td>\n",
       "      <td>NaN</td>\n",
       "    </tr>\n",
       "    <tr>\n",
       "      <th>2</th>\n",
       "      <td>https://www.flightcentre.co.za/product/16385011</td>\n",
       "      <td>flightcentre</td>\n",
       "      <td>mauritius</td>\n",
       "      <td>Azuri Residences by Life in Blue</td>\n",
       "      <td>\\nYour Mauritius Holiday Package includes:\\nRe...</td>\n",
       "      <td>\\nYour Mauritius Holiday Package includes:\\n\\n...</td>\n",
       "      <td>NaN</td>\n",
       "      <td>NaN</td>\n",
       "    </tr>\n",
       "    <tr>\n",
       "      <th>3</th>\n",
       "      <td>https://www.flightcentre.co.za/product/16323810</td>\n",
       "      <td>flightcentre</td>\n",
       "      <td>mauritius</td>\n",
       "      <td>Seas the Day in Mauritius</td>\n",
       "      <td>\\nYour Mauritius Holiday Package includes:\\nRe...</td>\n",
       "      <td>\\nYour Mauritius Holiday Package includes:\\n\\n...</td>\n",
       "      <td>NaN</td>\n",
       "      <td>NaN</td>\n",
       "    </tr>\n",
       "    <tr>\n",
       "      <th>4</th>\n",
       "      <td>https://www.flightcentre.co.za/product/13250621</td>\n",
       "      <td>flightcentre</td>\n",
       "      <td>south africa</td>\n",
       "      <td>Kruger Park Splendour</td>\n",
       "      <td>\\nYour Kruger National Park Holiday Package in...</td>\n",
       "      <td>\\nYour Kruger National Park Holiday Package in...</td>\n",
       "      <td>NaN</td>\n",
       "      <td>NaN</td>\n",
       "    </tr>\n",
       "  </tbody>\n",
       "</table>\n",
       "</div>"
      ],
      "text/plain": [
       "                                       scraped_url   agency_slug  \\\n",
       "0  https://www.flightcentre.co.za/product/14197346  flightcentre   \n",
       "1   https://www.flightcentre.co.za/product/5415249  flightcentre   \n",
       "2  https://www.flightcentre.co.za/product/16385011  flightcentre   \n",
       "3  https://www.flightcentre.co.za/product/16323810  flightcentre   \n",
       "4  https://www.flightcentre.co.za/product/13250621  flightcentre   \n",
       "\n",
       "        country                             title  \\\n",
       "0      maldives        Adaaran Select Meedhupparu   \n",
       "1  south africa      Family Fun on the Wild Coast   \n",
       "2     mauritius  Azuri Residences by Life in Blue   \n",
       "3     mauritius         Seas the Day in Mauritius   \n",
       "4  south africa             Kruger Park Splendour   \n",
       "\n",
       "                                         description  \\\n",
       "0  \\nYour Maldives Holiday Package includes:\\nRet...   \n",
       "1  \\nYour Eastern Cape Holiday Package includes:\\...   \n",
       "2  \\nYour Mauritius Holiday Package includes:\\nRe...   \n",
       "3  \\nYour Mauritius Holiday Package includes:\\nRe...   \n",
       "4  \\nYour Kruger National Park Holiday Package in...   \n",
       "\n",
       "                                          inclusions hotel_name  hotel_mapped  \n",
       "0  \\nYour Maldives Holiday Package includes:\\n\\nR...        NaN           NaN  \n",
       "1  \\nYour Eastern Cape Holiday Package includes:\\...        NaN           NaN  \n",
       "2  \\nYour Mauritius Holiday Package includes:\\n\\n...        NaN           NaN  \n",
       "3  \\nYour Mauritius Holiday Package includes:\\n\\n...        NaN           NaN  \n",
       "4  \\nYour Kruger National Park Holiday Package in...        NaN           NaN  "
      ]
     },
     "execution_count": 13,
     "metadata": {},
     "output_type": "execute_result"
    }
   ],
   "source": [
    "hot_map = pd.read_excel('Hotel Location Table Mapping.xlsx')\n",
    "hot_map.head()"
   ]
  },
  {
   "cell_type": "code",
   "execution_count": 62,
   "id": "5cf884a5",
   "metadata": {},
   "outputs": [
    {
     "name": "stdout",
     "output_type": "stream",
     "text": [
      "\n",
      "Your Kruger National Park Holiday Package includes:\n",
      "\n",
      "Return flights from Johannesburg to Nelspruit\n",
      "Approximate taxes\n",
      "2 days car hire (Kia Picanto or similar)\n",
      "2 nights' midweek accommodation just outside the Kruger National Park at the 4-star Protea Hotel by Marriott Kruger Gate in a Standard Room\n",
      "Breakfast daily\n",
      "\n",
      "\n"
     ]
    }
   ],
   "source": [
    "print(list(hot_map['inclusions'])[4])"
   ]
  },
  {
   "cell_type": "code",
   "execution_count": null,
   "id": "fb691e21",
   "metadata": {},
   "outputs": [],
   "source": [
    "def remove_punctuation(post):\n",
    "    return ''.join([l for l in post if l not in string.punctuation])"
   ]
  },
  {
   "cell_type": "code",
   "execution_count": null,
   "id": "20232935",
   "metadata": {},
   "outputs": [],
   "source": [
    "all_mbti['post'] = all_mbti['post'].apply(remove_punctuation)\n",
    "all_mbti['post'].iloc[268558]"
   ]
  },
  {
   "cell_type": "code",
   "execution_count": 49,
   "id": "6df09cbc",
   "metadata": {},
   "outputs": [
    {
     "name": "stdout",
     "output_type": "stream",
     "text": [
      "<class 'pandas.core.frame.DataFrame'>\n",
      "RangeIndex: 8379 entries, 0 to 8378\n",
      "Data columns (total 8 columns):\n",
      " #   Column        Non-Null Count  Dtype  \n",
      "---  ------        --------------  -----  \n",
      " 0   scraped_url   8379 non-null   object \n",
      " 1   agency_slug   8379 non-null   object \n",
      " 2   country       7992 non-null   object \n",
      " 3   title         8379 non-null   object \n",
      " 4   description   5270 non-null   object \n",
      " 5   inclusions    6884 non-null   object \n",
      " 6   hotel_name    4524 non-null   object \n",
      " 7   hotel_mapped  0 non-null      float64\n",
      "dtypes: float64(1), object(7)\n",
      "memory usage: 523.8+ KB\n"
     ]
    }
   ],
   "source": [
    "hot_map.info()"
   ]
  },
  {
   "cell_type": "code",
   "execution_count": 47,
   "id": "9278a756",
   "metadata": {},
   "outputs": [],
   "source": [
    "def find_name(query, choices):\n",
    "    return  process.extractOne(query, choices)[0]\n"
   ]
  },
  {
   "cell_type": "code",
   "execution_count": 48,
   "id": "72ba0bce",
   "metadata": {},
   "outputs": [
    {
     "ename": "TypeError",
     "evalue": "expected string or bytes-like object",
     "output_type": "error",
     "traceback": [
      "\u001b[1;31m---------------------------------------------------------------------------\u001b[0m",
      "\u001b[1;31mTypeError\u001b[0m                                 Traceback (most recent call last)",
      "Input \u001b[1;32mIn [48]\u001b[0m, in \u001b[0;36m<cell line: 1>\u001b[1;34m()\u001b[0m\n\u001b[1;32m----> 1\u001b[0m hot_map[\u001b[38;5;124m'\u001b[39m\u001b[38;5;124mhotel_name\u001b[39m\u001b[38;5;124m'\u001b[39m] \u001b[38;5;241m=\u001b[39m hot_map[\u001b[38;5;124m'\u001b[39m\u001b[38;5;124mhotel_name\u001b[39m\u001b[38;5;124m'\u001b[39m]\u001b[38;5;241m.\u001b[39mapply(\u001b[43mfind_name\u001b[49m\u001b[43m(\u001b[49m\u001b[43mhot_map\u001b[49m\u001b[43m[\u001b[49m\u001b[38;5;124;43m'\u001b[39;49m\u001b[38;5;124;43mtitle\u001b[39;49m\u001b[38;5;124;43m'\u001b[39;49m\u001b[43m]\u001b[49m\u001b[43m,\u001b[49m\u001b[43m \u001b[49m\u001b[43mnames\u001b[49m\u001b[43m)\u001b[49m)\n",
      "Input \u001b[1;32mIn [47]\u001b[0m, in \u001b[0;36mfind_name\u001b[1;34m(query, choices)\u001b[0m\n\u001b[0;32m      1\u001b[0m \u001b[38;5;28;01mdef\u001b[39;00m \u001b[38;5;21mfind_name\u001b[39m(query, choices):\n\u001b[1;32m----> 2\u001b[0m     \u001b[38;5;28;01mreturn\u001b[39;00m  \u001b[43mprocess\u001b[49m\u001b[38;5;241;43m.\u001b[39;49m\u001b[43mextractOne\u001b[49m\u001b[43m(\u001b[49m\u001b[43mquery\u001b[49m\u001b[43m,\u001b[49m\u001b[43m \u001b[49m\u001b[43mchoices\u001b[49m\u001b[43m)\u001b[49m[\u001b[38;5;241m0\u001b[39m]\n",
      "File \u001b[1;32m~\\anaconda3\\lib\\site-packages\\fuzzywuzzy\\process.py:220\u001b[0m, in \u001b[0;36mextractOne\u001b[1;34m(query, choices, processor, scorer, score_cutoff)\u001b[0m\n\u001b[0;32m    218\u001b[0m best_list \u001b[38;5;241m=\u001b[39m extractWithoutOrder(query, choices, processor, scorer, score_cutoff)\n\u001b[0;32m    219\u001b[0m \u001b[38;5;28;01mtry\u001b[39;00m:\n\u001b[1;32m--> 220\u001b[0m     \u001b[38;5;28;01mreturn\u001b[39;00m \u001b[38;5;28;43mmax\u001b[39;49m\u001b[43m(\u001b[49m\u001b[43mbest_list\u001b[49m\u001b[43m,\u001b[49m\u001b[43m \u001b[49m\u001b[43mkey\u001b[49m\u001b[38;5;241;43m=\u001b[39;49m\u001b[38;5;28;43;01mlambda\u001b[39;49;00m\u001b[43m \u001b[49m\u001b[43mi\u001b[49m\u001b[43m:\u001b[49m\u001b[43m \u001b[49m\u001b[43mi\u001b[49m\u001b[43m[\u001b[49m\u001b[38;5;241;43m1\u001b[39;49m\u001b[43m]\u001b[49m\u001b[43m)\u001b[49m\n\u001b[0;32m    221\u001b[0m \u001b[38;5;28;01mexcept\u001b[39;00m \u001b[38;5;167;01mValueError\u001b[39;00m:\n\u001b[0;32m    222\u001b[0m     \u001b[38;5;28;01mreturn\u001b[39;00m \u001b[38;5;28;01mNone\u001b[39;00m\n",
      "File \u001b[1;32m~\\anaconda3\\lib\\site-packages\\fuzzywuzzy\\process.py:78\u001b[0m, in \u001b[0;36mextractWithoutOrder\u001b[1;34m(query, choices, processor, scorer, score_cutoff)\u001b[0m\n\u001b[0;32m     75\u001b[0m     processor \u001b[38;5;241m=\u001b[39m no_process\n\u001b[0;32m     77\u001b[0m \u001b[38;5;66;03m# Run the processor on the input query.\u001b[39;00m\n\u001b[1;32m---> 78\u001b[0m processed_query \u001b[38;5;241m=\u001b[39m \u001b[43mprocessor\u001b[49m\u001b[43m(\u001b[49m\u001b[43mquery\u001b[49m\u001b[43m)\u001b[49m\n\u001b[0;32m     80\u001b[0m \u001b[38;5;28;01mif\u001b[39;00m \u001b[38;5;28mlen\u001b[39m(processed_query) \u001b[38;5;241m==\u001b[39m \u001b[38;5;241m0\u001b[39m:\n\u001b[0;32m     81\u001b[0m     logging\u001b[38;5;241m.\u001b[39mwarning(\u001b[38;5;124mu\u001b[39m\u001b[38;5;124m\"\u001b[39m\u001b[38;5;124mApplied processor reduces input query to empty string, \u001b[39m\u001b[38;5;124m\"\u001b[39m\n\u001b[0;32m     82\u001b[0m                     \u001b[38;5;124m\"\u001b[39m\u001b[38;5;124mall comparisons will have score 0. \u001b[39m\u001b[38;5;124m\"\u001b[39m\n\u001b[0;32m     83\u001b[0m                     \u001b[38;5;124m\"\u001b[39m\u001b[38;5;124m[Query: \u001b[39m\u001b[38;5;130;01m\\'\u001b[39;00m\u001b[38;5;132;01m{0}\u001b[39;00m\u001b[38;5;130;01m\\'\u001b[39;00m\u001b[38;5;124m]\u001b[39m\u001b[38;5;124m\"\u001b[39m\u001b[38;5;241m.\u001b[39mformat(query))\n",
      "File \u001b[1;32m~\\anaconda3\\lib\\site-packages\\fuzzywuzzy\\utils.py:95\u001b[0m, in \u001b[0;36mfull_process\u001b[1;34m(s, force_ascii)\u001b[0m\n\u001b[0;32m     93\u001b[0m     s \u001b[38;5;241m=\u001b[39m asciidammit(s)\n\u001b[0;32m     94\u001b[0m \u001b[38;5;66;03m# Keep only Letters and Numbers (see Unicode docs).\u001b[39;00m\n\u001b[1;32m---> 95\u001b[0m string_out \u001b[38;5;241m=\u001b[39m \u001b[43mStringProcessor\u001b[49m\u001b[38;5;241;43m.\u001b[39;49m\u001b[43mreplace_non_letters_non_numbers_with_whitespace\u001b[49m\u001b[43m(\u001b[49m\u001b[43ms\u001b[49m\u001b[43m)\u001b[49m\n\u001b[0;32m     96\u001b[0m \u001b[38;5;66;03m# Force into lowercase.\u001b[39;00m\n\u001b[0;32m     97\u001b[0m string_out \u001b[38;5;241m=\u001b[39m StringProcessor\u001b[38;5;241m.\u001b[39mto_lower_case(string_out)\n",
      "File \u001b[1;32m~\\anaconda3\\lib\\site-packages\\fuzzywuzzy\\string_processing.py:26\u001b[0m, in \u001b[0;36mStringProcessor.replace_non_letters_non_numbers_with_whitespace\u001b[1;34m(cls, a_string)\u001b[0m\n\u001b[0;32m     20\u001b[0m \u001b[38;5;129m@classmethod\u001b[39m\n\u001b[0;32m     21\u001b[0m \u001b[38;5;28;01mdef\u001b[39;00m \u001b[38;5;21mreplace_non_letters_non_numbers_with_whitespace\u001b[39m(\u001b[38;5;28mcls\u001b[39m, a_string):\n\u001b[0;32m     22\u001b[0m     \u001b[38;5;124;03m\"\"\"\u001b[39;00m\n\u001b[0;32m     23\u001b[0m \u001b[38;5;124;03m    This function replaces any sequence of non letters and non\u001b[39;00m\n\u001b[0;32m     24\u001b[0m \u001b[38;5;124;03m    numbers with a single white space.\u001b[39;00m\n\u001b[0;32m     25\u001b[0m \u001b[38;5;124;03m    \"\"\"\u001b[39;00m\n\u001b[1;32m---> 26\u001b[0m     \u001b[38;5;28;01mreturn\u001b[39;00m \u001b[38;5;28;43mcls\u001b[39;49m\u001b[38;5;241;43m.\u001b[39;49m\u001b[43mregex\u001b[49m\u001b[38;5;241;43m.\u001b[39;49m\u001b[43msub\u001b[49m\u001b[43m(\u001b[49m\u001b[38;5;124;43m\"\u001b[39;49m\u001b[38;5;124;43m \u001b[39;49m\u001b[38;5;124;43m\"\u001b[39;49m\u001b[43m,\u001b[49m\u001b[43m \u001b[49m\u001b[43ma_string\u001b[49m\u001b[43m)\u001b[49m\n",
      "\u001b[1;31mTypeError\u001b[0m: expected string or bytes-like object"
     ]
    }
   ],
   "source": [
    "hot_map['hotel_name'] = hot_map['hotel_name'].apply(find_name(hot_map['title'], names))"
   ]
  },
  {
   "cell_type": "code",
   "execution_count": 46,
   "id": "30f797e7",
   "metadata": {},
   "outputs": [
    {
     "ename": "TypeError",
     "evalue": "expected string or bytes-like object",
     "output_type": "error",
     "traceback": [
      "\u001b[1;31m---------------------------------------------------------------------------\u001b[0m",
      "\u001b[1;31mTypeError\u001b[0m                                 Traceback (most recent call last)",
      "Input \u001b[1;32mIn [46]\u001b[0m, in \u001b[0;36m<cell line: 1>\u001b[1;34m()\u001b[0m\n\u001b[1;32m----> 1\u001b[0m hot_map[\u001b[38;5;124m'\u001b[39m\u001b[38;5;124mhotel_name\u001b[39m\u001b[38;5;124m'\u001b[39m] \u001b[38;5;241m=\u001b[39m \u001b[43mprocess\u001b[49m\u001b[38;5;241;43m.\u001b[39;49m\u001b[43mextractOne\u001b[49m\u001b[43m(\u001b[49m\u001b[43mhot_map\u001b[49m\u001b[43m[\u001b[49m\u001b[38;5;124;43m'\u001b[39;49m\u001b[38;5;124;43mtitle\u001b[39;49m\u001b[38;5;124;43m'\u001b[39;49m\u001b[43m]\u001b[49m\u001b[43m,\u001b[49m\u001b[43m \u001b[49m\u001b[43mnames\u001b[49m\u001b[43m)\u001b[49m[\u001b[38;5;241m0\u001b[39m]\n",
      "File \u001b[1;32m~\\anaconda3\\lib\\site-packages\\fuzzywuzzy\\process.py:220\u001b[0m, in \u001b[0;36mextractOne\u001b[1;34m(query, choices, processor, scorer, score_cutoff)\u001b[0m\n\u001b[0;32m    218\u001b[0m best_list \u001b[38;5;241m=\u001b[39m extractWithoutOrder(query, choices, processor, scorer, score_cutoff)\n\u001b[0;32m    219\u001b[0m \u001b[38;5;28;01mtry\u001b[39;00m:\n\u001b[1;32m--> 220\u001b[0m     \u001b[38;5;28;01mreturn\u001b[39;00m \u001b[38;5;28;43mmax\u001b[39;49m\u001b[43m(\u001b[49m\u001b[43mbest_list\u001b[49m\u001b[43m,\u001b[49m\u001b[43m \u001b[49m\u001b[43mkey\u001b[49m\u001b[38;5;241;43m=\u001b[39;49m\u001b[38;5;28;43;01mlambda\u001b[39;49;00m\u001b[43m \u001b[49m\u001b[43mi\u001b[49m\u001b[43m:\u001b[49m\u001b[43m \u001b[49m\u001b[43mi\u001b[49m\u001b[43m[\u001b[49m\u001b[38;5;241;43m1\u001b[39;49m\u001b[43m]\u001b[49m\u001b[43m)\u001b[49m\n\u001b[0;32m    221\u001b[0m \u001b[38;5;28;01mexcept\u001b[39;00m \u001b[38;5;167;01mValueError\u001b[39;00m:\n\u001b[0;32m    222\u001b[0m     \u001b[38;5;28;01mreturn\u001b[39;00m \u001b[38;5;28;01mNone\u001b[39;00m\n",
      "File \u001b[1;32m~\\anaconda3\\lib\\site-packages\\fuzzywuzzy\\process.py:78\u001b[0m, in \u001b[0;36mextractWithoutOrder\u001b[1;34m(query, choices, processor, scorer, score_cutoff)\u001b[0m\n\u001b[0;32m     75\u001b[0m     processor \u001b[38;5;241m=\u001b[39m no_process\n\u001b[0;32m     77\u001b[0m \u001b[38;5;66;03m# Run the processor on the input query.\u001b[39;00m\n\u001b[1;32m---> 78\u001b[0m processed_query \u001b[38;5;241m=\u001b[39m \u001b[43mprocessor\u001b[49m\u001b[43m(\u001b[49m\u001b[43mquery\u001b[49m\u001b[43m)\u001b[49m\n\u001b[0;32m     80\u001b[0m \u001b[38;5;28;01mif\u001b[39;00m \u001b[38;5;28mlen\u001b[39m(processed_query) \u001b[38;5;241m==\u001b[39m \u001b[38;5;241m0\u001b[39m:\n\u001b[0;32m     81\u001b[0m     logging\u001b[38;5;241m.\u001b[39mwarning(\u001b[38;5;124mu\u001b[39m\u001b[38;5;124m\"\u001b[39m\u001b[38;5;124mApplied processor reduces input query to empty string, \u001b[39m\u001b[38;5;124m\"\u001b[39m\n\u001b[0;32m     82\u001b[0m                     \u001b[38;5;124m\"\u001b[39m\u001b[38;5;124mall comparisons will have score 0. \u001b[39m\u001b[38;5;124m\"\u001b[39m\n\u001b[0;32m     83\u001b[0m                     \u001b[38;5;124m\"\u001b[39m\u001b[38;5;124m[Query: \u001b[39m\u001b[38;5;130;01m\\'\u001b[39;00m\u001b[38;5;132;01m{0}\u001b[39;00m\u001b[38;5;130;01m\\'\u001b[39;00m\u001b[38;5;124m]\u001b[39m\u001b[38;5;124m\"\u001b[39m\u001b[38;5;241m.\u001b[39mformat(query))\n",
      "File \u001b[1;32m~\\anaconda3\\lib\\site-packages\\fuzzywuzzy\\utils.py:95\u001b[0m, in \u001b[0;36mfull_process\u001b[1;34m(s, force_ascii)\u001b[0m\n\u001b[0;32m     93\u001b[0m     s \u001b[38;5;241m=\u001b[39m asciidammit(s)\n\u001b[0;32m     94\u001b[0m \u001b[38;5;66;03m# Keep only Letters and Numbers (see Unicode docs).\u001b[39;00m\n\u001b[1;32m---> 95\u001b[0m string_out \u001b[38;5;241m=\u001b[39m \u001b[43mStringProcessor\u001b[49m\u001b[38;5;241;43m.\u001b[39;49m\u001b[43mreplace_non_letters_non_numbers_with_whitespace\u001b[49m\u001b[43m(\u001b[49m\u001b[43ms\u001b[49m\u001b[43m)\u001b[49m\n\u001b[0;32m     96\u001b[0m \u001b[38;5;66;03m# Force into lowercase.\u001b[39;00m\n\u001b[0;32m     97\u001b[0m string_out \u001b[38;5;241m=\u001b[39m StringProcessor\u001b[38;5;241m.\u001b[39mto_lower_case(string_out)\n",
      "File \u001b[1;32m~\\anaconda3\\lib\\site-packages\\fuzzywuzzy\\string_processing.py:26\u001b[0m, in \u001b[0;36mStringProcessor.replace_non_letters_non_numbers_with_whitespace\u001b[1;34m(cls, a_string)\u001b[0m\n\u001b[0;32m     20\u001b[0m \u001b[38;5;129m@classmethod\u001b[39m\n\u001b[0;32m     21\u001b[0m \u001b[38;5;28;01mdef\u001b[39;00m \u001b[38;5;21mreplace_non_letters_non_numbers_with_whitespace\u001b[39m(\u001b[38;5;28mcls\u001b[39m, a_string):\n\u001b[0;32m     22\u001b[0m     \u001b[38;5;124;03m\"\"\"\u001b[39;00m\n\u001b[0;32m     23\u001b[0m \u001b[38;5;124;03m    This function replaces any sequence of non letters and non\u001b[39;00m\n\u001b[0;32m     24\u001b[0m \u001b[38;5;124;03m    numbers with a single white space.\u001b[39;00m\n\u001b[0;32m     25\u001b[0m \u001b[38;5;124;03m    \"\"\"\u001b[39;00m\n\u001b[1;32m---> 26\u001b[0m     \u001b[38;5;28;01mreturn\u001b[39;00m \u001b[38;5;28;43mcls\u001b[39;49m\u001b[38;5;241;43m.\u001b[39;49m\u001b[43mregex\u001b[49m\u001b[38;5;241;43m.\u001b[39;49m\u001b[43msub\u001b[49m\u001b[43m(\u001b[49m\u001b[38;5;124;43m\"\u001b[39;49m\u001b[38;5;124;43m \u001b[39;49m\u001b[38;5;124;43m\"\u001b[39;49m\u001b[43m,\u001b[49m\u001b[43m \u001b[49m\u001b[43ma_string\u001b[49m\u001b[43m)\u001b[49m\n",
      "\u001b[1;31mTypeError\u001b[0m: expected string or bytes-like object"
     ]
    }
   ],
   "source": [
    "hot_map['hotel_name'] = process.extractOne(hot_map['title'], names)[0]"
   ]
  },
  {
   "cell_type": "code",
   "execution_count": null,
   "id": "1b5f03a7",
   "metadata": {},
   "outputs": [],
   "source": []
  },
  {
   "cell_type": "code",
   "execution_count": null,
   "id": "ee55932e",
   "metadata": {},
   "outputs": [],
   "source": []
  },
  {
   "cell_type": "code",
   "execution_count": 14,
   "id": "a71b12fd",
   "metadata": {},
   "outputs": [
    {
     "data": {
      "text/html": [
       "<div>\n",
       "<style scoped>\n",
       "    .dataframe tbody tr th:only-of-type {\n",
       "        vertical-align: middle;\n",
       "    }\n",
       "\n",
       "    .dataframe tbody tr th {\n",
       "        vertical-align: top;\n",
       "    }\n",
       "\n",
       "    .dataframe thead th {\n",
       "        text-align: right;\n",
       "    }\n",
       "</style>\n",
       "<table border=\"1\" class=\"dataframe\">\n",
       "  <thead>\n",
       "    <tr style=\"text-align: right;\">\n",
       "      <th></th>\n",
       "      <th>scraped_url</th>\n",
       "      <th>agency_name</th>\n",
       "      <th>title</th>\n",
       "      <th>inclusions</th>\n",
       "      <th>description</th>\n",
       "      <th>hotel_name</th>\n",
       "      <th>hotel_mapped</th>\n",
       "      <th>lat</th>\n",
       "      <th>long</th>\n",
       "    </tr>\n",
       "  </thead>\n",
       "  <tbody>\n",
       "    <tr>\n",
       "      <th>0</th>\n",
       "      <td>https://www.bushbreaks.co.za/listing/tintswalo...</td>\n",
       "      <td>Bush Breaks</td>\n",
       "      <td>Tintswalo at Lapalala Wilderness</td>\n",
       "      <td>NaN</td>\n",
       "      <td>NaN</td>\n",
       "      <td>NaN</td>\n",
       "      <td>NaN</td>\n",
       "      <td>NaN</td>\n",
       "      <td>NaN</td>\n",
       "    </tr>\n",
       "    <tr>\n",
       "      <th>1</th>\n",
       "      <td>https://www.flightcentre.co.za/product/14135464</td>\n",
       "      <td>Flightcentre</td>\n",
       "      <td>Anantara Bazaruto Island Resort &amp; Spa</td>\n",
       "      <td>\\nYour Mozambique Holiday Package includes:\\n\\...</td>\n",
       "      <td>\\nYour Mozambique Holiday Package includes:\\nR...</td>\n",
       "      <td>NaN</td>\n",
       "      <td>NaN</td>\n",
       "      <td>NaN</td>\n",
       "      <td>NaN</td>\n",
       "    </tr>\n",
       "    <tr>\n",
       "      <th>2</th>\n",
       "      <td>https://www.flightcentre.co.za/product/13284532</td>\n",
       "      <td>Flightcentre</td>\n",
       "      <td>Kruger Park Splendour</td>\n",
       "      <td>\\nYour Kruger National Park Holiday Package in...</td>\n",
       "      <td>\\nYour Kruger National Park Holiday Package in...</td>\n",
       "      <td>NaN</td>\n",
       "      <td>NaN</td>\n",
       "      <td>NaN</td>\n",
       "      <td>NaN</td>\n",
       "    </tr>\n",
       "    <tr>\n",
       "      <th>3</th>\n",
       "      <td>https://www.flightcentre.co.za/product/5415250</td>\n",
       "      <td>Flightcentre</td>\n",
       "      <td>Family Fun on the Wild Coast</td>\n",
       "      <td>\\nYour Eastern Cape Holiday Package includes:\\...</td>\n",
       "      <td>\\nYour Eastern Cape Holiday Package includes:\\...</td>\n",
       "      <td>NaN</td>\n",
       "      <td>NaN</td>\n",
       "      <td>NaN</td>\n",
       "      <td>NaN</td>\n",
       "    </tr>\n",
       "    <tr>\n",
       "      <th>4</th>\n",
       "      <td>https://www.flightcentre.co.za/product/15893622</td>\n",
       "      <td>Flightcentre</td>\n",
       "      <td>Kruger Park Splendour</td>\n",
       "      <td>\\nYour Kruger National Park Holiday Package in...</td>\n",
       "      <td>\\nYour Kruger National Park Holiday Package in...</td>\n",
       "      <td>NaN</td>\n",
       "      <td>NaN</td>\n",
       "      <td>NaN</td>\n",
       "      <td>NaN</td>\n",
       "    </tr>\n",
       "  </tbody>\n",
       "</table>\n",
       "</div>"
      ],
      "text/plain": [
       "                                         scraped_url   agency_name  \\\n",
       "0  https://www.bushbreaks.co.za/listing/tintswalo...   Bush Breaks   \n",
       "1    https://www.flightcentre.co.za/product/14135464  Flightcentre   \n",
       "2    https://www.flightcentre.co.za/product/13284532  Flightcentre   \n",
       "3     https://www.flightcentre.co.za/product/5415250  Flightcentre   \n",
       "4    https://www.flightcentre.co.za/product/15893622  Flightcentre   \n",
       "\n",
       "                                   title  \\\n",
       "0       Tintswalo at Lapalala Wilderness   \n",
       "1  Anantara Bazaruto Island Resort & Spa   \n",
       "2                  Kruger Park Splendour   \n",
       "3           Family Fun on the Wild Coast   \n",
       "4                  Kruger Park Splendour   \n",
       "\n",
       "                                          inclusions  \\\n",
       "0                                                NaN   \n",
       "1  \\nYour Mozambique Holiday Package includes:\\n\\...   \n",
       "2  \\nYour Kruger National Park Holiday Package in...   \n",
       "3  \\nYour Eastern Cape Holiday Package includes:\\...   \n",
       "4  \\nYour Kruger National Park Holiday Package in...   \n",
       "\n",
       "                                         description hotel_name hotel_mapped  \\\n",
       "0                                                NaN        NaN          NaN   \n",
       "1  \\nYour Mozambique Holiday Package includes:\\nR...        NaN          NaN   \n",
       "2  \\nYour Kruger National Park Holiday Package in...        NaN          NaN   \n",
       "3  \\nYour Eastern Cape Holiday Package includes:\\...        NaN          NaN   \n",
       "4  \\nYour Kruger National Park Holiday Package in...        NaN          NaN   \n",
       "\n",
       "   lat  long  \n",
       "0  NaN   NaN  \n",
       "1  NaN   NaN  \n",
       "2  NaN   NaN  \n",
       "3  NaN   NaN  \n",
       "4  NaN   NaN  "
      ]
     },
     "execution_count": 14,
     "metadata": {},
     "output_type": "execute_result"
    }
   ],
   "source": [
    "old = pd.read_excel('old.xlsx')\n",
    "old.head()"
   ]
  },
  {
   "cell_type": "code",
   "execution_count": 15,
   "id": "e9b9cb0d",
   "metadata": {},
   "outputs": [
    {
     "data": {
      "text/html": [
       "<div>\n",
       "<style scoped>\n",
       "    .dataframe tbody tr th:only-of-type {\n",
       "        vertical-align: middle;\n",
       "    }\n",
       "\n",
       "    .dataframe tbody tr th {\n",
       "        vertical-align: top;\n",
       "    }\n",
       "\n",
       "    .dataframe thead th {\n",
       "        text-align: right;\n",
       "    }\n",
       "</style>\n",
       "<table border=\"1\" class=\"dataframe\">\n",
       "  <thead>\n",
       "    <tr style=\"text-align: right;\">\n",
       "      <th></th>\n",
       "      <th>HotelName</th>\n",
       "      <th>Hotel_mapping</th>\n",
       "      <th>lat</th>\n",
       "      <th>long</th>\n",
       "    </tr>\n",
       "  </thead>\n",
       "  <tbody>\n",
       "    <tr>\n",
       "      <th>0</th>\n",
       "      <td>2 nights free at long beach a sun resort</td>\n",
       "      <td>NaN</td>\n",
       "      <td>NaN</td>\n",
       "      <td>NaN</td>\n",
       "    </tr>\n",
       "    <tr>\n",
       "      <th>1</th>\n",
       "      <td>2 nights radisson red rosebank and art walking...</td>\n",
       "      <td>NaN</td>\n",
       "      <td>NaN</td>\n",
       "      <td>NaN</td>\n",
       "    </tr>\n",
       "    <tr>\n",
       "      <th>2</th>\n",
       "      <td>26 degrees south bush boho hotel</td>\n",
       "      <td>NaN</td>\n",
       "      <td>NaN</td>\n",
       "      <td>NaN</td>\n",
       "    </tr>\n",
       "    <tr>\n",
       "      <th>3</th>\n",
       "      <td>26 degrees south hotel</td>\n",
       "      <td>NaN</td>\n",
       "      <td>NaN</td>\n",
       "      <td>NaN</td>\n",
       "    </tr>\n",
       "    <tr>\n",
       "      <th>4</th>\n",
       "      <td>3-star beach hotel</td>\n",
       "      <td>NaN</td>\n",
       "      <td>NaN</td>\n",
       "      <td>NaN</td>\n",
       "    </tr>\n",
       "  </tbody>\n",
       "</table>\n",
       "</div>"
      ],
      "text/plain": [
       "                                           HotelName  Hotel_mapping  lat  long\n",
       "0           2 nights free at long beach a sun resort            NaN  NaN   NaN\n",
       "1  2 nights radisson red rosebank and art walking...            NaN  NaN   NaN\n",
       "2                   26 degrees south bush boho hotel            NaN  NaN   NaN\n",
       "3                             26 degrees south hotel            NaN  NaN   NaN\n",
       "4                                 3-star beach hotel            NaN  NaN   NaN"
      ]
     },
     "execution_count": 15,
     "metadata": {},
     "output_type": "execute_result"
    }
   ],
   "source": [
    "pivot = pd.read_excel('pivot.xlsx')\n",
    "pivot.head()"
   ]
  },
  {
   "cell_type": "code",
   "execution_count": 25,
   "id": "76b3d1b2",
   "metadata": {},
   "outputs": [
    {
     "ename": "SyntaxError",
     "evalue": "invalid syntax (2824052642.py, line 5)",
     "output_type": "error",
     "traceback": [
      "\u001b[1;36m  Input \u001b[1;32mIn [25]\u001b[1;36m\u001b[0m\n\u001b[1;33m    if 'aaa' is in s:\u001b[0m\n\u001b[1;37m                ^\u001b[0m\n\u001b[1;31mSyntaxError\u001b[0m\u001b[1;31m:\u001b[0m invalid syntax\n"
     ]
    }
   ],
   "source": [
    "import re\n",
    "\n",
    "s = 'aaa-AAA-123'\n",
    "\n",
    "if 'aaa' is in s:\n",
    "    print(s)\n",
    "else:\n",
    "    print(None)\n"
   ]
  },
  {
   "cell_type": "code",
   "execution_count": 29,
   "id": "e2be748b",
   "metadata": {},
   "outputs": [],
   "source": [
    "from fuzzywuzzy import fuzz\n",
    "from fuzzywuzzy import process"
   ]
  },
  {
   "cell_type": "code",
   "execution_count": 40,
   "id": "8bab1a2f",
   "metadata": {},
   "outputs": [
    {
     "data": {
      "text/plain": [
       "'aaa-AAA-123'"
      ]
     },
     "execution_count": 40,
     "metadata": {},
     "output_type": "execute_result"
    }
   ],
   "source": [
    "list_a = ['aaa-AAA-123', 'aa-bb']\n",
    "process.extractOne('aaa', list_a)[0]"
   ]
  },
  {
   "cell_type": "code",
   "execution_count": 37,
   "id": "6f9a1454",
   "metadata": {},
   "outputs": [
    {
     "ename": "NameError",
     "evalue": "name 'query' is not defined",
     "output_type": "error",
     "traceback": [
      "\u001b[1;31m---------------------------------------------------------------------------\u001b[0m",
      "\u001b[1;31mNameError\u001b[0m                                 Traceback (most recent call last)",
      "Input \u001b[1;32mIn [37]\u001b[0m, in \u001b[0;36m<cell line: 1>\u001b[1;34m()\u001b[0m\n\u001b[1;32m----> 1\u001b[0m process\u001b[38;5;241m.\u001b[39mextractOne(\u001b[43mquery\u001b[49m, choices)\n",
      "\u001b[1;31mNameError\u001b[0m: name 'query' is not defined"
     ]
    }
   ],
   "source": [
    "process.extractOne(query, choices)"
   ]
  }
 ],
 "metadata": {
  "kernelspec": {
   "display_name": "Python 3 (ipykernel)",
   "language": "python",
   "name": "python3"
  },
  "language_info": {
   "codemirror_mode": {
    "name": "ipython",
    "version": 3
   },
   "file_extension": ".py",
   "mimetype": "text/x-python",
   "name": "python",
   "nbconvert_exporter": "python",
   "pygments_lexer": "ipython3",
   "version": "3.9.12"
  }
 },
 "nbformat": 4,
 "nbformat_minor": 5
}
